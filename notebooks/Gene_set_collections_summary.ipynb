{
 "cells": [
  {
   "cell_type": "code",
   "execution_count": 1,
   "metadata": {},
   "outputs": [],
   "source": [
    "from pandas import DataFrame"
   ]
  },
  {
   "cell_type": "code",
   "execution_count": 2,
   "metadata": {},
   "outputs": [],
   "source": [
    "from data_sources.drug_connectivity_map import DrugConnectivityMap\n",
    "from data_sources.molecular_signatures_db import MolecularSignaturesDatabase\n",
    "from data_sources.tcga import TCGA\n",
    "\n",
    "dcm = DrugConnectivityMap()\n",
    "msigdb = MolecularSignaturesDatabase()\n",
    "tcga = TCGA()"
   ]
  },
  {
   "cell_type": "code",
   "execution_count": 3,
   "metadata": {},
   "outputs": [
    {
     "data": {
      "text/plain": [
       "'6.2'"
      ]
     },
     "execution_count": 3,
     "metadata": {},
     "output_type": "execute_result"
    }
   ],
   "source": [
    "msigdb.version"
   ]
  },
  {
   "cell_type": "markdown",
   "metadata": {},
   "source": [
    "Available collections:"
   ]
  },
  {
   "cell_type": "code",
   "execution_count": 4,
   "metadata": {},
   "outputs": [
    {
     "data": {
      "text/plain": [
       "[{'name': 'c2.cgp', 'id_type': 'entrez'},\n",
       " {'name': 'c7.all', 'id_type': 'entrez'},\n",
       " {'name': 'c2.all', 'id_type': 'symbols'},\n",
       " {'name': 'c2.cp', 'id_type': 'symbols'},\n",
       " {'name': 'c2.all', 'id_type': 'entrez'},\n",
       " {'name': 'c2.cp.reactome', 'id_type': 'entrez'},\n",
       " {'name': 'c2.cp.kegg', 'id_type': 'entrez'},\n",
       " {'name': 'c2.cp.reactome', 'id_type': 'symbols'},\n",
       " {'name': 'h.all', 'id_type': 'symbols'},\n",
       " {'name': 'c2.cp', 'id_type': 'entrez'},\n",
       " {'name': 'c6.all', 'id_type': 'entrez'},\n",
       " {'name': 'h.all', 'id_type': 'entrez'}]"
      ]
     },
     "execution_count": 4,
     "metadata": {},
     "output_type": "execute_result"
    }
   ],
   "source": [
    "msigdb.gene_sets"
   ]
  },
  {
   "cell_type": "markdown",
   "metadata": {},
   "source": [
    "Genes in TCGA and LINCS connectivity map: "
   ]
  },
  {
   "cell_type": "code",
   "execution_count": 5,
   "metadata": {},
   "outputs": [],
   "source": [
    "tcga_genes = set(tcga.expression.genes('BRCA'))"
   ]
  },
  {
   "cell_type": "code",
   "execution_count": 6,
   "metadata": {},
   "outputs": [],
   "source": [
    "dcm_genes = set(dcm.entrez_gene_ids.astype(str))"
   ]
  },
  {
   "cell_type": "code",
   "execution_count": 7,
   "metadata": {},
   "outputs": [],
   "source": [
    "chosen_collections = {\n",
    "    'KEGG': 'c2.cp.kegg',\n",
    "    'Reactome': 'c2.cp.reactome',\n",
    "    'Hallmarks': 'h.all'\n",
    "}\n",
    "\n",
    "data = []\n",
    "\n",
    "min_genes = 15\n",
    "max_genes = 500\n",
    "\n",
    "def trimmed_len(collection):\n",
    "    return len(collection.trim(min_genes, max_genes).gene_sets)\n",
    "\n",
    "\n",
    "for name, identifier in chosen_collections.items():\n",
    "    collection = msigdb.load(identifier, 'entrez')\n",
    "    subset = collection.subset\n",
    "\n",
    "    tcga_subset = subset(tcga_genes)\n",
    "    lincs_subset = subset(dcm_genes)\n",
    "    shared_subset = subset(tcga_genes & dcm_genes)\n",
    "\n",
    "    data.append({\n",
    "        'Name': name,\n",
    "        'ID': identifier,\n",
    "        'Total': trimmed_len(collection),\n",
    "        'TCGA': trimmed_len(tcga_subset),\n",
    "        'LINCS': trimmed_len(lincs_subset),\n",
    "        'TCGA $\\\\cap$ LINCS': trimmed_len(shared_subset)\n",
    "    })"
   ]
  },
  {
   "cell_type": "code",
   "execution_count": 8,
   "metadata": {},
   "outputs": [
    {
     "data": {
      "text/html": [
       "<style  type=\"text/css\" >\n",
       "</style>  \n",
       "<table id=\"T_5dee280a_3859_11e9_8b70_84ef18faf686\" > \n",
       "<thead>    <tr> \n",
       "        <th class=\"col_heading level0 col0\" >Name</th> \n",
       "        <th class=\"col_heading level0 col1\" >ID</th> \n",
       "        <th class=\"col_heading level0 col2\" >Total</th> \n",
       "        <th class=\"col_heading level0 col3\" >TCGA</th> \n",
       "        <th class=\"col_heading level0 col4\" >LINCS</th> \n",
       "        <th class=\"col_heading level0 col5\" >TCGA $\\cap$ LINCS</th> \n",
       "    </tr></thead> \n",
       "<tbody>    <tr> \n",
       "        <td id=\"T_5dee280a_3859_11e9_8b70_84ef18faf686row0_col0\" class=\"data row0 col0\" >KEGG</td> \n",
       "        <td id=\"T_5dee280a_3859_11e9_8b70_84ef18faf686row0_col1\" class=\"data row0 col1\" >c2.cp.kegg</td> \n",
       "        <td id=\"T_5dee280a_3859_11e9_8b70_84ef18faf686row0_col2\" class=\"data row0 col2\" >178</td> \n",
       "        <td id=\"T_5dee280a_3859_11e9_8b70_84ef18faf686row0_col3\" class=\"data row0 col3\" >178</td> \n",
       "        <td id=\"T_5dee280a_3859_11e9_8b70_84ef18faf686row0_col4\" class=\"data row0 col4\" >167</td> \n",
       "        <td id=\"T_5dee280a_3859_11e9_8b70_84ef18faf686row0_col5\" class=\"data row0 col5\" >167</td> \n",
       "    </tr>    <tr> \n",
       "        <td id=\"T_5dee280a_3859_11e9_8b70_84ef18faf686row1_col0\" class=\"data row1 col0\" >Reactome</td> \n",
       "        <td id=\"T_5dee280a_3859_11e9_8b70_84ef18faf686row1_col1\" class=\"data row1 col1\" >c2.cp.reactome</td> \n",
       "        <td id=\"T_5dee280a_3859_11e9_8b70_84ef18faf686row1_col2\" class=\"data row1 col2\" >521</td> \n",
       "        <td id=\"T_5dee280a_3859_11e9_8b70_84ef18faf686row1_col3\" class=\"data row1 col3\" >512</td> \n",
       "        <td id=\"T_5dee280a_3859_11e9_8b70_84ef18faf686row1_col4\" class=\"data row1 col4\" >471</td> \n",
       "        <td id=\"T_5dee280a_3859_11e9_8b70_84ef18faf686row1_col5\" class=\"data row1 col5\" >471</td> \n",
       "    </tr>    <tr> \n",
       "        <td id=\"T_5dee280a_3859_11e9_8b70_84ef18faf686row2_col0\" class=\"data row2 col0\" >Hallmarks</td> \n",
       "        <td id=\"T_5dee280a_3859_11e9_8b70_84ef18faf686row2_col1\" class=\"data row2 col1\" >h.all</td> \n",
       "        <td id=\"T_5dee280a_3859_11e9_8b70_84ef18faf686row2_col2\" class=\"data row2 col2\" >50</td> \n",
       "        <td id=\"T_5dee280a_3859_11e9_8b70_84ef18faf686row2_col3\" class=\"data row2 col3\" >50</td> \n",
       "        <td id=\"T_5dee280a_3859_11e9_8b70_84ef18faf686row2_col4\" class=\"data row2 col4\" >50</td> \n",
       "        <td id=\"T_5dee280a_3859_11e9_8b70_84ef18faf686row2_col5\" class=\"data row2 col5\" >50</td> \n",
       "    </tr></tbody> \n",
       "</table> "
      ],
      "text/plain": [
       "<pandas.io.formats.style.Styler at 0x7f576a4889b0>"
      ]
     },
     "execution_count": 8,
     "metadata": {},
     "output_type": "execute_result"
    }
   ],
   "source": [
    "order = [\n",
    "    'Name', 'ID', 'Total',\n",
    "    'TCGA', 'LINCS', 'TCGA $\\\\cap$ LINCS'\n",
    "]\n",
    "df = DataFrame(data)[order]\n",
    "df.style.hide_index()"
   ]
  }
 ],
 "metadata": {
  "kernelspec": {
   "display_name": "Python 3",
   "language": "python",
   "name": "python3"
  },
  "language_info": {
   "codemirror_mode": {
    "name": "ipython",
    "version": 3
   },
   "file_extension": ".py",
   "mimetype": "text/x-python",
   "name": "python",
   "nbconvert_exporter": "python",
   "pygments_lexer": "ipython3",
   "version": "3.7.0"
  }
 },
 "nbformat": 4,
 "nbformat_minor": 2
}
