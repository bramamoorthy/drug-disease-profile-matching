{
 "cells": [
  {
   "cell_type": "code",
   "execution_count": 1,
   "metadata": {},
   "outputs": [
    {
     "data": {
      "text/html": [
       "<style>.highlight .hll { background-color: #ffffcc }\n",
       ".highlight  { background: #f8f8f8; }\n",
       ".highlight .c { color: #408080; font-style: italic } /* Comment */\n",
       ".highlight .err { border: 1px solid #FF0000 } /* Error */\n",
       ".highlight .k { color: #008000; font-weight: bold } /* Keyword */\n",
       ".highlight .o { color: #666666 } /* Operator */\n",
       ".highlight .ch { color: #408080; font-style: italic } /* Comment.Hashbang */\n",
       ".highlight .cm { color: #408080; font-style: italic } /* Comment.Multiline */\n",
       ".highlight .cp { color: #BC7A00 } /* Comment.Preproc */\n",
       ".highlight .cpf { color: #408080; font-style: italic } /* Comment.PreprocFile */\n",
       ".highlight .c1 { color: #408080; font-style: italic } /* Comment.Single */\n",
       ".highlight .cs { color: #408080; font-style: italic } /* Comment.Special */\n",
       ".highlight .gd { color: #A00000 } /* Generic.Deleted */\n",
       ".highlight .ge { font-style: italic } /* Generic.Emph */\n",
       ".highlight .gr { color: #FF0000 } /* Generic.Error */\n",
       ".highlight .gh { color: #000080; font-weight: bold } /* Generic.Heading */\n",
       ".highlight .gi { color: #00A000 } /* Generic.Inserted */\n",
       ".highlight .go { color: #888888 } /* Generic.Output */\n",
       ".highlight .gp { color: #000080; font-weight: bold } /* Generic.Prompt */\n",
       ".highlight .gs { font-weight: bold } /* Generic.Strong */\n",
       ".highlight .gu { color: #800080; font-weight: bold } /* Generic.Subheading */\n",
       ".highlight .gt { color: #0044DD } /* Generic.Traceback */\n",
       ".highlight .kc { color: #008000; font-weight: bold } /* Keyword.Constant */\n",
       ".highlight .kd { color: #008000; font-weight: bold } /* Keyword.Declaration */\n",
       ".highlight .kn { color: #008000; font-weight: bold } /* Keyword.Namespace */\n",
       ".highlight .kp { color: #008000 } /* Keyword.Pseudo */\n",
       ".highlight .kr { color: #008000; font-weight: bold } /* Keyword.Reserved */\n",
       ".highlight .kt { color: #B00040 } /* Keyword.Type */\n",
       ".highlight .m { color: #666666 } /* Literal.Number */\n",
       ".highlight .s { color: #BA2121 } /* Literal.String */\n",
       ".highlight .na { color: #7D9029 } /* Name.Attribute */\n",
       ".highlight .nb { color: #008000 } /* Name.Builtin */\n",
       ".highlight .nc { color: #0000FF; font-weight: bold } /* Name.Class */\n",
       ".highlight .no { color: #880000 } /* Name.Constant */\n",
       ".highlight .nd { color: #AA22FF } /* Name.Decorator */\n",
       ".highlight .ni { color: #999999; font-weight: bold } /* Name.Entity */\n",
       ".highlight .ne { color: #D2413A; font-weight: bold } /* Name.Exception */\n",
       ".highlight .nf { color: #0000FF } /* Name.Function */\n",
       ".highlight .nl { color: #A0A000 } /* Name.Label */\n",
       ".highlight .nn { color: #0000FF; font-weight: bold } /* Name.Namespace */\n",
       ".highlight .nt { color: #008000; font-weight: bold } /* Name.Tag */\n",
       ".highlight .nv { color: #19177C } /* Name.Variable */\n",
       ".highlight .ow { color: #AA22FF; font-weight: bold } /* Operator.Word */\n",
       ".highlight .w { color: #bbbbbb } /* Text.Whitespace */\n",
       ".highlight .mb { color: #666666 } /* Literal.Number.Bin */\n",
       ".highlight .mf { color: #666666 } /* Literal.Number.Float */\n",
       ".highlight .mh { color: #666666 } /* Literal.Number.Hex */\n",
       ".highlight .mi { color: #666666 } /* Literal.Number.Integer */\n",
       ".highlight .mo { color: #666666 } /* Literal.Number.Oct */\n",
       ".highlight .sa { color: #BA2121 } /* Literal.String.Affix */\n",
       ".highlight .sb { color: #BA2121 } /* Literal.String.Backtick */\n",
       ".highlight .sc { color: #BA2121 } /* Literal.String.Char */\n",
       ".highlight .dl { color: #BA2121 } /* Literal.String.Delimiter */\n",
       ".highlight .sd { color: #BA2121; font-style: italic } /* Literal.String.Doc */\n",
       ".highlight .s2 { color: #BA2121 } /* Literal.String.Double */\n",
       ".highlight .se { color: #BB6622; font-weight: bold } /* Literal.String.Escape */\n",
       ".highlight .sh { color: #BA2121 } /* Literal.String.Heredoc */\n",
       ".highlight .si { color: #BB6688; font-weight: bold } /* Literal.String.Interpol */\n",
       ".highlight .sx { color: #008000 } /* Literal.String.Other */\n",
       ".highlight .sr { color: #BB6688 } /* Literal.String.Regex */\n",
       ".highlight .s1 { color: #BA2121 } /* Literal.String.Single */\n",
       ".highlight .ss { color: #19177C } /* Literal.String.Symbol */\n",
       ".highlight .bp { color: #008000 } /* Name.Builtin.Pseudo */\n",
       ".highlight .fm { color: #0000FF } /* Name.Function.Magic */\n",
       ".highlight .vc { color: #19177C } /* Name.Variable.Class */\n",
       ".highlight .vg { color: #19177C } /* Name.Variable.Global */\n",
       ".highlight .vi { color: #19177C } /* Name.Variable.Instance */\n",
       ".highlight .vm { color: #19177C } /* Name.Variable.Magic */\n",
       ".highlight .il { color: #666666 } /* Literal.Number.Integer.Long */.highlight{margin-left:10px!important; font-size:11px}</style>"
      ],
      "text/plain": [
       "<IPython.core.display.HTML object>"
      ]
     },
     "metadata": {},
     "output_type": "display_data"
    }
   ],
   "source": [
    "%matplotlib inline\n",
    "%load_ext autoreload\n",
    "%autoreload 2\n",
    "from utilities_namespace import *"
   ]
  },
  {
   "cell_type": "code",
   "execution_count": 2,
   "metadata": {},
   "outputs": [],
   "source": [
    "%%capture\n",
    "%load_ext rpy2.ipython\n",
    "%R require(ggplot2)"
   ]
  },
  {
   "cell_type": "markdown",
   "metadata": {},
   "source": [
    "To better understand the CMap 2.0 enrichment score I have answered this question: https://www.biostars.org/p/140821/#364663\n",
    "\n",
    "Below is the code that I used to reproduce the enrichment score calculation:"
   ]
  },
  {
   "cell_type": "code",
   "execution_count": 3,
   "metadata": {},
   "outputs": [],
   "source": [
    "from config import DATA_DIR\n",
    "from pathlib import Path\n",
    "\n",
    "data_path = Path(DATA_DIR)"
   ]
  },
  {
   "cell_type": "markdown",
   "metadata": {},
   "source": [
    "Loading the CMap 2.0:"
   ]
  },
  {
   "cell_type": "code",
   "execution_count": 4,
   "metadata": {},
   "outputs": [
    {
     "data": {
      "text/html": [
       "<div>\n",
       "<style scoped>\n",
       "    .dataframe tbody tr th:only-of-type {\n",
       "        vertical-align: middle;\n",
       "    }\n",
       "\n",
       "    .dataframe tbody tr th {\n",
       "        vertical-align: top;\n",
       "    }\n",
       "\n",
       "    .dataframe thead th {\n",
       "        text-align: right;\n",
       "    }\n",
       "</style>\n",
       "<table border=\"1\" class=\"dataframe\">\n",
       "  <thead>\n",
       "    <tr style=\"text-align: right;\">\n",
       "      <th></th>\n",
       "      <th>batch_id</th>\n",
       "      <th>cmap_name</th>\n",
       "      <th>INN1</th>\n",
       "      <th>concentration (M)</th>\n",
       "      <th>duration (h)</th>\n",
       "      <th>...</th>\n",
       "      <th>scanner</th>\n",
       "      <th>vehicle</th>\n",
       "      <th>vendor</th>\n",
       "      <th>catalog_number</th>\n",
       "      <th>catalog_name</th>\n",
       "    </tr>\n",
       "    <tr>\n",
       "      <th>instance_id</th>\n",
       "      <th></th>\n",
       "      <th></th>\n",
       "      <th></th>\n",
       "      <th></th>\n",
       "      <th></th>\n",
       "      <th></th>\n",
       "      <th></th>\n",
       "      <th></th>\n",
       "      <th></th>\n",
       "      <th></th>\n",
       "      <th></th>\n",
       "    </tr>\n",
       "  </thead>\n",
       "  <tbody>\n",
       "    <tr>\n",
       "      <th>1</th>\n",
       "      <td>1</td>\n",
       "      <td>metformin</td>\n",
       "      <td>INN</td>\n",
       "      <td>1.000000e-05</td>\n",
       "      <td>6.0</td>\n",
       "      <td>...</td>\n",
       "      <td>HP GeneArray Scanner</td>\n",
       "      <td>medium</td>\n",
       "      <td>Sigma-Aldrich</td>\n",
       "      <td>D5035</td>\n",
       "      <td>1,1-dimethylbiguanide hydrochloride</td>\n",
       "    </tr>\n",
       "    <tr>\n",
       "      <th>2</th>\n",
       "      <td>1</td>\n",
       "      <td>metformin</td>\n",
       "      <td>INN</td>\n",
       "      <td>1.000000e-05</td>\n",
       "      <td>6.0</td>\n",
       "      <td>...</td>\n",
       "      <td>HP GeneArray Scanner</td>\n",
       "      <td>medium</td>\n",
       "      <td>Sigma-Aldrich</td>\n",
       "      <td>D5035</td>\n",
       "      <td>1,1-dimethylbiguanide hydrochloride</td>\n",
       "    </tr>\n",
       "    <tr>\n",
       "      <th>3</th>\n",
       "      <td>1</td>\n",
       "      <td>metformin</td>\n",
       "      <td>INN</td>\n",
       "      <td>1.000000e-07</td>\n",
       "      <td>6.0</td>\n",
       "      <td>...</td>\n",
       "      <td>HP GeneArray Scanner</td>\n",
       "      <td>medium</td>\n",
       "      <td>Sigma-Aldrich</td>\n",
       "      <td>D5035</td>\n",
       "      <td>1,1-dimethylbiguanide hydrochloride</td>\n",
       "    </tr>\n",
       "    <tr>\n",
       "      <th>4</th>\n",
       "      <td>1</td>\n",
       "      <td>metformin</td>\n",
       "      <td>INN</td>\n",
       "      <td>1.000000e-03</td>\n",
       "      <td>6.0</td>\n",
       "      <td>...</td>\n",
       "      <td>HP GeneArray Scanner</td>\n",
       "      <td>medium</td>\n",
       "      <td>Sigma-Aldrich</td>\n",
       "      <td>D5035</td>\n",
       "      <td>1,1-dimethylbiguanide hydrochloride</td>\n",
       "    </tr>\n",
       "    <tr>\n",
       "      <th>21</th>\n",
       "      <td>2</td>\n",
       "      <td>phenformin</td>\n",
       "      <td>INN</td>\n",
       "      <td>1.000000e-05</td>\n",
       "      <td>6.0</td>\n",
       "      <td>...</td>\n",
       "      <td>HP GeneArray Scanner</td>\n",
       "      <td>medium</td>\n",
       "      <td>Sigma-Aldrich</td>\n",
       "      <td>P7045</td>\n",
       "      <td>phenformin hydrochloride</td>\n",
       "    </tr>\n",
       "  </tbody>\n",
       "</table>\n",
       "<p>5 rows × 14 columns</p>\n",
       "</div>"
      ],
      "text/plain": [
       "            batch_id   cmap_name INN1  concentration (M)  duration (h)  \\\n",
       "instance_id                                                              \n",
       "1                  1   metformin  INN       1.000000e-05           6.0   \n",
       "2                  1   metformin  INN       1.000000e-05           6.0   \n",
       "3                  1   metformin  INN       1.000000e-07           6.0   \n",
       "4                  1   metformin  INN       1.000000e-03           6.0   \n",
       "21                 2  phenformin  INN       1.000000e-05           6.0   \n",
       "\n",
       "                            ...                                scanner  \\\n",
       "instance_id                 ...                                          \n",
       "1                           ...                   HP GeneArray Scanner   \n",
       "2                           ...                   HP GeneArray Scanner   \n",
       "3                           ...                   HP GeneArray Scanner   \n",
       "4                           ...                   HP GeneArray Scanner   \n",
       "21                          ...                   HP GeneArray Scanner   \n",
       "\n",
       "            vehicle         vendor catalog_number  \\\n",
       "instance_id                                         \n",
       "1            medium  Sigma-Aldrich          D5035   \n",
       "2            medium  Sigma-Aldrich          D5035   \n",
       "3            medium  Sigma-Aldrich          D5035   \n",
       "4            medium  Sigma-Aldrich          D5035   \n",
       "21           medium  Sigma-Aldrich          P7045   \n",
       "\n",
       "                                    catalog_name  \n",
       "instance_id                                       \n",
       "1            1,1-dimethylbiguanide hydrochloride  \n",
       "2            1,1-dimethylbiguanide hydrochloride  \n",
       "3            1,1-dimethylbiguanide hydrochloride  \n",
       "4            1,1-dimethylbiguanide hydrochloride  \n",
       "21                      phenformin hydrochloride  \n",
       "\n",
       "[5 rows x 14 columns]"
      ]
     },
     "execution_count": 4,
     "metadata": {},
     "output_type": "execute_result"
    }
   ],
   "source": [
    "metadata = pd.read_excel(data_path / 'cmap/cmap_instances_02.xls')\n",
    "substances = metadata[metadata.isna().sum(axis=1) <= 1].dropna(how='all').set_index('instance_id')\n",
    "substances.head()"
   ]
  },
  {
   "cell_type": "code",
   "execution_count": 5,
   "metadata": {},
   "outputs": [
    {
     "data": {
      "text/plain": [
       "Index(['batch_id', 'cmap_name', 'INN1', 'concentration (M)', 'duration (h)',\n",
       "       'cell2', 'array3', 'perturbation_scan_id', 'vehicle_scan_id4',\n",
       "       'scanner', 'vehicle', 'vendor', 'catalog_number', 'catalog_name'],\n",
       "      dtype='object')"
      ]
     },
     "execution_count": 5,
     "metadata": {},
     "output_type": "execute_result"
    }
   ],
   "source": [
    "substances.columns"
   ]
  },
  {
   "cell_type": "code",
   "execution_count": 6,
   "metadata": {},
   "outputs": [],
   "source": [
    "instances_ranks = {\n",
    "    5941: 174,\n",
    "    5968: 305,\n",
    "    5963: 339,\n",
    "    5936: 368\n",
    "}"
   ]
  },
  {
   "cell_type": "code",
   "execution_count": 7,
   "metadata": {},
   "outputs": [],
   "source": [
    "n = 6100\n",
    "t = len(instances_ranks)\n",
    "\n",
    "dd = DataFrame([\n",
    "    {\n",
    "        'x': j,\n",
    "        'y': (j +1 ) / t,\n",
    "        'group': 'j/t',\n",
    "        'label': f'{i}: {substances.loc[i].cmap_name}\\n{substances.loc[i].batch_id} batch, {substances.loc[i].cell2}',\n",
    "        'case': 'j/t - V(j)/n'\n",
    "    }\n",
    "    for j, (i, vj) in enumerate(instances_ranks.items()) \n",
    "] + [\n",
    "    {\n",
    "        'x': j,\n",
    "        'y': vj / n,\n",
    "        'group': 'V(j) / n',\n",
    "        'label': f'{i}: {substances.loc[i].cmap_name}\\n{substances.loc[i].batch_id} batch, {substances.loc[i].cell2}',\n",
    "        'case': 'j/t - V(j)/n'\n",
    "    }  \n",
    "    for j, (i, vj) in enumerate(instances_ranks.items())\n",
    "] +\n",
    "[\n",
    "    {\n",
    "        'x': j,\n",
    "        'y': (j) / t,\n",
    "        'group': '(j-1)/t',\n",
    "        'label': f'{i}: {substances.loc[i].cmap_name}\\n{substances.loc[i].batch_id} batch, {substances.loc[i].cell2}',\n",
    "        'case': 'V(j)/n - (j-1)/t'\n",
    "    }\n",
    "    for j, (i, vj) in enumerate(instances_ranks.items()) \n",
    "] + [\n",
    "    {\n",
    "        'x': j,\n",
    "        'y': vj / n,\n",
    "        'group': 'V(j) / n',\n",
    "        'label': f'{i}: {substances.loc[i].cmap_name}\\n{substances.loc[i].batch_id} batch, {substances.loc[i].cell2}',\n",
    "        'case': 'V(j)/n - (j-1)/t'\n",
    "    }  \n",
    "    for j, (i, vj) in enumerate(instances_ranks.items())\n",
    "]\n",
    "\n",
    ")"
   ]
  },
  {
   "cell_type": "code",
   "execution_count": 8,
   "metadata": {},
   "outputs": [],
   "source": [
    "from numpy import argmax"
   ]
  },
  {
   "cell_type": "code",
   "execution_count": 9,
   "metadata": {},
   "outputs": [
    {
     "data": {
      "text/html": [
       "<div>\n",
       "<style scoped>\n",
       "    .dataframe tbody tr th:only-of-type {\n",
       "        vertical-align: middle;\n",
       "    }\n",
       "\n",
       "    .dataframe tbody tr th {\n",
       "        vertical-align: top;\n",
       "    }\n",
       "\n",
       "    .dataframe thead th {\n",
       "        text-align: right;\n",
       "    }\n",
       "</style>\n",
       "<table border=\"1\" class=\"dataframe\">\n",
       "  <thead>\n",
       "    <tr style=\"text-align: right;\">\n",
       "      <th></th>\n",
       "      <th>case</th>\n",
       "      <th>group</th>\n",
       "      <th>label</th>\n",
       "      <th>x</th>\n",
       "      <th>y</th>\n",
       "    </tr>\n",
       "  </thead>\n",
       "  <tbody>\n",
       "    <tr>\n",
       "      <th>0</th>\n",
       "      <td>j/t - V(j)/n</td>\n",
       "      <td>j/t</td>\n",
       "      <td>5941: H-7\\n1007 batch, PC3</td>\n",
       "      <td>0</td>\n",
       "      <td>0.250000</td>\n",
       "    </tr>\n",
       "    <tr>\n",
       "      <th>1</th>\n",
       "      <td>j/t - V(j)/n</td>\n",
       "      <td>j/t</td>\n",
       "      <td>5968: H-7\\n1013 batch, PC3</td>\n",
       "      <td>1</td>\n",
       "      <td>0.500000</td>\n",
       "    </tr>\n",
       "    <tr>\n",
       "      <th>2</th>\n",
       "      <td>j/t - V(j)/n</td>\n",
       "      <td>j/t</td>\n",
       "      <td>5963: H-7\\n1012 batch, MCF7</td>\n",
       "      <td>2</td>\n",
       "      <td>0.750000</td>\n",
       "    </tr>\n",
       "    <tr>\n",
       "      <th>3</th>\n",
       "      <td>j/t - V(j)/n</td>\n",
       "      <td>j/t</td>\n",
       "      <td>5936: H-7\\n1006 batch, MCF7</td>\n",
       "      <td>3</td>\n",
       "      <td>1.000000</td>\n",
       "    </tr>\n",
       "    <tr>\n",
       "      <th>4</th>\n",
       "      <td>j/t - V(j)/n</td>\n",
       "      <td>V(j) / n</td>\n",
       "      <td>5941: H-7\\n1007 batch, PC3</td>\n",
       "      <td>0</td>\n",
       "      <td>0.028525</td>\n",
       "    </tr>\n",
       "    <tr>\n",
       "      <th>5</th>\n",
       "      <td>j/t - V(j)/n</td>\n",
       "      <td>V(j) / n</td>\n",
       "      <td>5968: H-7\\n1013 batch, PC3</td>\n",
       "      <td>1</td>\n",
       "      <td>0.050000</td>\n",
       "    </tr>\n",
       "    <tr>\n",
       "      <th>6</th>\n",
       "      <td>j/t - V(j)/n</td>\n",
       "      <td>V(j) / n</td>\n",
       "      <td>5963: H-7\\n1012 batch, MCF7</td>\n",
       "      <td>2</td>\n",
       "      <td>0.055574</td>\n",
       "    </tr>\n",
       "    <tr>\n",
       "      <th>7</th>\n",
       "      <td>j/t - V(j)/n</td>\n",
       "      <td>V(j) / n</td>\n",
       "      <td>5936: H-7\\n1006 batch, MCF7</td>\n",
       "      <td>3</td>\n",
       "      <td>0.060328</td>\n",
       "    </tr>\n",
       "    <tr>\n",
       "      <th>8</th>\n",
       "      <td>V(j)/n - (j-1)/t</td>\n",
       "      <td>(j-1)/t</td>\n",
       "      <td>5941: H-7\\n1007 batch, PC3</td>\n",
       "      <td>0</td>\n",
       "      <td>0.000000</td>\n",
       "    </tr>\n",
       "    <tr>\n",
       "      <th>9</th>\n",
       "      <td>V(j)/n - (j-1)/t</td>\n",
       "      <td>(j-1)/t</td>\n",
       "      <td>5968: H-7\\n1013 batch, PC3</td>\n",
       "      <td>1</td>\n",
       "      <td>0.250000</td>\n",
       "    </tr>\n",
       "    <tr>\n",
       "      <th>10</th>\n",
       "      <td>V(j)/n - (j-1)/t</td>\n",
       "      <td>(j-1)/t</td>\n",
       "      <td>5963: H-7\\n1012 batch, MCF7</td>\n",
       "      <td>2</td>\n",
       "      <td>0.500000</td>\n",
       "    </tr>\n",
       "    <tr>\n",
       "      <th>11</th>\n",
       "      <td>V(j)/n - (j-1)/t</td>\n",
       "      <td>(j-1)/t</td>\n",
       "      <td>5936: H-7\\n1006 batch, MCF7</td>\n",
       "      <td>3</td>\n",
       "      <td>0.750000</td>\n",
       "    </tr>\n",
       "    <tr>\n",
       "      <th>12</th>\n",
       "      <td>V(j)/n - (j-1)/t</td>\n",
       "      <td>V(j) / n</td>\n",
       "      <td>5941: H-7\\n1007 batch, PC3</td>\n",
       "      <td>0</td>\n",
       "      <td>0.028525</td>\n",
       "    </tr>\n",
       "    <tr>\n",
       "      <th>13</th>\n",
       "      <td>V(j)/n - (j-1)/t</td>\n",
       "      <td>V(j) / n</td>\n",
       "      <td>5968: H-7\\n1013 batch, PC3</td>\n",
       "      <td>1</td>\n",
       "      <td>0.050000</td>\n",
       "    </tr>\n",
       "    <tr>\n",
       "      <th>14</th>\n",
       "      <td>V(j)/n - (j-1)/t</td>\n",
       "      <td>V(j) / n</td>\n",
       "      <td>5963: H-7\\n1012 batch, MCF7</td>\n",
       "      <td>2</td>\n",
       "      <td>0.055574</td>\n",
       "    </tr>\n",
       "    <tr>\n",
       "      <th>15</th>\n",
       "      <td>V(j)/n - (j-1)/t</td>\n",
       "      <td>V(j) / n</td>\n",
       "      <td>5936: H-7\\n1006 batch, MCF7</td>\n",
       "      <td>3</td>\n",
       "      <td>0.060328</td>\n",
       "    </tr>\n",
       "  </tbody>\n",
       "</table>\n",
       "</div>"
      ],
      "text/plain": [
       "                case     group                        label  x         y\n",
       "0   j/t - V(j)/n      j/t       5941: H-7\\n1007 batch, PC3   0  0.250000\n",
       "1   j/t - V(j)/n      j/t       5968: H-7\\n1013 batch, PC3   1  0.500000\n",
       "2   j/t - V(j)/n      j/t       5963: H-7\\n1012 batch, MCF7  2  0.750000\n",
       "3   j/t - V(j)/n      j/t       5936: H-7\\n1006 batch, MCF7  3  1.000000\n",
       "4   j/t - V(j)/n      V(j) / n  5941: H-7\\n1007 batch, PC3   0  0.028525\n",
       "5   j/t - V(j)/n      V(j) / n  5968: H-7\\n1013 batch, PC3   1  0.050000\n",
       "6   j/t - V(j)/n      V(j) / n  5963: H-7\\n1012 batch, MCF7  2  0.055574\n",
       "7   j/t - V(j)/n      V(j) / n  5936: H-7\\n1006 batch, MCF7  3  0.060328\n",
       "8   V(j)/n - (j-1)/t  (j-1)/t   5941: H-7\\n1007 batch, PC3   0  0.000000\n",
       "9   V(j)/n - (j-1)/t  (j-1)/t   5968: H-7\\n1013 batch, PC3   1  0.250000\n",
       "10  V(j)/n - (j-1)/t  (j-1)/t   5963: H-7\\n1012 batch, MCF7  2  0.500000\n",
       "11  V(j)/n - (j-1)/t  (j-1)/t   5936: H-7\\n1006 batch, MCF7  3  0.750000\n",
       "12  V(j)/n - (j-1)/t  V(j) / n  5941: H-7\\n1007 batch, PC3   0  0.028525\n",
       "13  V(j)/n - (j-1)/t  V(j) / n  5968: H-7\\n1013 batch, PC3   1  0.050000\n",
       "14  V(j)/n - (j-1)/t  V(j) / n  5963: H-7\\n1012 batch, MCF7  2  0.055574\n",
       "15  V(j)/n - (j-1)/t  V(j) / n  5936: H-7\\n1006 batch, MCF7  3  0.060328"
      ]
     },
     "metadata": {},
     "output_type": "display_data"
    }
   ],
   "source": [
    "show_table(dd)"
   ]
  },
  {
   "cell_type": "code",
   "execution_count": 10,
   "metadata": {},
   "outputs": [
    {
     "data": {
      "text/plain": [
       "0.939672"
      ]
     },
     "execution_count": 10,
     "metadata": {},
     "output_type": "execute_result"
    }
   ],
   "source": [
    "1.000000 - 0.060328"
   ]
  },
  {
   "cell_type": "code",
   "execution_count": 11,
   "metadata": {},
   "outputs": [
    {
     "data": {
      "text/plain": [
       "0.689672"
      ]
     },
     "execution_count": 11,
     "metadata": {},
     "output_type": "execute_result"
    }
   ],
   "source": [
    "0.750000 - 0.060328"
   ]
  },
  {
   "cell_type": "code",
   "execution_count": 12,
   "metadata": {},
   "outputs": [
    {
     "data": {
      "text/html": [
       "<div>\n",
       "<style scoped>\n",
       "    .dataframe tbody tr th:only-of-type {\n",
       "        vertical-align: middle;\n",
       "    }\n",
       "\n",
       "    .dataframe tbody tr th {\n",
       "        vertical-align: top;\n",
       "    }\n",
       "\n",
       "    .dataframe thead th {\n",
       "        text-align: right;\n",
       "    }\n",
       "</style>\n",
       "<table border=\"1\" class=\"dataframe\">\n",
       "  <thead>\n",
       "    <tr style=\"text-align: right;\">\n",
       "      <th></th>\n",
       "      <th>case</th>\n",
       "      <th>group</th>\n",
       "      <th>text</th>\n",
       "      <th>x</th>\n",
       "      <th>y</th>\n",
       "    </tr>\n",
       "  </thead>\n",
       "  <tbody>\n",
       "    <tr>\n",
       "      <th>0</th>\n",
       "      <td>V(j)/n - (j-1)/t</td>\n",
       "      <td>max(V(j)/n - (j-1)/t)</td>\n",
       "      <td>0.0285</td>\n",
       "      <td>0.75</td>\n",
       "      <td>0.014262</td>\n",
       "    </tr>\n",
       "    <tr>\n",
       "      <th>1</th>\n",
       "      <td>j/t - V(j)/n</td>\n",
       "      <td>max(j/t - V(j)/n)</td>\n",
       "      <td>0.9397</td>\n",
       "      <td>4.00</td>\n",
       "      <td>0.469836</td>\n",
       "    </tr>\n",
       "  </tbody>\n",
       "</table>\n",
       "</div>"
      ],
      "text/plain": [
       "               case                  group    text     x         y\n",
       "0  V(j)/n - (j-1)/t  max(V(j)/n - (j-1)/t)  0.0285  0.75  0.014262\n",
       "1      j/t - V(j)/n      max(j/t - V(j)/n)  0.9397  4.00  0.469836"
      ]
     },
     "execution_count": 12,
     "metadata": {},
     "output_type": "execute_result"
    }
   ],
   "source": [
    "vj_j = [\n",
    "    vj/n - j/t\n",
    "    for j, (i, vj) in enumerate(instances_ranks.items())\n",
    "]\n",
    "j_vj = [\n",
    "    (j+1)/t - vj/n\n",
    "    for j, (i, vj) in enumerate(instances_ranks.items())\n",
    "]\n",
    "annotations = DataFrame([{\n",
    "    'x': argmax(vj_j) + 1 - 0.25,\n",
    "    'text': f'{max(vj_j) :.4f}',#[vj/n  for j, (i, vj) in enumerate(instances_ranks.items())][argmax(vj_j)]\n",
    "    'y': max(vj_j) / 2,\n",
    "    'case': 'V(j)/n - (j-1)/t',\n",
    "    'group': 'max(V(j)/n - (j-1)/t)'\n",
    "}, {\n",
    "    'x': argmax(j_vj) + 1,\n",
    "    'text': f'{max(j_vj):.4f}',#[vj/n  for j, (i, vj) in enumerate(instances_ranks.items())][argmax(vj_j)]\n",
    "    'y': max(j_vj)/2,\n",
    "    'case': 'j/t - V(j)/n',\n",
    "    'group': 'max(j/t - V(j)/n)'\n",
    "}\n",
    "])\n",
    "\n",
    "\n",
    "annotations"
   ]
  },
  {
   "cell_type": "code",
   "execution_count": 13,
   "metadata": {},
   "outputs": [],
   "source": [
    "segments =  DataFrame([\n",
    "    dict(x=4.2, xend=4.2, y=0.060328, yend=1, group='max(j/t - V(j)/n)', label='', case='j/t - V(j)/n', color='max(j/t - V(j)/n)'),\n",
    "    dict(x=.92, xend=.92, y=0, yend=0.028525, group='max(V(j)/n - (j-1)/t)', label='', case='V(j)/n - (j-1)/t', color='max(V(j)/n - (j-1)/t)')\n",
    "])"
   ]
  },
  {
   "cell_type": "code",
   "execution_count": 14,
   "metadata": {},
   "outputs": [
    {
     "data": {
      "image/png": "[encoded data removed]"
     },
     "metadata": {},
     "output_type": "display_data"
    }
   ],
   "source": [
    "%%R -i dd -i annotations -w 700 -i segments -h 300\n",
    "dd$label <- reorder(dd$label, dd$x)\n",
    "(\n",
    "    ggplot(dd, aes(x=label, y=y, group=group, color=group))\n",
    "    + geom_step()\n",
    "    + facet_wrap(. ~ case)\n",
    "    + geom_segment(aes(x=x, y=y,xend=xend,yend=yend,color=color, group=group), data=segments)\n",
    "    + geom_text(aes(x=x, y=y, label=text, group=-Inf), data=annotations, angle=90)\n",
    "    + xlab('')\n",
    "    +ylab('')\n",
    ")"
   ]
  },
  {
   "cell_type": "code",
   "execution_count": 15,
   "metadata": {},
   "outputs": [],
   "source": [
    "vj = (Series([174, 305, 339, 368]) / 6100)"
   ]
  },
  {
   "cell_type": "code",
   "execution_count": 16,
   "metadata": {},
   "outputs": [],
   "source": [
    "j = Series(range(1,5)) / 4"
   ]
  },
  {
   "cell_type": "code",
   "execution_count": 17,
   "metadata": {},
   "outputs": [
    {
     "data": {
      "text/plain": [
       "0    0.25\n",
       "1    0.50\n",
       "2    0.75\n",
       "3    1.00\n",
       "dtype: float64"
      ]
     },
     "execution_count": 17,
     "metadata": {},
     "output_type": "execute_result"
    }
   ],
   "source": [
    "j"
   ]
  },
  {
   "cell_type": "code",
   "execution_count": 18,
   "metadata": {},
   "outputs": [
    {
     "data": {
      "text/plain": [
       "'0.2215, 0.4500, 0.6944, 0.9397'"
      ]
     },
     "execution_count": 18,
     "metadata": {},
     "output_type": "execute_result"
    }
   ],
   "source": [
    "', '.join((j - vj).apply(lambda x: f'{x:.4f}').tolist())"
   ]
  }
 ],
 "metadata": {
  "kernelspec": {
   "display_name": "Python 3",
   "language": "python",
   "name": "python3"
  },
  "language_info": {
   "codemirror_mode": {
    "name": "ipython",
    "version": 3
   },
   "file_extension": ".py",
   "mimetype": "text/x-python",
   "name": "python",
   "nbconvert_exporter": "python",
   "pygments_lexer": "ipython3",
   "version": "3.7.0"
  }
 },
 "nbformat": 4,
 "nbformat_minor": 2
}
