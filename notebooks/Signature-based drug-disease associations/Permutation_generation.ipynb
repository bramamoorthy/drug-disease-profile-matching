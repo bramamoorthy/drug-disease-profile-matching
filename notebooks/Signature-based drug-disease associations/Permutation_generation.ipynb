{
 "cells": [
  {
   "cell_type": "code",
   "execution_count": 2,
   "metadata": {},
   "outputs": [
    {
     "data": {
      "text/html": [
       "<style>.highlight .hll { background-color: #ffffcc }\n",
       ".highlight  { background: #f8f8f8; }\n",
       ".highlight .c { color: #408080; font-style: italic } /* Comment */\n",
       ".highlight .err { border: 1px solid #FF0000 } /* Error */\n",
       ".highlight .k { color: #008000; font-weight: bold } /* Keyword */\n",
       ".highlight .o { color: #666666 } /* Operator */\n",
       ".highlight .ch { color: #408080; font-style: italic } /* Comment.Hashbang */\n",
       ".highlight .cm { color: #408080; font-style: italic } /* Comment.Multiline */\n",
       ".highlight .cp { color: #BC7A00 } /* Comment.Preproc */\n",
       ".highlight .cpf { color: #408080; font-style: italic } /* Comment.PreprocFile */\n",
       ".highlight .c1 { color: #408080; font-style: italic } /* Comment.Single */\n",
       ".highlight .cs { color: #408080; font-style: italic } /* Comment.Special */\n",
       ".highlight .gd { color: #A00000 } /* Generic.Deleted */\n",
       ".highlight .ge { font-style: italic } /* Generic.Emph */\n",
       ".highlight .gr { color: #FF0000 } /* Generic.Error */\n",
       ".highlight .gh { color: #000080; font-weight: bold } /* Generic.Heading */\n",
       ".highlight .gi { color: #00A000 } /* Generic.Inserted */\n",
       ".highlight .go { color: #888888 } /* Generic.Output */\n",
       ".highlight .gp { color: #000080; font-weight: bold } /* Generic.Prompt */\n",
       ".highlight .gs { font-weight: bold } /* Generic.Strong */\n",
       ".highlight .gu { color: #800080; font-weight: bold } /* Generic.Subheading */\n",
       ".highlight .gt { color: #0044DD } /* Generic.Traceback */\n",
       ".highlight .kc { color: #008000; font-weight: bold } /* Keyword.Constant */\n",
       ".highlight .kd { color: #008000; font-weight: bold } /* Keyword.Declaration */\n",
       ".highlight .kn { color: #008000; font-weight: bold } /* Keyword.Namespace */\n",
       ".highlight .kp { color: #008000 } /* Keyword.Pseudo */\n",
       ".highlight .kr { color: #008000; font-weight: bold } /* Keyword.Reserved */\n",
       ".highlight .kt { color: #B00040 } /* Keyword.Type */\n",
       ".highlight .m { color: #666666 } /* Literal.Number */\n",
       ".highlight .s { color: #BA2121 } /* Literal.String */\n",
       ".highlight .na { color: #7D9029 } /* Name.Attribute */\n",
       ".highlight .nb { color: #008000 } /* Name.Builtin */\n",
       ".highlight .nc { color: #0000FF; font-weight: bold } /* Name.Class */\n",
       ".highlight .no { color: #880000 } /* Name.Constant */\n",
       ".highlight .nd { color: #AA22FF } /* Name.Decorator */\n",
       ".highlight .ni { color: #999999; font-weight: bold } /* Name.Entity */\n",
       ".highlight .ne { color: #D2413A; font-weight: bold } /* Name.Exception */\n",
       ".highlight .nf { color: #0000FF } /* Name.Function */\n",
       ".highlight .nl { color: #A0A000 } /* Name.Label */\n",
       ".highlight .nn { color: #0000FF; font-weight: bold } /* Name.Namespace */\n",
       ".highlight .nt { color: #008000; font-weight: bold } /* Name.Tag */\n",
       ".highlight .nv { color: #19177C } /* Name.Variable */\n",
       ".highlight .ow { color: #AA22FF; font-weight: bold } /* Operator.Word */\n",
       ".highlight .w { color: #bbbbbb } /* Text.Whitespace */\n",
       ".highlight .mb { color: #666666 } /* Literal.Number.Bin */\n",
       ".highlight .mf { color: #666666 } /* Literal.Number.Float */\n",
       ".highlight .mh { color: #666666 } /* Literal.Number.Hex */\n",
       ".highlight .mi { color: #666666 } /* Literal.Number.Integer */\n",
       ".highlight .mo { color: #666666 } /* Literal.Number.Oct */\n",
       ".highlight .sa { color: #BA2121 } /* Literal.String.Affix */\n",
       ".highlight .sb { color: #BA2121 } /* Literal.String.Backtick */\n",
       ".highlight .sc { color: #BA2121 } /* Literal.String.Char */\n",
       ".highlight .dl { color: #BA2121 } /* Literal.String.Delimiter */\n",
       ".highlight .sd { color: #BA2121; font-style: italic } /* Literal.String.Doc */\n",
       ".highlight .s2 { color: #BA2121 } /* Literal.String.Double */\n",
       ".highlight .se { color: #BB6622; font-weight: bold } /* Literal.String.Escape */\n",
       ".highlight .sh { color: #BA2121 } /* Literal.String.Heredoc */\n",
       ".highlight .si { color: #BB6688; font-weight: bold } /* Literal.String.Interpol */\n",
       ".highlight .sx { color: #008000 } /* Literal.String.Other */\n",
       ".highlight .sr { color: #BB6688 } /* Literal.String.Regex */\n",
       ".highlight .s1 { color: #BA2121 } /* Literal.String.Single */\n",
       ".highlight .ss { color: #19177C } /* Literal.String.Symbol */\n",
       ".highlight .bp { color: #008000 } /* Name.Builtin.Pseudo */\n",
       ".highlight .fm { color: #0000FF } /* Name.Function.Magic */\n",
       ".highlight .vc { color: #19177C } /* Name.Variable.Class */\n",
       ".highlight .vg { color: #19177C } /* Name.Variable.Global */\n",
       ".highlight .vi { color: #19177C } /* Name.Variable.Instance */\n",
       ".highlight .vm { color: #19177C } /* Name.Variable.Magic */\n",
       ".highlight .il { color: #666666 } /* Literal.Number.Integer.Long */.highlight{margin-left:10px!important; font-size:11px}</style>"
      ],
      "text/plain": [
       "<IPython.core.display.HTML object>"
      ]
     },
     "metadata": {},
     "output_type": "display_data"
    }
   ],
   "source": [
    "%matplotlib inline\n",
    "%load_ext autoreload\n",
    "%autoreload 2\n",
    "from utilities_namespace import *"
   ]
  },
  {
   "cell_type": "code",
   "execution_count": 3,
   "metadata": {},
   "outputs": [],
   "source": [
    "pd.options.mode.chained_assignment = None"
   ]
  },
  {
   "cell_type": "markdown",
   "metadata": {},
   "source": [
    "### Load data"
   ]
  },
  {
   "cell_type": "code",
   "execution_count": 4,
   "metadata": {},
   "outputs": [],
   "source": [
    "from helpers.notebooks import notebooks_importer"
   ]
  },
  {
   "cell_type": "code",
   "execution_count": 5,
   "metadata": {},
   "outputs": [],
   "source": [
    "%%capture\n",
    "import Breast_cancer_data as data_brca"
   ]
  },
  {
   "cell_type": "markdown",
   "metadata": {},
   "source": [
    "## Benchmarking"
   ]
  },
  {
   "cell_type": "markdown",
   "metadata": {},
   "source": [
    "First of all, I define all metrics I will use:"
   ]
  },
  {
   "cell_type": "code",
   "execution_count": 6,
   "metadata": {},
   "outputs": [],
   "source": [
    "%%capture\n",
    "from Benchmarking_setup import standard_benchmark"
   ]
  },
  {
   "cell_type": "code",
   "execution_count": 7,
   "metadata": {},
   "outputs": [],
   "source": [
    "from functools import partial"
   ]
  },
  {
   "cell_type": "code",
   "execution_count": 8,
   "metadata": {},
   "outputs": [],
   "source": [
    "brca_standard_benchmark = partial(\n",
    "    standard_benchmark,\n",
    "\n",
    "    # force the pipline to show full progress and use\n",
    "    # my custom multiprocessing (which is more reliable)\n",
    "    per_test_progress=True \n",
    ")"
   ]
  },
  {
   "cell_type": "markdown",
   "metadata": {},
   "source": [
    "### Benchmarking set-up shared across tests"
   ]
  },
  {
   "cell_type": "code",
   "execution_count": 9,
   "metadata": {},
   "outputs": [],
   "source": [
    "%%capture\n",
    "from Benchmarking_setup import (\n",
    "    connectivity_score_cramér_von_mises,\n",
    "    x_sum,\n",
    "    score_spearman\n",
    ")\n",
    "selected_single_sample_functions = [\n",
    "    connectivity_score_cramér_von_mises,\n",
    "    x_sum,\n",
    "    score_spearman\n",
    "]"
   ]
  },
  {
   "cell_type": "code",
   "execution_count": 10,
   "metadata": {},
   "outputs": [],
   "source": [
    "from Benchmarking_setup import (\n",
    "    gsea_score_phenotypes_cuda_hallmarks,\n",
    "    gsea_score_phenotypes_cuda_reactome,\n",
    "    roast_score_by_substance\n",
    ")\n",
    "selected_multi_sample_functions = [\n",
    "    gsea_score_phenotypes_cuda_hallmarks,\n",
    "    gsea_score_phenotypes_cuda_reactome,\n",
    "    roast_score_by_substance\n",
    "]"
   ]
  },
  {
   "cell_type": "code",
   "execution_count": 11,
   "metadata": {},
   "outputs": [],
   "source": [
    "selected_functions = [\n",
    "    *selected_single_sample_functions,\n",
    "    *selected_multi_sample_functions\n",
    "]"
   ]
  },
  {
   "cell_type": "code",
   "execution_count": 12,
   "metadata": {},
   "outputs": [],
   "source": [
    "from helpers import developer_mode"
   ]
  },
  {
   "cell_type": "markdown",
   "metadata": {},
   "source": [
    "# Benchmarking results"
   ]
  },
  {
   "cell_type": "markdown",
   "metadata": {},
   "source": [
    "## Previously reported cancer stratification"
   ]
  },
  {
   "cell_type": "markdown",
   "metadata": {},
   "source": [
    "Please refer to \"Published BRCA stratifications.ipynb\""
   ]
  },
  {
   "cell_type": "code",
   "execution_count": 13,
   "metadata": {},
   "outputs": [],
   "source": [
    "%%capture\n",
    "import Published_BRCA_stratifications"
   ]
  },
  {
   "cell_type": "code",
   "execution_count": 14,
   "metadata": {},
   "outputs": [],
   "source": [
    "from Published_BRCA_stratifications import (\n",
    "    # this gets us the participant-cluster relation for different clustering methods\n",
    "    all_stratifications,\n",
    "    # this is one of them; different as based only on expression,\n",
    "    # thus able to explor tumour heterogenity\n",
    "    pam50_brca\n",
    ")"
   ]
  },
  {
   "cell_type": "code",
   "execution_count": 15,
   "metadata": {},
   "outputs": [],
   "source": [
    "%store -r validation_perturbations"
   ]
  },
  {
   "cell_type": "code",
   "execution_count": 17,
   "metadata": {},
   "outputs": [
    {
     "data": {
      "text/html": [
       "<div>\n",
       "<style scoped>\n",
       "    .dataframe tbody tr th:only-of-type {\n",
       "        vertical-align: middle;\n",
       "    }\n",
       "\n",
       "    .dataframe tbody tr th {\n",
       "        vertical-align: top;\n",
       "    }\n",
       "\n",
       "    .dataframe thead th {\n",
       "        text-align: right;\n",
       "    }\n",
       "</style>\n",
       "<table border=\"1\" class=\"dataframe\">\n",
       "  <thead>\n",
       "    <tr style=\"text-align: right;\">\n",
       "      <th></th>\n",
       "      <th>CPC004_A375_6H:BRD-A25234499-001-09-2:10</th>\n",
       "      <th>CPC004_A375_6H:BRD-A73741725-001-01-0:10</th>\n",
       "      <th>CPC004_A375_6H:BRD-A55393291-001-05-7:10</th>\n",
       "      <th>CPC005_A375_24H:BRD-K88789588-001-03-2:10</th>\n",
       "      <th>CPC004_HA1E_6H:BRD-A25234499-001-09-2:10</th>\n",
       "      <th>...</th>\n",
       "      <th>PCLB003_HCC515_24H:BRD-K67174588-048-03-3:10</th>\n",
       "      <th>PCLB003_HEPG2_24H:BRD-K67174588-048-03-3:10</th>\n",
       "      <th>PCLB003_HT29_24H:BRD-K67174588-048-03-3:10</th>\n",
       "      <th>PCLB003_MCF7_24H:BRD-K67174588-048-03-3:10</th>\n",
       "      <th>PCLB003_PC3_24H:BRD-K67174588-048-03-3:10</th>\n",
       "    </tr>\n",
       "  </thead>\n",
       "  <tbody>\n",
       "    <tr>\n",
       "      <th>b'5720'</th>\n",
       "      <td>0.762115</td>\n",
       "      <td>0.073729</td>\n",
       "      <td>0.098680</td>\n",
       "      <td>0.343495</td>\n",
       "      <td>-0.784936</td>\n",
       "      <td>...</td>\n",
       "      <td>0.014511</td>\n",
       "      <td>0.187159</td>\n",
       "      <td>-0.186928</td>\n",
       "      <td>0.960469</td>\n",
       "      <td>-0.069480</td>\n",
       "    </tr>\n",
       "    <tr>\n",
       "      <th>b'466'</th>\n",
       "      <td>0.118776</td>\n",
       "      <td>-0.229475</td>\n",
       "      <td>0.363593</td>\n",
       "      <td>0.548189</td>\n",
       "      <td>1.567483</td>\n",
       "      <td>...</td>\n",
       "      <td>0.996179</td>\n",
       "      <td>-1.439621</td>\n",
       "      <td>1.530745</td>\n",
       "      <td>1.347902</td>\n",
       "      <td>-0.050531</td>\n",
       "    </tr>\n",
       "    <tr>\n",
       "      <th>b'6009'</th>\n",
       "      <td>0.193753</td>\n",
       "      <td>0.031712</td>\n",
       "      <td>0.097308</td>\n",
       "      <td>0.362953</td>\n",
       "      <td>1.859892</td>\n",
       "      <td>...</td>\n",
       "      <td>0.173900</td>\n",
       "      <td>-0.028343</td>\n",
       "      <td>0.307923</td>\n",
       "      <td>-0.397352</td>\n",
       "      <td>-0.567132</td>\n",
       "    </tr>\n",
       "    <tr>\n",
       "      <th>b'2309'</th>\n",
       "      <td>-0.333629</td>\n",
       "      <td>-0.157194</td>\n",
       "      <td>-0.042633</td>\n",
       "      <td>0.561753</td>\n",
       "      <td>-1.318365</td>\n",
       "      <td>...</td>\n",
       "      <td>0.340044</td>\n",
       "      <td>0.510723</td>\n",
       "      <td>0.469443</td>\n",
       "      <td>0.325793</td>\n",
       "      <td>0.107273</td>\n",
       "    </tr>\n",
       "    <tr>\n",
       "      <th>b'387'</th>\n",
       "      <td>-0.442743</td>\n",
       "      <td>-0.680534</td>\n",
       "      <td>-0.392947</td>\n",
       "      <td>0.046707</td>\n",
       "      <td>0.646655</td>\n",
       "      <td>...</td>\n",
       "      <td>0.092931</td>\n",
       "      <td>0.187357</td>\n",
       "      <td>-1.745912</td>\n",
       "      <td>-0.891801</td>\n",
       "      <td>0.273071</td>\n",
       "    </tr>\n",
       "    <tr>\n",
       "      <th>...</th>\n",
       "      <td>...</td>\n",
       "      <td>...</td>\n",
       "      <td>...</td>\n",
       "      <td>...</td>\n",
       "      <td>...</td>\n",
       "      <td>...</td>\n",
       "      <td>...</td>\n",
       "      <td>...</td>\n",
       "      <td>...</td>\n",
       "      <td>...</td>\n",
       "      <td>...</td>\n",
       "    </tr>\n",
       "    <tr>\n",
       "      <th>b'25960'</th>\n",
       "      <td>-0.235104</td>\n",
       "      <td>0.105069</td>\n",
       "      <td>-0.878641</td>\n",
       "      <td>-0.807497</td>\n",
       "      <td>-0.420527</td>\n",
       "      <td>...</td>\n",
       "      <td>-0.940007</td>\n",
       "      <td>-0.541327</td>\n",
       "      <td>-0.587832</td>\n",
       "      <td>0.537492</td>\n",
       "      <td>-0.162527</td>\n",
       "    </tr>\n",
       "    <tr>\n",
       "      <th>b'6376'</th>\n",
       "      <td>-0.404811</td>\n",
       "      <td>0.765964</td>\n",
       "      <td>0.473681</td>\n",
       "      <td>0.088523</td>\n",
       "      <td>-0.861003</td>\n",
       "      <td>...</td>\n",
       "      <td>-1.226313</td>\n",
       "      <td>0.475918</td>\n",
       "      <td>-0.181985</td>\n",
       "      <td>-0.949377</td>\n",
       "      <td>-1.659040</td>\n",
       "    </tr>\n",
       "    <tr>\n",
       "      <th>b'11033'</th>\n",
       "      <td>0.053027</td>\n",
       "      <td>0.266897</td>\n",
       "      <td>0.321963</td>\n",
       "      <td>-0.104970</td>\n",
       "      <td>0.522353</td>\n",
       "      <td>...</td>\n",
       "      <td>0.102483</td>\n",
       "      <td>0.775585</td>\n",
       "      <td>0.443893</td>\n",
       "      <td>-0.600784</td>\n",
       "      <td>-0.730780</td>\n",
       "    </tr>\n",
       "    <tr>\n",
       "      <th>b'54869'</th>\n",
       "      <td>-0.933307</td>\n",
       "      <td>-0.453832</td>\n",
       "      <td>-0.750093</td>\n",
       "      <td>-0.210786</td>\n",
       "      <td>-0.055980</td>\n",
       "      <td>...</td>\n",
       "      <td>-0.526668</td>\n",
       "      <td>-0.016443</td>\n",
       "      <td>-0.269761</td>\n",
       "      <td>-0.415777</td>\n",
       "      <td>-0.028903</td>\n",
       "    </tr>\n",
       "    <tr>\n",
       "      <th>b'60'</th>\n",
       "      <td>-0.022523</td>\n",
       "      <td>0.228569</td>\n",
       "      <td>-0.023513</td>\n",
       "      <td>-1.399466</td>\n",
       "      <td>0.700097</td>\n",
       "      <td>...</td>\n",
       "      <td>-0.545017</td>\n",
       "      <td>-0.137107</td>\n",
       "      <td>-0.848388</td>\n",
       "      <td>0.267720</td>\n",
       "      <td>-0.202637</td>\n",
       "    </tr>\n",
       "  </tbody>\n",
       "</table>\n",
       "<p>12328 rows × 210 columns</p>\n",
       "</div>"
      ],
      "text/plain": [
       "          CPC004_A375_6H:BRD-A25234499-001-09-2:10  \\\n",
       "b'5720'                                   0.762115   \n",
       "b'466'                                    0.118776   \n",
       "b'6009'                                   0.193753   \n",
       "b'2309'                                  -0.333629   \n",
       "b'387'                                   -0.442743   \n",
       "...                                            ...   \n",
       "b'25960'                                 -0.235104   \n",
       "b'6376'                                  -0.404811   \n",
       "b'11033'                                  0.053027   \n",
       "b'54869'                                 -0.933307   \n",
       "b'60'                                    -0.022523   \n",
       "\n",
       "          CPC004_A375_6H:BRD-A73741725-001-01-0:10  \\\n",
       "b'5720'                                   0.073729   \n",
       "b'466'                                   -0.229475   \n",
       "b'6009'                                   0.031712   \n",
       "b'2309'                                  -0.157194   \n",
       "b'387'                                   -0.680534   \n",
       "...                                            ...   \n",
       "b'25960'                                  0.105069   \n",
       "b'6376'                                   0.765964   \n",
       "b'11033'                                  0.266897   \n",
       "b'54869'                                 -0.453832   \n",
       "b'60'                                     0.228569   \n",
       "\n",
       "          CPC004_A375_6H:BRD-A55393291-001-05-7:10  \\\n",
       "b'5720'                                   0.098680   \n",
       "b'466'                                    0.363593   \n",
       "b'6009'                                   0.097308   \n",
       "b'2309'                                  -0.042633   \n",
       "b'387'                                   -0.392947   \n",
       "...                                            ...   \n",
       "b'25960'                                 -0.878641   \n",
       "b'6376'                                   0.473681   \n",
       "b'11033'                                  0.321963   \n",
       "b'54869'                                 -0.750093   \n",
       "b'60'                                    -0.023513   \n",
       "\n",
       "          CPC005_A375_24H:BRD-K88789588-001-03-2:10  \\\n",
       "b'5720'                                    0.343495   \n",
       "b'466'                                     0.548189   \n",
       "b'6009'                                    0.362953   \n",
       "b'2309'                                    0.561753   \n",
       "b'387'                                     0.046707   \n",
       "...                                             ...   \n",
       "b'25960'                                  -0.807497   \n",
       "b'6376'                                    0.088523   \n",
       "b'11033'                                  -0.104970   \n",
       "b'54869'                                  -0.210786   \n",
       "b'60'                                     -1.399466   \n",
       "\n",
       "          CPC004_HA1E_6H:BRD-A25234499-001-09-2:10  \\\n",
       "b'5720'                                  -0.784936   \n",
       "b'466'                                    1.567483   \n",
       "b'6009'                                   1.859892   \n",
       "b'2309'                                  -1.318365   \n",
       "b'387'                                    0.646655   \n",
       "...                                            ...   \n",
       "b'25960'                                 -0.420527   \n",
       "b'6376'                                  -0.861003   \n",
       "b'11033'                                  0.522353   \n",
       "b'54869'                                 -0.055980   \n",
       "b'60'                                     0.700097   \n",
       "\n",
       "                            ...                      \\\n",
       "b'5720'                     ...                       \n",
       "b'466'                      ...                       \n",
       "b'6009'                     ...                       \n",
       "b'2309'                     ...                       \n",
       "b'387'                      ...                       \n",
       "...                         ...                       \n",
       "b'25960'                    ...                       \n",
       "b'6376'                     ...                       \n",
       "b'11033'                    ...                       \n",
       "b'54869'                    ...                       \n",
       "b'60'                       ...                       \n",
       "\n",
       "          PCLB003_HCC515_24H:BRD-K67174588-048-03-3:10  \\\n",
       "b'5720'                                       0.014511   \n",
       "b'466'                                        0.996179   \n",
       "b'6009'                                       0.173900   \n",
       "b'2309'                                       0.340044   \n",
       "b'387'                                        0.092931   \n",
       "...                                                ...   \n",
       "b'25960'                                     -0.940007   \n",
       "b'6376'                                      -1.226313   \n",
       "b'11033'                                      0.102483   \n",
       "b'54869'                                     -0.526668   \n",
       "b'60'                                        -0.545017   \n",
       "\n",
       "          PCLB003_HEPG2_24H:BRD-K67174588-048-03-3:10  \\\n",
       "b'5720'                                      0.187159   \n",
       "b'466'                                      -1.439621   \n",
       "b'6009'                                     -0.028343   \n",
       "b'2309'                                      0.510723   \n",
       "b'387'                                       0.187357   \n",
       "...                                               ...   \n",
       "b'25960'                                    -0.541327   \n",
       "b'6376'                                      0.475918   \n",
       "b'11033'                                     0.775585   \n",
       "b'54869'                                    -0.016443   \n",
       "b'60'                                       -0.137107   \n",
       "\n",
       "          PCLB003_HT29_24H:BRD-K67174588-048-03-3:10  \\\n",
       "b'5720'                                    -0.186928   \n",
       "b'466'                                      1.530745   \n",
       "b'6009'                                     0.307923   \n",
       "b'2309'                                     0.469443   \n",
       "b'387'                                     -1.745912   \n",
       "...                                              ...   \n",
       "b'25960'                                   -0.587832   \n",
       "b'6376'                                    -0.181985   \n",
       "b'11033'                                    0.443893   \n",
       "b'54869'                                   -0.269761   \n",
       "b'60'                                      -0.848388   \n",
       "\n",
       "          PCLB003_MCF7_24H:BRD-K67174588-048-03-3:10  \\\n",
       "b'5720'                                     0.960469   \n",
       "b'466'                                      1.347902   \n",
       "b'6009'                                    -0.397352   \n",
       "b'2309'                                     0.325793   \n",
       "b'387'                                     -0.891801   \n",
       "...                                              ...   \n",
       "b'25960'                                    0.537492   \n",
       "b'6376'                                    -0.949377   \n",
       "b'11033'                                   -0.600784   \n",
       "b'54869'                                   -0.415777   \n",
       "b'60'                                       0.267720   \n",
       "\n",
       "          PCLB003_PC3_24H:BRD-K67174588-048-03-3:10  \n",
       "b'5720'                                   -0.069480  \n",
       "b'466'                                    -0.050531  \n",
       "b'6009'                                   -0.567132  \n",
       "b'2309'                                    0.107273  \n",
       "b'387'                                     0.273071  \n",
       "...                                             ...  \n",
       "b'25960'                                  -0.162527  \n",
       "b'6376'                                   -1.659040  \n",
       "b'11033'                                  -0.730780  \n",
       "b'54869'                                  -0.028903  \n",
       "b'60'                                     -0.202637  \n",
       "\n",
       "[12328 rows x 210 columns]"
      ]
     },
     "execution_count": 17,
     "metadata": {},
     "output_type": "execute_result"
    }
   ],
   "source": [
    "validation_perturbations"
   ]
  },
  {
   "cell_type": "code",
   "execution_count": 25,
   "metadata": {},
   "outputs": [],
   "source": [
    "from signature_scoring.evaluation.subtypes import subtypes_benchmark"
   ]
  },
  {
   "cell_type": "code",
   "execution_count": 26,
   "metadata": {},
   "outputs": [],
   "source": [
    "brca_subtypes_benchmark_only_signatures = partial(\n",
    "    subtypes_benchmark,\n",
    "    benchmark_function=brca_standard_benchmark,\n",
    "    indications_signatures=data_brca.indications_singatures,\n",
    "    contraindications_signatures=data_brca.contraindications_singatures,\n",
    "    unassigned_signatures=validation_perturbations\n",
    ")"
   ]
  },
  {
   "cell_type": "code",
   "execution_count": 27,
   "metadata": {},
   "outputs": [],
   "source": [
    "brca_subtypes_benchmark = partial(\n",
    "    brca_subtypes_benchmark_only_signatures,\n",
    "    data_brca.brca_expression\n",
    ")"
   ]
  },
  {
   "cell_type": "markdown",
   "metadata": {},
   "source": [
    "## Benchmark"
   ]
  },
  {
   "cell_type": "code",
   "execution_count": 28,
   "metadata": {},
   "outputs": [],
   "source": [
    "from data_sources.tcga import stratification\n",
    "from signature_scoring.evaluation import permutations"
   ]
  },
  {
   "cell_type": "code",
   "execution_count": 29,
   "metadata": {},
   "outputs": [],
   "source": [
    "from data_sources.tcga.stratification import get_subtype_by_sample, group_by_subtype"
   ]
  },
  {
   "cell_type": "code",
   "execution_count": 30,
   "metadata": {},
   "outputs": [
    {
     "name": "stdout",
     "output_type": "stream",
     "text": [
      "1212 matched exactly on sample ID\n",
      "0 not matched\n"
     ]
    },
    {
     "data": {
      "text/html": [
       "<div>\n",
       "<style scoped>\n",
       "    .dataframe tbody tr th:only-of-type {\n",
       "        vertical-align: middle;\n",
       "    }\n",
       "\n",
       "    .dataframe tbody tr th {\n",
       "        vertical-align: top;\n",
       "    }\n",
       "\n",
       "    .dataframe thead th {\n",
       "        text-align: right;\n",
       "    }\n",
       "</style>\n",
       "<table border=\"1\" class=\"dataframe\">\n",
       "  <thead>\n",
       "    <tr style=\"text-align: right;\">\n",
       "      <th></th>\n",
       "      <th>sample</th>\n",
       "      <th>subtype_selected</th>\n",
       "    </tr>\n",
       "  </thead>\n",
       "  <tbody>\n",
       "    <tr>\n",
       "      <th>0</th>\n",
       "      <td>TCGA-3C-AAAU-01A-11R-A41B-07</td>\n",
       "      <td>BRCA.LumA</td>\n",
       "    </tr>\n",
       "    <tr>\n",
       "      <th>1</th>\n",
       "      <td>TCGA-3C-AALI-01A-11R-A41B-07</td>\n",
       "      <td>BRCA.Her2</td>\n",
       "    </tr>\n",
       "    <tr>\n",
       "      <th>2</th>\n",
       "      <td>TCGA-3C-AALJ-01A-31R-A41B-07</td>\n",
       "      <td>BRCA.LumB</td>\n",
       "    </tr>\n",
       "    <tr>\n",
       "      <th>3</th>\n",
       "      <td>TCGA-3C-AALK-01A-11R-A41B-07</td>\n",
       "      <td>BRCA.LumA</td>\n",
       "    </tr>\n",
       "    <tr>\n",
       "      <th>4</th>\n",
       "      <td>TCGA-4H-AAAK-01A-12R-A41B-07</td>\n",
       "      <td>BRCA.LumA</td>\n",
       "    </tr>\n",
       "  </tbody>\n",
       "</table>\n",
       "</div>"
      ],
      "text/plain": [
       "                         sample subtype_selected\n",
       "0  TCGA-3C-AAAU-01A-11R-A41B-07        BRCA.LumA\n",
       "1  TCGA-3C-AALI-01A-11R-A41B-07        BRCA.Her2\n",
       "2  TCGA-3C-AALJ-01A-31R-A41B-07        BRCA.LumB\n",
       "3  TCGA-3C-AALK-01A-11R-A41B-07        BRCA.LumA\n",
       "4  TCGA-4H-AAAK-01A-12R-A41B-07        BRCA.LumA"
      ]
     },
     "execution_count": 30,
     "metadata": {},
     "output_type": "execute_result"
    }
   ],
   "source": [
    "pam50_subtype_sample_df = get_subtype_by_sample(data_brca.brca_expression, pam50_brca, subtype_column='subtype_selected')\n",
    "pam50_subtype_sample_df.head()"
   ]
  },
  {
   "cell_type": "code",
   "execution_count": 31,
   "metadata": {},
   "outputs": [],
   "source": [
    "pam50_samples_by_type = group_by_subtype(pam50_subtype_sample_df, subtype_column='subtype_selected')"
   ]
  },
  {
   "cell_type": "markdown",
   "metadata": {},
   "source": [
    "### Permutations generation"
   ]
  },
  {
   "cell_type": "code",
   "execution_count": 32,
   "metadata": {},
   "outputs": [],
   "source": [
    "from signature_scoring.evaluation.subtypes import random_subtypes_benchmark"
   ]
  },
  {
   "cell_type": "code",
   "execution_count": 33,
   "metadata": {},
   "outputs": [],
   "source": [
    "from signature_scoring.evaluation import permutations"
   ]
  },
  {
   "cell_type": "code",
   "execution_count": 40,
   "metadata": {},
   "outputs": [],
   "source": [
    "generate_permutations = partial(\n",
    "    permutations.generate,\n",
    "    random_subtypes_benchmark,\n",
    "    data_brca.brca_expression,\n",
    "    pam50_samples_by_type,\n",
    "    benchmark_partial=partial(\n",
    "        brca_standard_benchmark,\n",
    "        indications_signatures=data_brca.indications_singatures,\n",
    "        contraindications_signatures=data_brca.contraindications_singatures,\n",
    "        unassigned_signatures=validation_perturbations\n",
    "    ),\n",
    ")"
   ]
  },
  {
   "cell_type": "code",
   "execution_count": null,
   "metadata": {},
   "outputs": [],
   "source": [
    "generate_permutations(\n",
    "    funcs=selected_single_sample_functions,\n",
    "    n=100, pickle_name='ss',\n",
    "    multi_sample=False\n",
    ")"
   ]
  },
  {
   "cell_type": "code",
   "execution_count": null,
   "metadata": {},
   "outputs": [],
   "source": [
    "generate_permutations(\n",
    "    funcs=selected_multi_sample_functions,\n",
    "    n=6, pickle_name='ms_5',\n",
    "    single_sample=False,\n",
    "    processes=6\n",
    ")"
   ]
  },
  {
   "cell_type": "code",
   "execution_count": 1,
   "metadata": {},
   "outputs": [
    {
     "data": {
      "text/plain": [
       "30"
      ]
     },
     "execution_count": 1,
     "metadata": {},
     "output_type": "execute_result"
    }
   ],
   "source": [
    "100-(50+14)-6"
   ]
  },
  {
   "cell_type": "code",
   "execution_count": 16,
   "metadata": {},
   "outputs": [],
   "source": [
    "%store -r samples_by_statification_and_subtype"
   ]
  },
  {
   "cell_type": "code",
   "execution_count": null,
   "metadata": {},
   "outputs": [],
   "source": []
  }
 ],
 "metadata": {
  "kernelspec": {
   "display_name": "Python 3",
   "language": "python",
   "name": "python3"
  },
  "language_info": {
   "codemirror_mode": {
    "name": "ipython",
    "version": 3
   },
   "file_extension": ".py",
   "mimetype": "text/x-python",
   "name": "python",
   "nbconvert_exporter": "python",
   "pygments_lexer": "ipython3",
   "version": "3.7.0"
  }
 },
 "nbformat": 4,
 "nbformat_minor": 2
}
