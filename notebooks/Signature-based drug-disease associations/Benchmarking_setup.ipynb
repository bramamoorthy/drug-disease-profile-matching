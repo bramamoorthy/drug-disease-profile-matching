{
 "cells": [
  {
   "cell_type": "code",
   "execution_count": 1,
   "metadata": {},
   "outputs": [
    {
     "data": {
      "text/html": [
       "<style>.highlight .hll { background-color: #ffffcc }\n",
       ".highlight  { background: #f8f8f8; }\n",
       ".highlight .c { color: #408080; font-style: italic } /* Comment */\n",
       ".highlight .err { border: 1px solid #FF0000 } /* Error */\n",
       ".highlight .k { color: #008000; font-weight: bold } /* Keyword */\n",
       ".highlight .o { color: #666666 } /* Operator */\n",
       ".highlight .ch { color: #408080; font-style: italic } /* Comment.Hashbang */\n",
       ".highlight .cm { color: #408080; font-style: italic } /* Comment.Multiline */\n",
       ".highlight .cp { color: #BC7A00 } /* Comment.Preproc */\n",
       ".highlight .cpf { color: #408080; font-style: italic } /* Comment.PreprocFile */\n",
       ".highlight .c1 { color: #408080; font-style: italic } /* Comment.Single */\n",
       ".highlight .cs { color: #408080; font-style: italic } /* Comment.Special */\n",
       ".highlight .gd { color: #A00000 } /* Generic.Deleted */\n",
       ".highlight .ge { font-style: italic } /* Generic.Emph */\n",
       ".highlight .gr { color: #FF0000 } /* Generic.Error */\n",
       ".highlight .gh { color: #000080; font-weight: bold } /* Generic.Heading */\n",
       ".highlight .gi { color: #00A000 } /* Generic.Inserted */\n",
       ".highlight .go { color: #888888 } /* Generic.Output */\n",
       ".highlight .gp { color: #000080; font-weight: bold } /* Generic.Prompt */\n",
       ".highlight .gs { font-weight: bold } /* Generic.Strong */\n",
       ".highlight .gu { color: #800080; font-weight: bold } /* Generic.Subheading */\n",
       ".highlight .gt { color: #0044DD } /* Generic.Traceback */\n",
       ".highlight .kc { color: #008000; font-weight: bold } /* Keyword.Constant */\n",
       ".highlight .kd { color: #008000; font-weight: bold } /* Keyword.Declaration */\n",
       ".highlight .kn { color: #008000; font-weight: bold } /* Keyword.Namespace */\n",
       ".highlight .kp { color: #008000 } /* Keyword.Pseudo */\n",
       ".highlight .kr { color: #008000; font-weight: bold } /* Keyword.Reserved */\n",
       ".highlight .kt { color: #B00040 } /* Keyword.Type */\n",
       ".highlight .m { color: #666666 } /* Literal.Number */\n",
       ".highlight .s { color: #BA2121 } /* Literal.String */\n",
       ".highlight .na { color: #7D9029 } /* Name.Attribute */\n",
       ".highlight .nb { color: #008000 } /* Name.Builtin */\n",
       ".highlight .nc { color: #0000FF; font-weight: bold } /* Name.Class */\n",
       ".highlight .no { color: #880000 } /* Name.Constant */\n",
       ".highlight .nd { color: #AA22FF } /* Name.Decorator */\n",
       ".highlight .ni { color: #999999; font-weight: bold } /* Name.Entity */\n",
       ".highlight .ne { color: #D2413A; font-weight: bold } /* Name.Exception */\n",
       ".highlight .nf { color: #0000FF } /* Name.Function */\n",
       ".highlight .nl { color: #A0A000 } /* Name.Label */\n",
       ".highlight .nn { color: #0000FF; font-weight: bold } /* Name.Namespace */\n",
       ".highlight .nt { color: #008000; font-weight: bold } /* Name.Tag */\n",
       ".highlight .nv { color: #19177C } /* Name.Variable */\n",
       ".highlight .ow { color: #AA22FF; font-weight: bold } /* Operator.Word */\n",
       ".highlight .w { color: #bbbbbb } /* Text.Whitespace */\n",
       ".highlight .mb { color: #666666 } /* Literal.Number.Bin */\n",
       ".highlight .mf { color: #666666 } /* Literal.Number.Float */\n",
       ".highlight .mh { color: #666666 } /* Literal.Number.Hex */\n",
       ".highlight .mi { color: #666666 } /* Literal.Number.Integer */\n",
       ".highlight .mo { color: #666666 } /* Literal.Number.Oct */\n",
       ".highlight .sa { color: #BA2121 } /* Literal.String.Affix */\n",
       ".highlight .sb { color: #BA2121 } /* Literal.String.Backtick */\n",
       ".highlight .sc { color: #BA2121 } /* Literal.String.Char */\n",
       ".highlight .dl { color: #BA2121 } /* Literal.String.Delimiter */\n",
       ".highlight .sd { color: #BA2121; font-style: italic } /* Literal.String.Doc */\n",
       ".highlight .s2 { color: #BA2121 } /* Literal.String.Double */\n",
       ".highlight .se { color: #BB6622; font-weight: bold } /* Literal.String.Escape */\n",
       ".highlight .sh { color: #BA2121 } /* Literal.String.Heredoc */\n",
       ".highlight .si { color: #BB6688; font-weight: bold } /* Literal.String.Interpol */\n",
       ".highlight .sx { color: #008000 } /* Literal.String.Other */\n",
       ".highlight .sr { color: #BB6688 } /* Literal.String.Regex */\n",
       ".highlight .s1 { color: #BA2121 } /* Literal.String.Single */\n",
       ".highlight .ss { color: #19177C } /* Literal.String.Symbol */\n",
       ".highlight .bp { color: #008000 } /* Name.Builtin.Pseudo */\n",
       ".highlight .fm { color: #0000FF } /* Name.Function.Magic */\n",
       ".highlight .vc { color: #19177C } /* Name.Variable.Class */\n",
       ".highlight .vg { color: #19177C } /* Name.Variable.Global */\n",
       ".highlight .vi { color: #19177C } /* Name.Variable.Instance */\n",
       ".highlight .vm { color: #19177C } /* Name.Variable.Magic */\n",
       ".highlight .il { color: #666666 } /* Literal.Number.Integer.Long */.highlight{margin-left:10px!important; font-size:11px}</style>"
      ],
      "text/plain": [
       "<IPython.core.display.HTML object>"
      ]
     },
     "metadata": {},
     "output_type": "display_data"
    }
   ],
   "source": [
    "%matplotlib inline\n",
    "%load_ext autoreload\n",
    "%autoreload 2\n",
    "from utilities_namespace import *\n",
    "from helpers.notebooks import skip_on_import"
   ]
  },
  {
   "cell_type": "code",
   "execution_count": 2,
   "metadata": {},
   "outputs": [],
   "source": [
    "from functools import partial"
   ]
  },
  {
   "cell_type": "markdown",
   "metadata": {},
   "source": [
    "## Scoring functions"
   ]
  },
  {
   "cell_type": "code",
   "execution_count": 3,
   "metadata": {},
   "outputs": [],
   "source": [
    "from signature_scoring.scoring_functions.gsea import create_gsea_scorer\n",
    "from signature_scoring.scoring_functions.limma import create_roast_scorer\n",
    "from signature_scoring.scoring_functions.gsva import create_gsva_scorer\n",
    "from signature_scoring.scoring_functions.generic_scorers import (\n",
    "    score_spearman, score_spearman_max,\n",
    "    x_sum, x_sum_max,\n",
    "    x_product, x_product_max,\n",
    "    x_cos\n",
    ")"
   ]
  },
  {
   "cell_type": "code",
   "execution_count": 4,
   "metadata": {},
   "outputs": [],
   "source": [
    "from signature_scoring.scoring_functions import scoring_function"
   ]
  },
  {
   "cell_type": "code",
   "execution_count": 5,
   "metadata": {},
   "outputs": [],
   "source": [
    "from random import normalvariate\n",
    "\n",
    "# single sample version\n",
    "@scoring_function\n",
    "def ss_random_normal_score(a, b):\n",
    "    # NB: gauss might be faster, but normalvariate is thread-safe\n",
    "    # 1.3 µs\n",
    "    # %timeit normalvariate(0, 1)\n",
    "    # from numpy.random import normal\n",
    "    # 3.57 µs\n",
    "    # %timeit normal()\n",
    "    # from random import gauss\n",
    "    # %timeit gauss(0, 1)\n",
    "    # 888 ns\n",
    "    return normalvariate(0, 1)"
   ]
  },
  {
   "cell_type": "code",
   "execution_count": 6,
   "metadata": {},
   "outputs": [],
   "source": [
    "from signature_scoring.models.with_controls import ExpressionWithControls\n",
    "\n",
    "# multi sample version\n",
    "def ms_random_normal_score(a, b):\n",
    "    return normalvariate(0, 1)\n",
    "\n",
    "ms_random_normal_score = scoring_function(\n",
    "    ms_random_normal_score, input=ExpressionWithControls,\n",
    "    grouping='by_substance'\n",
    ")"
   ]
  },
  {
   "cell_type": "markdown",
   "metadata": {},
   "source": [
    "### GSEA"
   ]
  },
  {
   "cell_type": "markdown",
   "metadata": {},
   "source": [
    "Only for comparisons:"
   ]
  },
  {
   "cell_type": "code",
   "execution_count": 7,
   "metadata": {},
   "outputs": [],
   "source": [
    "gsea_score = create_gsea_scorer(permutations=1000, gene_sets='c2.cp.kegg', q_value_cutoff=0.05)\n",
    "gsea_score_reactome = create_gsea_scorer(permutations=1000, gene_sets='c2.cp.reactome', q_value_cutoff=0.05)\n",
    "gsea_score_hallmarks = create_gsea_scorer(permutations=1000, gene_sets='h.all', q_value_cutoff=0.05)"
   ]
  },
  {
   "cell_type": "code",
   "execution_count": 8,
   "metadata": {},
   "outputs": [],
   "source": [
    "from methods.gsea import cudaGSEA"
   ]
  },
  {
   "cell_type": "code",
   "execution_count": 9,
   "metadata": {},
   "outputs": [],
   "source": [
    "cutoff = 0.5"
   ]
  },
  {
   "cell_type": "markdown",
   "metadata": {},
   "source": [
    "#### Please note that this benchmarking function trims gene-sets to genes tested TCGA "
   ]
  },
  {
   "cell_type": "code",
   "execution_count": 10,
   "metadata": {},
   "outputs": [],
   "source": [
    "from data_sources.tcga import TCGA\n",
    "tcga = TCGA()"
   ]
  },
  {
   "cell_type": "code",
   "execution_count": 11,
   "metadata": {},
   "outputs": [],
   "source": [
    "brca_genes = set(tcga.expression.genes('BRCA'))"
   ]
  },
  {
   "cell_type": "code",
   "execution_count": 12,
   "metadata": {},
   "outputs": [
    {
     "name": "stdout",
     "output_type": "stream",
     "text": [
      "All cohorts have same genes\n"
     ]
    }
   ],
   "source": [
    "%%skip_on_import\n",
    "for cohort in tcga.expression.cohorts():\n",
    "    cohort_genes = tcga.expression.genes(cohort)\n",
    "    if brca_genes != set(cohort_genes):\n",
    "        raise Exception(cohort, 'had different genes tested than BRCA')\n",
    "else:\n",
    "    print('All cohorts have same genes')"
   ]
  },
  {
   "cell_type": "code",
   "execution_count": 13,
   "metadata": {},
   "outputs": [],
   "source": [
    "tcga_genes = brca_genes"
   ]
  },
  {
   "cell_type": "code",
   "execution_count": 14,
   "metadata": {},
   "outputs": [],
   "source": [
    "cuda = partial(\n",
    "    create_gsea_scorer,\n",
    "    gsea_app=cudaGSEA(),\n",
    "    permutations=1000, q_value_cutoff=0.5,\n",
    "    permutation_type='phenotype', grouping='by_substance',\n",
    "    metric='twopass_signal2noise',\n",
    "    verbose=False,\n",
    "    genes=tcga_genes\n",
    ")"
   ]
  },
  {
   "cell_type": "code",
   "execution_count": 15,
   "metadata": {},
   "outputs": [],
   "source": [
    "gsea_score_phenotypes_cuda_kegg = cuda(gene_sets='c2.cp.kegg')\n",
    "gsea_score_phenotypes_cuda_reactome = cuda(gene_sets='c2.cp.reactome')\n",
    "gsea_score_phenotypes_cuda_hallmarks = cuda(gene_sets='h.all')"
   ]
  },
  {
   "cell_type": "markdown",
   "metadata": {},
   "source": [
    "### Limma"
   ]
  },
  {
   "cell_type": "code",
   "execution_count": 16,
   "metadata": {},
   "outputs": [],
   "source": [
    "roast_score_by_substance = create_roast_scorer(gene_sets='c2.cp.kegg', q_value_cutoff=cutoff)"
   ]
  },
  {
   "cell_type": "markdown",
   "metadata": {},
   "source": [
    "### GSVA"
   ]
  },
  {
   "cell_type": "code",
   "execution_count": 17,
   "metadata": {},
   "outputs": [],
   "source": [
    "gsva_score_by_substance = create_gsva_scorer(gene_sets='c2.cp.kegg', q_value_cutoff=cutoff)\n",
    "zscore_by_substance = create_gsva_scorer(gene_sets='c2.cp.kegg', q_value_cutoff=cutoff, method='zscore')\n",
    "plage_score_by_substance = create_gsva_scorer(gene_sets='c2.cp.kegg', q_value_cutoff=cutoff, method='plage')\n",
    "ssgsea_score_by_substance = create_gsva_scorer(gene_sets='c2.cp.kegg', q_value_cutoff=cutoff, method='ssgsea')"
   ]
  },
  {
   "cell_type": "code",
   "execution_count": 18,
   "metadata": {},
   "outputs": [],
   "source": [
    "single_sample_gsva = partial(\n",
    "    create_gsva_scorer, gene_sets='c2.cp.kegg', q_value_cutoff=cutoff,\n",
    "    single_sample=True, grouping=None, permutations=100\n",
    ")\n",
    "\n",
    "gsva_score = single_sample_gsva(method='gsva')\n",
    "ssgsea_score = single_sample_gsva(method='ssgsea')\n",
    "plage_score = single_sample_gsva(method='plage')\n",
    "zscore = single_sample_gsva(method='zscore')"
   ]
  },
  {
   "cell_type": "markdown",
   "metadata": {},
   "source": [
    "### Connectivity score derived"
   ]
  },
  {
   "cell_type": "code",
   "execution_count": 19,
   "metadata": {},
   "outputs": [],
   "source": [
    "import signature_scoring.scoring_functions.connectivity_score as connectivity"
   ]
  },
  {
   "cell_type": "code",
   "execution_count": 20,
   "metadata": {},
   "outputs": [
    {
     "name": "stdout",
     "output_type": "stream",
     "text": [
      "negative=True: substances which might treat disease of given profile will get high scores\n"
     ]
    }
   ],
   "source": [
    "connectivity_score_disease = connectivity.create_scorer(\n",
    "    negative=True,\n",
    "    ranks_type='disease'\n",
    ")"
   ]
  },
  {
   "cell_type": "code",
   "execution_count": 21,
   "metadata": {},
   "outputs": [
    {
     "name": "stdout",
     "output_type": "stream",
     "text": [
      "negative=True: substances which might treat disease of given profile will get high scores\n"
     ]
    }
   ],
   "source": [
    "# - Reverse Gene Expression Score\n",
    "connectivity_score_RGES = connectivity.create_scorer(\n",
    "    negative=True,\n",
    "    ranks_type='signature',\n",
    "    statistic=connectivity.kolmogorov_smirnov,\n",
    "    compose_tags=connectivity.difference\n",
    ")"
   ]
  },
  {
   "cell_type": "code",
   "execution_count": 22,
   "metadata": {},
   "outputs": [
    {
     "data": {
      "text/html": [
       "<div class=\"highlight\"><pre><span></span><span class=\"k\">def</span> <span class=\"nf\">connectivity_score_signature_kolmogorov_smirnov_difference</span><span class=\"p\">(</span><span class=\"n\">disease_profile</span><span class=\"p\">:</span> <span class=\"n\">Profile</span><span class=\"p\">,</span> <span class=\"n\">compound_profile</span><span class=\"p\">:</span> <span class=\"n\">Profile</span><span class=\"p\">):</span>\n",
       "\n",
       "    <span class=\"n\">factor</span> <span class=\"o\">=</span> <span class=\"o\">-</span><span class=\"mi\">1</span>\n",
       "    <span class=\"n\">ranks</span> <span class=\"o\">=</span> <span class=\"n\">compound_profile</span><span class=\"o\">.</span><span class=\"n\">full</span><span class=\"o\">.</span><span class=\"n\">ranks</span>\n",
       "    <span class=\"n\">tags</span> <span class=\"o\">=</span> <span class=\"p\">{</span>\n",
       "        <span class=\"s1\">&#39;up&#39;</span><span class=\"p\">:</span> <span class=\"n\">disease_profile</span><span class=\"o\">.</span><span class=\"n\">top</span><span class=\"o\">.</span><span class=\"n\">up</span><span class=\"p\">,</span>\n",
       "        <span class=\"s1\">&#39;down&#39;</span><span class=\"p\">:</span> <span class=\"n\">disease_profile</span><span class=\"o\">.</span><span class=\"n\">top</span><span class=\"o\">.</span><span class=\"n\">down</span>\n",
       "    <span class=\"p\">}</span>\n",
       "\n",
       "    <span class=\"k\">pass</span>\n",
       "\n",
       "    <span class=\"c1\"># compute_statistic = kolmogorov_smirnov</span>\n",
       "    <span class=\"n\">ranks</span> <span class=\"o\">=</span> <span class=\"n\">ranks</span><span class=\"o\">.</span><span class=\"n\">sort_values</span><span class=\"p\">(</span><span class=\"n\">ascending</span><span class=\"o\">=</span><span class=\"bp\">False</span><span class=\"p\">)</span>\n",
       "\n",
       "    <span class=\"n\">ks</span> <span class=\"o\">=</span> <span class=\"p\">{}</span>\n",
       "\n",
       "    <span class=\"k\">for</span> <span class=\"n\">tag_name</span><span class=\"p\">,</span> <span class=\"n\">genes_in_tag</span> <span class=\"ow\">in</span> <span class=\"n\">tags</span><span class=\"o\">.</span><span class=\"n\">items</span><span class=\"p\">():</span>\n",
       "        <span class=\"n\">ks</span><span class=\"p\">[</span><span class=\"n\">tag_name</span><span class=\"p\">]</span> <span class=\"o\">=</span> <span class=\"n\">compute_statistic</span><span class=\"p\">(</span>\n",
       "            <span class=\"n\">ranks</span><span class=\"p\">,</span>\n",
       "            <span class=\"n\">genes_in_tag</span>\n",
       "        <span class=\"p\">)</span>\n",
       "\n",
       "    <span class=\"n\">ks_dn</span><span class=\"p\">,</span> <span class=\"n\">ks_up</span> <span class=\"o\">=</span> <span class=\"n\">ks</span><span class=\"p\">[</span><span class=\"s1\">&#39;down&#39;</span><span class=\"p\">],</span> <span class=\"n\">ks</span><span class=\"p\">[</span><span class=\"s1\">&#39;up&#39;</span><span class=\"p\">]</span>\n",
       "\n",
       "    <span class=\"k\">return</span> <span class=\"p\">(</span><span class=\"n\">ks_up</span> <span class=\"o\">-</span> <span class=\"n\">ks_dn</span><span class=\"p\">)</span> <span class=\"o\">*</span> <span class=\"n\">factor</span>\n",
       "</pre></div>\n"
      ],
      "text/plain": [
       "<IPython.core.display.HTML object>"
      ]
     },
     "metadata": {},
     "output_type": "display_data"
    }
   ],
   "source": [
    "show_source(connectivity_score_RGES)"
   ]
  },
  {
   "cell_type": "code",
   "execution_count": 23,
   "metadata": {},
   "outputs": [
    {
     "name": "stdout",
     "output_type": "stream",
     "text": [
      "negative=True: substances which might treat disease of given profile will get high scores\n"
     ]
    },
    {
     "data": {
      "text/html": [
       "<div class=\"highlight\"><pre><span></span><span class=\"k\">def</span> <span class=\"nf\">connectivity_score_signature_kolmogorov_smirnov_conditional_difference</span><span class=\"p\">(</span><span class=\"n\">disease_profile</span><span class=\"p\">:</span> <span class=\"n\">Profile</span><span class=\"p\">,</span> <span class=\"n\">compound_profile</span><span class=\"p\">:</span> <span class=\"n\">Profile</span><span class=\"p\">):</span>\n",
       "\n",
       "    <span class=\"n\">factor</span> <span class=\"o\">=</span> <span class=\"o\">-</span><span class=\"mi\">1</span>\n",
       "    <span class=\"n\">ranks</span> <span class=\"o\">=</span> <span class=\"n\">compound_profile</span><span class=\"o\">.</span><span class=\"n\">full</span><span class=\"o\">.</span><span class=\"n\">ranks</span>\n",
       "    <span class=\"n\">tags</span> <span class=\"o\">=</span> <span class=\"p\">{</span>\n",
       "        <span class=\"s1\">&#39;up&#39;</span><span class=\"p\">:</span> <span class=\"n\">disease_profile</span><span class=\"o\">.</span><span class=\"n\">top</span><span class=\"o\">.</span><span class=\"n\">up</span><span class=\"p\">,</span>\n",
       "        <span class=\"s1\">&#39;down&#39;</span><span class=\"p\">:</span> <span class=\"n\">disease_profile</span><span class=\"o\">.</span><span class=\"n\">top</span><span class=\"o\">.</span><span class=\"n\">down</span>\n",
       "    <span class=\"p\">}</span>\n",
       "\n",
       "    <span class=\"k\">pass</span>\n",
       "\n",
       "    <span class=\"c1\"># compute_statistic = kolmogorov_smirnov</span>\n",
       "    <span class=\"n\">ranks</span> <span class=\"o\">=</span> <span class=\"n\">ranks</span><span class=\"o\">.</span><span class=\"n\">sort_values</span><span class=\"p\">(</span><span class=\"n\">ascending</span><span class=\"o\">=</span><span class=\"bp\">False</span><span class=\"p\">)</span>\n",
       "\n",
       "    <span class=\"n\">ks</span> <span class=\"o\">=</span> <span class=\"p\">{}</span>\n",
       "\n",
       "    <span class=\"k\">for</span> <span class=\"n\">tag_name</span><span class=\"p\">,</span> <span class=\"n\">genes_in_tag</span> <span class=\"ow\">in</span> <span class=\"n\">tags</span><span class=\"o\">.</span><span class=\"n\">items</span><span class=\"p\">():</span>\n",
       "        <span class=\"n\">ks</span><span class=\"p\">[</span><span class=\"n\">tag_name</span><span class=\"p\">]</span> <span class=\"o\">=</span> <span class=\"n\">compute_statistic</span><span class=\"p\">(</span>\n",
       "            <span class=\"n\">ranks</span><span class=\"p\">,</span>\n",
       "            <span class=\"n\">genes_in_tag</span>\n",
       "        <span class=\"p\">)</span>\n",
       "\n",
       "    <span class=\"n\">ks_dn</span><span class=\"p\">,</span> <span class=\"n\">ks_up</span> <span class=\"o\">=</span> <span class=\"n\">ks</span><span class=\"p\">[</span><span class=\"s1\">&#39;down&#39;</span><span class=\"p\">],</span> <span class=\"n\">ks</span><span class=\"p\">[</span><span class=\"s1\">&#39;up&#39;</span><span class=\"p\">]</span>\n",
       "\n",
       "    <span class=\"k\">if</span> <span class=\"n\">sign</span><span class=\"p\">(</span><span class=\"n\">ks_up</span><span class=\"p\">)</span> <span class=\"o\">==</span> <span class=\"n\">sign</span><span class=\"p\">(</span><span class=\"n\">ks_dn</span><span class=\"p\">):</span>\n",
       "        <span class=\"k\">return</span> <span class=\"mi\">0</span>\n",
       "    <span class=\"k\">else</span><span class=\"p\">:</span>\n",
       "        <span class=\"k\">return</span> <span class=\"p\">(</span><span class=\"n\">ks_up</span> <span class=\"o\">-</span> <span class=\"n\">ks_dn</span><span class=\"p\">)</span> <span class=\"o\">*</span> <span class=\"n\">factor</span>\n",
       "</pre></div>\n"
      ],
      "text/plain": [
       "<IPython.core.display.HTML object>"
      ]
     },
     "metadata": {},
     "output_type": "display_data"
    }
   ],
   "source": [
    "# as tested in (Cheng, 2014) study\n",
    "connectivity_score = connectivity.create_scorer(\n",
    "    negative=True,\n",
    "    ranks_type='signature',   \n",
    "    statistic=connectivity.kolmogorov_smirnov,\n",
    "    compose_tags=connectivity.conditional_difference\n",
    ")\n",
    "show_source(connectivity_score)"
   ]
  },
  {
   "cell_type": "code",
   "execution_count": 24,
   "metadata": {},
   "outputs": [
    {
     "name": "stdout",
     "output_type": "stream",
     "text": [
      "negative=False: substances with similar effect on expression will get high scores\n"
     ]
    },
    {
     "data": {
      "text/html": [
       "<div class=\"highlight\"><pre><span></span><span class=\"k\">def</span> <span class=\"nf\">connectivity_score_signature_cramér_von_mises_difference</span><span class=\"p\">(</span><span class=\"n\">disease_profile</span><span class=\"p\">:</span> <span class=\"n\">Profile</span><span class=\"p\">,</span> <span class=\"n\">compound_profile</span><span class=\"p\">:</span> <span class=\"n\">Profile</span><span class=\"p\">):</span>\n",
       "\n",
       "    <span class=\"n\">factor</span> <span class=\"o\">=</span> <span class=\"mi\">1</span>\n",
       "    <span class=\"n\">ranks</span> <span class=\"o\">=</span> <span class=\"n\">compound_profile</span><span class=\"o\">.</span><span class=\"n\">full</span><span class=\"o\">.</span><span class=\"n\">ranks</span>\n",
       "    <span class=\"n\">tags</span> <span class=\"o\">=</span> <span class=\"p\">{</span>\n",
       "        <span class=\"s1\">&#39;up&#39;</span><span class=\"p\">:</span> <span class=\"n\">disease_profile</span><span class=\"o\">.</span><span class=\"n\">top</span><span class=\"o\">.</span><span class=\"n\">up</span><span class=\"p\">,</span>\n",
       "        <span class=\"s1\">&#39;down&#39;</span><span class=\"p\">:</span> <span class=\"n\">disease_profile</span><span class=\"o\">.</span><span class=\"n\">top</span><span class=\"o\">.</span><span class=\"n\">down</span>\n",
       "    <span class=\"p\">}</span>\n",
       "\n",
       "    <span class=\"k\">pass</span>\n",
       "\n",
       "    <span class=\"c1\"># compute_statistic = cramér_von_mises</span>\n",
       "    <span class=\"n\">ranks</span> <span class=\"o\">=</span> <span class=\"n\">ranks</span><span class=\"o\">.</span><span class=\"n\">sort_values</span><span class=\"p\">(</span><span class=\"n\">ascending</span><span class=\"o\">=</span><span class=\"bp\">False</span><span class=\"p\">)</span>\n",
       "\n",
       "    <span class=\"n\">ks</span> <span class=\"o\">=</span> <span class=\"p\">{}</span>\n",
       "\n",
       "    <span class=\"k\">for</span> <span class=\"n\">tag_name</span><span class=\"p\">,</span> <span class=\"n\">genes_in_tag</span> <span class=\"ow\">in</span> <span class=\"n\">tags</span><span class=\"o\">.</span><span class=\"n\">items</span><span class=\"p\">():</span>\n",
       "        <span class=\"n\">ks</span><span class=\"p\">[</span><span class=\"n\">tag_name</span><span class=\"p\">]</span> <span class=\"o\">=</span> <span class=\"n\">compute_statistic</span><span class=\"p\">(</span>\n",
       "            <span class=\"n\">ranks</span><span class=\"p\">,</span>\n",
       "            <span class=\"n\">genes_in_tag</span>\n",
       "        <span class=\"p\">)</span>\n",
       "\n",
       "    <span class=\"n\">ks_dn</span><span class=\"p\">,</span> <span class=\"n\">ks_up</span> <span class=\"o\">=</span> <span class=\"n\">ks</span><span class=\"p\">[</span><span class=\"s1\">&#39;down&#39;</span><span class=\"p\">],</span> <span class=\"n\">ks</span><span class=\"p\">[</span><span class=\"s1\">&#39;up&#39;</span><span class=\"p\">]</span>\n",
       "\n",
       "    <span class=\"k\">return</span> <span class=\"p\">(</span><span class=\"n\">ks_up</span> <span class=\"o\">-</span> <span class=\"n\">ks_dn</span><span class=\"p\">)</span> <span class=\"o\">*</span> <span class=\"n\">factor</span>\n",
       "</pre></div>\n"
      ],
      "text/plain": [
       "<IPython.core.display.HTML object>"
      ]
     },
     "metadata": {},
     "output_type": "display_data"
    }
   ],
   "source": [
    "connectivity_score_cramér_von_mises = connectivity.create_scorer(\n",
    "    negative=False,\n",
    "    ranks_type='signature',\n",
    "    statistic=connectivity.cramér_von_mises,\n",
    "    compose_tags=connectivity.difference\n",
    ")\n",
    "show_source(connectivity_score_cramér_von_mises)"
   ]
  },
  {
   "cell_type": "markdown",
   "metadata": {},
   "source": [
    "### All tested"
   ]
  },
  {
   "cell_type": "code",
   "execution_count": 25,
   "metadata": {},
   "outputs": [],
   "source": [
    "single_sample_gene_set_based = [\n",
    "    # single-sample gsva: too expensive computionally\n",
    "    plage_score, gsva_score, ssgsea_score, zscore,\n",
    "\n",
    "    # GSEADesktop - just too slow\n",
    "    gsea_score, gsea_score_reactome, gsea_score_hallmarks\n",
    "]\n",
    "\n",
    "# these should be described in a Supplementary Text\n",
    "disregarded = [\n",
    "    # this was an experiment, but it does not have a sound reasoning behind\n",
    "    connectivity_score_disease,\n",
    "    \n",
    "    # here the idea was that looking at the most extreme effects alone may be enough;\n",
    "    # actually it was not bad - the results were quite similar, but it does not contribute\n",
    "    # towards the goal in any way (except for proving that this intuition is not so bad)\n",
    "    x_product_max, x_sum_max, score_spearman_max\n",
    "]\n",
    "\n",
    "tested_single_sample_functions = [\n",
    "    # simple & fast\n",
    "    score_spearman,\n",
    "    x_sum, x_product, x_cos,\n",
    "\n",
    "    connectivity_score,\n",
    "    connectivity_score_RGES,\n",
    "    connectivity_score_cramér_von_mises,\n",
    "    connectivity.pharmaco_gx_connectivity_score\n",
    "]\n",
    "\n",
    "tested_multi_sample_functions = [\n",
    "    # gsva\n",
    "    plage_score_by_substance, gsva_score_by_substance,\n",
    "    ssgsea_score_by_substance, zscore_by_substance,\n",
    "\n",
    "    # limma\n",
    "    roast_score_by_substance,\n",
    "    \n",
    "    # cudaGSEA\n",
    "    gsea_score_phenotypes_cuda_kegg,\n",
    "    gsea_score_phenotypes_cuda_reactome,\n",
    "    gsea_score_phenotypes_cuda_hallmarks\n",
    "]\n",
    "\n",
    "tested_scoring_functions = (\n",
    "    tested_single_sample_functions\n",
    "    +\n",
    "    tested_multi_sample_functions\n",
    ")"
   ]
  },
  {
   "cell_type": "markdown",
   "metadata": {},
   "source": [
    "## Benchmarking"
   ]
  },
  {
   "cell_type": "code",
   "execution_count": 26,
   "metadata": {},
   "outputs": [
    {
     "data": {
      "text/html": [
       "<div class=\"highlight\"><pre><span></span><span class=\"k\">def</span> <span class=\"nf\">benchmark</span><span class=\"p\">(</span>\n",
       "    <span class=\"n\">funcs</span><span class=\"p\">,</span> <span class=\"n\">query_signature</span><span class=\"p\">,</span> <span class=\"n\">indications_signatures</span><span class=\"p\">,</span> <span class=\"n\">contraindications_signatures</span><span class=\"o\">=</span><span class=\"bp\">None</span><span class=\"p\">,</span>\n",
       "    <span class=\"n\">control_signatures</span><span class=\"o\">=</span><span class=\"bp\">None</span><span class=\"p\">,</span> <span class=\"n\">per_test_progress</span><span class=\"o\">=</span><span class=\"bp\">False</span><span class=\"p\">,</span> <span class=\"n\">query_expression</span><span class=\"p\">:</span> <span class=\"n\">ExpressionWithControls</span> <span class=\"o\">=</span> <span class=\"bp\">None</span><span class=\"p\">,</span>\n",
       "    <span class=\"n\">quiet</span><span class=\"o\">=</span><span class=\"bp\">False</span><span class=\"p\">,</span> <span class=\"n\">progress</span><span class=\"o\">=</span><span class=\"bp\">True</span><span class=\"p\">,</span> <span class=\"n\">unassigned_signatures</span><span class=\"o\">=</span><span class=\"bp\">None</span><span class=\"p\">,</span> <span class=\"o\">**</span><span class=\"n\">kwargs</span>\n",
       "<span class=\"p\">):</span>\n",
       "    <span class=\"n\">data</span> <span class=\"o\">=</span> <span class=\"p\">[]</span>\n",
       "    <span class=\"n\">is_first_run</span> <span class=\"o\">=</span> <span class=\"bp\">True</span>\n",
       "    <span class=\"k\">if</span> <span class=\"n\">progress</span><span class=\"p\">:</span>\n",
       "        <span class=\"n\">funcs</span> <span class=\"o\">=</span> <span class=\"n\">tqdm_notebook</span><span class=\"p\">(</span><span class=\"n\">funcs</span><span class=\"p\">)</span>\n",
       "    <span class=\"k\">for</span> <span class=\"n\">func</span> <span class=\"ow\">in</span> <span class=\"n\">funcs</span><span class=\"p\">:</span>\n",
       "        <span class=\"k\">if</span> <span class=\"ow\">not</span> <span class=\"n\">quiet</span><span class=\"p\">:</span>\n",
       "            <span class=\"k\">print</span><span class=\"p\">(</span><span class=\"n\">f</span><span class=\"s1\">&#39;Testing {func.__name__}&#39;</span><span class=\"p\">)</span>\n",
       "\n",
       "        <span class=\"n\">query</span> <span class=\"o\">=</span> <span class=\"n\">query_expression</span> <span class=\"k\">if</span> <span class=\"n\">func</span><span class=\"o\">.</span><span class=\"n\">input</span> <span class=\"o\">==</span> <span class=\"n\">ExpressionWithControls</span> <span class=\"k\">else</span> <span class=\"n\">query_signature</span>\n",
       "\n",
       "        <span class=\"n\">start</span> <span class=\"o\">=</span> <span class=\"n\">time</span><span class=\"p\">()</span>\n",
       "        <span class=\"n\">result</span> <span class=\"o\">=</span> <span class=\"n\">evaluate</span><span class=\"p\">(</span>\n",
       "            <span class=\"n\">func</span><span class=\"p\">,</span> <span class=\"n\">query</span><span class=\"p\">,</span> <span class=\"n\">indications_signatures</span><span class=\"p\">,</span> <span class=\"n\">contraindications_signatures</span><span class=\"p\">,</span>\n",
       "            <span class=\"n\">control_signatures</span><span class=\"o\">=</span><span class=\"n\">control_signatures</span> <span class=\"k\">if</span> <span class=\"n\">func</span><span class=\"o\">.</span><span class=\"n\">is_applicable_to_control_signatures</span> <span class=\"k\">else</span> <span class=\"bp\">None</span><span class=\"p\">,</span>\n",
       "            <span class=\"n\">unassigned_signatures</span><span class=\"o\">=</span><span class=\"n\">unassigned_signatures</span><span class=\"p\">,</span>\n",
       "            <span class=\"n\">progress</span><span class=\"o\">=</span><span class=\"n\">per_test_progress</span><span class=\"p\">,</span> <span class=\"n\">reset_warnings</span><span class=\"o\">=</span><span class=\"n\">is_first_run</span><span class=\"p\">,</span>\n",
       "            <span class=\"o\">**</span><span class=\"n\">kwargs</span>\n",
       "        <span class=\"p\">)</span>\n",
       "        <span class=\"n\">end</span> <span class=\"o\">=</span> <span class=\"n\">time</span><span class=\"p\">()</span>\n",
       "        <span class=\"n\">data</span><span class=\"o\">.</span><span class=\"n\">append</span><span class=\"p\">({</span><span class=\"o\">**</span><span class=\"n\">result</span><span class=\"p\">,</span> <span class=\"o\">**</span><span class=\"p\">{</span><span class=\"s1\">&#39;Func&#39;</span><span class=\"p\">:</span> <span class=\"n\">func</span><span class=\"o\">.</span><span class=\"vm\">__name__</span><span class=\"p\">,</span> <span class=\"s1\">&#39;Time&#39;</span><span class=\"p\">:</span> <span class=\"n\">end</span> <span class=\"o\">-</span> <span class=\"n\">start</span><span class=\"p\">}})</span>\n",
       "\n",
       "        <span class=\"n\">gc</span><span class=\"o\">.</span><span class=\"n\">collect</span><span class=\"p\">()</span>\n",
       "        <span class=\"n\">is_first_run</span> <span class=\"o\">=</span> <span class=\"bp\">False</span>\n",
       "\n",
       "    <span class=\"k\">return</span> <span class=\"n\">DataFrame</span><span class=\"p\">(</span><span class=\"n\">data</span><span class=\"p\">)</span><span class=\"o\">.</span><span class=\"n\">set_index</span><span class=\"p\">(</span><span class=\"s1\">&#39;Func&#39;</span><span class=\"p\">)</span>\n",
       "</pre></div>\n"
      ],
      "text/plain": [
       "<IPython.core.display.HTML object>"
      ]
     },
     "metadata": {},
     "output_type": "display_data"
    }
   ],
   "source": [
    "from signature_scoring.evaluation.benchmark import benchmark\n",
    "show_source(benchmark)"
   ]
  },
  {
   "cell_type": "markdown",
   "metadata": {},
   "source": [
    "## Benchmarking set-up shared across tests"
   ]
  },
  {
   "cell_type": "markdown",
   "metadata": {},
   "source": [
    "Following values were set as defaults for the test on BRCA cohort:"
   ]
  },
  {
   "cell_type": "code",
   "execution_count": 27,
   "metadata": {},
   "outputs": [],
   "source": [
    "standard_benchmark = partial(\n",
    "    benchmark,\n",
    "    top='quantile',                           # criterium for selection of the candidated repositioning substances; quantile: choose top 10%\n",
    "    summary='per_cell_line_combined',         # use combine() method of evaluation metrics to combine metrics results calculated for each of the cell lines\n",
    "    aggregate='mean_per_substance_and_dose',  # same as \"mean_per_substance_dose_and_cell\" because summary is computed per cell line anyway (see above)\n",
    "    cell_lines_ratio=.75,                     # at least such a ratio of substances signatures should be available for the cell line to include it\n",
    "    limit=500,                                # how many under- and over- expressed genes should be analyzed\n",
    "    processes=8,\n",
    "    per_test_progress=False\n",
    ")"
   ]
  }
 ],
 "metadata": {
  "kernelspec": {
   "display_name": "Python 3",
   "language": "python",
   "name": "python3"
  },
  "language_info": {
   "codemirror_mode": {
    "name": "ipython",
    "version": 3
   },
   "file_extension": ".py",
   "mimetype": "text/x-python",
   "name": "python",
   "nbconvert_exporter": "python",
   "pygments_lexer": "ipython3",
   "version": "3.7.0"
  }
 },
 "nbformat": 4,
 "nbformat_minor": 2
}
