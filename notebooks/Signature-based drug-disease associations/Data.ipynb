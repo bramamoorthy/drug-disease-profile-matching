{
 "cells": [
  {
   "cell_type": "code",
   "execution_count": 1,
   "metadata": {},
   "outputs": [
    {
     "data": {
      "text/html": [
       "<style>.highlight .hll { background-color: #ffffcc }\n",
       ".highlight  { background: #f8f8f8; }\n",
       ".highlight .c { color: #408080; font-style: italic } /* Comment */\n",
       ".highlight .err { border: 1px solid #FF0000 } /* Error */\n",
       ".highlight .k { color: #008000; font-weight: bold } /* Keyword */\n",
       ".highlight .o { color: #666666 } /* Operator */\n",
       ".highlight .ch { color: #408080; font-style: italic } /* Comment.Hashbang */\n",
       ".highlight .cm { color: #408080; font-style: italic } /* Comment.Multiline */\n",
       ".highlight .cp { color: #BC7A00 } /* Comment.Preproc */\n",
       ".highlight .cpf { color: #408080; font-style: italic } /* Comment.PreprocFile */\n",
       ".highlight .c1 { color: #408080; font-style: italic } /* Comment.Single */\n",
       ".highlight .cs { color: #408080; font-style: italic } /* Comment.Special */\n",
       ".highlight .gd { color: #A00000 } /* Generic.Deleted */\n",
       ".highlight .ge { font-style: italic } /* Generic.Emph */\n",
       ".highlight .gr { color: #FF0000 } /* Generic.Error */\n",
       ".highlight .gh { color: #000080; font-weight: bold } /* Generic.Heading */\n",
       ".highlight .gi { color: #00A000 } /* Generic.Inserted */\n",
       ".highlight .go { color: #888888 } /* Generic.Output */\n",
       ".highlight .gp { color: #000080; font-weight: bold } /* Generic.Prompt */\n",
       ".highlight .gs { font-weight: bold } /* Generic.Strong */\n",
       ".highlight .gu { color: #800080; font-weight: bold } /* Generic.Subheading */\n",
       ".highlight .gt { color: #0044DD } /* Generic.Traceback */\n",
       ".highlight .kc { color: #008000; font-weight: bold } /* Keyword.Constant */\n",
       ".highlight .kd { color: #008000; font-weight: bold } /* Keyword.Declaration */\n",
       ".highlight .kn { color: #008000; font-weight: bold } /* Keyword.Namespace */\n",
       ".highlight .kp { color: #008000 } /* Keyword.Pseudo */\n",
       ".highlight .kr { color: #008000; font-weight: bold } /* Keyword.Reserved */\n",
       ".highlight .kt { color: #B00040 } /* Keyword.Type */\n",
       ".highlight .m { color: #666666 } /* Literal.Number */\n",
       ".highlight .s { color: #BA2121 } /* Literal.String */\n",
       ".highlight .na { color: #7D9029 } /* Name.Attribute */\n",
       ".highlight .nb { color: #008000 } /* Name.Builtin */\n",
       ".highlight .nc { color: #0000FF; font-weight: bold } /* Name.Class */\n",
       ".highlight .no { color: #880000 } /* Name.Constant */\n",
       ".highlight .nd { color: #AA22FF } /* Name.Decorator */\n",
       ".highlight .ni { color: #999999; font-weight: bold } /* Name.Entity */\n",
       ".highlight .ne { color: #D2413A; font-weight: bold } /* Name.Exception */\n",
       ".highlight .nf { color: #0000FF } /* Name.Function */\n",
       ".highlight .nl { color: #A0A000 } /* Name.Label */\n",
       ".highlight .nn { color: #0000FF; font-weight: bold } /* Name.Namespace */\n",
       ".highlight .nt { color: #008000; font-weight: bold } /* Name.Tag */\n",
       ".highlight .nv { color: #19177C } /* Name.Variable */\n",
       ".highlight .ow { color: #AA22FF; font-weight: bold } /* Operator.Word */\n",
       ".highlight .w { color: #bbbbbb } /* Text.Whitespace */\n",
       ".highlight .mb { color: #666666 } /* Literal.Number.Bin */\n",
       ".highlight .mf { color: #666666 } /* Literal.Number.Float */\n",
       ".highlight .mh { color: #666666 } /* Literal.Number.Hex */\n",
       ".highlight .mi { color: #666666 } /* Literal.Number.Integer */\n",
       ".highlight .mo { color: #666666 } /* Literal.Number.Oct */\n",
       ".highlight .sa { color: #BA2121 } /* Literal.String.Affix */\n",
       ".highlight .sb { color: #BA2121 } /* Literal.String.Backtick */\n",
       ".highlight .sc { color: #BA2121 } /* Literal.String.Char */\n",
       ".highlight .dl { color: #BA2121 } /* Literal.String.Delimiter */\n",
       ".highlight .sd { color: #BA2121; font-style: italic } /* Literal.String.Doc */\n",
       ".highlight .s2 { color: #BA2121 } /* Literal.String.Double */\n",
       ".highlight .se { color: #BB6622; font-weight: bold } /* Literal.String.Escape */\n",
       ".highlight .sh { color: #BA2121 } /* Literal.String.Heredoc */\n",
       ".highlight .si { color: #BB6688; font-weight: bold } /* Literal.String.Interpol */\n",
       ".highlight .sx { color: #008000 } /* Literal.String.Other */\n",
       ".highlight .sr { color: #BB6688 } /* Literal.String.Regex */\n",
       ".highlight .s1 { color: #BA2121 } /* Literal.String.Single */\n",
       ".highlight .ss { color: #19177C } /* Literal.String.Symbol */\n",
       ".highlight .bp { color: #008000 } /* Name.Builtin.Pseudo */\n",
       ".highlight .fm { color: #0000FF } /* Name.Function.Magic */\n",
       ".highlight .vc { color: #19177C } /* Name.Variable.Class */\n",
       ".highlight .vg { color: #19177C } /* Name.Variable.Global */\n",
       ".highlight .vi { color: #19177C } /* Name.Variable.Instance */\n",
       ".highlight .vm { color: #19177C } /* Name.Variable.Magic */\n",
       ".highlight .il { color: #666666 } /* Literal.Number.Integer.Long */.highlight{margin-left:10px!important; font-size:11px}</style>"
      ],
      "text/plain": [
       "<IPython.core.display.HTML object>"
      ]
     },
     "metadata": {},
     "output_type": "display_data"
    }
   ],
   "source": [
    "%matplotlib inline\n",
    "%load_ext autoreload\n",
    "%autoreload 2\n",
    "from utilities_namespace import *"
   ]
  },
  {
   "cell_type": "markdown",
   "metadata": {
    "toc-hr-collapsed": false
   },
   "source": [
    "# Data for Drug-Disease associations"
   ]
  },
  {
   "cell_type": "markdown",
   "metadata": {},
   "source": [
    "## Identifying indications and contraindications"
   ]
  },
  {
   "cell_type": "code",
   "execution_count": 2,
   "metadata": {},
   "outputs": [
    {
     "name": "stderr",
     "output_type": "stream",
     "text": [
      "/home/ubuntu/drug_repositioning/data_sources/drug_central.py:44: UserWarning: Already detected name {name} present.  using {newname}\n",
      "  warnings.warn('Already detected name {name} present.  using {newname}')\n"
     ]
    }
   ],
   "source": [
    "from data_sources.drug_central import substances_for, all_names_for"
   ]
  },
  {
   "cell_type": "code",
   "execution_count": 3,
   "metadata": {},
   "outputs": [],
   "source": [
    "from data_sources.drug_central import *"
   ]
  },
  {
   "cell_type": "code",
   "execution_count": 4,
   "metadata": {},
   "outputs": [],
   "source": [
    "# OmopDoid.query.filter_by(struct_id=Structure.query.filter_by(name='doxorubicin').one().id).all()"
   ]
  },
  {
   "cell_type": "code",
   "execution_count": 5,
   "metadata": {},
   "outputs": [
    {
     "data": {
      "text/html": [
       "<div class=\"highlight\"><pre><span></span><span class=\"k\">def</span> <span class=\"nf\">substances_for</span><span class=\"p\">(</span><span class=\"n\">query</span><span class=\"p\">,</span> <span class=\"n\">contra</span><span class=\"o\">=</span><span class=\"bp\">False</span><span class=\"p\">,</span> <span class=\"n\">verbose</span><span class=\"o\">=</span><span class=\"bp\">False</span><span class=\"p\">):</span>\n",
       "    <span class=\"sd\">&quot;&quot;&quot;</span>\n",
       "<span class=\"sd\">    query: e.g. &#39;Carcinoma of female breast&#39;, use &#39;%&#39; for fuzzy matching</span>\n",
       "<span class=\"sd\">    &quot;&quot;&quot;</span>\n",
       "    <span class=\"n\">results</span> <span class=\"o\">=</span> <span class=\"nb\">set</span><span class=\"p\">()</span>\n",
       "    <span class=\"n\">diseases</span> <span class=\"o\">=</span> <span class=\"nb\">set</span><span class=\"p\">()</span>\n",
       "\n",
       "    <span class=\"n\">query</span> <span class=\"o\">=</span> <span class=\"n\">OmopDoid</span><span class=\"o\">.</span><span class=\"n\">concept_name</span><span class=\"o\">.</span><span class=\"n\">ilike</span><span class=\"p\">(</span><span class=\"n\">query</span><span class=\"p\">)</span> <span class=\"k\">if</span> <span class=\"s1\">&#39;%&#39;</span> <span class=\"ow\">in</span> <span class=\"n\">query</span> <span class=\"k\">else</span> <span class=\"n\">OmopDoid</span><span class=\"o\">.</span><span class=\"n\">concept_name</span> <span class=\"o\">==</span> <span class=\"n\">query</span>\n",
       "    <span class=\"n\">relationship</span> <span class=\"o\">=</span> <span class=\"s1\">&#39;contraindication&#39;</span> <span class=\"k\">if</span> <span class=\"n\">contra</span> <span class=\"k\">else</span> <span class=\"s1\">&#39;indication&#39;</span>\n",
       "\n",
       "    <span class=\"k\">for</span> <span class=\"n\">rel</span> <span class=\"ow\">in</span> <span class=\"n\">OmopDoid</span><span class=\"o\">.</span><span class=\"n\">query</span><span class=\"o\">.</span><span class=\"n\">filter_by</span><span class=\"p\">(</span><span class=\"n\">relationship_name</span><span class=\"o\">=</span><span class=\"n\">relationship</span><span class=\"p\">)</span><span class=\"o\">.</span><span class=\"n\">filter</span><span class=\"p\">(</span><span class=\"n\">query</span><span class=\"p\">):</span>\n",
       "        <span class=\"n\">diseases</span><span class=\"o\">.</span><span class=\"n\">add</span><span class=\"p\">(</span><span class=\"n\">rel</span><span class=\"o\">.</span><span class=\"n\">concept_name</span><span class=\"p\">)</span>\n",
       "        <span class=\"n\">new_result</span> <span class=\"o\">=</span> <span class=\"n\">Structure</span><span class=\"o\">.</span><span class=\"n\">query</span><span class=\"o\">.</span><span class=\"n\">filter_by</span><span class=\"p\">(</span><span class=\"nb\">id</span><span class=\"o\">=</span><span class=\"n\">rel</span><span class=\"o\">.</span><span class=\"n\">struct_id</span><span class=\"p\">)</span><span class=\"o\">.</span><span class=\"n\">one</span><span class=\"p\">()</span><span class=\"o\">.</span><span class=\"n\">name</span>\n",
       "        <span class=\"k\">if</span> <span class=\"n\">verbose</span><span class=\"p\">:</span>\n",
       "            <span class=\"k\">if</span> <span class=\"n\">new_result</span> <span class=\"ow\">in</span> <span class=\"n\">results</span><span class=\"p\">:</span>\n",
       "                <span class=\"k\">print</span><span class=\"p\">(</span><span class=\"n\">f</span><span class=\"s1\">&#39;Intersection with previous results {new_result}&#39;</span><span class=\"p\">)</span>\n",
       "        <span class=\"n\">results</span><span class=\"o\">.</span><span class=\"n\">add</span><span class=\"p\">(</span><span class=\"n\">new_result</span><span class=\"p\">)</span>\n",
       "    <span class=\"k\">if</span> <span class=\"n\">verbose</span><span class=\"p\">:</span>\n",
       "        <span class=\"k\">print</span><span class=\"p\">(</span><span class=\"n\">diseases</span><span class=\"p\">)</span>\n",
       "    <span class=\"k\">return</span> <span class=\"n\">results</span>\n",
       "</pre></div>\n"
      ],
      "text/plain": [
       "<IPython.core.display.HTML object>"
      ]
     },
     "metadata": {},
     "output_type": "display_data"
    }
   ],
   "source": [
    "show_source(substances_for)"
   ]
  },
  {
   "cell_type": "code",
   "execution_count": 6,
   "metadata": {},
   "outputs": [
    {
     "name": "stdout",
     "output_type": "stream",
     "text": [
      "Intersection with previous results doxorubicin\n",
      "Intersection with previous results tamoxifen\n",
      "{'Human epidermal growth factor 2 negative carcinoma of breast', 'HER2 Positive Carcinoma of Breast', 'HER2-positive carcinoma of breast', 'Infiltrating duct carcinoma of breast', 'Carcinoma of female breast', 'Carcinoma of breast'}\n"
     ]
    },
    {
     "data": {
      "text/plain": [
       "{'cyclophosphamide',\n",
       " 'docetaxel',\n",
       " 'doxorubicin',\n",
       " 'epirubicin',\n",
       " 'everolimus',\n",
       " 'formestane',\n",
       " 'ixabepilone',\n",
       " 'lapatinib',\n",
       " 'methotrexate',\n",
       " 'neratinib',\n",
       " 'paclitaxel',\n",
       " 'palbociclib',\n",
       " 'pertuzumab',\n",
       " 'tamoxifen',\n",
       " 'testolactone',\n",
       " 'thiotepa',\n",
       " 'trastuzumab',\n",
       " 'trastuzumab emtansine',\n",
       " 'vinblastine'}"
      ]
     },
     "execution_count": 6,
     "metadata": {},
     "output_type": "execute_result"
    }
   ],
   "source": [
    "breast_cancer_drugs = substances_for('%carcinoma%breast%', verbose=True)# | substances_for('%breast%carcinoma', verbose=True)\n",
    "breast_cancer_drugs"
   ]
  },
  {
   "cell_type": "code",
   "execution_count": 7,
   "metadata": {},
   "outputs": [
    {
     "name": "stdout",
     "output_type": "stream",
     "text": [
      "{'Carcinoma of female breast'}\n"
     ]
    },
    {
     "data": {
      "text/plain": [
       "{'acetophenazine',\n",
       " 'alimemazine',\n",
       " 'amitriptyline',\n",
       " 'chlordiazepoxide',\n",
       " 'chlorotrianisene',\n",
       " 'chlorpromazine',\n",
       " 'chlorprothixene',\n",
       " 'colecalciferol',\n",
       " 'danazol',\n",
       " 'desogestrel',\n",
       " 'dienestrol',\n",
       " 'dienogest',\n",
       " 'diethylstilbestrol',\n",
       " 'drospirenone',\n",
       " 'ergocalciferol',\n",
       " 'estradiol',\n",
       " 'estradiol cypionate',\n",
       " 'estradiol valerate',\n",
       " 'estrone',\n",
       " 'ethinylestradiol',\n",
       " 'etonogestrel',\n",
       " 'etymemazine',\n",
       " 'etynodiol',\n",
       " 'ferrous fumarate',\n",
       " 'fluoxetine',\n",
       " 'fluoxymesterone',\n",
       " 'fluphenazine',\n",
       " 'fluphenazine decanoate',\n",
       " 'fluphenazine enanthate',\n",
       " 'haloperidol',\n",
       " 'haloperidol decanoate',\n",
       " 'hydroxyprogesterone caproate',\n",
       " 'iloperidone',\n",
       " 'isopropamide',\n",
       " 'levomefolic acid',\n",
       " 'levomepromazine',\n",
       " 'levonorgestrel',\n",
       " 'loxapine',\n",
       " 'magnesium oxide',\n",
       " 'medroxyprogesterone',\n",
       " 'meprobamate',\n",
       " 'mestranol',\n",
       " 'methyltestosterone',\n",
       " 'molindone',\n",
       " 'norelgestromin',\n",
       " 'norethindrone acetate',\n",
       " 'norethisterone',\n",
       " 'norgestimate',\n",
       " 'olanzapine',\n",
       " 'oxymesterone',\n",
       " 'oxymetholone',\n",
       " 'paliperidone',\n",
       " 'paliperidone palmitate',\n",
       " 'pecazine',\n",
       " 'perazine',\n",
       " 'perphenazine',\n",
       " 'phytomenadione',\n",
       " 'pimozide',\n",
       " 'prochlorperazine',\n",
       " 'progesterone',\n",
       " 'promazine',\n",
       " 'propiomazine',\n",
       " 'quetiapine',\n",
       " 'quinestrol',\n",
       " 'risperidone',\n",
       " 'testosterone',\n",
       " 'testosterone cypionate',\n",
       " 'testosterone enantate',\n",
       " 'thiothixene',\n",
       " 'tranexamic acid',\n",
       " 'trifluoperazine',\n",
       " 'triflupromazine',\n",
       " 'ziprasidone'}"
      ]
     },
     "execution_count": 7,
     "metadata": {},
     "output_type": "execute_result"
    }
   ],
   "source": [
    "contra = substances_for('%carcinoma%breast%', contra=True, verbose=True)# | substances_for('%breast%carcinoma%', contra=True, verbose=True)\n",
    "contra"
   ]
  },
  {
   "cell_type": "markdown",
   "metadata": {},
   "source": [
    "Intersection between indicated and contraindicated structures should be empty:"
   ]
  },
  {
   "cell_type": "code",
   "execution_count": 8,
   "metadata": {},
   "outputs": [],
   "source": [
    "assert not breast_cancer_drugs & contra"
   ]
  },
  {
   "cell_type": "markdown",
   "metadata": {},
   "source": [
    "And I want to see if there are any synonymous names so I could increase my chances of finding corresponding substances in connectvity map:"
   ]
  },
  {
   "cell_type": "code",
   "execution_count": 9,
   "metadata": {},
   "outputs": [],
   "source": [
    "breast_cancer_drugs_with_synonyms = all_names_for(*breast_cancer_drugs)\n",
    "breast_cancer_contra_with_synonyms = all_names_for(*contra)"
   ]
  },
  {
   "cell_type": "code",
   "execution_count": 10,
   "metadata": {},
   "outputs": [
    {
     "data": {
      "text/plain": [
       "114"
      ]
     },
     "execution_count": 10,
     "metadata": {},
     "output_type": "execute_result"
    }
   ],
   "source": [
    "len(breast_cancer_drugs_with_synonyms) - len(breast_cancer_drugs)"
   ]
  },
  {
   "cell_type": "code",
   "execution_count": 11,
   "metadata": {},
   "outputs": [
    {
     "data": {
      "text/plain": [
       "355"
      ]
     },
     "execution_count": 11,
     "metadata": {},
     "output_type": "execute_result"
    }
   ],
   "source": [
    "len(breast_cancer_contra_with_synonyms) - len(contra)"
   ]
  },
  {
   "cell_type": "markdown",
   "metadata": {},
   "source": [
    "As expected, there are many synonyms for both indications and contraindications, hence these will be included in the analysis."
   ]
  },
  {
   "cell_type": "markdown",
   "metadata": {},
   "source": [
    "## Signatues retrieval"
   ]
  },
  {
   "cell_type": "markdown",
   "metadata": {},
   "source": [
    "### Perturbagens signatures from LINCS DrugConnectivityMap"
   ]
  },
  {
   "cell_type": "code",
   "execution_count": 12,
   "metadata": {},
   "outputs": [],
   "source": [
    "from data_sources.drug_connectivity_map import DrugConnectivityMap\n",
    "dcm = DrugConnectivityMap()"
   ]
  },
  {
   "cell_type": "code",
   "execution_count": 13,
   "metadata": {},
   "outputs": [],
   "source": [
    "all_control_signatures = dcm.from_ids(dcm.all_controls(consensus=True).sig_id)"
   ]
  },
  {
   "cell_type": "code",
   "execution_count": 14,
   "metadata": {},
   "outputs": [
    {
     "data": {
      "text/plain": [
       "{'DMSO',\n",
       " 'EMPTY_VECTOR',\n",
       " 'GFP',\n",
       " 'H2O',\n",
       " 'HcRed',\n",
       " 'LUCIFERASE',\n",
       " 'RFP',\n",
       " 'UnTrt',\n",
       " 'eGFP',\n",
       " 'lacZ',\n",
       " 'pgw'}"
      ]
     },
     "execution_count": 14,
     "metadata": {},
     "output_type": "execute_result"
    }
   ],
   "source": [
    "dcm.identify_substances(all_control_signatures)"
   ]
  },
  {
   "cell_type": "markdown",
   "metadata": {},
   "source": [
    "#### Possible improvements:"
   ]
  },
  {
   "cell_type": "markdown",
   "metadata": {},
   "source": [
    "I could improve results here by inclusion of the controls with single repeats (so with no consensus). There are three such signatures:"
   ]
  },
  {
   "cell_type": "code",
   "execution_count": 15,
   "metadata": {},
   "outputs": [
    {
     "data": {
      "text/plain": [
       "{'BFP', 'PBS', 'plko.1'}"
      ]
     },
     "execution_count": 15,
     "metadata": {},
     "output_type": "execute_result"
    }
   ],
   "source": [
    "dcm.identify_substances(dcm.from_ids(dcm.all_controls(consensus=False).sig_id)) - dcm.identify_substances(all_control_signatures)"
   ]
  },
  {
   "cell_type": "code",
   "execution_count": 16,
   "metadata": {},
   "outputs": [
    {
     "name": "stdout",
     "output_type": "stream",
     "text": [
      "Got perturbations for 14/19 or 73.68% of substances. No matches for: {'ixabepilone', 'trastuzumab', 'trastuzumab emtansine', 'testolactone', 'pertuzumab'}.\n"
     ]
    }
   ],
   "source": [
    "indications_singatures = dcm.from_perturbations(breast_cancer_drugs, synonyms_source=all_names_for)"
   ]
  },
  {
   "cell_type": "code",
   "execution_count": 17,
   "metadata": {},
   "outputs": [
    {
     "data": {
      "text/html": [
       "<div>\n",
       "<style scoped>\n",
       "    .dataframe tbody tr th:only-of-type {\n",
       "        vertical-align: middle;\n",
       "    }\n",
       "\n",
       "    .dataframe tbody tr th {\n",
       "        vertical-align: top;\n",
       "    }\n",
       "\n",
       "    .dataframe thead th {\n",
       "        text-align: right;\n",
       "    }\n",
       "</style>\n",
       "<table border=\"1\" class=\"dataframe\">\n",
       "  <thead>\n",
       "    <tr style=\"text-align: right;\">\n",
       "      <th></th>\n",
       "      <th>CPC005_A375_24H:BRD-K04210847-001-01-1:10</th>\n",
       "      <th>CPC005_A549_24H:BRD-K04210847-001-01-1:10</th>\n",
       "      <th>CPC003_HA1E_6H:BRD-K92093830-003-05-0:10</th>\n",
       "      <th>CPC004_HA1E_6H:BRD-K04548931-003-05-8:10</th>\n",
       "      <th>CPC004_HA1E_6H:BRD-A28746609-001-05-7:10</th>\n",
       "      <th>...</th>\n",
       "      <th>HOG002_MCF7_6H:BRD-K92093830-003-18-3:10</th>\n",
       "      <th>AML001_PC3_6H:BRD-K93754473:13.4584</th>\n",
       "      <th>CPC006_RKO_6H:BRD-K93754473-001-06-0:28.39</th>\n",
       "      <th>CPC006_RKO_6H:BRD-K85606544-001-01-8:10</th>\n",
       "      <th>AML001_U937_6H:BRD-K93754473:1.49538</th>\n",
       "    </tr>\n",
       "  </thead>\n",
       "  <tbody>\n",
       "    <tr>\n",
       "      <th>b'5720'</th>\n",
       "      <td>0.638332</td>\n",
       "      <td>0.024402</td>\n",
       "      <td>0.35770</td>\n",
       "      <td>1.182945</td>\n",
       "      <td>-0.064459</td>\n",
       "      <td>...</td>\n",
       "      <td>0.712387</td>\n",
       "      <td>-0.906070</td>\n",
       "      <td>-1.40410</td>\n",
       "      <td>-0.28065</td>\n",
       "      <td>0.177119</td>\n",
       "    </tr>\n",
       "    <tr>\n",
       "      <th>b'466'</th>\n",
       "      <td>-1.551383</td>\n",
       "      <td>-0.086900</td>\n",
       "      <td>-2.83740</td>\n",
       "      <td>-4.941642</td>\n",
       "      <td>-0.316980</td>\n",
       "      <td>...</td>\n",
       "      <td>-1.912566</td>\n",
       "      <td>-3.993970</td>\n",
       "      <td>-1.92245</td>\n",
       "      <td>0.33815</td>\n",
       "      <td>0.021499</td>\n",
       "    </tr>\n",
       "    <tr>\n",
       "      <th>b'6009'</th>\n",
       "      <td>0.374623</td>\n",
       "      <td>-0.354991</td>\n",
       "      <td>-0.24645</td>\n",
       "      <td>-1.438536</td>\n",
       "      <td>0.989167</td>\n",
       "      <td>...</td>\n",
       "      <td>-1.773798</td>\n",
       "      <td>-0.489703</td>\n",
       "      <td>0.72065</td>\n",
       "      <td>-0.57330</td>\n",
       "      <td>0.701487</td>\n",
       "    </tr>\n",
       "    <tr>\n",
       "      <th>b'2309'</th>\n",
       "      <td>0.338569</td>\n",
       "      <td>1.213252</td>\n",
       "      <td>-1.47960</td>\n",
       "      <td>-5.443298</td>\n",
       "      <td>-0.495990</td>\n",
       "      <td>...</td>\n",
       "      <td>-5.243472</td>\n",
       "      <td>0.335352</td>\n",
       "      <td>0.29805</td>\n",
       "      <td>0.67050</td>\n",
       "      <td>0.901494</td>\n",
       "    </tr>\n",
       "    <tr>\n",
       "      <th>b'387'</th>\n",
       "      <td>-1.675559</td>\n",
       "      <td>-1.565093</td>\n",
       "      <td>0.45065</td>\n",
       "      <td>0.530031</td>\n",
       "      <td>-0.483692</td>\n",
       "      <td>...</td>\n",
       "      <td>1.465490</td>\n",
       "      <td>0.779005</td>\n",
       "      <td>-0.47355</td>\n",
       "      <td>0.50770</td>\n",
       "      <td>-1.274575</td>\n",
       "    </tr>\n",
       "    <tr>\n",
       "      <th>...</th>\n",
       "      <td>...</td>\n",
       "      <td>...</td>\n",
       "      <td>...</td>\n",
       "      <td>...</td>\n",
       "      <td>...</td>\n",
       "      <td>...</td>\n",
       "      <td>...</td>\n",
       "      <td>...</td>\n",
       "      <td>...</td>\n",
       "      <td>...</td>\n",
       "      <td>...</td>\n",
       "    </tr>\n",
       "    <tr>\n",
       "      <th>b'25960'</th>\n",
       "      <td>0.505869</td>\n",
       "      <td>0.156342</td>\n",
       "      <td>1.05415</td>\n",
       "      <td>3.205578</td>\n",
       "      <td>-0.502983</td>\n",
       "      <td>...</td>\n",
       "      <td>1.864568</td>\n",
       "      <td>0.203565</td>\n",
       "      <td>1.20400</td>\n",
       "      <td>-0.26835</td>\n",
       "      <td>0.382246</td>\n",
       "    </tr>\n",
       "    <tr>\n",
       "      <th>b'6376'</th>\n",
       "      <td>0.194066</td>\n",
       "      <td>-1.216984</td>\n",
       "      <td>-0.43530</td>\n",
       "      <td>1.221376</td>\n",
       "      <td>0.010126</td>\n",
       "      <td>...</td>\n",
       "      <td>0.241738</td>\n",
       "      <td>0.935042</td>\n",
       "      <td>-0.19080</td>\n",
       "      <td>-0.25740</td>\n",
       "      <td>0.815131</td>\n",
       "    </tr>\n",
       "    <tr>\n",
       "      <th>b'11033'</th>\n",
       "      <td>0.008947</td>\n",
       "      <td>0.787951</td>\n",
       "      <td>1.02445</td>\n",
       "      <td>2.453247</td>\n",
       "      <td>-0.251104</td>\n",
       "      <td>...</td>\n",
       "      <td>1.948298</td>\n",
       "      <td>-0.419207</td>\n",
       "      <td>0.83390</td>\n",
       "      <td>0.05150</td>\n",
       "      <td>0.258115</td>\n",
       "    </tr>\n",
       "    <tr>\n",
       "      <th>b'54869'</th>\n",
       "      <td>0.807878</td>\n",
       "      <td>0.470132</td>\n",
       "      <td>-0.62170</td>\n",
       "      <td>1.041493</td>\n",
       "      <td>-0.040599</td>\n",
       "      <td>...</td>\n",
       "      <td>-0.177436</td>\n",
       "      <td>0.842557</td>\n",
       "      <td>1.52295</td>\n",
       "      <td>-0.65940</td>\n",
       "      <td>-0.508901</td>\n",
       "    </tr>\n",
       "    <tr>\n",
       "      <th>b'60'</th>\n",
       "      <td>0.577566</td>\n",
       "      <td>-0.568735</td>\n",
       "      <td>-0.82415</td>\n",
       "      <td>0.747639</td>\n",
       "      <td>-0.527458</td>\n",
       "      <td>...</td>\n",
       "      <td>1.057001</td>\n",
       "      <td>0.841444</td>\n",
       "      <td>0.27420</td>\n",
       "      <td>0.79950</td>\n",
       "      <td>-1.334700</td>\n",
       "    </tr>\n",
       "  </tbody>\n",
       "</table>\n",
       "<p>12328 rows × 316 columns</p>\n",
       "</div>"
      ],
      "text/plain": [
       "          CPC005_A375_24H:BRD-K04210847-001-01-1:10  \\\n",
       "b'5720'                                    0.638332   \n",
       "b'466'                                    -1.551383   \n",
       "b'6009'                                    0.374623   \n",
       "b'2309'                                    0.338569   \n",
       "b'387'                                    -1.675559   \n",
       "...                                             ...   \n",
       "b'25960'                                   0.505869   \n",
       "b'6376'                                    0.194066   \n",
       "b'11033'                                   0.008947   \n",
       "b'54869'                                   0.807878   \n",
       "b'60'                                      0.577566   \n",
       "\n",
       "          CPC005_A549_24H:BRD-K04210847-001-01-1:10  \\\n",
       "b'5720'                                    0.024402   \n",
       "b'466'                                    -0.086900   \n",
       "b'6009'                                   -0.354991   \n",
       "b'2309'                                    1.213252   \n",
       "b'387'                                    -1.565093   \n",
       "...                                             ...   \n",
       "b'25960'                                   0.156342   \n",
       "b'6376'                                   -1.216984   \n",
       "b'11033'                                   0.787951   \n",
       "b'54869'                                   0.470132   \n",
       "b'60'                                     -0.568735   \n",
       "\n",
       "          CPC003_HA1E_6H:BRD-K92093830-003-05-0:10  \\\n",
       "b'5720'                                    0.35770   \n",
       "b'466'                                    -2.83740   \n",
       "b'6009'                                   -0.24645   \n",
       "b'2309'                                   -1.47960   \n",
       "b'387'                                     0.45065   \n",
       "...                                            ...   \n",
       "b'25960'                                   1.05415   \n",
       "b'6376'                                   -0.43530   \n",
       "b'11033'                                   1.02445   \n",
       "b'54869'                                  -0.62170   \n",
       "b'60'                                     -0.82415   \n",
       "\n",
       "          CPC004_HA1E_6H:BRD-K04548931-003-05-8:10  \\\n",
       "b'5720'                                   1.182945   \n",
       "b'466'                                   -4.941642   \n",
       "b'6009'                                  -1.438536   \n",
       "b'2309'                                  -5.443298   \n",
       "b'387'                                    0.530031   \n",
       "...                                            ...   \n",
       "b'25960'                                  3.205578   \n",
       "b'6376'                                   1.221376   \n",
       "b'11033'                                  2.453247   \n",
       "b'54869'                                  1.041493   \n",
       "b'60'                                     0.747639   \n",
       "\n",
       "          CPC004_HA1E_6H:BRD-A28746609-001-05-7:10  \\\n",
       "b'5720'                                  -0.064459   \n",
       "b'466'                                   -0.316980   \n",
       "b'6009'                                   0.989167   \n",
       "b'2309'                                  -0.495990   \n",
       "b'387'                                   -0.483692   \n",
       "...                                            ...   \n",
       "b'25960'                                 -0.502983   \n",
       "b'6376'                                   0.010126   \n",
       "b'11033'                                 -0.251104   \n",
       "b'54869'                                 -0.040599   \n",
       "b'60'                                    -0.527458   \n",
       "\n",
       "                          ...                   \\\n",
       "b'5720'                   ...                    \n",
       "b'466'                    ...                    \n",
       "b'6009'                   ...                    \n",
       "b'2309'                   ...                    \n",
       "b'387'                    ...                    \n",
       "...                       ...                    \n",
       "b'25960'                  ...                    \n",
       "b'6376'                   ...                    \n",
       "b'11033'                  ...                    \n",
       "b'54869'                  ...                    \n",
       "b'60'                     ...                    \n",
       "\n",
       "          HOG002_MCF7_6H:BRD-K92093830-003-18-3:10  \\\n",
       "b'5720'                                   0.712387   \n",
       "b'466'                                   -1.912566   \n",
       "b'6009'                                  -1.773798   \n",
       "b'2309'                                  -5.243472   \n",
       "b'387'                                    1.465490   \n",
       "...                                            ...   \n",
       "b'25960'                                  1.864568   \n",
       "b'6376'                                   0.241738   \n",
       "b'11033'                                  1.948298   \n",
       "b'54869'                                 -0.177436   \n",
       "b'60'                                     1.057001   \n",
       "\n",
       "          AML001_PC3_6H:BRD-K93754473:13.4584  \\\n",
       "b'5720'                             -0.906070   \n",
       "b'466'                              -3.993970   \n",
       "b'6009'                             -0.489703   \n",
       "b'2309'                              0.335352   \n",
       "b'387'                               0.779005   \n",
       "...                                       ...   \n",
       "b'25960'                             0.203565   \n",
       "b'6376'                              0.935042   \n",
       "b'11033'                            -0.419207   \n",
       "b'54869'                             0.842557   \n",
       "b'60'                                0.841444   \n",
       "\n",
       "          CPC006_RKO_6H:BRD-K93754473-001-06-0:28.39  \\\n",
       "b'5720'                                     -1.40410   \n",
       "b'466'                                      -1.92245   \n",
       "b'6009'                                      0.72065   \n",
       "b'2309'                                      0.29805   \n",
       "b'387'                                      -0.47355   \n",
       "...                                              ...   \n",
       "b'25960'                                     1.20400   \n",
       "b'6376'                                     -0.19080   \n",
       "b'11033'                                     0.83390   \n",
       "b'54869'                                     1.52295   \n",
       "b'60'                                        0.27420   \n",
       "\n",
       "          CPC006_RKO_6H:BRD-K85606544-001-01-8:10  \\\n",
       "b'5720'                                  -0.28065   \n",
       "b'466'                                    0.33815   \n",
       "b'6009'                                  -0.57330   \n",
       "b'2309'                                   0.67050   \n",
       "b'387'                                    0.50770   \n",
       "...                                           ...   \n",
       "b'25960'                                 -0.26835   \n",
       "b'6376'                                  -0.25740   \n",
       "b'11033'                                  0.05150   \n",
       "b'54869'                                 -0.65940   \n",
       "b'60'                                     0.79950   \n",
       "\n",
       "          AML001_U937_6H:BRD-K93754473:1.49538  \n",
       "b'5720'                               0.177119  \n",
       "b'466'                                0.021499  \n",
       "b'6009'                               0.701487  \n",
       "b'2309'                               0.901494  \n",
       "b'387'                               -1.274575  \n",
       "...                                        ...  \n",
       "b'25960'                              0.382246  \n",
       "b'6376'                               0.815131  \n",
       "b'11033'                              0.258115  \n",
       "b'54869'                             -0.508901  \n",
       "b'60'                                -1.334700  \n",
       "\n",
       "[12328 rows x 316 columns]"
      ]
     },
     "execution_count": 17,
     "metadata": {},
     "output_type": "execute_result"
    }
   ],
   "source": [
    "indications_singatures"
   ]
  },
  {
   "cell_type": "code",
   "execution_count": 18,
   "metadata": {},
   "outputs": [],
   "source": [
    "# a minimal test to prevent the bug from version 1\n",
    "assert indications_singatures['CPC015_MCF7_6H:BRD-K09631521-001-05-7:10'][b'5720'] == 0.11370185017585754"
   ]
  },
  {
   "cell_type": "code",
   "execution_count": 19,
   "metadata": {},
   "outputs": [
    {
     "data": {
      "text/plain": [
       "{'cyclophosphamide',\n",
       " 'docetaxel',\n",
       " 'doxorubicin',\n",
       " 'epirubicin',\n",
       " 'everolimus',\n",
       " 'formestane',\n",
       " 'lapatinib',\n",
       " 'methotrexate',\n",
       " 'neratinib',\n",
       " 'paclitaxel',\n",
       " 'palbociclib',\n",
       " 'tamoxifen',\n",
       " 'thiotepa',\n",
       " 'vinblastine'}"
      ]
     },
     "execution_count": 19,
     "metadata": {},
     "output_type": "execute_result"
    }
   ],
   "source": [
    "dcm.identify_substances(indications_singatures)"
   ]
  },
  {
   "cell_type": "code",
   "execution_count": 20,
   "metadata": {},
   "outputs": [
    {
     "name": "stdout",
     "output_type": "stream",
     "text": [
      "Didn't find anything for phytomenadione, but got matches for synonym phylloquinone.\n",
      "Didn't find anything for etynodiol, but got matches for synonym ethynodiol.\n",
      "Following substances were inferred indirectly: {'ethynodiol', 'phylloquinone'}\n",
      "Got perturbations for 41/73 or 56.16% of substances. No matches for: {'perazine', 'levomefolic acid', 'desogestrel', 'estradiol valerate', 'haloperidol decanoate', 'phytomenadione', 'etynodiol', 'etonogestrel', 'paliperidone', 'drospirenone', 'oxymesterone', 'testosterone enantate', 'methyltestosterone', 'hydroxyprogesterone caproate', 'colecalciferol', 'ergocalciferol', 'estradiol cypionate', 'norethindrone acetate', 'paliperidone palmitate', 'acetophenazine', 'testosterone cypionate', 'ferrous fumarate', 'dienogest', 'isopropamide', 'norelgestromin', 'tranexamic acid', 'fluphenazine enanthate', 'propiomazine', 'fluphenazine decanoate', 'magnesium oxide', 'meprobamate', 'etymemazine', 'pecazine', 'quinestrol'}.\n"
     ]
    }
   ],
   "source": [
    "contraindications_singatures = dcm.from_perturbations(contra, synonyms_source=all_names_for)"
   ]
  },
  {
   "cell_type": "code",
   "execution_count": 21,
   "metadata": {},
   "outputs": [
    {
     "data": {
      "text/plain": [
       "{'alimemazine',\n",
       " 'amitriptyline',\n",
       " 'chlordiazepoxide',\n",
       " 'chlorotrianisene',\n",
       " 'chlorpromazine',\n",
       " 'chlorprothixene',\n",
       " 'danazol',\n",
       " 'dienestrol',\n",
       " 'diethylstilbestrol',\n",
       " 'estradiol',\n",
       " 'estrone',\n",
       " 'ethinylestradiol',\n",
       " 'ethynodiol',\n",
       " 'fluoxetine',\n",
       " 'fluoxymesterone',\n",
       " 'fluphenazine',\n",
       " 'haloperidol',\n",
       " 'iloperidone',\n",
       " 'levomepromazine',\n",
       " 'levonorgestrel',\n",
       " 'loxapine',\n",
       " 'medroxyprogesterone',\n",
       " 'mestranol',\n",
       " 'molindone',\n",
       " 'norethisterone',\n",
       " 'norgestimate',\n",
       " 'olanzapine',\n",
       " 'oxymetholone',\n",
       " 'perphenazine',\n",
       " 'phylloquinone',\n",
       " 'pimozide',\n",
       " 'prochlorperazine',\n",
       " 'progesterone',\n",
       " 'promazine',\n",
       " 'quetiapine',\n",
       " 'risperidone',\n",
       " 'testosterone',\n",
       " 'thiothixene',\n",
       " 'trifluoperazine',\n",
       " 'triflupromazine',\n",
       " 'ziprasidone'}"
      ]
     },
     "execution_count": 21,
     "metadata": {},
     "output_type": "execute_result"
    }
   ],
   "source": [
    "dcm.identify_substances(contraindications_singatures.columns)"
   ]
  },
  {
   "cell_type": "markdown",
   "metadata": {},
   "source": [
    "Again, I hope that there is no intersection:"
   ]
  },
  {
   "cell_type": "code",
   "execution_count": 22,
   "metadata": {},
   "outputs": [],
   "source": [
    "assert not set(contraindications_singatures.columns) & set(indications_singatures.columns)"
   ]
  },
  {
   "cell_type": "markdown",
   "metadata": {},
   "source": [
    "### Disease signature - Invasive Breast Carcinoma from TCGA"
   ]
  },
  {
   "cell_type": "code",
   "execution_count": 23,
   "metadata": {},
   "outputs": [],
   "source": [
    "from data_sources.tcga import TCGA\n",
    "tcga = TCGA()"
   ]
  },
  {
   "cell_type": "markdown",
   "metadata": {},
   "source": [
    "As some genes have no HGNC identifier assigned, entrez ids were used instead."
   ]
  },
  {
   "cell_type": "code",
   "execution_count": 24,
   "metadata": {},
   "outputs": [],
   "source": [
    "brca_expression = tcga.expression('BRCA', index='entrez_gene_id')"
   ]
  },
  {
   "cell_type": "markdown",
   "metadata": {},
   "source": [
    "Samples were divided into tumor and normal based on the information contained in the barcodes:\n",
    "\n",
    "[<img src=\"https://image.ibb.co/ieXh4H/barcode.png\">](https://www.biostars.org/p/312269/)\n",
    "\n",
    "*Tumor types range from 01-09, normal types from 10-19 and control samples from 20-29.*"
   ]
  },
  {
   "cell_type": "code",
   "execution_count": 25,
   "metadata": {},
   "outputs": [
    {
     "data": {
      "text/plain": [
       "tumor     1100\n",
       "normal     112\n",
       "dtype: int64"
      ]
     },
     "execution_count": 25,
     "metadata": {},
     "output_type": "execute_result"
    }
   ],
   "source": [
    "brca_expression.classes.value_counts()"
   ]
  },
  {
   "cell_type": "markdown",
   "metadata": {},
   "source": [
    "Differrential profile was created with signal-to-noise ratio metric.\n",
    "All samples were used regardless whether there was corresponding normal sample or not (`only_paired=False`),"
   ]
  },
  {
   "cell_type": "code",
   "execution_count": 26,
   "metadata": {},
   "outputs": [
    {
     "data": {
      "text/plain": [
       "01    1093\n",
       "11     112\n",
       "06       7\n",
       "dtype: int64"
      ]
     },
     "execution_count": 26,
     "metadata": {},
     "output_type": "execute_result"
    }
   ],
   "source": [
    "brca_expression.barcodes.apply(lambda barcode: barcode.sample).value_counts()"
   ]
  },
  {
   "cell_type": "markdown",
   "metadata": {},
   "source": [
    "gdc.cancer.gov/resources-tcga-users/tcga-code-tables/sample-type-codes"
   ]
  },
  {
   "cell_type": "markdown",
   "metadata": {},
   "source": [
    "As far as I understand, normal tissues (10-19, e.g. Blood Derived Normal, Solid Tissue Normal, Buccal Cell Normal, EBV Immortalized Normal, Bone Marrow Normal) come from the patient tissues while controls (20-29, e.g. Control Analyte, Recurrent Blood Derived Cancer - Peripheral Blood, Cell Lines, Primary Xenograft Tissue) encompass less patient-specific controls like cell lines - though I did not find too much of discussion on this. Here is [the full table with sample types](gdc.cancer.gov/resources-tcga-users/tcga-code-tables/sample-type-codes).\n",
    "Fortunately, there is nothing to worry about as the BRCA data I am using includes only 01 (Primary Solid Tumor, 1093 samples), 06 (Metastatic, 7 samples) and 11 (Solid Tissue Normal, 112 samples). Again I might want to include metastatic drugs (or exclude metastatic samples)."
   ]
  },
  {
   "cell_type": "code",
   "execution_count": 27,
   "metadata": {},
   "outputs": [
    {
     "name": "stdout",
     "output_type": "stream",
     "text": [
      "Metric: signal_to_noise, groups: tumor, normal\n",
      "Using 1212 out of 1212 samples\n"
     ]
    }
   ],
   "source": [
    "query_signature = brca_expression.differential('tumor', 'normal', only_paired=False)"
   ]
  },
  {
   "cell_type": "code",
   "execution_count": 28,
   "metadata": {},
   "outputs": [
    {
     "data": {
      "text/plain": [
       "b'84820'       -0.099007\n",
       "b'55233'        0.247522\n",
       "b'5775'        -0.654732\n",
       "b'8718'         0.113611\n",
       "b'84627'        0.523797\n",
       "                  ...   \n",
       "b'100158262'   -0.008849\n",
       "b'220963'      -0.084851\n",
       "b'5598'        -0.058430\n",
       "b'389434'       0.060694\n",
       "b'4160'         0.035307\n",
       "Length: 20531, dtype: float64"
      ]
     },
     "execution_count": 28,
     "metadata": {},
     "output_type": "execute_result"
    }
   ],
   "source": [
    "query_signature"
   ]
  },
  {
   "cell_type": "markdown",
   "metadata": {},
   "source": [
    "Below I generate quantile plots to asses the quality of the expression data (it seems ok to me; strangely the plots duplicated after saving the notebook, please ignore the duplicates):"
   ]
  },
  {
   "cell_type": "code",
   "execution_count": 29,
   "metadata": {},
   "outputs": [],
   "source": [
    "from statsmodels.graphics.gofplots import qqplot_2samples"
   ]
  },
  {
   "cell_type": "code",
   "execution_count": 30,
   "metadata": {},
   "outputs": [
    {
     "data": {
      "image/png": "[encoded data removed]",
      "text/plain": [
       "<Figure size 432x288 with 1 Axes>"
      ]
     },
     "execution_count": 30,
     "metadata": {},
     "output_type": "execute_result"
    },
    {
     "data": {
      "image/png": "[encoded data removed]",
      "text/plain": [
       "<Figure size 432x288 with 1 Axes>"
      ]
     },
     "metadata": {
      "needs_background": "light"
     },
     "output_type": "display_data"
    }
   ],
   "source": [
    "qqplot_2samples(\n",
    "    brca_expression.by_sample_type('tumor').mean(axis=1),\n",
    "    brca_expression.by_sample_type('normal').mean(axis=1),\n",
    ")"
   ]
  },
  {
   "cell_type": "code",
   "execution_count": 31,
   "metadata": {},
   "outputs": [
    {
     "data": {
      "image/png": "[encoded data removed]",
      "text/plain": [
       "<Figure size 432x288 with 1 Axes>"
      ]
     },
     "execution_count": 31,
     "metadata": {},
     "output_type": "execute_result"
    },
    {
     "data": {
      "image/png": "[encoded data removed]",
      "text/plain": [
       "<Figure size 432x288 with 1 Axes>"
      ]
     },
     "metadata": {
      "needs_background": "light"
     },
     "output_type": "display_data"
    }
   ],
   "source": [
    "qqplot_2samples(\n",
    "    brca_expression.by_sample_type('tumor', paired_against='normal').mean(axis=1),\n",
    "    brca_expression.by_sample_type('normal', paired_against='tumor').mean(axis=1),\n",
    ")"
   ]
  },
  {
   "cell_type": "markdown",
   "metadata": {},
   "source": [
    "## Input for signature scoring with early aggregation "
   ]
  },
  {
   "cell_type": "markdown",
   "metadata": {},
   "source": [
    "Some of the limma and GSVA scoring functions are designed to take multiple replicates of analyzed samples (cases) with multiple controls. Those methods require different type of input.\n",
    "\n",
    "For Drug Connectivity Map this was achieved by aggregating samples by a substance (ignoring the fact that samples coming from different cell lines might influence the result in a meaningful way) and using empty vectors (and other inert substances) as controls.\n",
    "\n",
    "For TCGA data it was natural to use raw sampels data."
   ]
  },
  {
   "cell_type": "code",
   "execution_count": 32,
   "metadata": {},
   "outputs": [],
   "source": [
    "from signature_scoring.models import TCGAExpressionWithControls, SubstancesCollectionWithControls"
   ]
  },
  {
   "cell_type": "code",
   "execution_count": 33,
   "metadata": {},
   "outputs": [],
   "source": [
    "brca_with_controls = TCGAExpressionWithControls(brca_expression)\n",
    "brca_with_controls.index = brca_with_controls.index.astype(bytes)"
   ]
  },
  {
   "cell_type": "code",
   "execution_count": 34,
   "metadata": {},
   "outputs": [
    {
     "data": {
      "text/plain": [
       "'<TCGAExpressionWithControls: 1100 cases, 112 controls>'"
      ]
     },
     "execution_count": 34,
     "metadata": {},
     "output_type": "execute_result"
    }
   ],
   "source": [
    "repr(brca_with_controls)"
   ]
  },
  {
   "cell_type": "code",
   "execution_count": 35,
   "metadata": {},
   "outputs": [],
   "source": [
    "indications_with_controls = SubstancesCollectionWithControls.from_signatures(indications_singatures)"
   ]
  }
 ],
 "metadata": {
  "kernelspec": {
   "display_name": "Python 3",
   "language": "python",
   "name": "python3"
  },
  "language_info": {
   "codemirror_mode": {
    "name": "ipython",
    "version": 3
   },
   "file_extension": ".py",
   "mimetype": "text/x-python",
   "name": "python",
   "nbconvert_exporter": "python",
   "pygments_lexer": "ipython3",
   "version": "3.6.7"
  }
 },
 "nbformat": 4,
 "nbformat_minor": 2
}
