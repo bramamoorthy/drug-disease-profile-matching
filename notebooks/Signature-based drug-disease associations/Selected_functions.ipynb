{
 "cells": [
  {
   "cell_type": "code",
   "execution_count": 1,
   "metadata": {},
   "outputs": [],
   "source": [
    "from helpers.notebooks import notebooks_importer"
   ]
  },
  {
   "cell_type": "code",
   "execution_count": 2,
   "metadata": {},
   "outputs": [],
   "source": [
    "%%capture\n",
    "from Benchmarking_setup import (\n",
    "    connectivity_score_cramér_von_mises,\n",
    "    x_sum,\n",
    "    score_spearman\n",
    ")\n",
    "selected_single_sample_functions = [\n",
    "    connectivity_score_cramér_von_mises,\n",
    "    x_sum,\n",
    "    score_spearman\n",
    "]"
   ]
  },
  {
   "cell_type": "code",
   "execution_count": 3,
   "metadata": {},
   "outputs": [],
   "source": [
    "from Benchmarking_setup import (\n",
    "    gsea_score_phenotypes_cuda_hallmarks,\n",
    "    gsea_score_phenotypes_cuda_reactome,\n",
    "    roast_score_by_substance\n",
    ")\n",
    "selected_multi_sample_functions = [\n",
    "    gsea_score_phenotypes_cuda_hallmarks,\n",
    "    gsea_score_phenotypes_cuda_reactome,\n",
    "    roast_score_by_substance\n",
    "]"
   ]
  },
  {
   "cell_type": "code",
   "execution_count": 4,
   "metadata": {},
   "outputs": [],
   "source": [
    "selected_functions = [\n",
    "    *selected_single_sample_functions,\n",
    "    *selected_multi_sample_functions\n",
    "]"
   ]
  }
 ],
 "metadata": {
  "kernelspec": {
   "display_name": "Python 3",
   "language": "python",
   "name": "python3"
  },
  "language_info": {
   "codemirror_mode": {
    "name": "ipython",
    "version": 3
   },
   "file_extension": ".py",
   "mimetype": "text/x-python",
   "name": "python",
   "nbconvert_exporter": "python",
   "pygments_lexer": "ipython3",
   "version": "3.7.0"
  }
 },
 "nbformat": 4,
 "nbformat_minor": 2
}
