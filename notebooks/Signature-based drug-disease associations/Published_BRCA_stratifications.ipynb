{
 "cells": [
  {
   "cell_type": "code",
   "execution_count": 1,
   "metadata": {},
   "outputs": [
    {
     "data": {
      "text/html": [
       "<style>.highlight .hll { background-color: #ffffcc }\n",
       ".highlight  { background: #f8f8f8; }\n",
       ".highlight .c { color: #408080; font-style: italic } /* Comment */\n",
       ".highlight .err { border: 1px solid #FF0000 } /* Error */\n",
       ".highlight .k { color: #008000; font-weight: bold } /* Keyword */\n",
       ".highlight .o { color: #666666 } /* Operator */\n",
       ".highlight .ch { color: #408080; font-style: italic } /* Comment.Hashbang */\n",
       ".highlight .cm { color: #408080; font-style: italic } /* Comment.Multiline */\n",
       ".highlight .cp { color: #BC7A00 } /* Comment.Preproc */\n",
       ".highlight .cpf { color: #408080; font-style: italic } /* Comment.PreprocFile */\n",
       ".highlight .c1 { color: #408080; font-style: italic } /* Comment.Single */\n",
       ".highlight .cs { color: #408080; font-style: italic } /* Comment.Special */\n",
       ".highlight .gd { color: #A00000 } /* Generic.Deleted */\n",
       ".highlight .ge { font-style: italic } /* Generic.Emph */\n",
       ".highlight .gr { color: #FF0000 } /* Generic.Error */\n",
       ".highlight .gh { color: #000080; font-weight: bold } /* Generic.Heading */\n",
       ".highlight .gi { color: #00A000 } /* Generic.Inserted */\n",
       ".highlight .go { color: #888888 } /* Generic.Output */\n",
       ".highlight .gp { color: #000080; font-weight: bold } /* Generic.Prompt */\n",
       ".highlight .gs { font-weight: bold } /* Generic.Strong */\n",
       ".highlight .gu { color: #800080; font-weight: bold } /* Generic.Subheading */\n",
       ".highlight .gt { color: #0044DD } /* Generic.Traceback */\n",
       ".highlight .kc { color: #008000; font-weight: bold } /* Keyword.Constant */\n",
       ".highlight .kd { color: #008000; font-weight: bold } /* Keyword.Declaration */\n",
       ".highlight .kn { color: #008000; font-weight: bold } /* Keyword.Namespace */\n",
       ".highlight .kp { color: #008000 } /* Keyword.Pseudo */\n",
       ".highlight .kr { color: #008000; font-weight: bold } /* Keyword.Reserved */\n",
       ".highlight .kt { color: #B00040 } /* Keyword.Type */\n",
       ".highlight .m { color: #666666 } /* Literal.Number */\n",
       ".highlight .s { color: #BA2121 } /* Literal.String */\n",
       ".highlight .na { color: #7D9029 } /* Name.Attribute */\n",
       ".highlight .nb { color: #008000 } /* Name.Builtin */\n",
       ".highlight .nc { color: #0000FF; font-weight: bold } /* Name.Class */\n",
       ".highlight .no { color: #880000 } /* Name.Constant */\n",
       ".highlight .nd { color: #AA22FF } /* Name.Decorator */\n",
       ".highlight .ni { color: #999999; font-weight: bold } /* Name.Entity */\n",
       ".highlight .ne { color: #D2413A; font-weight: bold } /* Name.Exception */\n",
       ".highlight .nf { color: #0000FF } /* Name.Function */\n",
       ".highlight .nl { color: #A0A000 } /* Name.Label */\n",
       ".highlight .nn { color: #0000FF; font-weight: bold } /* Name.Namespace */\n",
       ".highlight .nt { color: #008000; font-weight: bold } /* Name.Tag */\n",
       ".highlight .nv { color: #19177C } /* Name.Variable */\n",
       ".highlight .ow { color: #AA22FF; font-weight: bold } /* Operator.Word */\n",
       ".highlight .w { color: #bbbbbb } /* Text.Whitespace */\n",
       ".highlight .mb { color: #666666 } /* Literal.Number.Bin */\n",
       ".highlight .mf { color: #666666 } /* Literal.Number.Float */\n",
       ".highlight .mh { color: #666666 } /* Literal.Number.Hex */\n",
       ".highlight .mi { color: #666666 } /* Literal.Number.Integer */\n",
       ".highlight .mo { color: #666666 } /* Literal.Number.Oct */\n",
       ".highlight .sa { color: #BA2121 } /* Literal.String.Affix */\n",
       ".highlight .sb { color: #BA2121 } /* Literal.String.Backtick */\n",
       ".highlight .sc { color: #BA2121 } /* Literal.String.Char */\n",
       ".highlight .dl { color: #BA2121 } /* Literal.String.Delimiter */\n",
       ".highlight .sd { color: #BA2121; font-style: italic } /* Literal.String.Doc */\n",
       ".highlight .s2 { color: #BA2121 } /* Literal.String.Double */\n",
       ".highlight .se { color: #BB6622; font-weight: bold } /* Literal.String.Escape */\n",
       ".highlight .sh { color: #BA2121 } /* Literal.String.Heredoc */\n",
       ".highlight .si { color: #BB6688; font-weight: bold } /* Literal.String.Interpol */\n",
       ".highlight .sx { color: #008000 } /* Literal.String.Other */\n",
       ".highlight .sr { color: #BB6688 } /* Literal.String.Regex */\n",
       ".highlight .s1 { color: #BA2121 } /* Literal.String.Single */\n",
       ".highlight .ss { color: #19177C } /* Literal.String.Symbol */\n",
       ".highlight .bp { color: #008000 } /* Name.Builtin.Pseudo */\n",
       ".highlight .fm { color: #0000FF } /* Name.Function.Magic */\n",
       ".highlight .vc { color: #19177C } /* Name.Variable.Class */\n",
       ".highlight .vg { color: #19177C } /* Name.Variable.Global */\n",
       ".highlight .vi { color: #19177C } /* Name.Variable.Instance */\n",
       ".highlight .vm { color: #19177C } /* Name.Variable.Magic */\n",
       ".highlight .il { color: #666666 } /* Literal.Number.Integer.Long */.highlight{margin-left:10px!important; font-size:11px}</style>"
      ],
      "text/plain": [
       "<IPython.core.display.HTML object>"
      ]
     },
     "metadata": {},
     "output_type": "display_data"
    }
   ],
   "source": [
    "%matplotlib inline\n",
    "%load_ext autoreload\n",
    "%autoreload 2\n",
    "from utilities_namespace import *"
   ]
  },
  {
   "cell_type": "code",
   "execution_count": 2,
   "metadata": {},
   "outputs": [],
   "source": [
    "%%capture\n",
    "%load_ext rpy2.ipython\n",
    "%R require(ggplot2)"
   ]
  },
  {
   "cell_type": "code",
   "execution_count": 3,
   "metadata": {},
   "outputs": [],
   "source": [
    "from helpers.notebooks import notebooks_importer"
   ]
  },
  {
   "cell_type": "code",
   "execution_count": 4,
   "metadata": {},
   "outputs": [],
   "source": [
    "%%capture\n",
    "import Breast_cancer_data as data"
   ]
  },
  {
   "cell_type": "markdown",
   "metadata": {},
   "source": [
    "## Previously reported cancer stratification"
   ]
  },
  {
   "cell_type": "markdown",
   "metadata": {},
   "source": [
    "On example of a well studied breast invasive carcinoma (BRCA) cohort from TCGA, as studied and reported by TCGA PanCancer Atlas in 2018."
   ]
  },
  {
   "cell_type": "code",
   "execution_count": 5,
   "metadata": {},
   "outputs": [],
   "source": [
    "from data_sources.pan_cancer_atlas import PanCancerAtlas"
   ]
  },
  {
   "cell_type": "markdown",
   "metadata": {},
   "source": [
    "### PAM 50\n",
    "- based on mRNA expression\n",
    "- applied to breast cancer samples by (The Cancer Genome Atlas Network, 2012)"
   ]
  },
  {
   "cell_type": "code",
   "execution_count": 6,
   "metadata": {},
   "outputs": [
    {
     "name": "stdout",
     "output_type": "stream",
     "text": [
      "Please refer to https://www.bioconductor.org/packages/devel/bioc/vignettes/TCGAbiolinks/inst/doc/subtypes.html for the source of data for specific cohorts\n"
     ]
    }
   ],
   "source": [
    "pam50_subtypes = PanCancerAtlas().subtypes_curated()"
   ]
  },
  {
   "cell_type": "code",
   "execution_count": 7,
   "metadata": {},
   "outputs": [],
   "source": [
    "pam50_brca = pam50_subtypes[pam50_subtypes.cancer_type == 'BRCA']"
   ]
  },
  {
   "cell_type": "code",
   "execution_count": 8,
   "metadata": {},
   "outputs": [
    {
     "data": {
      "text/html": [
       "<div>\n",
       "<style scoped>\n",
       "    .dataframe tbody tr th:only-of-type {\n",
       "        vertical-align: middle;\n",
       "    }\n",
       "\n",
       "    .dataframe tbody tr th {\n",
       "        vertical-align: top;\n",
       "    }\n",
       "\n",
       "    .dataframe thead th {\n",
       "        text-align: right;\n",
       "    }\n",
       "</style>\n",
       "<table border=\"1\" class=\"dataframe\">\n",
       "  <thead>\n",
       "    <tr style=\"text-align: right;\">\n",
       "      <th></th>\n",
       "      <th>pan_samplesid</th>\n",
       "      <th>cancer_type</th>\n",
       "      <th>subtype_mrna</th>\n",
       "      <th>subtype_protein</th>\n",
       "      <th>subtype_selected</th>\n",
       "      <th>participant</th>\n",
       "    </tr>\n",
       "  </thead>\n",
       "  <tbody>\n",
       "    <tr>\n",
       "      <th>407</th>\n",
       "      <td>TCGA-E2-A158-11A-22R-A12D-07</td>\n",
       "      <td>BRCA</td>\n",
       "      <td>Normal</td>\n",
       "      <td>-2147483648</td>\n",
       "      <td>BRCA.Normal</td>\n",
       "      <td>A158</td>\n",
       "    </tr>\n",
       "    <tr>\n",
       "      <th>408</th>\n",
       "      <td>TCGA-BH-A0DD-11A-23R-A12P-07</td>\n",
       "      <td>BRCA</td>\n",
       "      <td>LumA</td>\n",
       "      <td>-2147483648</td>\n",
       "      <td>BRCA.LumA</td>\n",
       "      <td>A0DD</td>\n",
       "    </tr>\n",
       "    <tr>\n",
       "      <th>409</th>\n",
       "      <td>TCGA-BH-A1EO-11A-31R-A137-07</td>\n",
       "      <td>BRCA</td>\n",
       "      <td>LumA</td>\n",
       "      <td>-2147483648</td>\n",
       "      <td>BRCA.LumA</td>\n",
       "      <td>A1EO</td>\n",
       "    </tr>\n",
       "    <tr>\n",
       "      <th>410</th>\n",
       "      <td>TCGA-BH-A0B5-11A-23R-A12P-07</td>\n",
       "      <td>BRCA</td>\n",
       "      <td>LumA</td>\n",
       "      <td>-2147483648</td>\n",
       "      <td>BRCA.LumA</td>\n",
       "      <td>A0B5</td>\n",
       "    </tr>\n",
       "    <tr>\n",
       "      <th>411</th>\n",
       "      <td>TCGA-A7-A13G-11A-51R-A13Q-07</td>\n",
       "      <td>BRCA</td>\n",
       "      <td>LumA</td>\n",
       "      <td>-2147483648</td>\n",
       "      <td>BRCA.LumA</td>\n",
       "      <td>A13G</td>\n",
       "    </tr>\n",
       "  </tbody>\n",
       "</table>\n",
       "</div>"
      ],
      "text/plain": [
       "                    pan_samplesid cancer_type subtype_mrna  subtype_protein  \\\n",
       "407  TCGA-E2-A158-11A-22R-A12D-07        BRCA       Normal      -2147483648   \n",
       "408  TCGA-BH-A0DD-11A-23R-A12P-07        BRCA         LumA      -2147483648   \n",
       "409  TCGA-BH-A1EO-11A-31R-A137-07        BRCA         LumA      -2147483648   \n",
       "410  TCGA-BH-A0B5-11A-23R-A12P-07        BRCA         LumA      -2147483648   \n",
       "411  TCGA-A7-A13G-11A-51R-A13Q-07        BRCA         LumA      -2147483648   \n",
       "\n",
       "    subtype_selected participant  \n",
       "407      BRCA.Normal        A158  \n",
       "408        BRCA.LumA        A0DD  \n",
       "409        BRCA.LumA        A1EO  \n",
       "410        BRCA.LumA        A0B5  \n",
       "411        BRCA.LumA        A13G  "
      ]
     },
     "execution_count": 8,
     "metadata": {},
     "output_type": "execute_result"
    }
   ],
   "source": [
    "pam50_brca.dropna(axis=1).head()"
   ]
  },
  {
   "cell_type": "markdown",
   "metadata": {},
   "source": [
    "For detailed description see: https://www.bioconductor.org/packages/devel/bioc/vignettes/TCGAbiolinks/inst/doc/subtypes.html"
   ]
  },
  {
   "cell_type": "markdown",
   "metadata": {},
   "source": [
    "The *Subtype_Selected* column is equivalent to mRNA for BRCA:"
   ]
  },
  {
   "cell_type": "code",
   "execution_count": 9,
   "metadata": {},
   "outputs": [],
   "source": [
    "assert ((pam50_brca.cancer_type + '.' + pam50_brca.subtype_mrna) == pam50_brca.subtype_selected).all()"
   ]
  },
  {
   "cell_type": "markdown",
   "metadata": {},
   "source": [
    "While *Subtype_protein* has no variance at all:"
   ]
  },
  {
   "cell_type": "code",
   "execution_count": 10,
   "metadata": {},
   "outputs": [
    {
     "data": {
      "text/plain": [
       "array([-2147483648])"
      ]
     },
     "execution_count": 10,
     "metadata": {},
     "output_type": "execute_result"
    }
   ],
   "source": [
    "pam50_brca.subtype_protein.unique()"
   ]
  },
  {
   "cell_type": "markdown",
   "metadata": {},
   "source": [
    "There are five subtypes in PAM 50 model:"
   ]
  },
  {
   "cell_type": "code",
   "execution_count": 11,
   "metadata": {},
   "outputs": [
    {
     "data": {
      "text/plain": [
       "LumA      581\n",
       "LumB      219\n",
       "Basal     193\n",
       "Normal    143\n",
       "Her2       82\n",
       "Name: subtype_mrna, dtype: int64"
      ]
     },
     "execution_count": 11,
     "metadata": {},
     "output_type": "execute_result"
    }
   ],
   "source": [
    "pam50_brca.subtype_mrna.value_counts()"
   ]
  },
  {
   "cell_type": "markdown",
   "metadata": {},
   "source": [
    "#### Coverage of PAM 50\n",
    "\n",
    "There are subtypes assigned for every sample in BRCA cohort:"
   ]
  },
  {
   "cell_type": "code",
   "execution_count": 12,
   "metadata": {},
   "outputs": [],
   "source": [
    "samples = set(data.brca_expression.columns)\n",
    "pam_50_samples = set(pam50_brca.pan_samplesid)"
   ]
  },
  {
   "cell_type": "code",
   "execution_count": 13,
   "metadata": {},
   "outputs": [
    {
     "data": {
      "text/plain": [
       "1.0"
      ]
     },
     "execution_count": 13,
     "metadata": {},
     "output_type": "execute_result"
    }
   ],
   "source": [
    "len(samples & pam_50_samples) / len(samples)"
   ]
  },
  {
   "cell_type": "code",
   "execution_count": 14,
   "metadata": {},
   "outputs": [
    {
     "data": {
      "text/plain": [
       "LumA      568\n",
       "LumB      217\n",
       "Basal     192\n",
       "Normal    140\n",
       "Her2       82\n",
       "Name: 0, dtype: int64"
      ]
     },
     "execution_count": 14,
     "metadata": {},
     "output_type": "execute_result"
    }
   ],
   "source": [
    "df = pam50_brca.set_index('participant')[['subtype_mrna']].unstack().reset_index()\n",
    "df.drop_duplicates()[0].value_counts()"
   ]
  },
  {
   "cell_type": "markdown",
   "metadata": {},
   "source": [
    "#### PAM 50 allows to consider cancer heteregonity"
   ]
  },
  {
   "cell_type": "markdown",
   "metadata": {},
   "source": [
    "Worth noting: in some cases there is more than one subtype per participant (which is kind of obvious when considering the cancer heterogeneity):"
   ]
  },
  {
   "cell_type": "code",
   "execution_count": 15,
   "metadata": {},
   "outputs": [],
   "source": [
    "heterogenous = pam50_brca.groupby('participant').filter(lambda row: len(set(row.subtype_mrna)) > 1)"
   ]
  },
  {
   "cell_type": "code",
   "execution_count": 16,
   "metadata": {},
   "outputs": [],
   "source": [
    "# ignore multiple samples (just look at the participants)\n",
    "heterogenous_participants = heterogenous.drop_duplicates(subset=['participant', 'subtype_mrna'])[['participant', 'subtype_mrna']]"
   ]
  },
  {
   "cell_type": "code",
   "execution_count": 17,
   "metadata": {},
   "outputs": [
    {
     "name": "stdout",
     "output_type": "stream",
     "text": [
      "There are 102 participants (out of 1097) with heterogenity, so about 9.30%\n"
     ]
    }
   ],
   "source": [
    "h = len(heterogenous_participants.participant.unique())\n",
    "a = len(pam50_brca.participant.unique())\n",
    "print(f'There are {h} participants (out of {a}) with heterogenity, so about {h/a*100:.2f}%')"
   ]
  },
  {
   "cell_type": "code",
   "execution_count": 18,
   "metadata": {},
   "outputs": [
    {
     "data": {
      "image/png": "[encoded data removed]"
     },
     "metadata": {},
     "output_type": "display_data"
    }
   ],
   "source": [
    "%%R -i heterogenous_participants -w 950 -h 400 -u px\n",
    "(\n",
    "    ggplot(heterogenous_participants, aes(x=participant, y=subtype_mrna, fill=subtype_mrna))\n",
    "    + geom_tile()\n",
    "    + theme(axis.text.x=element_text(angle=90))\n",
    ")"
   ]
  },
  {
   "cell_type": "code",
   "execution_count": 19,
   "metadata": {},
   "outputs": [],
   "source": [
    "heterogenous_groups = heterogenous_participants.groupby('participant').subtype_mrna.apply(lambda subtypes: ' and '.join(sorted(set(subtypes)))).to_dict()\n",
    "heterogenous_participants['grouped'] = heterogenous_participants.participant.map(heterogenous_groups)\n",
    "count_fraction = heterogenous_participants.groupby('participant').subtype_mrna.apply(lambda subtypes: 1/len(set(subtypes))).to_dict()\n",
    "heterogenous_participants['Count'] = heterogenous_participants.participant.map(count_fraction)"
   ]
  },
  {
   "cell_type": "code",
   "execution_count": 20,
   "metadata": {},
   "outputs": [],
   "source": [
    "heterogenous_participants = heterogenous_participants.sort_values('grouped')"
   ]
  },
  {
   "cell_type": "code",
   "execution_count": 21,
   "metadata": {},
   "outputs": [
    {
     "data": {
      "image/png": "[encoded data removed]"
     },
     "metadata": {},
     "output_type": "display_data"
    }
   ],
   "source": [
    "%%R -i heterogenous_participants -w 700 -h 850 -u px\n",
    "library(ggalluvial)\n",
    "g = (\n",
    "    ggplot(heterogenous_participants, aes(axis1=subtype_mrna, axis2=grouped, y=Count))\n",
    "    + ggalluvial::geom_alluvium(aes(fill=subtype_mrna))\n",
    "    + ggalluvial::geom_stratum(width=1/3, fill='white', color = 'grey')\n",
    "    + ggfittext::geom_fit_text(stat='stratum', label.strata=T, min.size=3, width=1/4)\n",
    "    + scale_x_continuous(breaks=1:2, labels = c('Subtype', 'Subtypes combination'))\n",
    "    + ylab('Participants count')\n",
    "    #+ ggtitle('BRCA heteregonity in TCGA (PAM 50)')\n",
    "    + labs(fill='PAM 50 subtype')\n",
    "    + theme(\n",
    "        legend.position='bottom',\n",
    "        legend.margin=margin(t=-.2, unit='cm'),\n",
    "    )\n",
    ")\n",
    "ggsave(file=\"pam50_heterogenity.png\", plot=g, width=7*1.4, height=8.5*1.4, dpi=140)\n",
    "g"
   ]
  },
  {
   "cell_type": "markdown",
   "metadata": {},
   "source": [
    "### iCluster\n",
    "- based on copy number, DNA methylation, mRNA and miRNA\n",
    "- applied to all cancer types (pan-cancer clustering) by (Hoadley et al., 2018)."
   ]
  },
  {
   "cell_type": "code",
   "execution_count": 22,
   "metadata": {},
   "outputs": [],
   "source": [
    "icluster_subtypes = PanCancerAtlas().icluster()"
   ]
  },
  {
   "cell_type": "code",
   "execution_count": 23,
   "metadata": {},
   "outputs": [],
   "source": [
    "icluster_subtypes.icluster = 'IC' + icluster_subtypes.icluster.astype(str)"
   ]
  },
  {
   "cell_type": "code",
   "execution_count": 24,
   "metadata": {},
   "outputs": [],
   "source": [
    "participants_with_brca = {\n",
    "    barcode.participant\n",
    "    for barcode in data.brca_expression.barcodes\n",
    "}"
   ]
  },
  {
   "cell_type": "code",
   "execution_count": 25,
   "metadata": {},
   "outputs": [],
   "source": [
    "icluster_brca = icluster_subtypes[icluster_subtypes.participant.isin(participants_with_brca)]"
   ]
  },
  {
   "cell_type": "code",
   "execution_count": 26,
   "metadata": {},
   "outputs": [
    {
     "data": {
      "text/html": [
       "<div>\n",
       "<style scoped>\n",
       "    .dataframe tbody tr th:only-of-type {\n",
       "        vertical-align: middle;\n",
       "    }\n",
       "\n",
       "    .dataframe tbody tr th {\n",
       "        vertical-align: top;\n",
       "    }\n",
       "\n",
       "    .dataframe thead th {\n",
       "        text-align: right;\n",
       "    }\n",
       "</style>\n",
       "<table border=\"1\" class=\"dataframe\">\n",
       "  <thead>\n",
       "    <tr style=\"text-align: right;\">\n",
       "      <th></th>\n",
       "      <th>sample_id</th>\n",
       "      <th>icluster</th>\n",
       "      <th>participant</th>\n",
       "    </tr>\n",
       "  </thead>\n",
       "  <tbody>\n",
       "    <tr>\n",
       "      <th>4759</th>\n",
       "      <td>TCGA-3C-AAAU</td>\n",
       "      <td>IC19</td>\n",
       "      <td>AAAU</td>\n",
       "    </tr>\n",
       "    <tr>\n",
       "      <th>4760</th>\n",
       "      <td>TCGA-3C-AALI</td>\n",
       "      <td>IC2</td>\n",
       "      <td>AALI</td>\n",
       "    </tr>\n",
       "    <tr>\n",
       "      <th>4761</th>\n",
       "      <td>TCGA-3C-AALJ</td>\n",
       "      <td>IC17</td>\n",
       "      <td>AALJ</td>\n",
       "    </tr>\n",
       "    <tr>\n",
       "      <th>4762</th>\n",
       "      <td>TCGA-3C-AALK</td>\n",
       "      <td>IC2</td>\n",
       "      <td>AALK</td>\n",
       "    </tr>\n",
       "    <tr>\n",
       "      <th>4763</th>\n",
       "      <td>TCGA-4H-AAAK</td>\n",
       "      <td>IC19</td>\n",
       "      <td>AAAK</td>\n",
       "    </tr>\n",
       "  </tbody>\n",
       "</table>\n",
       "</div>"
      ],
      "text/plain": [
       "         sample_id icluster participant\n",
       "4759  TCGA-3C-AAAU     IC19        AAAU\n",
       "4760  TCGA-3C-AALI      IC2        AALI\n",
       "4761  TCGA-3C-AALJ     IC17        AALJ\n",
       "4762  TCGA-3C-AALK      IC2        AALK\n",
       "4763  TCGA-4H-AAAK     IC19        AAAK"
      ]
     },
     "execution_count": 26,
     "metadata": {},
     "output_type": "execute_result"
    }
   ],
   "source": [
    "icluster_brca.head()"
   ]
  },
  {
   "cell_type": "markdown",
   "metadata": {},
   "source": [
    "Some subtypes are assigned to only few (or even one) participants. Those may be mis-classifications or patients with metastasis (or just multiple cancers)."
   ]
  },
  {
   "cell_type": "code",
   "execution_count": 27,
   "metadata": {},
   "outputs": [
    {
     "data": {
      "text/html": [
       "\n",
       "        <table class='namespace'>\n",
       "            <tr><td><b>IC19</b></td><td><b>IC17</b></td><td><b>IC2</b></td><td><b>IC20</b></td><td><b>IC13</b></td><td><b>IC25</b></td><td><b>IC14</b></td><td><b>IC10</b></td><td><b>IC8</b></td><td><b>IC27</b></td><td><b>IC7</b></td><td><b>IC3</b></td><td><b>IC1</b></td><td><b>IC22</b></td><td><b>IC23</b></td></tr><tr><td>553</td><td>125</td><td>98</td><td>78</td><td>68</td><td>39</td><td>17</td><td>16</td><td>10</td><td>10</td><td>9</td><td>4</td><td>1</td><td>1</td><td>1</td></tr>\n",
       "        </table>"
      ],
      "text/plain": [
       "HorizontalNamespace(IC1=1, IC10=16, IC13=68, IC14=17, IC17=125, IC19=553, IC2=98, IC20=78, IC22=1, IC23=1, IC25=39, IC27=10, IC3=4, IC7=9, IC8=10)"
      ]
     },
     "execution_count": 27,
     "metadata": {},
     "output_type": "execute_result"
    }
   ],
   "source": [
    "# upper numbers = custers, lower row = participants counts\n",
    "HorizontalNamespace(icluster_brca.icluster.value_counts())"
   ]
  },
  {
   "cell_type": "markdown",
   "metadata": {},
   "source": [
    "For the analysis I will exclude clusters with less than 3 samples (required number of samples for differential expression with signal-to-ratio and tTest metrics):"
   ]
  },
  {
   "cell_type": "code",
   "execution_count": 28,
   "metadata": {},
   "outputs": [],
   "source": [
    "samples_by_participant = data.brca_expression.samples_by_participant()"
   ]
  },
  {
   "cell_type": "code",
   "execution_count": 29,
   "metadata": {},
   "outputs": [],
   "source": [
    "def sampels_count_in_cluster(participants):\n",
    "    return sum([\n",
    "        len(samples_by_participant[participant])\n",
    "        for participant in participants\n",
    "    ])"
   ]
  },
  {
   "cell_type": "code",
   "execution_count": 30,
   "metadata": {},
   "outputs": [],
   "source": [
    "sampels_in_cluster = icluster_brca.groupby('icluster').participant.apply(sampels_count_in_cluster)"
   ]
  },
  {
   "cell_type": "code",
   "execution_count": 31,
   "metadata": {},
   "outputs": [
    {
     "data": {
      "text/html": [
       "\n",
       "        <table class='namespace'>\n",
       "            <tr><td><b>IC1</b></td><td><b>IC10</b></td><td><b>IC13</b></td><td><b>IC14</b></td><td><b>IC17</b></td><td><b>IC19</b></td><td><b>IC2</b></td><td><b>IC20</b></td><td><b>IC22</b></td><td><b>IC23</b></td><td><b>IC25</b></td><td><b>IC27</b></td><td><b>IC3</b></td><td><b>IC7</b></td><td><b>IC8</b></td></tr><tr><td>2</td><td>18</td><td>75</td><td>20</td><td>136</td><td>620</td><td>108</td><td>84</td><td>1</td><td>1</td><td>44</td><td>11</td><td>4</td><td>11</td><td>11</td></tr>\n",
       "        </table>"
      ],
      "text/plain": [
       "HorizontalNamespace(IC1=2, IC10=18, IC13=75, IC14=20, IC17=136, IC19=620, IC2=108, IC20=84, IC22=1, IC23=1, IC25=44, IC27=11, IC3=4, IC7=11, IC8=11)"
      ]
     },
     "execution_count": 31,
     "metadata": {},
     "output_type": "execute_result"
    }
   ],
   "source": [
    "# upper numbers = custers, lower row = samples counts\n",
    "HorizontalNamespace(sampels_in_cluster)"
   ]
  },
  {
   "cell_type": "code",
   "execution_count": 32,
   "metadata": {},
   "outputs": [],
   "source": [
    "selecetd_clusters = set(sampels_in_cluster[sampels_in_cluster > 3].index)\n",
    "icluster_brca_selected = icluster_brca[icluster_brca.icluster.isin(selecetd_clusters)]"
   ]
  },
  {
   "cell_type": "code",
   "execution_count": 33,
   "metadata": {},
   "outputs": [
    {
     "data": {
      "text/html": [
       "\n",
       "        <table class='namespace'>\n",
       "            <tr><td><b>IC19</b></td><td><b>IC17</b></td><td><b>IC2</b></td><td><b>IC20</b></td><td><b>IC13</b></td><td><b>IC25</b></td><td><b>IC14</b></td><td><b>IC10</b></td><td><b>IC8</b></td><td><b>IC27</b></td><td><b>IC7</b></td><td><b>IC3</b></td></tr><tr><td>553</td><td>125</td><td>98</td><td>78</td><td>68</td><td>39</td><td>17</td><td>16</td><td>10</td><td>10</td><td>9</td><td>4</td></tr>\n",
       "        </table>"
      ],
      "text/plain": [
       "HorizontalNamespace(IC10=16, IC13=68, IC14=17, IC17=125, IC19=553, IC2=98, IC20=78, IC25=39, IC27=10, IC3=4, IC7=9, IC8=10)"
      ]
     },
     "execution_count": 33,
     "metadata": {},
     "output_type": "execute_result"
    }
   ],
   "source": [
    "# upper numbers = custers, lower row = participants counts\n",
    "HorizontalNamespace(icluster_brca_selected.icluster.value_counts())"
   ]
  },
  {
   "cell_type": "markdown",
   "metadata": {},
   "source": [
    "#### Coverage of iCluster subtypes"
   ]
  },
  {
   "cell_type": "markdown",
   "metadata": {},
   "source": [
    "The coverage is high when all subtypes are included (94.24%)"
   ]
  },
  {
   "cell_type": "code",
   "execution_count": 34,
   "metadata": {},
   "outputs": [
    {
     "data": {
      "text/plain": [
       "0.9423604757548033"
      ]
     },
     "execution_count": 34,
     "metadata": {},
     "output_type": "execute_result"
    }
   ],
   "source": [
    "participants_icluster = set(icluster_brca.participant)\n",
    "len(participants_with_brca & participants_icluster) / len(participants_with_brca)"
   ]
  },
  {
   "cell_type": "markdown",
   "metadata": {},
   "source": [
    "And remains comparable (93.96%) after exclusion of the three small clusters:"
   ]
  },
  {
   "cell_type": "code",
   "execution_count": 35,
   "metadata": {},
   "outputs": [
    {
     "data": {
      "text/plain": [
       "0.939615736505032"
      ]
     },
     "execution_count": 35,
     "metadata": {},
     "output_type": "execute_result"
    }
   ],
   "source": [
    "participants_icluster_selected = set(icluster_brca_selected.participant)\n",
    "len(participants_with_brca & participants_icluster_selected) / len(participants_with_brca)"
   ]
  },
  {
   "cell_type": "markdown",
   "metadata": {},
   "source": [
    "### PARADIGM\n",
    "- based on mRNA expression, copy number and pathway interaction data (NCIPID, BioCarta, Reactome),\n",
    "- \"PARADIGM pathway analysis followed by unsupervised consensus clustering of pathway scores that clustered samples primarily by tissue type\"\n",
    "- applied to gynecologic and breast cancers by (Berger et al., 2018),"
   ]
  },
  {
   "cell_type": "markdown",
   "metadata": {},
   "source": [
    "Methodology extracts (open access, [CC BY-NC-ND 4.0](https://creativecommons.org/licenses/by-nc-nd/4.0/), Berger et al):\n",
    "\n",
    "> The PARADIGM algorithm infers an integrated pathway level (IPL) for each feature that reflects the log likelihood of the probability that it is activated (vs. inactivated). PARADIGM IPLs of the 19504 features within the SuperPathway is available on Synapse (syn6171376).\n",
    "\n",
    "> We also computed the single sample gene set enrichment (ssGSEA) score, as described by Barbie et al (Barbie et al., 2009), of the constituent pathways forming the SuperPathway structure from the PARADIGM IPL data using the GSVA package in R (Hänzelmann et al., 2013). Of the 1524 pathways obtained, only 1387 have pathway members within the interconnected SuperPathway structure; and their ssGSEA scores are available on Synapse (syn10184122).\n",
    "\n",
    "> Consensus Clustering based on PARADIGM Inferred Pathway Activation\n",
    "Consensus clustering based on the 4876 most varying features (i.e. IPLs with variance within the highest quartile) was used to identify Pan-Gynecological subtypes implicated from shared patterns of pathway inference. Consensus clustering was implemented with the ConsensusClusterPlus package in R (Wilkerson and Hayes, 2010)"
   ]
  },
  {
   "cell_type": "code",
   "execution_count": 36,
   "metadata": {},
   "outputs": [
    {
     "name": "stderr",
     "output_type": "stream",
     "text": [
      "/home/krassowski/.pyenv/versions/3.7.0/envs/drug_discovery/lib/python3.7/site-packages/rpy2/rinterface/__init__.py:146: RRuntimeWarning: brca subtype information from:doi.org/10.1016/j.ccell.2018.03.014\n",
      "\n",
      "  warnings.warn(x, RRuntimeWarning)\n"
     ]
    }
   ],
   "source": [
    "brca_subtypes_integrative = PanCancerAtlas().subtypes_integrative('BRCA')"
   ]
  },
  {
   "cell_type": "code",
   "execution_count": 37,
   "metadata": {},
   "outputs": [],
   "source": [
    "# just to avoid confusion with Pan-Gyn clusters names\n",
    "brca_subtypes_integrative.paradigm_clusters = 'PR' + brca_subtypes_integrative.paradigm_clusters"
   ]
  },
  {
   "cell_type": "code",
   "execution_count": 38,
   "metadata": {},
   "outputs": [],
   "source": [
    "paradigm_brca = brca_subtypes_integrative.dropna(subset=['paradigm_clusters'])"
   ]
  },
  {
   "cell_type": "code",
   "execution_count": 39,
   "metadata": {},
   "outputs": [
    {
     "data": {
      "text/html": [
       "\n",
       "        <table class='namespace'>\n",
       "            <tr><td><b>PRC5</b></td><td><b>PRC6</b></td><td><b>PRC4</b></td><td><b>PRC8</b></td><td><b>PRC2</b></td><td><b>PRC1</b></td><td><b>PRC7</b></td></tr><tr><td>356</td><td>271</td><td>247</td><td>103</td><td>75</td><td>1</td><td>1</td></tr>\n",
       "        </table>"
      ],
      "text/plain": [
       "HorizontalNamespace(PRC1=1, PRC2=75, PRC4=247, PRC5=356, PRC6=271, PRC7=1, PRC8=103)"
      ]
     },
     "execution_count": 39,
     "metadata": {},
     "output_type": "execute_result"
    }
   ],
   "source": [
    "HorizontalNamespace(paradigm_brca.paradigm_clusters.value_counts())"
   ]
  },
  {
   "cell_type": "markdown",
   "metadata": {},
   "source": [
    "Clusters with less than 3 samples are (again) excluded:"
   ]
  },
  {
   "cell_type": "code",
   "execution_count": 40,
   "metadata": {},
   "outputs": [],
   "source": [
    "sampels_in_cluster = paradigm_brca.groupby('paradigm_clusters').participant.apply(sampels_count_in_cluster)"
   ]
  },
  {
   "cell_type": "code",
   "execution_count": 41,
   "metadata": {},
   "outputs": [],
   "source": [
    "selecetd_clusters = set(sampels_in_cluster[sampels_in_cluster > 3].index)\n",
    "paradigm_brca_selected = paradigm_brca[paradigm_brca.paradigm_clusters.isin(selecetd_clusters)]"
   ]
  },
  {
   "cell_type": "code",
   "execution_count": 42,
   "metadata": {},
   "outputs": [
    {
     "data": {
      "text/html": [
       "\n",
       "        <table class='namespace'>\n",
       "            <tr><td><b>PRC5</b></td><td><b>PRC6</b></td><td><b>PRC4</b></td><td><b>PRC8</b></td><td><b>PRC2</b></td></tr><tr><td>356</td><td>271</td><td>247</td><td>103</td><td>75</td></tr>\n",
       "        </table>"
      ],
      "text/plain": [
       "HorizontalNamespace(PRC2=75, PRC4=247, PRC5=356, PRC6=271, PRC8=103)"
      ]
     },
     "execution_count": 42,
     "metadata": {},
     "output_type": "execute_result"
    }
   ],
   "source": [
    "HorizontalNamespace(paradigm_brca_selected.paradigm_clusters.value_counts())"
   ]
  },
  {
   "cell_type": "markdown",
   "metadata": {},
   "source": [
    "#### Coverage of PARADIGM clustering"
   ]
  },
  {
   "cell_type": "markdown",
   "metadata": {},
   "source": [
    "Is again, high: 96.07%"
   ]
  },
  {
   "cell_type": "code",
   "execution_count": 43,
   "metadata": {},
   "outputs": [
    {
     "data": {
      "text/plain": [
       "0.9606587374199451"
      ]
     },
     "execution_count": 43,
     "metadata": {},
     "output_type": "execute_result"
    }
   ],
   "source": [
    "participants_paradigm = set(paradigm_brca_selected.participant)\n",
    "len(participants_with_brca & participants_paradigm) / len(participants_with_brca)"
   ]
  },
  {
   "cell_type": "markdown",
   "metadata": {},
   "source": [
    "### Cluster of Cluster Assignments (CoCA) integrative analysis"
   ]
  },
  {
   "cell_type": "markdown",
   "metadata": {},
   "source": [
    "> We used cluster assignments from the six major TCGA platforms (mutations, SCNA, DNA methylation, mRNA, miRNA, and protein) to perform integrated clustering across the Pan-Gyn cohort using the CoCA algorithm. \n",
    "\n",
    "> The resulting CoCA clusters were heavily dominated by tumor type because the intrinsic gene expression patterns were lineage dependent. The association with tumor type was especially prominent in the DNA methylation, mRNA, miRNA, and protein clusters.\n",
    "\n",
    "> Therefore, we turned to an alternative method (described next) to define subtypes that would span the Pan-Gyn tumor types and emphasize high-level similarities among them."
   ]
  },
  {
   "cell_type": "markdown",
   "metadata": {},
   "source": [
    "It seems that the CoCA clusters are not included (which seems ok, given that related figure only made it to supplementary files), but there are clusterings for each of the molecular platforms! So I could re-use these (but looking at BRCA only) and possibly get something interesting. Actually, there are many interesting ways of doing the consensus clustering...\n",
    "\n",
    "But lets skip it for now as there are more pressing matters."
   ]
  },
  {
   "cell_type": "markdown",
   "metadata": {},
   "source": [
    "### Subtypes across the Pan-Gyn Tumors\n",
    "> We present molecular subtypes that illuminate commonalities and distinguishing features across the Pan-Gyn tumor types, with the potential to inform future cross-tumor-type therapies. We first identified 16 features (listed in the STAR Methods) across 1,956 samples that were either (1) currently used in the clinic for at least 1 of the 5 tumor types, or (2) identified as informative in previous TCGA gynecologic and breast cancer studies\n",
    "\n",
    "this is less granular clustering than PAM 50, but captures similarities on a higher level (as other gynecologic tumours were considered as well). Two examples, just to give an idea of the cluster meanings:\n",
    "\n",
    "> SCNA load was the predominant feature and produced the first division. In the low-SCNA-load group, we found two clusters, non-hypermutator (C1) and hypermutator (C2). The non-hypermutator cluster had virtually no hypermutators but had high levels of ER+, PR+, and/or AR+ samples, indicating potential susceptibility to hormone therapies. C2, the hypermutator cluster, could be further subdivided into four subclusters (clusters C2A-C2D)."
   ]
  },
  {
   "cell_type": "markdown",
   "metadata": {},
   "source": [
    "Sanity check: this clustering should have five clusters: C1-C5"
   ]
  },
  {
   "cell_type": "code",
   "execution_count": 44,
   "metadata": {},
   "outputs": [],
   "source": [
    "pan_gyn_clusters_brca = brca_subtypes_integrative.dropna(subset=['pan_gyn_clusters'])"
   ]
  },
  {
   "cell_type": "code",
   "execution_count": 45,
   "metadata": {},
   "outputs": [
    {
     "data": {
      "text/html": [
       "\n",
       "        <table class='namespace'>\n",
       "            <tr><td><b>C1</b></td><td><b>C3</b></td><td><b>C5</b></td><td><b>C4</b></td><td><b>C2</b></td></tr><tr><td>300</td><td>198</td><td>183</td><td>144</td><td>52</td></tr>\n",
       "        </table>"
      ],
      "text/plain": [
       "HorizontalNamespace(C1=300, C2=52, C3=198, C4=144, C5=183)"
      ]
     },
     "execution_count": 45,
     "metadata": {},
     "output_type": "execute_result"
    }
   ],
   "source": [
    "HorizontalNamespace(pan_gyn_clusters_brca.pan_gyn_clusters.value_counts())"
   ]
  },
  {
   "cell_type": "markdown",
   "metadata": {},
   "source": [
    "#### Coverage of Pan-Gyn"
   ]
  },
  {
   "cell_type": "markdown",
   "metadata": {},
   "source": [
    "For pan-gyn clusters the coverage is relatively low (79.78% participants);"
   ]
  },
  {
   "cell_type": "code",
   "execution_count": 46,
   "metadata": {},
   "outputs": [
    {
     "data": {
      "text/plain": [
       "0.797804208600183"
      ]
     },
     "execution_count": 46,
     "metadata": {},
     "output_type": "execute_result"
    }
   ],
   "source": [
    "participants_pan_gyn = set(pan_gyn_clusters_brca.participant)\n",
    "len(participants_with_brca & participants_pan_gyn) / len(participants_with_brca)"
   ]
  },
  {
   "cell_type": "markdown",
   "metadata": {},
   "source": [
    "## Summary"
   ]
  },
  {
   "cell_type": "markdown",
   "metadata": {},
   "source": [
    "Only curated PAM 50 subtypes are sample specific. Clusters from other papers are assigned to participants (patients), not to samples - which kind of makes sense, once we combine information from different omics we no longer have a single sample (unless we could match e.g. DNA/expression samples). But then the heterogeneity information is lost as well - which means that for about 10% of participants the explanations will be incomplete."
   ]
  },
  {
   "cell_type": "markdown",
   "metadata": {
    "toc-hr-collapsed": false
   },
   "source": [
    "### All stratifications together"
   ]
  },
  {
   "cell_type": "markdown",
   "metadata": {},
   "source": [
    "#### Participant-level"
   ]
  },
  {
   "cell_type": "code",
   "execution_count": 47,
   "metadata": {},
   "outputs": [],
   "source": [
    "pam50_adapted = pam50_brca[['participant', 'subtype_mrna']].drop_duplicates()\n",
    "pam50_adapted.subtype_mrna = pam50_adapted.participant.map(heterogenous_groups).fillna(pam50_adapted.subtype_mrna)"
   ]
  },
  {
   "cell_type": "code",
   "execution_count": 48,
   "metadata": {},
   "outputs": [
    {
     "data": {
      "text/html": [
       "<div>\n",
       "<style scoped>\n",
       "    .dataframe tbody tr th:only-of-type {\n",
       "        vertical-align: middle;\n",
       "    }\n",
       "\n",
       "    .dataframe tbody tr th {\n",
       "        vertical-align: top;\n",
       "    }\n",
       "\n",
       "    .dataframe thead th {\n",
       "        text-align: right;\n",
       "    }\n",
       "</style>\n",
       "<table border=\"1\" class=\"dataframe\">\n",
       "  <thead>\n",
       "    <tr style=\"text-align: right;\">\n",
       "      <th></th>\n",
       "      <th>participant</th>\n",
       "      <th>subtype_mrna</th>\n",
       "    </tr>\n",
       "  </thead>\n",
       "  <tbody>\n",
       "    <tr>\n",
       "      <th>407</th>\n",
       "      <td>A158</td>\n",
       "      <td>Basal and Normal</td>\n",
       "    </tr>\n",
       "    <tr>\n",
       "      <th>408</th>\n",
       "      <td>A0DD</td>\n",
       "      <td>LumA and LumB</td>\n",
       "    </tr>\n",
       "    <tr>\n",
       "      <th>409</th>\n",
       "      <td>A1EO</td>\n",
       "      <td>LumA</td>\n",
       "    </tr>\n",
       "    <tr>\n",
       "      <th>410</th>\n",
       "      <td>A0B5</td>\n",
       "      <td>LumA</td>\n",
       "    </tr>\n",
       "    <tr>\n",
       "      <th>411</th>\n",
       "      <td>A13G</td>\n",
       "      <td>LumA</td>\n",
       "    </tr>\n",
       "  </tbody>\n",
       "</table>\n",
       "</div>"
      ],
      "text/plain": [
       "    participant      subtype_mrna\n",
       "407        A158  Basal and Normal\n",
       "408        A0DD     LumA and LumB\n",
       "409        A1EO              LumA\n",
       "410        A0B5              LumA\n",
       "411        A13G              LumA"
      ]
     },
     "execution_count": 48,
     "metadata": {},
     "output_type": "execute_result"
    }
   ],
   "source": [
    "pam50_adapted.head()"
   ]
  },
  {
   "cell_type": "code",
   "execution_count": 49,
   "metadata": {},
   "outputs": [],
   "source": [
    "considered_stratifications = {\n",
    "    'subtype_mrna': pam50_adapted,\n",
    "    'icluster': icluster_brca_selected,\n",
    "    'paradigm_clusters': paradigm_brca_selected,\n",
    "    'pan_gyn_clusters': pan_gyn_clusters_brca,    \n",
    "}"
   ]
  },
  {
   "cell_type": "code",
   "execution_count": 50,
   "metadata": {},
   "outputs": [],
   "source": [
    "all_stratifications = concat([\n",
    "    df.rename({custering_name: 'cluster'}, axis=1)[['participant', 'cluster']].drop_duplicates().assign(group=custering_name)\n",
    "    for custering_name, df in considered_stratifications.items()\n",
    "]).sort_values(['group', 'cluster'])"
   ]
  },
  {
   "cell_type": "code",
   "execution_count": 51,
   "metadata": {},
   "outputs": [],
   "source": [
    "from helpers.plots.alluvium import suggest_groups_ordering, determine_order_for_clusters_in_groups"
   ]
  },
  {
   "cell_type": "code",
   "execution_count": 52,
   "metadata": {},
   "outputs": [
    {
     "data": {
      "text/plain": [
       "subtype_mrna       paradigm_clusters  pan_gyn_clusters   icluster             0.653327\n",
       "paradigm_clusters  subtype_mrna       icluster           pan_gyn_clusters     0.653327\n",
       "subtype_mrna       icluster           pan_gyn_clusters   paradigm_clusters    0.626636\n",
       "icluster           subtype_mrna       paradigm_clusters  pan_gyn_clusters     0.626636\n",
       "paradigm_clusters  subtype_mrna       pan_gyn_clusters   icluster             0.572720\n",
       "dtype: float64"
      ]
     },
     "execution_count": 52,
     "metadata": {},
     "output_type": "execute_result"
    }
   ],
   "source": [
    "ordering_ranking = suggest_groups_ordering(all_stratifications)\n",
    "ordering_ranking.head()"
   ]
  },
  {
   "cell_type": "markdown",
   "metadata": {},
   "source": [
    "I am choosing the first one (additional benefit of having the curated, well established PAM 50 on the left side)"
   ]
  },
  {
   "cell_type": "code",
   "execution_count": 53,
   "metadata": {},
   "outputs": [],
   "source": [
    "order = ordering_ranking.index[0]"
   ]
  },
  {
   "cell_type": "code",
   "execution_count": 54,
   "metadata": {},
   "outputs": [],
   "source": [
    "# clusters in the PAM 50 groups should be ordered by similarity (when possible) (so do not separate clusters that are similar).\n",
    "# Globally impossible, so lets evaluate combinations to elimiate the worst cases:\n",
    "from itertools import combinations, permutations\n",
    "pam_50 = all_stratifications[all_stratifications.group == 'subtype_mrna']\n",
    "ranked_permutations = {}\n",
    "for permutation in permutations(pam_50.cluster.unique()):\n",
    "    score = 0\n",
    "    for i, current in enumerate(permutation[1:], 1):\n",
    "        previous = permutation[i - 1]\n",
    "        if previous in current.split(' and ') or current in previous.split(' and '):\n",
    "            score += 1\n",
    "    ranked_permutations[permutation] = score"
   ]
  },
  {
   "cell_type": "code",
   "execution_count": 55,
   "metadata": {},
   "outputs": [],
   "source": [
    "chosen_pam_order = Series(ranked_permutations).sort_values(ascending=False).index[0]"
   ]
  },
  {
   "cell_type": "code",
   "execution_count": 56,
   "metadata": {},
   "outputs": [
    {
     "data": {
      "text/html": [
       "\n",
       "        <table class='namespace'>\n",
       "            <tr><td><b>IC19</b></td><td><b>LumA</b></td><td><b>PRC5</b></td><td><b>C1</b></td><td><b>PRC6</b></td><td><b>PRC4</b></td><td><b>C3</b></td><td><b>LumB</b></td><td><b>C5</b></td><td><b>Basal</b></td><td><b>C4</b></td><td><b>IC17</b></td><td><b>PRC8</b></td><td><b>IC2</b></td><td><b>IC20</b></td><td><b>PRC2</b></td><td><b>Her2</b></td><td><b>IC13</b></td><td><b>LumA and Normal</b></td><td><b>C2</b></td><td><b>Normal</b></td><td><b>IC25</b></td><td><b>LumB and Normal</b></td><td><b>Basal and Normal</b></td><td><b>IC14</b></td><td><b>IC10</b></td><td><b>IC8</b></td><td><b>IC27</b></td><td><b>Her2 and Normal</b></td><td><b>IC7</b></td><td><b>IC3</b></td><td><b>LumA and LumB</b></td></tr><tr><td>553</td><td>513</td><td>356</td><td>300</td><td>271</td><td>247</td><td>198</td><td>194</td><td>183</td><td>175</td><td>144</td><td>125</td><td>103</td><td>98</td><td>78</td><td>75</td><td>73</td><td>68</td><td>53</td><td>52</td><td>40</td><td>39</td><td>21</td><td>17</td><td>17</td><td>16</td><td>10</td><td>10</td><td>9</td><td>9</td><td>4</td><td>2</td></tr>\n",
       "        </table>"
      ],
      "text/plain": [
       "HorizontalNamespace(Basal=175, Basal and Normal=17, C1=300, C2=52, C3=198, C4=144, C5=183, Her2=73, Her2 and Normal=9, IC10=16, IC13=68, IC14=17, IC17=125, IC19=553, IC2=98, IC20=78, IC25=39, IC27=10, IC3=4, IC7=9, IC8=10, LumA=513, LumA and LumB=2, LumA and Normal=53, LumB=194, LumB and Normal=21, Normal=40, PRC2=75, PRC4=247, PRC5=356, PRC6=271, PRC8=103)"
      ]
     },
     "execution_count": 56,
     "metadata": {},
     "output_type": "execute_result"
    }
   ],
   "source": [
    "counts = all_stratifications.cluster.value_counts().reset_index().rename({'index': 'group'}, axis=1)\n",
    "HorizontalNamespace(**counts.set_index('group').cluster.to_dict())"
   ]
  },
  {
   "cell_type": "code",
   "execution_count": 57,
   "metadata": {},
   "outputs": [],
   "source": [
    "ordering_method = 'by_size' \n",
    "all_group_orders = (\n",
    "    [\n",
    "        *chosen_pam_order,\n",
    "        *[\n",
    "            c.group\n",
    "            for c in counts.itertuples()\n",
    "            if c.group not in chosen_pam_order\n",
    "        ]\n",
    "    ]\n",
    "    if ordering_method == 'alternative' else\n",
    "    list(counts.group)\n",
    ")"
   ]
  },
  {
   "cell_type": "code",
   "execution_count": 58,
   "metadata": {},
   "outputs": [],
   "source": [
    "all_stratifications.group = pd.Categorical(all_stratifications.group, ordered=True, categories=order)\n",
    "assert set(all_group_orders) == set(all_stratifications.cluster.unique())"
   ]
  },
  {
   "cell_type": "code",
   "execution_count": 59,
   "metadata": {},
   "outputs": [],
   "source": [
    "all_stratifications.cluster = pd.Categorical(all_stratifications.cluster, ordered=True, categories=all_group_orders)"
   ]
  },
  {
   "cell_type": "code",
   "execution_count": 60,
   "metadata": {},
   "outputs": [],
   "source": [
    "corresponding_pam50 = all_stratifications[all_stratifications.group=='subtype_mrna'].set_index('participant').cluster.to_dict()"
   ]
  },
  {
   "cell_type": "code",
   "execution_count": 61,
   "metadata": {},
   "outputs": [],
   "source": [
    "all_stratifications['corresponding_pam50'] = all_stratifications.participant.map(corresponding_pam50)"
   ]
  },
  {
   "cell_type": "code",
   "execution_count": 62,
   "metadata": {},
   "outputs": [],
   "source": [
    "all_stratifications.to_pickle('published_brca_stratifications.pickle')"
   ]
  },
  {
   "cell_type": "code",
   "execution_count": 63,
   "metadata": {},
   "outputs": [
    {
     "data": {
      "text/html": [
       "<div>\n",
       "<style scoped>\n",
       "    .dataframe tbody tr th:only-of-type {\n",
       "        vertical-align: middle;\n",
       "    }\n",
       "\n",
       "    .dataframe tbody tr th {\n",
       "        vertical-align: top;\n",
       "    }\n",
       "\n",
       "    .dataframe thead th {\n",
       "        text-align: right;\n",
       "    }\n",
       "</style>\n",
       "<table border=\"1\" class=\"dataframe\">\n",
       "  <thead>\n",
       "    <tr style=\"text-align: right;\">\n",
       "      <th></th>\n",
       "      <th>participant</th>\n",
       "      <th>cluster</th>\n",
       "      <th>group</th>\n",
       "      <th>corresponding_pam50</th>\n",
       "    </tr>\n",
       "  </thead>\n",
       "  <tbody>\n",
       "    <tr>\n",
       "      <th>4826</th>\n",
       "      <td>A0T0</td>\n",
       "      <td>IC10</td>\n",
       "      <td>icluster</td>\n",
       "      <td>Basal</td>\n",
       "    </tr>\n",
       "    <tr>\n",
       "      <th>4953</th>\n",
       "      <td>A08R</td>\n",
       "      <td>IC10</td>\n",
       "      <td>icluster</td>\n",
       "      <td>Basal</td>\n",
       "    </tr>\n",
       "    <tr>\n",
       "      <th>5051</th>\n",
       "      <td>A0FJ</td>\n",
       "      <td>IC10</td>\n",
       "      <td>icluster</td>\n",
       "      <td>Basal</td>\n",
       "    </tr>\n",
       "    <tr>\n",
       "      <th>5084</th>\n",
       "      <td>A0J6</td>\n",
       "      <td>IC10</td>\n",
       "      <td>icluster</td>\n",
       "      <td>Basal</td>\n",
       "    </tr>\n",
       "    <tr>\n",
       "      <th>5138</th>\n",
       "      <td>A1AH</td>\n",
       "      <td>IC10</td>\n",
       "      <td>icluster</td>\n",
       "      <td>Basal</td>\n",
       "    </tr>\n",
       "    <tr>\n",
       "      <th>...</th>\n",
       "      <td>...</td>\n",
       "      <td>...</td>\n",
       "      <td>...</td>\n",
       "      <td>...</td>\n",
       "    </tr>\n",
       "    <tr>\n",
       "      <th>1578</th>\n",
       "      <td>A8FZ</td>\n",
       "      <td>Normal</td>\n",
       "      <td>subtype_mrna</td>\n",
       "      <td>Normal</td>\n",
       "    </tr>\n",
       "    <tr>\n",
       "      <th>1583</th>\n",
       "      <td>A8HR</td>\n",
       "      <td>Normal</td>\n",
       "      <td>subtype_mrna</td>\n",
       "      <td>Normal</td>\n",
       "    </tr>\n",
       "    <tr>\n",
       "      <th>1592</th>\n",
       "      <td>A9QF</td>\n",
       "      <td>Normal</td>\n",
       "      <td>subtype_mrna</td>\n",
       "      <td>Normal</td>\n",
       "    </tr>\n",
       "    <tr>\n",
       "      <th>1605</th>\n",
       "      <td>A97C</td>\n",
       "      <td>Normal</td>\n",
       "      <td>subtype_mrna</td>\n",
       "      <td>Normal</td>\n",
       "    </tr>\n",
       "    <tr>\n",
       "      <th>1616</th>\n",
       "      <td>A8LY</td>\n",
       "      <td>Normal</td>\n",
       "      <td>subtype_mrna</td>\n",
       "      <td>Normal</td>\n",
       "    </tr>\n",
       "  </tbody>\n",
       "</table>\n",
       "<p>4053 rows × 4 columns</p>\n",
       "</div>"
      ],
      "text/plain": [
       "     participant cluster         group corresponding_pam50\n",
       "4826        A0T0    IC10      icluster               Basal\n",
       "4953        A08R    IC10      icluster               Basal\n",
       "5051        A0FJ    IC10      icluster               Basal\n",
       "5084        A0J6    IC10      icluster               Basal\n",
       "5138        A1AH    IC10      icluster               Basal\n",
       "...          ...     ...           ...                 ...\n",
       "1578        A8FZ  Normal  subtype_mrna              Normal\n",
       "1583        A8HR  Normal  subtype_mrna              Normal\n",
       "1592        A9QF  Normal  subtype_mrna              Normal\n",
       "1605        A97C  Normal  subtype_mrna              Normal\n",
       "1616        A8LY  Normal  subtype_mrna              Normal\n",
       "\n",
       "[4053 rows x 4 columns]"
      ]
     },
     "execution_count": 63,
     "metadata": {},
     "output_type": "execute_result"
    }
   ],
   "source": [
    "all_stratifications"
   ]
  },
  {
   "cell_type": "code",
   "execution_count": 64,
   "metadata": {},
   "outputs": [
    {
     "data": {
      "text/html": [
       "<div>\n",
       "<style scoped>\n",
       "    .dataframe tbody tr th:only-of-type {\n",
       "        vertical-align: middle;\n",
       "    }\n",
       "\n",
       "    .dataframe tbody tr th {\n",
       "        vertical-align: top;\n",
       "    }\n",
       "\n",
       "    .dataframe thead th {\n",
       "        text-align: right;\n",
       "    }\n",
       "</style>\n",
       "<table border=\"1\" class=\"dataframe\">\n",
       "  <thead>\n",
       "    <tr style=\"text-align: right;\">\n",
       "      <th></th>\n",
       "      <th>participant</th>\n",
       "      <th>cluster</th>\n",
       "      <th>group</th>\n",
       "      <th>corresponding_pam50</th>\n",
       "    </tr>\n",
       "  </thead>\n",
       "  <tbody>\n",
       "    <tr>\n",
       "      <th>280</th>\n",
       "      <td>A5EI</td>\n",
       "      <td>C1</td>\n",
       "      <td>pan_gyn_clusters</td>\n",
       "      <td>NaN</td>\n",
       "    </tr>\n",
       "    <tr>\n",
       "      <th>712</th>\n",
       "      <td>A9FZ</td>\n",
       "      <td>C4</td>\n",
       "      <td>pan_gyn_clusters</td>\n",
       "      <td>NaN</td>\n",
       "    </tr>\n",
       "  </tbody>\n",
       "</table>\n",
       "</div>"
      ],
      "text/plain": [
       "    participant cluster             group corresponding_pam50\n",
       "280        A5EI      C1  pan_gyn_clusters                 NaN\n",
       "712        A9FZ      C4  pan_gyn_clusters                 NaN"
      ]
     },
     "execution_count": 64,
     "metadata": {},
     "output_type": "execute_result"
    }
   ],
   "source": [
    "all_stratifications[all_stratifications.corresponding_pam50.isnull()]"
   ]
  },
  {
   "cell_type": "code",
   "execution_count": 65,
   "metadata": {},
   "outputs": [
    {
     "data": {
      "text/html": [
       "<div>\n",
       "<style scoped>\n",
       "    .dataframe tbody tr th:only-of-type {\n",
       "        vertical-align: middle;\n",
       "    }\n",
       "\n",
       "    .dataframe tbody tr th {\n",
       "        vertical-align: top;\n",
       "    }\n",
       "\n",
       "    .dataframe thead th {\n",
       "        text-align: right;\n",
       "    }\n",
       "</style>\n",
       "<table border=\"1\" class=\"dataframe\">\n",
       "  <thead>\n",
       "    <tr style=\"text-align: right;\">\n",
       "      <th></th>\n",
       "      <th>pan_samplesid</th>\n",
       "      <th>cancer_type</th>\n",
       "      <th>subtype_mrna</th>\n",
       "      <th>subtype_dnameth</th>\n",
       "      <th>subtype_protein</th>\n",
       "      <th>...</th>\n",
       "      <th>subtype_cna</th>\n",
       "      <th>subtype_integrative</th>\n",
       "      <th>subtype_other</th>\n",
       "      <th>subtype_selected</th>\n",
       "      <th>participant</th>\n",
       "    </tr>\n",
       "  </thead>\n",
       "  <tbody>\n",
       "  </tbody>\n",
       "</table>\n",
       "<p>0 rows × 11 columns</p>\n",
       "</div>"
      ],
      "text/plain": [
       "Empty AugmentedDataFrame\n",
       "Columns: [pan_samplesid, cancer_type, subtype_mrna, subtype_dnameth, subtype_protein, subtype_mirna, subtype_cna, subtype_integrative, subtype_other, subtype_selected, participant]\n",
       "Index: []\n",
       "\n",
       "[0 rows x 11 columns]"
      ]
     },
     "execution_count": 65,
     "metadata": {},
     "output_type": "execute_result"
    }
   ],
   "source": [
    "pam50_brca[pam50_brca.participant.isin(['A5EI', 'A9FZ'])]"
   ]
  },
  {
   "cell_type": "code",
   "execution_count": 66,
   "metadata": {},
   "outputs": [],
   "source": [
    "from data_sources.tcga import TCGA\n",
    "tcga = TCGA()"
   ]
  },
  {
   "cell_type": "code",
   "execution_count": 67,
   "metadata": {},
   "outputs": [],
   "source": [
    "clinical_brca_data = tcga.clinical('BRCA')"
   ]
  },
  {
   "cell_type": "code",
   "execution_count": 68,
   "metadata": {},
   "outputs": [
    {
     "data": {
      "text/html": [
       "<div>\n",
       "<style scoped>\n",
       "    .dataframe tbody tr th:only-of-type {\n",
       "        vertical-align: middle;\n",
       "    }\n",
       "\n",
       "    .dataframe tbody tr th {\n",
       "        vertical-align: top;\n",
       "    }\n",
       "\n",
       "    .dataframe thead th {\n",
       "        text-align: right;\n",
       "    }\n",
       "</style>\n",
       "<table border=\"1\" class=\"dataframe\">\n",
       "  <thead>\n",
       "    <tr style=\"text-align: right;\">\n",
       "      <th>Hybridization REF</th>\n",
       "      <th>Composite Element REF</th>\n",
       "      <th>years_to_birth</th>\n",
       "      <th>vital_status</th>\n",
       "      <th>days_to_death</th>\n",
       "      <th>days_to_last_followup</th>\n",
       "      <th>...</th>\n",
       "      <th>histological_type</th>\n",
       "      <th>number_of_lymph_nodes</th>\n",
       "      <th>race</th>\n",
       "      <th>ethnicity</th>\n",
       "      <th>participant</th>\n",
       "    </tr>\n",
       "  </thead>\n",
       "  <tbody>\n",
       "    <tr>\n",
       "      <th>TCGA-AC-A5EI</th>\n",
       "      <td>value</td>\n",
       "      <td>88</td>\n",
       "      <td>0</td>\n",
       "      <td>NaN</td>\n",
       "      <td>442</td>\n",
       "      <td>...</td>\n",
       "      <td>other, specify</td>\n",
       "      <td>1</td>\n",
       "      <td>white</td>\n",
       "      <td>not hispanic or latino</td>\n",
       "      <td>A5EI</td>\n",
       "    </tr>\n",
       "    <tr>\n",
       "      <th>TCGA-C8-A9FZ</th>\n",
       "      <td>value</td>\n",
       "      <td>49</td>\n",
       "      <td>0</td>\n",
       "      <td>NaN</td>\n",
       "      <td>592</td>\n",
       "      <td>...</td>\n",
       "      <td>mixed histology (please specify)</td>\n",
       "      <td>3</td>\n",
       "      <td>white</td>\n",
       "      <td>not hispanic or latino</td>\n",
       "      <td>A9FZ</td>\n",
       "    </tr>\n",
       "  </tbody>\n",
       "</table>\n",
       "<p>2 rows × 19 columns</p>\n",
       "</div>"
      ],
      "text/plain": [
       "Hybridization REF Composite Element REF years_to_birth vital_status  \\\n",
       "TCGA-AC-A5EI                      value             88            0   \n",
       "TCGA-C8-A9FZ                      value             49            0   \n",
       "\n",
       "Hybridization REF days_to_death days_to_last_followup     ...      \\\n",
       "TCGA-AC-A5EI                NaN                   442     ...       \n",
       "TCGA-C8-A9FZ                NaN                   592     ...       \n",
       "\n",
       "Hybridization REF                 histological_type number_of_lymph_nodes  \\\n",
       "TCGA-AC-A5EI                         other, specify                     1   \n",
       "TCGA-C8-A9FZ       mixed histology (please specify)                     3   \n",
       "\n",
       "Hybridization REF   race               ethnicity participant  \n",
       "TCGA-AC-A5EI       white  not hispanic or latino        A5EI  \n",
       "TCGA-C8-A9FZ       white  not hispanic or latino        A9FZ  \n",
       "\n",
       "[2 rows x 19 columns]"
      ]
     },
     "execution_count": 68,
     "metadata": {},
     "output_type": "execute_result"
    }
   ],
   "source": [
    "clinical_brca_data[clinical_brca_data.participant.isin(['A5EI', 'A9FZ'])]"
   ]
  },
  {
   "cell_type": "code",
   "execution_count": 69,
   "metadata": {},
   "outputs": [],
   "source": [
    "all_stratifications.corresponding_pam50 = all_stratifications.corresponding_pam50.fillna('Unknown')"
   ]
  },
  {
   "cell_type": "code",
   "execution_count": 70,
   "metadata": {},
   "outputs": [],
   "source": [
    "participant_to_sample = pam50_brca[['pan_samplesid', 'participant']]"
   ]
  },
  {
   "cell_type": "markdown",
   "metadata": {},
   "source": [
    "#### Sample-level"
   ]
  },
  {
   "cell_type": "code",
   "execution_count": 71,
   "metadata": {},
   "outputs": [],
   "source": [
    "stratifications_mapped_to_samples = {}\n",
    "\n",
    "for name, stratification in considered_stratifications.items():\n",
    "    stratifications_mapped_to_samples[name] = (\n",
    "        stratification\n",
    "        .merge(participant_to_sample, on='participant')\n",
    "    )\n",
    "\n",
    "stratifications_mapped_to_samples['subtype_mrna'] = pam50_brca[\n",
    "    ['pan_samplesid', 'participant', 'subtype_mrna']\n",
    "]"
   ]
  },
  {
   "cell_type": "code",
   "execution_count": 72,
   "metadata": {},
   "outputs": [],
   "source": [
    "all_stratifications_samples = concat([\n",
    "    df.rename({custering_name: 'cluster'}, axis=1)[['pan_samplesid', 'participant', 'cluster']].drop_duplicates().assign(group=custering_name)\n",
    "    for custering_name, df in stratifications_mapped_to_samples.items()\n",
    "]).sort_values(['group', 'cluster'])"
   ]
  },
  {
   "cell_type": "code",
   "execution_count": 73,
   "metadata": {},
   "outputs": [],
   "source": [
    "corresponding_pam50 = all_stratifications_samples[\n",
    "    all_stratifications_samples.group=='subtype_mrna'\n",
    "].set_index('pan_samplesid').cluster.to_dict()"
   ]
  },
  {
   "cell_type": "code",
   "execution_count": 74,
   "metadata": {},
   "outputs": [],
   "source": [
    "all_stratifications_samples['corresponding_pam50'] = all_stratifications_samples.pan_samplesid.map(corresponding_pam50)"
   ]
  },
  {
   "cell_type": "code",
   "execution_count": 75,
   "metadata": {},
   "outputs": [],
   "source": [
    "assert not all_stratifications_samples.isnull().any().any()"
   ]
  },
  {
   "cell_type": "code",
   "execution_count": 76,
   "metadata": {},
   "outputs": [
    {
     "data": {
      "text/html": [
       "<div>\n",
       "<style scoped>\n",
       "    .dataframe tbody tr th:only-of-type {\n",
       "        vertical-align: middle;\n",
       "    }\n",
       "\n",
       "    .dataframe tbody tr th {\n",
       "        vertical-align: top;\n",
       "    }\n",
       "\n",
       "    .dataframe thead th {\n",
       "        text-align: right;\n",
       "    }\n",
       "</style>\n",
       "<table border=\"1\" class=\"dataframe\">\n",
       "  <thead>\n",
       "    <tr style=\"text-align: right;\">\n",
       "      <th></th>\n",
       "      <th>pan_samplesid</th>\n",
       "      <th>participant</th>\n",
       "      <th>cluster</th>\n",
       "      <th>group</th>\n",
       "      <th>corresponding_pam50</th>\n",
       "    </tr>\n",
       "  </thead>\n",
       "  <tbody>\n",
       "    <tr>\n",
       "      <th>67</th>\n",
       "      <td>TCGA-A2-A0T0-01A-22R-A084-07</td>\n",
       "      <td>A0T0</td>\n",
       "      <td>IC10</td>\n",
       "      <td>icluster</td>\n",
       "      <td>Basal</td>\n",
       "    </tr>\n",
       "    <tr>\n",
       "      <th>201</th>\n",
       "      <td>TCGA-A8-A08R-01A-11R-A034-07</td>\n",
       "      <td>A08R</td>\n",
       "      <td>IC10</td>\n",
       "      <td>icluster</td>\n",
       "      <td>Basal</td>\n",
       "    </tr>\n",
       "    <tr>\n",
       "      <th>301</th>\n",
       "      <td>TCGA-AN-A0FJ-01A-11R-A00Z-07</td>\n",
       "      <td>A0FJ</td>\n",
       "      <td>IC10</td>\n",
       "      <td>icluster</td>\n",
       "      <td>Basal</td>\n",
       "    </tr>\n",
       "    <tr>\n",
       "      <th>334</th>\n",
       "      <td>TCGA-AO-A0J6-01A-11R-A034-07</td>\n",
       "      <td>A0J6</td>\n",
       "      <td>IC10</td>\n",
       "      <td>icluster</td>\n",
       "      <td>Basal</td>\n",
       "    </tr>\n",
       "    <tr>\n",
       "      <th>388</th>\n",
       "      <td>TCGA-AR-A1AH-01A-11R-A12D-07</td>\n",
       "      <td>A1AH</td>\n",
       "      <td>IC10</td>\n",
       "      <td>icluster</td>\n",
       "      <td>Basal</td>\n",
       "    </tr>\n",
       "    <tr>\n",
       "      <th>...</th>\n",
       "      <td>...</td>\n",
       "      <td>...</td>\n",
       "      <td>...</td>\n",
       "      <td>...</td>\n",
       "      <td>...</td>\n",
       "    </tr>\n",
       "    <tr>\n",
       "      <th>1583</th>\n",
       "      <td>TCGA-C8-A8HR-01A-11R-A36F-07</td>\n",
       "      <td>A8HR</td>\n",
       "      <td>Normal</td>\n",
       "      <td>subtype_mrna</td>\n",
       "      <td>Normal</td>\n",
       "    </tr>\n",
       "    <tr>\n",
       "      <th>1592</th>\n",
       "      <td>TCGA-LD-A9QF-01A-32R-A41B-07</td>\n",
       "      <td>A9QF</td>\n",
       "      <td>Normal</td>\n",
       "      <td>subtype_mrna</td>\n",
       "      <td>Normal</td>\n",
       "    </tr>\n",
       "    <tr>\n",
       "      <th>1605</th>\n",
       "      <td>TCGA-OL-A97C-01A-32R-A41B-07</td>\n",
       "      <td>A97C</td>\n",
       "      <td>Normal</td>\n",
       "      <td>subtype_mrna</td>\n",
       "      <td>Normal</td>\n",
       "    </tr>\n",
       "    <tr>\n",
       "      <th>1616</th>\n",
       "      <td>TCGA-PL-A8LY-01A-11R-A41B-07</td>\n",
       "      <td>A8LY</td>\n",
       "      <td>Normal</td>\n",
       "      <td>subtype_mrna</td>\n",
       "      <td>Normal</td>\n",
       "    </tr>\n",
       "    <tr>\n",
       "      <th>1623</th>\n",
       "      <td>TCGA-BH-A0H9-11A-22R-A466-07</td>\n",
       "      <td>A0H9</td>\n",
       "      <td>Normal</td>\n",
       "      <td>subtype_mrna</td>\n",
       "      <td>Normal</td>\n",
       "    </tr>\n",
       "  </tbody>\n",
       "</table>\n",
       "<p>4516 rows × 5 columns</p>\n",
       "</div>"
      ],
      "text/plain": [
       "                     pan_samplesid participant cluster         group  \\\n",
       "67    TCGA-A2-A0T0-01A-22R-A084-07        A0T0    IC10      icluster   \n",
       "201   TCGA-A8-A08R-01A-11R-A034-07        A08R    IC10      icluster   \n",
       "301   TCGA-AN-A0FJ-01A-11R-A00Z-07        A0FJ    IC10      icluster   \n",
       "334   TCGA-AO-A0J6-01A-11R-A034-07        A0J6    IC10      icluster   \n",
       "388   TCGA-AR-A1AH-01A-11R-A12D-07        A1AH    IC10      icluster   \n",
       "...                            ...         ...     ...           ...   \n",
       "1583  TCGA-C8-A8HR-01A-11R-A36F-07        A8HR  Normal  subtype_mrna   \n",
       "1592  TCGA-LD-A9QF-01A-32R-A41B-07        A9QF  Normal  subtype_mrna   \n",
       "1605  TCGA-OL-A97C-01A-32R-A41B-07        A97C  Normal  subtype_mrna   \n",
       "1616  TCGA-PL-A8LY-01A-11R-A41B-07        A8LY  Normal  subtype_mrna   \n",
       "1623  TCGA-BH-A0H9-11A-22R-A466-07        A0H9  Normal  subtype_mrna   \n",
       "\n",
       "     corresponding_pam50  \n",
       "67                 Basal  \n",
       "201                Basal  \n",
       "301                Basal  \n",
       "334                Basal  \n",
       "388                Basal  \n",
       "...                  ...  \n",
       "1583              Normal  \n",
       "1592              Normal  \n",
       "1605              Normal  \n",
       "1616              Normal  \n",
       "1623              Normal  \n",
       "\n",
       "[4516 rows x 5 columns]"
      ]
     },
     "execution_count": 76,
     "metadata": {},
     "output_type": "execute_result"
    }
   ],
   "source": [
    "all_stratifications_samples"
   ]
  },
  {
   "cell_type": "markdown",
   "metadata": {},
   "source": [
    "### Summary-table"
   ]
  },
  {
   "cell_type": "code",
   "execution_count": 77,
   "metadata": {},
   "outputs": [],
   "source": [
    "stratifications_summary = DataFrame([\n",
    "    {\n",
    "        'id': 'icluster',\n",
    "        'name': 'iCluster',\n",
    "        'reference': '(Hoadley et al., 2018)',\n",
    "        'based_on': ['CNV', 'DNA methylation', 'mRNA', 'miRNA']\n",
    "    },\n",
    "    {\n",
    "        'id': 'subtype_mrna',\n",
    "        'name': 'PAM 50',\n",
    "        'reference': '(TCGA Network, 2012)',\n",
    "        'based_on': ['mRNA']\n",
    "    },\n",
    "    {\n",
    "        'id': 'paradigm_clusters',\n",
    "        'name': 'PARADIGM',\n",
    "        'reference': '(Berger et al., 2018)',\n",
    "        'based_on': ['CNV', 'mRNA', 'Pathways (NCIPID, BioCarta, Reactome)']\n",
    "    },\n",
    "    {\n",
    "        'id': 'pan_gyn_clusters',\n",
    "        'name': 'Pan-Gyn',\n",
    "        'reference': '(Berger et al., 2018)',\n",
    "        'based_on': []\n",
    "    }\n",
    "]).set_index('id')"
   ]
  },
  {
   "cell_type": "markdown",
   "metadata": {},
   "source": [
    "### Sample-level comparison with PAM 50"
   ]
  },
  {
   "cell_type": "code",
   "execution_count": 78,
   "metadata": {},
   "outputs": [],
   "source": [
    "heatmap = copy(all_stratifications_samples).reset_index(drop=True)\n",
    "heatmap['x'] = 0\n",
    "heatmap['y'] = 0\n",
    "\n",
    "width = 20\n",
    "\n",
    "def cluster_size(c):\n",
    "    return -len(c[1])\n",
    "\n",
    "start_by_group = {}\n",
    "height_by_group = {}\n",
    "cluster_names = []\n",
    "annotations = []\n",
    "y = 0\n",
    "\n",
    "for group, data in heatmap.groupby('group'):\n",
    "    start_by_group[group] = y\n",
    "    x = 0\n",
    "    \n",
    "    for cluster, cluster_d in sorted(\n",
    "        data.groupby('cluster'), key=cluster_size\n",
    "    ):\n",
    "        cluster_y_start = y\n",
    "        for corresponding_pam50_group, d in sorted(\n",
    "            cluster_d.groupby('corresponding_pam50'),\n",
    "            key=cluster_size\n",
    "        ):\n",
    "            last = False\n",
    "            for index, row in d.iterrows():\n",
    "                heatmap.loc[index, 'x'] = x\n",
    "                heatmap.loc[index, 'y'] = y\n",
    "                x += 1\n",
    "                if x == width:\n",
    "                    y += 1\n",
    "                    x = 0\n",
    "                    last = True\n",
    "                else:\n",
    "                    last = False\n",
    "            if last:\n",
    "                y -= 1\n",
    "        cluster_h = y - cluster_y_start\n",
    "        y_center = cluster_y_start + (cluster_h) / 2\n",
    "        cluster_names.append({\n",
    "            'y': y_center,\n",
    "            'name': cluster\n",
    "        })\n",
    "        samples_n = len(cluster_d)\n",
    "        patients_n = len(set(cluster_d.participant))\n",
    "        size = 1\n",
    "        if samples_n <  width:\n",
    "            label = f'{samples_n}/{patients_n}'\n",
    "            size = 3.5/4\n",
    "        elif cluster_h > 3:\n",
    "            label = f'{samples_n} samples\\n{patients_n} participants'\n",
    "            size = 1.1\n",
    "            y_center -= 0.5\n",
    "        else:\n",
    "            label = f'{samples_n} samples / {patients_n} participants'\n",
    "            size = 3.6/4\n",
    "        annotations.append({\n",
    "            'y': y_center,\n",
    "            'label': label,\n",
    "            'x': min(width, samples_n) /2 - 0.5,\n",
    "            'group': group,\n",
    "            'size': size\n",
    "        })\n",
    "        x = 0\n",
    "        y += 2\n",
    "    height_by_group[group] = y - start_by_group[group]\n",
    "    y += 50\n",
    "cluster_names = DataFrame(cluster_names)"
   ]
  },
  {
   "cell_type": "code",
   "execution_count": 79,
   "metadata": {},
   "outputs": [
    {
     "data": {
      "text/html": [
       "<div>\n",
       "<style scoped>\n",
       "    .dataframe tbody tr th:only-of-type {\n",
       "        vertical-align: middle;\n",
       "    }\n",
       "\n",
       "    .dataframe tbody tr th {\n",
       "        vertical-align: top;\n",
       "    }\n",
       "\n",
       "    .dataframe thead th {\n",
       "        text-align: right;\n",
       "    }\n",
       "</style>\n",
       "<table border=\"1\" class=\"dataframe\">\n",
       "  <thead>\n",
       "    <tr style=\"text-align: right;\">\n",
       "      <th></th>\n",
       "      <th>group</th>\n",
       "      <th>label</th>\n",
       "      <th>size</th>\n",
       "      <th>x</th>\n",
       "      <th>y</th>\n",
       "    </tr>\n",
       "  </thead>\n",
       "  <tbody>\n",
       "    <tr>\n",
       "      <th>0</th>\n",
       "      <td>icluster</td>\n",
       "      <td>620 samples\\n553 participants</td>\n",
       "      <td>1.1</td>\n",
       "      <td>9.5</td>\n",
       "      <td>14.5</td>\n",
       "    </tr>\n",
       "    <tr>\n",
       "      <th>1</th>\n",
       "      <td>icluster</td>\n",
       "      <td>136 samples\\n125 participants</td>\n",
       "      <td>1.1</td>\n",
       "      <td>9.5</td>\n",
       "      <td>34.0</td>\n",
       "    </tr>\n",
       "    <tr>\n",
       "      <th>2</th>\n",
       "      <td>icluster</td>\n",
       "      <td>108 samples\\n98 participants</td>\n",
       "      <td>1.1</td>\n",
       "      <td>9.5</td>\n",
       "      <td>41.0</td>\n",
       "    </tr>\n",
       "    <tr>\n",
       "      <th>3</th>\n",
       "      <td>icluster</td>\n",
       "      <td>84 samples\\n78 participants</td>\n",
       "      <td>1.1</td>\n",
       "      <td>9.5</td>\n",
       "      <td>47.5</td>\n",
       "    </tr>\n",
       "    <tr>\n",
       "      <th>4</th>\n",
       "      <td>icluster</td>\n",
       "      <td>75 samples / 68 participants</td>\n",
       "      <td>0.9</td>\n",
       "      <td>9.5</td>\n",
       "      <td>53.5</td>\n",
       "    </tr>\n",
       "    <tr>\n",
       "      <th>...</th>\n",
       "      <td>...</td>\n",
       "      <td>...</td>\n",
       "      <td>...</td>\n",
       "      <td>...</td>\n",
       "      <td>...</td>\n",
       "    </tr>\n",
       "    <tr>\n",
       "      <th>22</th>\n",
       "      <td>subtype_mrna</td>\n",
       "      <td>581 samples\\n568 participants</td>\n",
       "      <td>1.1</td>\n",
       "      <td>9.5</td>\n",
       "      <td>358.0</td>\n",
       "    </tr>\n",
       "    <tr>\n",
       "      <th>23</th>\n",
       "      <td>subtype_mrna</td>\n",
       "      <td>219 samples\\n217 participants</td>\n",
       "      <td>1.1</td>\n",
       "      <td>9.5</td>\n",
       "      <td>379.5</td>\n",
       "    </tr>\n",
       "    <tr>\n",
       "      <th>24</th>\n",
       "      <td>subtype_mrna</td>\n",
       "      <td>193 samples\\n192 participants</td>\n",
       "      <td>1.1</td>\n",
       "      <td>9.5</td>\n",
       "      <td>391.0</td>\n",
       "    </tr>\n",
       "    <tr>\n",
       "      <th>25</th>\n",
       "      <td>subtype_mrna</td>\n",
       "      <td>143 samples\\n140 participants</td>\n",
       "      <td>1.1</td>\n",
       "      <td>9.5</td>\n",
       "      <td>401.0</td>\n",
       "    </tr>\n",
       "    <tr>\n",
       "      <th>26</th>\n",
       "      <td>subtype_mrna</td>\n",
       "      <td>82 samples\\n82 participants</td>\n",
       "      <td>1.1</td>\n",
       "      <td>9.5</td>\n",
       "      <td>408.5</td>\n",
       "    </tr>\n",
       "  </tbody>\n",
       "</table>\n",
       "<p>27 rows × 5 columns</p>\n",
       "</div>"
      ],
      "text/plain": [
       "           group                          label  size    x      y\n",
       "0       icluster  620 samples\\n553 participants   1.1  9.5   14.5\n",
       "1       icluster  136 samples\\n125 participants   1.1  9.5   34.0\n",
       "2       icluster   108 samples\\n98 participants   1.1  9.5   41.0\n",
       "3       icluster    84 samples\\n78 participants   1.1  9.5   47.5\n",
       "4       icluster   75 samples / 68 participants   0.9  9.5   53.5\n",
       "..           ...                            ...   ...  ...    ...\n",
       "22  subtype_mrna  581 samples\\n568 participants   1.1  9.5  358.0\n",
       "23  subtype_mrna  219 samples\\n217 participants   1.1  9.5  379.5\n",
       "24  subtype_mrna  193 samples\\n192 participants   1.1  9.5  391.0\n",
       "25  subtype_mrna  143 samples\\n140 participants   1.1  9.5  401.0\n",
       "26  subtype_mrna    82 samples\\n82 participants   1.1  9.5  408.5\n",
       "\n",
       "[27 rows x 5 columns]"
      ]
     },
     "execution_count": 79,
     "metadata": {},
     "output_type": "execute_result"
    }
   ],
   "source": [
    "annotations = DataFrame(annotations)\n",
    "annotations"
   ]
  },
  {
   "cell_type": "code",
   "execution_count": 80,
   "metadata": {},
   "outputs": [],
   "source": [
    "max_height = max(height_by_group.values())"
   ]
  },
  {
   "cell_type": "code",
   "execution_count": 81,
   "metadata": {},
   "outputs": [],
   "source": [
    "for group, h in height_by_group.items():\n",
    "    if max_height != h:\n",
    "        heatmap = heatmap.append(\n",
    "            {\n",
    "                'group': group,\n",
    "                'corresponding_pam50': 'None',\n",
    "                'x': 0,\n",
    "                'y': start_by_group[group] + max_height,\n",
    "                'cluster': 'None',\n",
    "                'pan_samplesid': 'None',\n",
    "                'participant': 'None'\n",
    "            },\n",
    "            ignore_index=True\n",
    "        )"
   ]
  },
  {
   "cell_type": "code",
   "execution_count": 82,
   "metadata": {},
   "outputs": [
    {
     "data": {
      "text/html": [
       "<div>\n",
       "<style scoped>\n",
       "    .dataframe tbody tr th:only-of-type {\n",
       "        vertical-align: middle;\n",
       "    }\n",
       "\n",
       "    .dataframe tbody tr th {\n",
       "        vertical-align: top;\n",
       "    }\n",
       "\n",
       "    .dataframe thead th {\n",
       "        text-align: right;\n",
       "    }\n",
       "</style>\n",
       "<table border=\"1\" class=\"dataframe\">\n",
       "  <thead>\n",
       "    <tr style=\"text-align: right;\">\n",
       "      <th></th>\n",
       "      <th>pan_samplesid</th>\n",
       "      <th>participant</th>\n",
       "      <th>cluster</th>\n",
       "      <th>group</th>\n",
       "      <th>corresponding_pam50</th>\n",
       "      <th>x</th>\n",
       "      <th>y</th>\n",
       "    </tr>\n",
       "  </thead>\n",
       "  <tbody>\n",
       "    <tr>\n",
       "      <th>0</th>\n",
       "      <td>TCGA-A2-A0T0-01A-22R-A084-07</td>\n",
       "      <td>A0T0</td>\n",
       "      <td>IC10</td>\n",
       "      <td>icluster</td>\n",
       "      <td>Basal</td>\n",
       "      <td>0</td>\n",
       "      <td>63</td>\n",
       "    </tr>\n",
       "    <tr>\n",
       "      <th>1</th>\n",
       "      <td>TCGA-A8-A08R-01A-11R-A034-07</td>\n",
       "      <td>A08R</td>\n",
       "      <td>IC10</td>\n",
       "      <td>icluster</td>\n",
       "      <td>Basal</td>\n",
       "      <td>1</td>\n",
       "      <td>63</td>\n",
       "    </tr>\n",
       "    <tr>\n",
       "      <th>2</th>\n",
       "      <td>TCGA-AN-A0FJ-01A-11R-A00Z-07</td>\n",
       "      <td>A0FJ</td>\n",
       "      <td>IC10</td>\n",
       "      <td>icluster</td>\n",
       "      <td>Basal</td>\n",
       "      <td>2</td>\n",
       "      <td>63</td>\n",
       "    </tr>\n",
       "    <tr>\n",
       "      <th>3</th>\n",
       "      <td>TCGA-AO-A0J6-01A-11R-A034-07</td>\n",
       "      <td>A0J6</td>\n",
       "      <td>IC10</td>\n",
       "      <td>icluster</td>\n",
       "      <td>Basal</td>\n",
       "      <td>3</td>\n",
       "      <td>63</td>\n",
       "    </tr>\n",
       "    <tr>\n",
       "      <th>4</th>\n",
       "      <td>TCGA-AR-A1AH-01A-11R-A12D-07</td>\n",
       "      <td>A1AH</td>\n",
       "      <td>IC10</td>\n",
       "      <td>icluster</td>\n",
       "      <td>Basal</td>\n",
       "      <td>4</td>\n",
       "      <td>63</td>\n",
       "    </tr>\n",
       "    <tr>\n",
       "      <th>...</th>\n",
       "      <td>...</td>\n",
       "      <td>...</td>\n",
       "      <td>...</td>\n",
       "      <td>...</td>\n",
       "      <td>...</td>\n",
       "      <td>...</td>\n",
       "      <td>...</td>\n",
       "    </tr>\n",
       "    <tr>\n",
       "      <th>4514</th>\n",
       "      <td>TCGA-PL-A8LY-01A-11R-A41B-07</td>\n",
       "      <td>A8LY</td>\n",
       "      <td>Normal</td>\n",
       "      <td>subtype_mrna</td>\n",
       "      <td>Normal</td>\n",
       "      <td>1</td>\n",
       "      <td>405</td>\n",
       "    </tr>\n",
       "    <tr>\n",
       "      <th>4515</th>\n",
       "      <td>TCGA-BH-A0H9-11A-22R-A466-07</td>\n",
       "      <td>A0H9</td>\n",
       "      <td>Normal</td>\n",
       "      <td>subtype_mrna</td>\n",
       "      <td>Normal</td>\n",
       "      <td>2</td>\n",
       "      <td>405</td>\n",
       "    </tr>\n",
       "    <tr>\n",
       "      <th>4516</th>\n",
       "      <td>None</td>\n",
       "      <td>None</td>\n",
       "      <td>None</td>\n",
       "      <td>pan_gyn_clusters</td>\n",
       "      <td>None</td>\n",
       "      <td>0</td>\n",
       "      <td>196</td>\n",
       "    </tr>\n",
       "    <tr>\n",
       "      <th>4517</th>\n",
       "      <td>None</td>\n",
       "      <td>None</td>\n",
       "      <td>None</td>\n",
       "      <td>paradigm_clusters</td>\n",
       "      <td>None</td>\n",
       "      <td>0</td>\n",
       "      <td>302</td>\n",
       "    </tr>\n",
       "    <tr>\n",
       "      <th>4518</th>\n",
       "      <td>None</td>\n",
       "      <td>None</td>\n",
       "      <td>None</td>\n",
       "      <td>subtype_mrna</td>\n",
       "      <td>None</td>\n",
       "      <td>0</td>\n",
       "      <td>417</td>\n",
       "    </tr>\n",
       "  </tbody>\n",
       "</table>\n",
       "<p>4519 rows × 7 columns</p>\n",
       "</div>"
      ],
      "text/plain": [
       "                     pan_samplesid participant cluster              group  \\\n",
       "0     TCGA-A2-A0T0-01A-22R-A084-07        A0T0    IC10           icluster   \n",
       "1     TCGA-A8-A08R-01A-11R-A034-07        A08R    IC10           icluster   \n",
       "2     TCGA-AN-A0FJ-01A-11R-A00Z-07        A0FJ    IC10           icluster   \n",
       "3     TCGA-AO-A0J6-01A-11R-A034-07        A0J6    IC10           icluster   \n",
       "4     TCGA-AR-A1AH-01A-11R-A12D-07        A1AH    IC10           icluster   \n",
       "...                            ...         ...     ...                ...   \n",
       "4514  TCGA-PL-A8LY-01A-11R-A41B-07        A8LY  Normal       subtype_mrna   \n",
       "4515  TCGA-BH-A0H9-11A-22R-A466-07        A0H9  Normal       subtype_mrna   \n",
       "4516                          None        None    None   pan_gyn_clusters   \n",
       "4517                          None        None    None  paradigm_clusters   \n",
       "4518                          None        None    None       subtype_mrna   \n",
       "\n",
       "     corresponding_pam50  x    y  \n",
       "0                  Basal  0   63  \n",
       "1                  Basal  1   63  \n",
       "2                  Basal  2   63  \n",
       "3                  Basal  3   63  \n",
       "4                  Basal  4   63  \n",
       "...                  ... ..  ...  \n",
       "4514              Normal  1  405  \n",
       "4515              Normal  2  405  \n",
       "4516                None  0  196  \n",
       "4517                None  0  302  \n",
       "4518                None  0  417  \n",
       "\n",
       "[4519 rows x 7 columns]"
      ]
     },
     "execution_count": 82,
     "metadata": {},
     "output_type": "execute_result"
    }
   ],
   "source": [
    "heatmap"
   ]
  },
  {
   "cell_type": "code",
   "execution_count": 83,
   "metadata": {},
   "outputs": [
    {
     "data": {
      "text/plain": [
       "{'icluster': 'iCluster',\n",
       " 'subtype_mrna': 'PAM 50',\n",
       " 'paradigm_clusters': 'PARADIGM',\n",
       " 'pan_gyn_clusters': 'Pan-Gyn'}"
      ]
     },
     "execution_count": 83,
     "metadata": {},
     "output_type": "execute_result"
    }
   ],
   "source": [
    "names = stratifications_summary.name.to_dict()\n",
    "names"
   ]
  },
  {
   "cell_type": "code",
   "execution_count": 84,
   "metadata": {},
   "outputs": [],
   "source": [
    "def to_ordered_categories(column, order, mapping):\n",
    "    return pd.Categorical(\n",
    "        column.apply(mapping.get),\n",
    "        ordered=True,\n",
    "        categories=map(mapping.get, order)\n",
    "    )"
   ]
  },
  {
   "cell_type": "code",
   "execution_count": 85,
   "metadata": {},
   "outputs": [
    {
     "data": {
      "text/html": [
       "<div>\n",
       "<style scoped>\n",
       "    .dataframe tbody tr th:only-of-type {\n",
       "        vertical-align: middle;\n",
       "    }\n",
       "\n",
       "    .dataframe tbody tr th {\n",
       "        vertical-align: top;\n",
       "    }\n",
       "\n",
       "    .dataframe thead th {\n",
       "        text-align: right;\n",
       "    }\n",
       "</style>\n",
       "<table border=\"1\" class=\"dataframe\">\n",
       "  <thead>\n",
       "    <tr style=\"text-align: right;\">\n",
       "      <th></th>\n",
       "      <th>pan_samplesid</th>\n",
       "      <th>participant</th>\n",
       "      <th>cluster</th>\n",
       "      <th>group</th>\n",
       "      <th>corresponding_pam50</th>\n",
       "      <th>x</th>\n",
       "      <th>y</th>\n",
       "      <th>stratification</th>\n",
       "    </tr>\n",
       "  </thead>\n",
       "  <tbody>\n",
       "    <tr>\n",
       "      <th>0</th>\n",
       "      <td>TCGA-A2-A0T0-01A-22R-A084-07</td>\n",
       "      <td>A0T0</td>\n",
       "      <td>IC10</td>\n",
       "      <td>icluster</td>\n",
       "      <td>Basal</td>\n",
       "      <td>0</td>\n",
       "      <td>63</td>\n",
       "      <td>iCluster</td>\n",
       "    </tr>\n",
       "    <tr>\n",
       "      <th>1</th>\n",
       "      <td>TCGA-A8-A08R-01A-11R-A034-07</td>\n",
       "      <td>A08R</td>\n",
       "      <td>IC10</td>\n",
       "      <td>icluster</td>\n",
       "      <td>Basal</td>\n",
       "      <td>1</td>\n",
       "      <td>63</td>\n",
       "      <td>iCluster</td>\n",
       "    </tr>\n",
       "    <tr>\n",
       "      <th>2</th>\n",
       "      <td>TCGA-AN-A0FJ-01A-11R-A00Z-07</td>\n",
       "      <td>A0FJ</td>\n",
       "      <td>IC10</td>\n",
       "      <td>icluster</td>\n",
       "      <td>Basal</td>\n",
       "      <td>2</td>\n",
       "      <td>63</td>\n",
       "      <td>iCluster</td>\n",
       "    </tr>\n",
       "    <tr>\n",
       "      <th>3</th>\n",
       "      <td>TCGA-AO-A0J6-01A-11R-A034-07</td>\n",
       "      <td>A0J6</td>\n",
       "      <td>IC10</td>\n",
       "      <td>icluster</td>\n",
       "      <td>Basal</td>\n",
       "      <td>3</td>\n",
       "      <td>63</td>\n",
       "      <td>iCluster</td>\n",
       "    </tr>\n",
       "    <tr>\n",
       "      <th>4</th>\n",
       "      <td>TCGA-AR-A1AH-01A-11R-A12D-07</td>\n",
       "      <td>A1AH</td>\n",
       "      <td>IC10</td>\n",
       "      <td>icluster</td>\n",
       "      <td>Basal</td>\n",
       "      <td>4</td>\n",
       "      <td>63</td>\n",
       "      <td>iCluster</td>\n",
       "    </tr>\n",
       "    <tr>\n",
       "      <th>...</th>\n",
       "      <td>...</td>\n",
       "      <td>...</td>\n",
       "      <td>...</td>\n",
       "      <td>...</td>\n",
       "      <td>...</td>\n",
       "      <td>...</td>\n",
       "      <td>...</td>\n",
       "      <td>...</td>\n",
       "    </tr>\n",
       "    <tr>\n",
       "      <th>4514</th>\n",
       "      <td>TCGA-PL-A8LY-01A-11R-A41B-07</td>\n",
       "      <td>A8LY</td>\n",
       "      <td>Normal</td>\n",
       "      <td>subtype_mrna</td>\n",
       "      <td>Normal</td>\n",
       "      <td>1</td>\n",
       "      <td>405</td>\n",
       "      <td>PAM 50</td>\n",
       "    </tr>\n",
       "    <tr>\n",
       "      <th>4515</th>\n",
       "      <td>TCGA-BH-A0H9-11A-22R-A466-07</td>\n",
       "      <td>A0H9</td>\n",
       "      <td>Normal</td>\n",
       "      <td>subtype_mrna</td>\n",
       "      <td>Normal</td>\n",
       "      <td>2</td>\n",
       "      <td>405</td>\n",
       "      <td>PAM 50</td>\n",
       "    </tr>\n",
       "    <tr>\n",
       "      <th>4516</th>\n",
       "      <td>None</td>\n",
       "      <td>None</td>\n",
       "      <td>None</td>\n",
       "      <td>pan_gyn_clusters</td>\n",
       "      <td>None</td>\n",
       "      <td>0</td>\n",
       "      <td>196</td>\n",
       "      <td>Pan-Gyn</td>\n",
       "    </tr>\n",
       "    <tr>\n",
       "      <th>4517</th>\n",
       "      <td>None</td>\n",
       "      <td>None</td>\n",
       "      <td>None</td>\n",
       "      <td>paradigm_clusters</td>\n",
       "      <td>None</td>\n",
       "      <td>0</td>\n",
       "      <td>302</td>\n",
       "      <td>PARADIGM</td>\n",
       "    </tr>\n",
       "    <tr>\n",
       "      <th>4518</th>\n",
       "      <td>None</td>\n",
       "      <td>None</td>\n",
       "      <td>None</td>\n",
       "      <td>subtype_mrna</td>\n",
       "      <td>None</td>\n",
       "      <td>0</td>\n",
       "      <td>417</td>\n",
       "      <td>PAM 50</td>\n",
       "    </tr>\n",
       "  </tbody>\n",
       "</table>\n",
       "<p>4519 rows × 8 columns</p>\n",
       "</div>"
      ],
      "text/plain": [
       "                     pan_samplesid participant cluster              group  \\\n",
       "0     TCGA-A2-A0T0-01A-22R-A084-07        A0T0    IC10           icluster   \n",
       "1     TCGA-A8-A08R-01A-11R-A034-07        A08R    IC10           icluster   \n",
       "2     TCGA-AN-A0FJ-01A-11R-A00Z-07        A0FJ    IC10           icluster   \n",
       "3     TCGA-AO-A0J6-01A-11R-A034-07        A0J6    IC10           icluster   \n",
       "4     TCGA-AR-A1AH-01A-11R-A12D-07        A1AH    IC10           icluster   \n",
       "...                            ...         ...     ...                ...   \n",
       "4514  TCGA-PL-A8LY-01A-11R-A41B-07        A8LY  Normal       subtype_mrna   \n",
       "4515  TCGA-BH-A0H9-11A-22R-A466-07        A0H9  Normal       subtype_mrna   \n",
       "4516                          None        None    None   pan_gyn_clusters   \n",
       "4517                          None        None    None  paradigm_clusters   \n",
       "4518                          None        None    None       subtype_mrna   \n",
       "\n",
       "     corresponding_pam50  x    y stratification  \n",
       "0                  Basal  0   63       iCluster  \n",
       "1                  Basal  1   63       iCluster  \n",
       "2                  Basal  2   63       iCluster  \n",
       "3                  Basal  3   63       iCluster  \n",
       "4                  Basal  4   63       iCluster  \n",
       "...                  ... ..  ...            ...  \n",
       "4514              Normal  1  405         PAM 50  \n",
       "4515              Normal  2  405         PAM 50  \n",
       "4516                None  0  196        Pan-Gyn  \n",
       "4517                None  0  302       PARADIGM  \n",
       "4518                None  0  417         PAM 50  \n",
       "\n",
       "[4519 rows x 8 columns]"
      ]
     },
     "execution_count": 85,
     "metadata": {},
     "output_type": "execute_result"
    }
   ],
   "source": [
    "annotations['stratification'] = to_ordered_categories(annotations.group, order, names)\n",
    "heatmap['stratification'] = to_ordered_categories(heatmap.group, order, names)\n",
    "heatmap"
   ]
  },
  {
   "cell_type": "code",
   "execution_count": 86,
   "metadata": {},
   "outputs": [
    {
     "data": {
      "image/png": "[encoded data removed]"
     },
     "metadata": {},
     "output_type": "display_data"
    }
   ],
   "source": [
    "%%R -i heatmap -w 800 -h 800 -u px -i cluster_names -i annotations\n",
    "\n",
    "pam50 = unique(heatmap$corresponding_pam50[heatmap$corresponding_pam50 != 'None'])\n",
    "heatmap$corresponding_pam50[heatmap$corresponding_pam50 == 'None'] <- NA\n",
    "\n",
    "g = (\n",
    "    ggplot(heatmap, aes(x=x, y=y))\n",
    "    + facet_wrap( ~ stratification, scales='free', ncol=4)\n",
    "    + geom_tile(color='white', aes(fill=corresponding_pam50))\n",
    "    + theme(\n",
    "        legend.position='bottom',\n",
    "        legend.margin=margin(t=-.5, unit='cm'),\n",
    "        axis.text.x=element_blank(),\n",
    "        axis.ticks.x=element_blank(),\n",
    "        panel.grid.minor=element_blank(),\n",
    "        panel.grid.major=element_blank()\n",
    "    )\n",
    "    + shadowtext::geom_shadowtext(\n",
    "        data=annotations, aes(label=label, size=4 * size),\n",
    "        color='white',\n",
    "        hjust=0.5,\n",
    "        vjust=0.5,\n",
    "        bg.color='#666666',\n",
    "        bg.r=0.1\n",
    "    )\n",
    "    + scale_size_identity()\n",
    "    + ggthemes::scale_fill_tableau(breaks=pam50, name='Corresponding PAM50 subtype')\n",
    "    + scale_y_reverse(breaks=cluster_names$y, labels=cluster_names$name)\n",
    "    + xlab('')\n",
    "    + ylab('Cluster / subtype')\n",
    "    + coord_cartesian(expand=F)\n",
    ")\n",
    "ggsave(file=\"stratifications_composition.png\", plot=g, width=8*1.3, height=8*1.3, dpi=150)\n",
    "g"
   ]
  },
  {
   "cell_type": "markdown",
   "metadata": {
    "toc-hr-collapsed": false
   },
   "source": [
    "### Participant-level comparison"
   ]
  },
  {
   "cell_type": "code",
   "execution_count": 87,
   "metadata": {},
   "outputs": [],
   "source": [
    "from sklearn.metrics.cluster import v_measure_score, adjusted_rand_score"
   ]
  },
  {
   "cell_type": "code",
   "execution_count": 88,
   "metadata": {},
   "outputs": [],
   "source": [
    "all_stratifications['stratification'] = all_stratifications.group.apply(names.get)"
   ]
  },
  {
   "cell_type": "code",
   "execution_count": 89,
   "metadata": {},
   "outputs": [],
   "source": [
    "all_pairs = []\n",
    "v_measure = []\n",
    "tested_pairs = set()\n",
    "for group, data in all_stratifications.groupby('stratification'):\n",
    "    for group_2, data_2 in all_stratifications.groupby('stratification'):\n",
    "        if group == group_2:\n",
    "            continue\n",
    "        pair = frozenset({group, group_2})\n",
    "        if pair in tested_pairs:\n",
    "            continue\n",
    "        tested_pairs.add(pair)\n",
    "        \n",
    "        common_participants = list(set(data.participant) & set(data_2.participant))\n",
    "        \n",
    "        c1 = data.set_index('participant').loc[common_participants].cluster\n",
    "        c2 = data_2.set_index('participant').loc[common_participants].cluster\n",
    "        score = v_measure_score(c1, c2)\n",
    "        rand = adjusted_rand_score(c1, c2)\n",
    "        v_measure.append({\n",
    "            'score': score,\n",
    "            'comparison': f'{group} vs {group_2}',\n",
    "            'y': max(map(len, [set(data.participant), set(data_2.participant)])),\n",
    "            'label': f'V-measure score: {score * 100:.2f}%\\nAdjusted Rand score: {rand * 100:.2f}%'\n",
    "        })\n",
    "        all_pairs.append(\n",
    "            concat([data, data_2]).assign(\n",
    "                comparison=f'{group} vs {group_2}',\n",
    "                group_1=group,\n",
    "                group_2=group_2\n",
    "            )\n",
    "        )\n",
    "\n",
    "v_measure = DataFrame(v_measure)\n",
    "all_pairs = concat(all_pairs)"
   ]
  },
  {
   "cell_type": "code",
   "execution_count": 90,
   "metadata": {},
   "outputs": [
    {
     "data": {
      "text/plain": [
       "1099"
      ]
     },
     "execution_count": 90,
     "metadata": {},
     "output_type": "execute_result"
    }
   ],
   "source": [
    "len(all_pairs.participant.unique())"
   ]
  },
  {
   "cell_type": "code",
   "execution_count": 91,
   "metadata": {},
   "outputs": [
    {
     "name": "stdout",
     "output_type": "stream",
     "text": [
      "Stored 'all_pairs' (AugmentedDataFrame)\n"
     ]
    }
   ],
   "source": [
    "%store all_pairs"
   ]
  },
  {
   "cell_type": "code",
   "execution_count": 92,
   "metadata": {},
   "outputs": [],
   "source": [
    "counts['rank'] = counts.cluster.rank(ascending=False)"
   ]
  },
  {
   "cell_type": "code",
   "execution_count": 93,
   "metadata": {},
   "outputs": [],
   "source": [
    "colors_order = counts.set_index('group').loc[all_pairs.cluster.cat.categories]['rank']"
   ]
  },
  {
   "cell_type": "code",
   "execution_count": 94,
   "metadata": {},
   "outputs": [
    {
     "data": {
      "image/png": "[encoded data removed]"
     },
     "metadata": {},
     "output_type": "display_data"
    }
   ],
   "source": [
    "%%R -w 800 -h 900 -u px -i v_measure -i all_pairs -i colors_order\n",
    "pal = ggthemes::tableau_color_pal(\"Tableau 20\")\n",
    "palette = colorRampPalette(pal(20))\n",
    "g = (\n",
    "    ggplot(all_pairs, aes(x=stratification, stratum=cluster, alluvium=participant, fill=cluster))\n",
    "    + ggalluvial::geom_flow(stat=\"alluvium\", lode.guidance=\"leftright\")\n",
    "    + ggalluvial::geom_stratum()\n",
    "    + facet_wrap(~ comparison, scales='free', ncol=3)\n",
    "    + theme()\n",
    "    + ggfittext::geom_fit_text(stat='stratum', label.strata=T, min.size=2, width=1/4, color='white', alpha=.5)\n",
    "    + ggfittext::geom_fit_text(stat='stratum', label.strata=T, min.size=2, width=1/4)\n",
    "    + ylab('Participants count')\n",
    "    + xlab('')\n",
    "    + guides(fill=F)\n",
    "    + geom_text(data=v_measure, aes(label=label, x=1.5, y=y+70), vjust=0.5, inherit.aes=F)\n",
    "    + scale_fill_manual(values=palette(32)[colors_order])\n",
    ")\n",
    "ggsave(file=\"side_by_side_stratification_comparison.png\", plot=g, width=8*1.3, height=9*1.3, dpi=150)\n",
    "g"
   ]
  },
  {
   "cell_type": "markdown",
   "metadata": {},
   "source": [
    "Stratifications were compared with adjusted Rand Index and V-measure (sklearn) using the common subset of participants. While high values were not expected given drastically different numbers of clusters, certain similarities are apparent.  \n",
    "By all measures Pan-Gyn differs the most from PAM50 stratification, while PARADIGM and Pan-Gyn share the most similarities."
   ]
  }
 ],
 "metadata": {
  "kernelspec": {
   "display_name": "Python 3",
   "language": "python",
   "name": "python3"
  },
  "language_info": {
   "codemirror_mode": {
    "name": "ipython",
    "version": 3
   },
   "file_extension": ".py",
   "mimetype": "text/x-python",
   "name": "python",
   "nbconvert_exporter": "python",
   "pygments_lexer": "ipython3",
   "version": "3.7.0"
  }
 },
 "nbformat": 4,
 "nbformat_minor": 2
}
