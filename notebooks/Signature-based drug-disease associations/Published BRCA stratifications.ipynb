{
 "cells": [
  {
   "cell_type": "code",
   "execution_count": 1,
   "metadata": {},
   "outputs": [
    {
     "data": {
      "text/html": [
       "<style>.highlight .hll { background-color: #ffffcc }\n",
       ".highlight  { background: #f8f8f8; }\n",
       ".highlight .c { color: #408080; font-style: italic } /* Comment */\n",
       ".highlight .err { border: 1px solid #FF0000 } /* Error */\n",
       ".highlight .k { color: #008000; font-weight: bold } /* Keyword */\n",
       ".highlight .o { color: #666666 } /* Operator */\n",
       ".highlight .ch { color: #408080; font-style: italic } /* Comment.Hashbang */\n",
       ".highlight .cm { color: #408080; font-style: italic } /* Comment.Multiline */\n",
       ".highlight .cp { color: #BC7A00 } /* Comment.Preproc */\n",
       ".highlight .cpf { color: #408080; font-style: italic } /* Comment.PreprocFile */\n",
       ".highlight .c1 { color: #408080; font-style: italic } /* Comment.Single */\n",
       ".highlight .cs { color: #408080; font-style: italic } /* Comment.Special */\n",
       ".highlight .gd { color: #A00000 } /* Generic.Deleted */\n",
       ".highlight .ge { font-style: italic } /* Generic.Emph */\n",
       ".highlight .gr { color: #FF0000 } /* Generic.Error */\n",
       ".highlight .gh { color: #000080; font-weight: bold } /* Generic.Heading */\n",
       ".highlight .gi { color: #00A000 } /* Generic.Inserted */\n",
       ".highlight .go { color: #888888 } /* Generic.Output */\n",
       ".highlight .gp { color: #000080; font-weight: bold } /* Generic.Prompt */\n",
       ".highlight .gs { font-weight: bold } /* Generic.Strong */\n",
       ".highlight .gu { color: #800080; font-weight: bold } /* Generic.Subheading */\n",
       ".highlight .gt { color: #0044DD } /* Generic.Traceback */\n",
       ".highlight .kc { color: #008000; font-weight: bold } /* Keyword.Constant */\n",
       ".highlight .kd { color: #008000; font-weight: bold } /* Keyword.Declaration */\n",
       ".highlight .kn { color: #008000; font-weight: bold } /* Keyword.Namespace */\n",
       ".highlight .kp { color: #008000 } /* Keyword.Pseudo */\n",
       ".highlight .kr { color: #008000; font-weight: bold } /* Keyword.Reserved */\n",
       ".highlight .kt { color: #B00040 } /* Keyword.Type */\n",
       ".highlight .m { color: #666666 } /* Literal.Number */\n",
       ".highlight .s { color: #BA2121 } /* Literal.String */\n",
       ".highlight .na { color: #7D9029 } /* Name.Attribute */\n",
       ".highlight .nb { color: #008000 } /* Name.Builtin */\n",
       ".highlight .nc { color: #0000FF; font-weight: bold } /* Name.Class */\n",
       ".highlight .no { color: #880000 } /* Name.Constant */\n",
       ".highlight .nd { color: #AA22FF } /* Name.Decorator */\n",
       ".highlight .ni { color: #999999; font-weight: bold } /* Name.Entity */\n",
       ".highlight .ne { color: #D2413A; font-weight: bold } /* Name.Exception */\n",
       ".highlight .nf { color: #0000FF } /* Name.Function */\n",
       ".highlight .nl { color: #A0A000 } /* Name.Label */\n",
       ".highlight .nn { color: #0000FF; font-weight: bold } /* Name.Namespace */\n",
       ".highlight .nt { color: #008000; font-weight: bold } /* Name.Tag */\n",
       ".highlight .nv { color: #19177C } /* Name.Variable */\n",
       ".highlight .ow { color: #AA22FF; font-weight: bold } /* Operator.Word */\n",
       ".highlight .w { color: #bbbbbb } /* Text.Whitespace */\n",
       ".highlight .mb { color: #666666 } /* Literal.Number.Bin */\n",
       ".highlight .mf { color: #666666 } /* Literal.Number.Float */\n",
       ".highlight .mh { color: #666666 } /* Literal.Number.Hex */\n",
       ".highlight .mi { color: #666666 } /* Literal.Number.Integer */\n",
       ".highlight .mo { color: #666666 } /* Literal.Number.Oct */\n",
       ".highlight .sa { color: #BA2121 } /* Literal.String.Affix */\n",
       ".highlight .sb { color: #BA2121 } /* Literal.String.Backtick */\n",
       ".highlight .sc { color: #BA2121 } /* Literal.String.Char */\n",
       ".highlight .dl { color: #BA2121 } /* Literal.String.Delimiter */\n",
       ".highlight .sd { color: #BA2121; font-style: italic } /* Literal.String.Doc */\n",
       ".highlight .s2 { color: #BA2121 } /* Literal.String.Double */\n",
       ".highlight .se { color: #BB6622; font-weight: bold } /* Literal.String.Escape */\n",
       ".highlight .sh { color: #BA2121 } /* Literal.String.Heredoc */\n",
       ".highlight .si { color: #BB6688; font-weight: bold } /* Literal.String.Interpol */\n",
       ".highlight .sx { color: #008000 } /* Literal.String.Other */\n",
       ".highlight .sr { color: #BB6688 } /* Literal.String.Regex */\n",
       ".highlight .s1 { color: #BA2121 } /* Literal.String.Single */\n",
       ".highlight .ss { color: #19177C } /* Literal.String.Symbol */\n",
       ".highlight .bp { color: #008000 } /* Name.Builtin.Pseudo */\n",
       ".highlight .fm { color: #0000FF } /* Name.Function.Magic */\n",
       ".highlight .vc { color: #19177C } /* Name.Variable.Class */\n",
       ".highlight .vg { color: #19177C } /* Name.Variable.Global */\n",
       ".highlight .vi { color: #19177C } /* Name.Variable.Instance */\n",
       ".highlight .vm { color: #19177C } /* Name.Variable.Magic */\n",
       ".highlight .il { color: #666666 } /* Literal.Number.Integer.Long */.highlight{margin-left:10px!important; font-size:11px}</style>"
      ],
      "text/plain": [
       "<IPython.core.display.HTML object>"
      ]
     },
     "metadata": {},
     "output_type": "display_data"
    }
   ],
   "source": [
    "%matplotlib inline\n",
    "%load_ext autoreload\n",
    "%autoreload 2\n",
    "from utilities_namespace import *"
   ]
  },
  {
   "cell_type": "code",
   "execution_count": 2,
   "metadata": {},
   "outputs": [],
   "source": [
    "%%capture\n",
    "%load_ext rpy2.ipython\n",
    "%R require(ggplot2)"
   ]
  },
  {
   "cell_type": "code",
   "execution_count": 4,
   "metadata": {},
   "outputs": [],
   "source": [
    "from helpers.notebooks import notebooks_importer"
   ]
  },
  {
   "cell_type": "code",
   "execution_count": 5,
   "metadata": {},
   "outputs": [],
   "source": [
    "%%capture\n",
    "import Data as data"
   ]
  },
  {
   "cell_type": "markdown",
   "metadata": {},
   "source": [
    "## Previously reported cancer stratification"
   ]
  },
  {
   "cell_type": "markdown",
   "metadata": {},
   "source": [
    "On example of a well studied breast invasive carcinoma (BRCA) cohort from TCGA, as studied and reported by TCGA PanCancer Atlas in 2018."
   ]
  },
  {
   "cell_type": "code",
   "execution_count": 6,
   "metadata": {},
   "outputs": [],
   "source": [
    "from data_sources.pan_cancer_atlas import PanCancerAtlas"
   ]
  },
  {
   "cell_type": "markdown",
   "metadata": {},
   "source": [
    "### PAM 50\n",
    "- based on mRNA expression\n",
    "- applied to breast cancer samples by (The Cancer Genome Atlas Network, 2012)"
   ]
  },
  {
   "cell_type": "code",
   "execution_count": 7,
   "metadata": {},
   "outputs": [
    {
     "name": "stdout",
     "output_type": "stream",
     "text": [
      "Please refer to https://www.bioconductor.org/packages/devel/bioc/vignettes/TCGAbiolinks/inst/doc/subtypes.html for the source of data for specific cohorts\n"
     ]
    }
   ],
   "source": [
    "pam50_subtypes = PanCancerAtlas().subtypes_curated()"
   ]
  },
  {
   "cell_type": "code",
   "execution_count": 8,
   "metadata": {},
   "outputs": [],
   "source": [
    "pam50_brca = pam50_subtypes[pam50_subtypes.cancer_type == 'BRCA']"
   ]
  },
  {
   "cell_type": "code",
   "execution_count": 9,
   "metadata": {},
   "outputs": [
    {
     "data": {
      "text/html": [
       "<div>\n",
       "<style scoped>\n",
       "    .dataframe tbody tr th:only-of-type {\n",
       "        vertical-align: middle;\n",
       "    }\n",
       "\n",
       "    .dataframe tbody tr th {\n",
       "        vertical-align: top;\n",
       "    }\n",
       "\n",
       "    .dataframe thead th {\n",
       "        text-align: right;\n",
       "    }\n",
       "</style>\n",
       "<table border=\"1\" class=\"dataframe\">\n",
       "  <thead>\n",
       "    <tr style=\"text-align: right;\">\n",
       "      <th></th>\n",
       "      <th>pan_samplesid</th>\n",
       "      <th>cancer_type</th>\n",
       "      <th>subtype_mrna</th>\n",
       "      <th>subtype_protein</th>\n",
       "      <th>subtype_selected</th>\n",
       "      <th>participant</th>\n",
       "    </tr>\n",
       "  </thead>\n",
       "  <tbody>\n",
       "    <tr>\n",
       "      <th>407</th>\n",
       "      <td>TCGA-E2-A158-11A-22R-A12D-07</td>\n",
       "      <td>BRCA</td>\n",
       "      <td>Normal</td>\n",
       "      <td>-2147483648</td>\n",
       "      <td>BRCA.Normal</td>\n",
       "      <td>A158</td>\n",
       "    </tr>\n",
       "    <tr>\n",
       "      <th>408</th>\n",
       "      <td>TCGA-BH-A0DD-11A-23R-A12P-07</td>\n",
       "      <td>BRCA</td>\n",
       "      <td>LumA</td>\n",
       "      <td>-2147483648</td>\n",
       "      <td>BRCA.LumA</td>\n",
       "      <td>A0DD</td>\n",
       "    </tr>\n",
       "    <tr>\n",
       "      <th>409</th>\n",
       "      <td>TCGA-BH-A1EO-11A-31R-A137-07</td>\n",
       "      <td>BRCA</td>\n",
       "      <td>LumA</td>\n",
       "      <td>-2147483648</td>\n",
       "      <td>BRCA.LumA</td>\n",
       "      <td>A1EO</td>\n",
       "    </tr>\n",
       "    <tr>\n",
       "      <th>410</th>\n",
       "      <td>TCGA-BH-A0B5-11A-23R-A12P-07</td>\n",
       "      <td>BRCA</td>\n",
       "      <td>LumA</td>\n",
       "      <td>-2147483648</td>\n",
       "      <td>BRCA.LumA</td>\n",
       "      <td>A0B5</td>\n",
       "    </tr>\n",
       "    <tr>\n",
       "      <th>411</th>\n",
       "      <td>TCGA-A7-A13G-11A-51R-A13Q-07</td>\n",
       "      <td>BRCA</td>\n",
       "      <td>LumA</td>\n",
       "      <td>-2147483648</td>\n",
       "      <td>BRCA.LumA</td>\n",
       "      <td>A13G</td>\n",
       "    </tr>\n",
       "  </tbody>\n",
       "</table>\n",
       "</div>"
      ],
      "text/plain": [
       "                    pan_samplesid cancer_type subtype_mrna  subtype_protein  \\\n",
       "407  TCGA-E2-A158-11A-22R-A12D-07        BRCA       Normal      -2147483648   \n",
       "408  TCGA-BH-A0DD-11A-23R-A12P-07        BRCA         LumA      -2147483648   \n",
       "409  TCGA-BH-A1EO-11A-31R-A137-07        BRCA         LumA      -2147483648   \n",
       "410  TCGA-BH-A0B5-11A-23R-A12P-07        BRCA         LumA      -2147483648   \n",
       "411  TCGA-A7-A13G-11A-51R-A13Q-07        BRCA         LumA      -2147483648   \n",
       "\n",
       "    subtype_selected participant  \n",
       "407      BRCA.Normal        A158  \n",
       "408        BRCA.LumA        A0DD  \n",
       "409        BRCA.LumA        A1EO  \n",
       "410        BRCA.LumA        A0B5  \n",
       "411        BRCA.LumA        A13G  "
      ]
     },
     "execution_count": 9,
     "metadata": {},
     "output_type": "execute_result"
    }
   ],
   "source": [
    "pam50_brca.dropna(axis=1).head()"
   ]
  },
  {
   "cell_type": "markdown",
   "metadata": {},
   "source": [
    "For detailed description see: https://www.bioconductor.org/packages/devel/bioc/vignettes/TCGAbiolinks/inst/doc/subtypes.html"
   ]
  },
  {
   "cell_type": "markdown",
   "metadata": {},
   "source": [
    "The *Subtype_Selected* column is equivalent to mRNA for BRCA:"
   ]
  },
  {
   "cell_type": "code",
   "execution_count": 10,
   "metadata": {},
   "outputs": [],
   "source": [
    "assert ((pam50_brca.cancer_type + '.' + pam50_brca.subtype_mrna) == pam50_brca.subtype_selected).all()"
   ]
  },
  {
   "cell_type": "markdown",
   "metadata": {},
   "source": [
    "While *Subtype_protein* has no variance at all:"
   ]
  },
  {
   "cell_type": "code",
   "execution_count": 11,
   "metadata": {},
   "outputs": [
    {
     "data": {
      "text/plain": [
       "array([-2147483648])"
      ]
     },
     "execution_count": 11,
     "metadata": {},
     "output_type": "execute_result"
    }
   ],
   "source": [
    "pam50_brca.subtype_protein.unique()"
   ]
  },
  {
   "cell_type": "markdown",
   "metadata": {},
   "source": [
    "There are five subtypes in PAM 50 model:"
   ]
  },
  {
   "cell_type": "code",
   "execution_count": 12,
   "metadata": {},
   "outputs": [
    {
     "data": {
      "text/plain": [
       "LumA      581\n",
       "LumB      219\n",
       "Basal     193\n",
       "Normal    143\n",
       "Her2       82\n",
       "Name: subtype_mrna, dtype: int64"
      ]
     },
     "execution_count": 12,
     "metadata": {},
     "output_type": "execute_result"
    }
   ],
   "source": [
    "pam50_brca.subtype_mrna.value_counts()"
   ]
  },
  {
   "cell_type": "markdown",
   "metadata": {},
   "source": [
    "#### Coverage of PAM 50\n",
    "\n",
    "There are subtypes assigned for every sample in BRCA cohort:"
   ]
  },
  {
   "cell_type": "code",
   "execution_count": 13,
   "metadata": {},
   "outputs": [],
   "source": [
    "samples = set(data.brca_expression.columns)\n",
    "pam_50_samples = set(pam50_brca.pan_samplesid)"
   ]
  },
  {
   "cell_type": "code",
   "execution_count": 14,
   "metadata": {},
   "outputs": [
    {
     "data": {
      "text/plain": [
       "1.0"
      ]
     },
     "execution_count": 14,
     "metadata": {},
     "output_type": "execute_result"
    }
   ],
   "source": [
    "len(samples & pam_50_samples) / len(samples)"
   ]
  },
  {
   "cell_type": "markdown",
   "metadata": {},
   "source": [
    "#### PAM 50 allows to consider cancer heteregonity"
   ]
  },
  {
   "cell_type": "markdown",
   "metadata": {},
   "source": [
    "Worth noting: in some cases there is more than one subtype per participant (which is kind of obvious when considering the cancer heterogeneity):"
   ]
  },
  {
   "cell_type": "code",
   "execution_count": 15,
   "metadata": {},
   "outputs": [],
   "source": [
    "heterogenous = pam50_brca.groupby('participant').filter(lambda row: len(set(row.subtype_mrna)) > 1)"
   ]
  },
  {
   "cell_type": "code",
   "execution_count": 16,
   "metadata": {},
   "outputs": [],
   "source": [
    "# ignore multiple samples (just look at the participants)\n",
    "heterogenous_participants = heterogenous.drop_duplicates(subset=['participant', 'subtype_mrna'])[['participant', 'subtype_mrna']]"
   ]
  },
  {
   "cell_type": "code",
   "execution_count": 17,
   "metadata": {},
   "outputs": [
    {
     "name": "stdout",
     "output_type": "stream",
     "text": [
      "There are 102 participants (out of 1097) with heterogenity, so about 9.30%\n"
     ]
    }
   ],
   "source": [
    "h = len(heterogenous_participants.participant.unique())\n",
    "a = len(pam50_brca.participant.unique())\n",
    "print(f'There are {h} participants (out of {a}) with heterogenity, so about {h/a*100:.2f}%')"
   ]
  },
  {
   "cell_type": "code",
   "execution_count": 18,
   "metadata": {},
   "outputs": [
    {
     "data": {
      "image/png": "[encoded data removed]"
     },
     "metadata": {},
     "output_type": "display_data"
    }
   ],
   "source": [
    "%%R -i heterogenous_participants -w 950 -h 400 -u px\n",
    "(\n",
    "    ggplot(heterogenous_participants, aes(x=participant, y=subtype_mrna, fill=subtype_mrna))\n",
    "    + geom_tile()\n",
    "    + theme(axis.text.x=element_text(angle=90))\n",
    ")"
   ]
  },
  {
   "cell_type": "code",
   "execution_count": 19,
   "metadata": {},
   "outputs": [],
   "source": [
    "heterogenous_groups = heterogenous_participants.groupby('participant').subtype_mrna.apply(lambda subtypes: ' and '.join(sorted(set(subtypes)))).to_dict()\n",
    "heterogenous_participants['grouped'] = heterogenous_participants.participant.map(heterogenous_groups)\n",
    "count_fraction = heterogenous_participants.groupby('participant').subtype_mrna.apply(lambda subtypes: 1/len(set(subtypes))).to_dict()\n",
    "heterogenous_participants['Count'] = heterogenous_participants.participant.map(count_fraction)"
   ]
  },
  {
   "cell_type": "code",
   "execution_count": 20,
   "metadata": {},
   "outputs": [],
   "source": [
    "heterogenous_participants = heterogenous_participants.sort_values('grouped')"
   ]
  },
  {
   "cell_type": "code",
   "execution_count": 37,
   "metadata": {},
   "outputs": [
    {
     "data": {
      "image/png": "[encoded data removed]"
     },
     "metadata": {},
     "output_type": "display_data"
    }
   ],
   "source": [
    "%%R -i heterogenous_participants -w 700 -h 850 -u px\n",
    "require(ggalluvial)\n",
    "(\n",
    "    ggplot(heterogenous_participants, aes(axis1=subtype_mrna, axis2=grouped, y=Count))\n",
    "    + geom_alluvium(aes(fill=subtype_mrna))\n",
    "    + geom_stratum(width=1/3, fill='white', color = 'grey')\n",
    "    + ggfittext::geom_fit_text(stat='stratum', label.strata=T, min.size=3, width=1/4)\n",
    "    + scale_x_continuous(breaks=1:2, labels = c('Subtype', 'Subtypes combination'))\n",
    "    + ylab('Participants count')\n",
    "    + ggtitle('BRCA heteregonity in TCGA (PAM 50)')\n",
    "    + labs(fill='mRNA subtype')\n",
    "    + theme(legend.position='bottom')\n",
    ")"
   ]
  },
  {
   "cell_type": "markdown",
   "metadata": {},
   "source": [
    "### iCluster\n",
    "- based on copy number, DNA methylation, mRNA and miRNA\n",
    "- applied to all cancer types (pan-cancer clustering) by (Hoadley et al., 2018)."
   ]
  },
  {
   "cell_type": "code",
   "execution_count": 38,
   "metadata": {},
   "outputs": [],
   "source": [
    "icluster_subtypes = PanCancerAtlas().icluster()"
   ]
  },
  {
   "cell_type": "code",
   "execution_count": 39,
   "metadata": {},
   "outputs": [],
   "source": [
    "icluster_subtypes.icluster = 'IC' + icluster_subtypes.icluster.astype(str)"
   ]
  },
  {
   "cell_type": "code",
   "execution_count": 40,
   "metadata": {},
   "outputs": [],
   "source": [
    "participants_with_brca = {\n",
    "    barcode.participant\n",
    "    for barcode in data.brca_expression.barcodes\n",
    "}"
   ]
  },
  {
   "cell_type": "code",
   "execution_count": 41,
   "metadata": {},
   "outputs": [],
   "source": [
    "icluster_brca = icluster_subtypes[icluster_subtypes.participant.isin(participants_with_brca)]"
   ]
  },
  {
   "cell_type": "code",
   "execution_count": 42,
   "metadata": {},
   "outputs": [
    {
     "data": {
      "text/html": [
       "<div>\n",
       "<style scoped>\n",
       "    .dataframe tbody tr th:only-of-type {\n",
       "        vertical-align: middle;\n",
       "    }\n",
       "\n",
       "    .dataframe tbody tr th {\n",
       "        vertical-align: top;\n",
       "    }\n",
       "\n",
       "    .dataframe thead th {\n",
       "        text-align: right;\n",
       "    }\n",
       "</style>\n",
       "<table border=\"1\" class=\"dataframe\">\n",
       "  <thead>\n",
       "    <tr style=\"text-align: right;\">\n",
       "      <th></th>\n",
       "      <th>sample_id</th>\n",
       "      <th>icluster</th>\n",
       "      <th>participant</th>\n",
       "    </tr>\n",
       "  </thead>\n",
       "  <tbody>\n",
       "    <tr>\n",
       "      <th>4759</th>\n",
       "      <td>TCGA-3C-AAAU</td>\n",
       "      <td>IC19</td>\n",
       "      <td>AAAU</td>\n",
       "    </tr>\n",
       "    <tr>\n",
       "      <th>4760</th>\n",
       "      <td>TCGA-3C-AALI</td>\n",
       "      <td>IC2</td>\n",
       "      <td>AALI</td>\n",
       "    </tr>\n",
       "    <tr>\n",
       "      <th>4761</th>\n",
       "      <td>TCGA-3C-AALJ</td>\n",
       "      <td>IC17</td>\n",
       "      <td>AALJ</td>\n",
       "    </tr>\n",
       "    <tr>\n",
       "      <th>4762</th>\n",
       "      <td>TCGA-3C-AALK</td>\n",
       "      <td>IC2</td>\n",
       "      <td>AALK</td>\n",
       "    </tr>\n",
       "    <tr>\n",
       "      <th>4763</th>\n",
       "      <td>TCGA-4H-AAAK</td>\n",
       "      <td>IC19</td>\n",
       "      <td>AAAK</td>\n",
       "    </tr>\n",
       "  </tbody>\n",
       "</table>\n",
       "</div>"
      ],
      "text/plain": [
       "         sample_id icluster participant\n",
       "4759  TCGA-3C-AAAU     IC19        AAAU\n",
       "4760  TCGA-3C-AALI      IC2        AALI\n",
       "4761  TCGA-3C-AALJ     IC17        AALJ\n",
       "4762  TCGA-3C-AALK      IC2        AALK\n",
       "4763  TCGA-4H-AAAK     IC19        AAAK"
      ]
     },
     "execution_count": 42,
     "metadata": {},
     "output_type": "execute_result"
    }
   ],
   "source": [
    "icluster_brca.head()"
   ]
  },
  {
   "cell_type": "markdown",
   "metadata": {},
   "source": [
    "Some subtypes are assigned to only few (or even one) participants. Those may be mis-classifications or patients with metastasis (or just multiple cancers)."
   ]
  },
  {
   "cell_type": "code",
   "execution_count": 43,
   "metadata": {},
   "outputs": [
    {
     "data": {
      "text/html": [
       "\n",
       "        <table class='namespace'>\n",
       "            <tr><td><b>IC19</b></td><td><b>IC17</b></td><td><b>IC2</b></td><td><b>IC20</b></td><td><b>IC13</b></td><td><b>IC25</b></td><td><b>IC14</b></td><td><b>IC10</b></td><td><b>IC27</b></td><td><b>IC8</b></td><td><b>IC7</b></td><td><b>IC3</b></td><td><b>IC23</b></td><td><b>IC1</b></td><td><b>IC22</b></td></tr><tr><td>553</td><td>125</td><td>98</td><td>78</td><td>68</td><td>39</td><td>17</td><td>16</td><td>10</td><td>10</td><td>9</td><td>4</td><td>1</td><td>1</td><td>1</td></tr>\n",
       "        </table>"
      ],
      "text/plain": [
       "HorizontalNamespace(IC1=1, IC10=16, IC13=68, IC14=17, IC17=125, IC19=553, IC2=98, IC20=78, IC22=1, IC23=1, IC25=39, IC27=10, IC3=4, IC7=9, IC8=10)"
      ]
     },
     "execution_count": 43,
     "metadata": {},
     "output_type": "execute_result"
    }
   ],
   "source": [
    "# upper numbers = custers, lower row = participants counts\n",
    "HorizontalNamespace(icluster_brca.icluster.value_counts())"
   ]
  },
  {
   "cell_type": "markdown",
   "metadata": {},
   "source": [
    "For the analysis I will exclude clusters with less than 3 samples (required number of samples for differential expression with signal-to-ratio and tTest metrics):"
   ]
  },
  {
   "cell_type": "code",
   "execution_count": 44,
   "metadata": {},
   "outputs": [],
   "source": [
    "samples_by_participant = data.brca_expression.samples_by_participant()"
   ]
  },
  {
   "cell_type": "code",
   "execution_count": 45,
   "metadata": {},
   "outputs": [],
   "source": [
    "def sampels_count_in_cluster(participants):\n",
    "    return sum([\n",
    "        len(samples_by_participant[participant])\n",
    "        for participant in participants\n",
    "    ])"
   ]
  },
  {
   "cell_type": "code",
   "execution_count": 46,
   "metadata": {},
   "outputs": [],
   "source": [
    "sampels_in_cluster = icluster_brca.groupby('icluster').participant.apply(sampels_count_in_cluster)"
   ]
  },
  {
   "cell_type": "code",
   "execution_count": 47,
   "metadata": {},
   "outputs": [
    {
     "data": {
      "text/html": [
       "\n",
       "        <table class='namespace'>\n",
       "            <tr><td><b>IC1</b></td><td><b>IC10</b></td><td><b>IC13</b></td><td><b>IC14</b></td><td><b>IC17</b></td><td><b>IC19</b></td><td><b>IC2</b></td><td><b>IC20</b></td><td><b>IC22</b></td><td><b>IC23</b></td><td><b>IC25</b></td><td><b>IC27</b></td><td><b>IC3</b></td><td><b>IC7</b></td><td><b>IC8</b></td></tr><tr><td>2</td><td>18</td><td>75</td><td>20</td><td>136</td><td>620</td><td>108</td><td>84</td><td>1</td><td>1</td><td>44</td><td>11</td><td>4</td><td>11</td><td>11</td></tr>\n",
       "        </table>"
      ],
      "text/plain": [
       "HorizontalNamespace(IC1=2, IC10=18, IC13=75, IC14=20, IC17=136, IC19=620, IC2=108, IC20=84, IC22=1, IC23=1, IC25=44, IC27=11, IC3=4, IC7=11, IC8=11)"
      ]
     },
     "execution_count": 47,
     "metadata": {},
     "output_type": "execute_result"
    }
   ],
   "source": [
    "# upper numbers = custers, lower row = samples counts\n",
    "HorizontalNamespace(sampels_in_cluster)"
   ]
  },
  {
   "cell_type": "code",
   "execution_count": 48,
   "metadata": {},
   "outputs": [],
   "source": [
    "selecetd_clusters = set(sampels_in_cluster[sampels_in_cluster > 3].index)\n",
    "icluster_brca_selected = icluster_brca[icluster_brca.icluster.isin(selecetd_clusters)]"
   ]
  },
  {
   "cell_type": "code",
   "execution_count": 49,
   "metadata": {},
   "outputs": [
    {
     "data": {
      "text/html": [
       "\n",
       "        <table class='namespace'>\n",
       "            <tr><td><b>IC19</b></td><td><b>IC17</b></td><td><b>IC2</b></td><td><b>IC20</b></td><td><b>IC13</b></td><td><b>IC25</b></td><td><b>IC14</b></td><td><b>IC10</b></td><td><b>IC27</b></td><td><b>IC8</b></td><td><b>IC7</b></td><td><b>IC3</b></td></tr><tr><td>553</td><td>125</td><td>98</td><td>78</td><td>68</td><td>39</td><td>17</td><td>16</td><td>10</td><td>10</td><td>9</td><td>4</td></tr>\n",
       "        </table>"
      ],
      "text/plain": [
       "HorizontalNamespace(IC10=16, IC13=68, IC14=17, IC17=125, IC19=553, IC2=98, IC20=78, IC25=39, IC27=10, IC3=4, IC7=9, IC8=10)"
      ]
     },
     "execution_count": 49,
     "metadata": {},
     "output_type": "execute_result"
    }
   ],
   "source": [
    "# upper numbers = custers, lower row = participants counts\n",
    "HorizontalNamespace(icluster_brca_selected.icluster.value_counts())"
   ]
  },
  {
   "cell_type": "markdown",
   "metadata": {},
   "source": [
    "#### Coverage of iCluster subtypes"
   ]
  },
  {
   "cell_type": "markdown",
   "metadata": {},
   "source": [
    "The coverage is high when all subtypes are included (94.24%)"
   ]
  },
  {
   "cell_type": "code",
   "execution_count": 50,
   "metadata": {},
   "outputs": [
    {
     "data": {
      "text/plain": [
       "0.9423604757548033"
      ]
     },
     "execution_count": 50,
     "metadata": {},
     "output_type": "execute_result"
    }
   ],
   "source": [
    "participants_icluster = set(icluster_brca.participant)\n",
    "len(participants_with_brca & participants_icluster) / len(participants_with_brca)"
   ]
  },
  {
   "cell_type": "markdown",
   "metadata": {},
   "source": [
    "And remains comparable (93.96%) after exclusion of the three small clusters:"
   ]
  },
  {
   "cell_type": "code",
   "execution_count": 51,
   "metadata": {},
   "outputs": [
    {
     "data": {
      "text/plain": [
       "0.939615736505032"
      ]
     },
     "execution_count": 51,
     "metadata": {},
     "output_type": "execute_result"
    }
   ],
   "source": [
    "participants_icluster_selected = set(icluster_brca_selected.participant)\n",
    "len(participants_with_brca & participants_icluster_selected) / len(participants_with_brca)"
   ]
  },
  {
   "cell_type": "markdown",
   "metadata": {},
   "source": [
    "### PARADIGM\n",
    "- based on mRNA expression, copy number and pathway interaction data (NCIPID, BioCarta, Reactome),\n",
    "- \"PARADIGM pathway analysis followed by unsupervised consensus clustering of pathway scores that clustered samples primarily by tissue type\"\n",
    "- applied to gynecologic and breast cancers by (Berger et al., 2018),"
   ]
  },
  {
   "cell_type": "markdown",
   "metadata": {},
   "source": [
    "Methodology extracts (open access, [CC BY-NC-ND 4.0](https://creativecommons.org/licenses/by-nc-nd/4.0/), Berger et al):\n",
    "\n",
    "> The PARADIGM algorithm infers an integrated pathway level (IPL) for each feature that reflects the log likelihood of the probability that it is activated (vs. inactivated). PARADIGM IPLs of the 19504 features within the SuperPathway is available on Synapse (syn6171376).\n",
    "\n",
    "> We also computed the single sample gene set enrichment (ssGSEA) score, as described by Barbie et al (Barbie et al., 2009), of the constituent pathways forming the SuperPathway structure from the PARADIGM IPL data using the GSVA package in R (Hänzelmann et al., 2013). Of the 1524 pathways obtained, only 1387 have pathway members within the interconnected SuperPathway structure; and their ssGSEA scores are available on Synapse (syn10184122).\n",
    "\n",
    "> Consensus Clustering based on PARADIGM Inferred Pathway Activation\n",
    "Consensus clustering based on the 4876 most varying features (i.e. IPLs with variance within the highest quartile) was used to identify Pan-Gynecological subtypes implicated from shared patterns of pathway inference. Consensus clustering was implemented with the ConsensusClusterPlus package in R (Wilkerson and Hayes, 2010)"
   ]
  },
  {
   "cell_type": "code",
   "execution_count": 53,
   "metadata": {},
   "outputs": [],
   "source": [
    "brca_subtypes_integrative = PanCancerAtlas().subtypes_integrative('BRCA')"
   ]
  },
  {
   "cell_type": "code",
   "execution_count": 54,
   "metadata": {},
   "outputs": [],
   "source": [
    "# just to avoid confusion with Pan-Gyn clusters names\n",
    "brca_subtypes_integrative.paradigm_clusters = 'PR' + brca_subtypes_integrative.paradigm_clusters"
   ]
  },
  {
   "cell_type": "code",
   "execution_count": 55,
   "metadata": {},
   "outputs": [],
   "source": [
    "paradigm_brca = brca_subtypes_integrative.dropna(subset=['paradigm_clusters'])"
   ]
  },
  {
   "cell_type": "code",
   "execution_count": 56,
   "metadata": {},
   "outputs": [
    {
     "data": {
      "text/html": [
       "\n",
       "        <table class='namespace'>\n",
       "            <tr><td><b>PRC5</b></td><td><b>PRC6</b></td><td><b>PRC4</b></td><td><b>PRC8</b></td><td><b>PRC2</b></td><td><b>PRC1</b></td><td><b>PRC7</b></td></tr><tr><td>356</td><td>271</td><td>247</td><td>103</td><td>75</td><td>1</td><td>1</td></tr>\n",
       "        </table>"
      ],
      "text/plain": [
       "HorizontalNamespace(PRC1=1, PRC2=75, PRC4=247, PRC5=356, PRC6=271, PRC7=1, PRC8=103)"
      ]
     },
     "execution_count": 56,
     "metadata": {},
     "output_type": "execute_result"
    }
   ],
   "source": [
    "HorizontalNamespace(paradigm_brca.paradigm_clusters.value_counts())"
   ]
  },
  {
   "cell_type": "markdown",
   "metadata": {},
   "source": [
    "Clusters with less than 3 samples are (again) excluded:"
   ]
  },
  {
   "cell_type": "code",
   "execution_count": 57,
   "metadata": {},
   "outputs": [],
   "source": [
    "sampels_in_cluster = paradigm_brca.groupby('paradigm_clusters').participant.apply(sampels_count_in_cluster)"
   ]
  },
  {
   "cell_type": "code",
   "execution_count": 58,
   "metadata": {},
   "outputs": [],
   "source": [
    "selecetd_clusters = set(sampels_in_cluster[sampels_in_cluster > 3].index)\n",
    "paradigm_brca_selected = paradigm_brca[paradigm_brca.paradigm_clusters.isin(selecetd_clusters)]"
   ]
  },
  {
   "cell_type": "code",
   "execution_count": 59,
   "metadata": {},
   "outputs": [
    {
     "data": {
      "text/html": [
       "\n",
       "        <table class='namespace'>\n",
       "            <tr><td><b>PRC5</b></td><td><b>PRC6</b></td><td><b>PRC4</b></td><td><b>PRC8</b></td><td><b>PRC2</b></td></tr><tr><td>356</td><td>271</td><td>247</td><td>103</td><td>75</td></tr>\n",
       "        </table>"
      ],
      "text/plain": [
       "HorizontalNamespace(PRC2=75, PRC4=247, PRC5=356, PRC6=271, PRC8=103)"
      ]
     },
     "execution_count": 59,
     "metadata": {},
     "output_type": "execute_result"
    }
   ],
   "source": [
    "HorizontalNamespace(paradigm_brca_selected.paradigm_clusters.value_counts())"
   ]
  },
  {
   "cell_type": "markdown",
   "metadata": {},
   "source": [
    "#### Coverage of PARADIGM clustering"
   ]
  },
  {
   "cell_type": "markdown",
   "metadata": {},
   "source": [
    "Is again, high: 96.07%"
   ]
  },
  {
   "cell_type": "code",
   "execution_count": 60,
   "metadata": {},
   "outputs": [
    {
     "data": {
      "text/plain": [
       "0.9606587374199451"
      ]
     },
     "execution_count": 60,
     "metadata": {},
     "output_type": "execute_result"
    }
   ],
   "source": [
    "participants_paradigm = set(paradigm_brca_selected.participant)\n",
    "len(participants_with_brca & participants_paradigm) / len(participants_with_brca)"
   ]
  },
  {
   "cell_type": "markdown",
   "metadata": {},
   "source": [
    "### Cluster of Cluster Assignments (CoCA) integrative analysis"
   ]
  },
  {
   "cell_type": "markdown",
   "metadata": {},
   "source": [
    "> We used cluster assignments from the six major TCGA platforms (mutations, SCNA, DNA methylation, mRNA, miRNA, and protein) to perform integrated clustering across the Pan-Gyn cohort using the CoCA algorithm. \n",
    "\n",
    "> The resulting CoCA clusters were heavily dominated by tumor type because the intrinsic gene expression patterns were lineage dependent. The association with tumor type was especially prominent in the DNA methylation, mRNA, miRNA, and protein clusters.\n",
    "\n",
    "> Therefore, we turned to an alternative method (described next) to define subtypes that would span the Pan-Gyn tumor types and emphasize high-level similarities among them."
   ]
  },
  {
   "cell_type": "markdown",
   "metadata": {},
   "source": [
    "It seems that the CoCA clusters are not included (which seems ok, given that related figure only made it to supplementary files), but there are clusterings for each of the molecular platforms! So I could re-use these (but looking at BRCA only) and possibly get something interesting. Actually, there are many interesting ways of doing the consensus clustering...\n",
    "\n",
    "But lets skip it for now as there are more pressing matters."
   ]
  },
  {
   "cell_type": "markdown",
   "metadata": {},
   "source": [
    "### Subtypes across the Pan-Gyn Tumors\n",
    "> We present molecular subtypes that illuminate commonalities and distinguishing features across the Pan-Gyn tumor types, with the potential to inform future cross-tumor-type therapies. We first identified 16 features (listed in the STAR Methods) across 1,956 samples that were either (1) currently used in the clinic for at least 1 of the 5 tumor types, or (2) identified as informative in previous TCGA gynecologic and breast cancer studies\n",
    "\n",
    "this is less granular clustering than PAM 50, but captures similarities on a higher level (as other gynecologic tumours were considered as well). Two examples, just to give an idea of the cluster meanings:\n",
    "\n",
    "> SCNA load was the predominant feature and produced the first division. In the low-SCNA-load group, we found two clusters, non-hypermutator (C1) and hypermutator (C2). The non-hypermutator cluster had virtually no hypermutators but had high levels of ER+, PR+, and/or AR+ samples, indicating potential susceptibility to hormone therapies. C2, the hypermutator cluster, could be further subdivided into four subclusters (clusters C2A-C2D)."
   ]
  },
  {
   "cell_type": "markdown",
   "metadata": {},
   "source": [
    "Sanity check: this clustering should have five clusters: C1-C5"
   ]
  },
  {
   "cell_type": "code",
   "execution_count": 61,
   "metadata": {},
   "outputs": [],
   "source": [
    "pan_gyn_clusters_brca = brca_subtypes_integrative.dropna(subset=['pan_gyn_clusters'])"
   ]
  },
  {
   "cell_type": "code",
   "execution_count": 62,
   "metadata": {},
   "outputs": [
    {
     "data": {
      "text/html": [
       "\n",
       "        <table class='namespace'>\n",
       "            <tr><td><b>C1</b></td><td><b>C3</b></td><td><b>C5</b></td><td><b>C4</b></td><td><b>C2</b></td></tr><tr><td>300</td><td>198</td><td>183</td><td>144</td><td>52</td></tr>\n",
       "        </table>"
      ],
      "text/plain": [
       "HorizontalNamespace(C1=300, C2=52, C3=198, C4=144, C5=183)"
      ]
     },
     "execution_count": 62,
     "metadata": {},
     "output_type": "execute_result"
    }
   ],
   "source": [
    "HorizontalNamespace(pan_gyn_clusters_brca.pan_gyn_clusters.value_counts())"
   ]
  },
  {
   "cell_type": "markdown",
   "metadata": {},
   "source": [
    "#### Coverage of Pan-Gyn"
   ]
  },
  {
   "cell_type": "markdown",
   "metadata": {},
   "source": [
    "For pan-gyn clusters the coverage is relatively low (79.78% participants);"
   ]
  },
  {
   "cell_type": "code",
   "execution_count": 63,
   "metadata": {},
   "outputs": [
    {
     "data": {
      "text/plain": [
       "0.797804208600183"
      ]
     },
     "execution_count": 63,
     "metadata": {},
     "output_type": "execute_result"
    }
   ],
   "source": [
    "participants_pan_gyn = set(pan_gyn_clusters_brca.participant)\n",
    "len(participants_with_brca & participants_pan_gyn) / len(participants_with_brca)"
   ]
  },
  {
   "cell_type": "markdown",
   "metadata": {},
   "source": [
    "### Summary"
   ]
  },
  {
   "cell_type": "markdown",
   "metadata": {},
   "source": [
    "Only curated PAM 50 subtypes are sample specific. Clusters from other papers are assigned to participants (patients), not to samples - which kind of makes sense, once we combine information from different omics we no longer have a single sample (unless we could match e.g. DNA/expression samples). But then the heterogeneity information is lost as well - which means that for about 10% of participants the explanations will be incomplete."
   ]
  },
  {
   "cell_type": "markdown",
   "metadata": {},
   "source": [
    "Stratification overview:"
   ]
  },
  {
   "cell_type": "code",
   "execution_count": 64,
   "metadata": {},
   "outputs": [],
   "source": [
    "# adaptation for plot"
   ]
  },
  {
   "cell_type": "code",
   "execution_count": 65,
   "metadata": {},
   "outputs": [],
   "source": [
    "pam50_adapted = pam50_brca[['participant', 'subtype_mrna']].drop_duplicates()\n",
    "pam50_adapted.subtype_mrna = pam50_adapted.participant.map(heterogenous_groups).fillna(pam50_adapted.subtype_mrna)"
   ]
  },
  {
   "cell_type": "code",
   "execution_count": 66,
   "metadata": {},
   "outputs": [
    {
     "data": {
      "text/html": [
       "<div>\n",
       "<style scoped>\n",
       "    .dataframe tbody tr th:only-of-type {\n",
       "        vertical-align: middle;\n",
       "    }\n",
       "\n",
       "    .dataframe tbody tr th {\n",
       "        vertical-align: top;\n",
       "    }\n",
       "\n",
       "    .dataframe thead th {\n",
       "        text-align: right;\n",
       "    }\n",
       "</style>\n",
       "<table border=\"1\" class=\"dataframe\">\n",
       "  <thead>\n",
       "    <tr style=\"text-align: right;\">\n",
       "      <th></th>\n",
       "      <th>participant</th>\n",
       "      <th>subtype_mrna</th>\n",
       "    </tr>\n",
       "  </thead>\n",
       "  <tbody>\n",
       "    <tr>\n",
       "      <th>407</th>\n",
       "      <td>A158</td>\n",
       "      <td>Basal and Normal</td>\n",
       "    </tr>\n",
       "    <tr>\n",
       "      <th>408</th>\n",
       "      <td>A0DD</td>\n",
       "      <td>LumA and LumB</td>\n",
       "    </tr>\n",
       "    <tr>\n",
       "      <th>409</th>\n",
       "      <td>A1EO</td>\n",
       "      <td>LumA</td>\n",
       "    </tr>\n",
       "    <tr>\n",
       "      <th>410</th>\n",
       "      <td>A0B5</td>\n",
       "      <td>LumA</td>\n",
       "    </tr>\n",
       "    <tr>\n",
       "      <th>411</th>\n",
       "      <td>A13G</td>\n",
       "      <td>LumA</td>\n",
       "    </tr>\n",
       "  </tbody>\n",
       "</table>\n",
       "</div>"
      ],
      "text/plain": [
       "    participant      subtype_mrna\n",
       "407        A158  Basal and Normal\n",
       "408        A0DD     LumA and LumB\n",
       "409        A1EO              LumA\n",
       "410        A0B5              LumA\n",
       "411        A13G              LumA"
      ]
     },
     "execution_count": 66,
     "metadata": {},
     "output_type": "execute_result"
    }
   ],
   "source": [
    "pam50_adapted.head()"
   ]
  },
  {
   "cell_type": "code",
   "execution_count": 67,
   "metadata": {},
   "outputs": [],
   "source": [
    "considered_stratifications = {\n",
    "    'subtype_mrna': pam50_adapted,\n",
    "    'icluster': icluster_brca_selected,\n",
    "    'paradigm_clusters': paradigm_brca_selected,\n",
    "    'pan_gyn_clusters': pan_gyn_clusters_brca,    \n",
    "}"
   ]
  },
  {
   "cell_type": "code",
   "execution_count": 68,
   "metadata": {},
   "outputs": [],
   "source": [
    "all_stratifications = concat([\n",
    "    df.rename({custering_name: 'cluster'}, axis=1)[['participant', 'cluster']].drop_duplicates().assign(group=custering_name)\n",
    "    for custering_name, df in considered_stratifications.items()\n",
    "]).sort_values(['group', 'cluster'])"
   ]
  },
  {
   "cell_type": "code",
   "execution_count": 69,
   "metadata": {},
   "outputs": [],
   "source": [
    "from helpers.plots.alluvium import suggest_groups_ordering, determine_order_for_clusters_in_groups"
   ]
  },
  {
   "cell_type": "code",
   "execution_count": 70,
   "metadata": {},
   "outputs": [
    {
     "data": {
      "text/plain": [
       "subtype_mrna       paradigm_clusters  pan_gyn_clusters   icluster             0.653327\n",
       "paradigm_clusters  subtype_mrna       icluster           pan_gyn_clusters     0.653327\n",
       "subtype_mrna       icluster           pan_gyn_clusters   paradigm_clusters    0.626636\n",
       "icluster           subtype_mrna       paradigm_clusters  pan_gyn_clusters     0.626636\n",
       "paradigm_clusters  subtype_mrna       pan_gyn_clusters   icluster             0.572720\n",
       "dtype: float64"
      ]
     },
     "execution_count": 70,
     "metadata": {},
     "output_type": "execute_result"
    }
   ],
   "source": [
    "ordering_ranking = suggest_groups_ordering(all_stratifications)\n",
    "ordering_ranking.head()"
   ]
  },
  {
   "cell_type": "markdown",
   "metadata": {},
   "source": [
    "I am choosing the first one (additional benefit of having the curated, well established PAM 50 on the left side)"
   ]
  },
  {
   "cell_type": "code",
   "execution_count": 71,
   "metadata": {},
   "outputs": [],
   "source": [
    "order = ordering_ranking.index[0]"
   ]
  },
  {
   "cell_type": "code",
   "execution_count": 72,
   "metadata": {},
   "outputs": [],
   "source": [
    "# clusters in the PAM 50 groups should be ordered by similarity (when possible) (so do not separate clusters that are similar).\n",
    "# Globally impossible, so lets evaluate combinations to elimiate the worst cases:\n",
    "from itertools import combinations, permutations\n",
    "pam_50 = all_stratifications[all_stratifications.group == 'subtype_mrna']\n",
    "ranked_permutations = {}\n",
    "for permutation in permutations(pam_50.cluster.unique()):\n",
    "    score = 0\n",
    "    for i, current in enumerate(permutation[1:], 1):\n",
    "        previous = permutation[i - 1]\n",
    "        if previous in current.split(' and ') or current in previous.split(' and '):\n",
    "            score += 1\n",
    "    ranked_permutations[permutation] = score"
   ]
  },
  {
   "cell_type": "code",
   "execution_count": 73,
   "metadata": {},
   "outputs": [],
   "source": [
    "chosen_pam_order = Series(ranked_permutations).sort_values(ascending=False).index[0]"
   ]
  },
  {
   "cell_type": "code",
   "execution_count": 74,
   "metadata": {},
   "outputs": [
    {
     "name": "stderr",
     "output_type": "stream",
     "text": [
      "100%|██████████| 3/3 [05:56<00:00, 107.01s/it]\n"
     ]
    }
   ],
   "source": [
    "%%skip_on_import\n",
    "all_group_orders = [\n",
    "    *chosen_pam_order,\n",
    "    *determine_order_for_clusters_in_groups(all_stratifications, order, chosen_pam_order)\n",
    "]"
   ]
  },
  {
   "cell_type": "code",
   "execution_count": 75,
   "metadata": {},
   "outputs": [],
   "source": [
    "from helpers.plots.colors import generate_colors, mix_colors, propagate_colors"
   ]
  },
  {
   "cell_type": "code",
   "execution_count": 76,
   "metadata": {},
   "outputs": [],
   "source": [
    "single_clusters_pam_50 = pam50_brca.subtype_mrna.unique()"
   ]
  },
  {
   "cell_type": "code",
   "execution_count": 77,
   "metadata": {},
   "outputs": [
    {
     "data": {
      "text/html": [
       "\n",
       "        <table class='namespace'>\n",
       "            <tr><td><b>Normal</b></td><td><b>LumA</b></td><td><b>Her2</b></td><td><b>LumB</b></td><td><b>Basal</b></td></tr><tr><td><div style=\"background:#db5f57\">#db5f57</div></td><td><div style=\"background:#b9db57\">#b9db57</div></td><td><div style=\"background:#57db94\">#57db94</div></td><td><div style=\"background:#5784db\">#5784db</div></td><td><div style=\"background:#c957db\">#c957db</div></td></tr>\n",
       "        </table>"
      ],
      "text/plain": [
       "HorizontalNamespace(Basal=<Color #c957db>, Her2=<Color #57db94>, LumA=<Color #b9db57>, LumB=<Color #5784db>, Normal=<Color #db5f57>)"
      ]
     },
     "execution_count": 77,
     "metadata": {},
     "output_type": "execute_result"
    }
   ],
   "source": [
    "colors = generate_colors(single_clusters_pam_50)\n",
    "HorizontalNamespace(colors)"
   ]
  },
  {
   "cell_type": "code",
   "execution_count": 78,
   "metadata": {},
   "outputs": [
    {
     "data": {
      "text/html": [
       "\n",
       "        <table class='namespace'>\n",
       "            <tr><td><b>Normal</b></td><td><b>LumA</b></td><td><b>Her2</b></td><td><b>LumB</b></td><td><b>Basal</b></td><td><b>LumA and Normal</b></td><td><b>Her2 and Normal</b></td><td><b>LumB and Normal</b></td><td><b>Basal and Normal</b></td><td><b>Her2 and LumA</b></td><td><b>LumA and LumB</b></td><td><b>Basal and LumA</b></td><td><b>Her2 and LumB</b></td><td><b>Basal and Her2</b></td><td><b>Basal and LumB</b></td></tr><tr><td><div style=\"background:#db5f57\">#db5f57</div></td><td><div style=\"background:#b9db57\">#b9db57</div></td><td><div style=\"background:#57db94\">#57db94</div></td><td><div style=\"background:#5784db\">#5784db</div></td><td><div style=\"background:#c957db\">#c957db</div></td><td><div style=\"background:#cba957\">#cba957</div></td><td><div style=\"background:#a7a979\">#a7a979</div></td><td><div style=\"background:#a773a7\">#a773a7</div></td><td><div style=\"background:#d25ba7\">#d25ba7</div></td><td><div style=\"background:#91db79\">#91db79</div></td><td><div style=\"background:#91b5a7\">#91b5a7</div></td><td><div style=\"background:#c1a7a7\">#c1a7a7</div></td><td><div style=\"background:#57b5bb\">#57b5bb</div></td><td><div style=\"background:#9ba7bb\">#9ba7bb</div></td><td><div style=\"background:#9b70db\">#9b70db</div></td></tr>\n",
       "        </table>"
      ],
      "text/plain": [
       "HorizontalNamespace(Basal=<Color #c957db>, Basal and Her2=<Color #9ba7bb>, Basal and LumA=<Color #c1a7a7>, Basal and LumB=<Color #9b70db>, Basal and Normal=<Color #d25ba7>, Her2=<Color #57db94>, Her2 and LumA=<Color #91db79>, Her2 and LumB=<Color #57b5bb>, Her2 and Normal=<Color #a7a979>, LumA=<Color #b9db57>, LumA and LumB=<Color #91b5a7>, LumA and Normal=<Color #cba957>, LumB=<Color #5784db>, LumB and Normal=<Color #a773a7>, Normal=<Color #db5f57>)"
      ]
     },
     "execution_count": 78,
     "metadata": {},
     "output_type": "execute_result"
    }
   ],
   "source": [
    "colors = mix_colors(colors, single_clusters_pam_50)\n",
    "HorizontalNamespace(colors)"
   ]
  },
  {
   "cell_type": "code",
   "execution_count": 79,
   "metadata": {},
   "outputs": [],
   "source": [
    "colors = propagate_colors(colors, order, all_stratifications)"
   ]
  },
  {
   "cell_type": "code",
   "execution_count": 81,
   "metadata": {},
   "outputs": [],
   "source": [
    "def colors_generation_piepline(labels, data, scale):\n",
    "    colors = generate_colors(labels, scale=scale)\n",
    "    colors = mix_colors(colors, labels)\n",
    "    colors = propagate_colors(colors, order, data)\n",
    "    return colors"
   ]
  },
  {
   "cell_type": "code",
   "execution_count": 95,
   "metadata": {},
   "outputs": [],
   "source": [
    "from functools import partial\n",
    "import matplotlib\n",
    "from plotnine import scales\n",
    "from helpers.plots.colors import CustomPalette, display_scales\n",
    "from helpers.plots.alluvium import suggest_contrastive_colors"
   ]
  },
  {
   "cell_type": "code",
   "execution_count": 89,
   "metadata": {},
   "outputs": [
    {
     "name": "stderr",
     "output_type": "stream",
     "text": [
      "100%|██████████| 56/56 [00:17<00:00,  3.38it/s]\n"
     ]
    }
   ],
   "source": [
    "%%skip_on_import\n",
    "qualitative_scales = [\n",
    "    scales.scale_color_discrete(),\n",
    "    *[\n",
    "        scales.scale_color_brewer(type='qual', palette=i) for i in range(9)\n",
    "    ],\n",
    "    *[\n",
    "        scales.scale_color_cmap_d(name=key)\n",
    "        for key, value in matplotlib.cm.cmap_d.items()\n",
    "        if isinstance(value, matplotlib.colors.ListedColormap)\n",
    "    ]\n",
    "]\n",
    "\n",
    "scales_ranking = suggest_contrastive_colors(\n",
    "    qualitative_scales,\n",
    "    partial(colors_generation_piepline, single_clusters_pam_50, all_stratifications),\n",
    "    {\n",
    "        group_name: all_stratifications[all_stratifications.group == group_name]\n",
    "        for group_name in all_stratifications.group.unique()\n",
    "    }\n",
    ")"
   ]
  },
  {
   "cell_type": "code",
   "execution_count": 91,
   "metadata": {},
   "outputs": [],
   "source": [
    "%%skip_on_import\n",
    "ranked_color_scales = Series(scales_ranking).sort_values(ascending=False)"
   ]
  },
  {
   "cell_type": "code",
   "execution_count": 93,
   "metadata": {},
   "outputs": [
    {
     "data": {
      "text/plain": [
       "<plotnine.scales.scale_color.scale_color_cmap_d object at 0x7f70ec768ac8>    1.799148e+06\n",
       "<plotnine.scales.scale_color.scale_color_cmap_d object at 0x7f70ec768dd8>    1.622279e+06\n",
       "<plotnine.scales.scale_color.scale_color_cmap_d object at 0x7f70ec768240>    1.510403e+06\n",
       "<plotnine.scales.scale_color.scale_color_cmap_d object at 0x7f7139068c88>    1.463103e+06\n",
       "<plotnine.scales.scale_color.scale_color_hue object at 0x7f70ec7537f0>       1.365764e+06\n",
       "dtype: float64"
      ]
     },
     "execution_count": 93,
     "metadata": {},
     "output_type": "execute_result"
    }
   ],
   "source": [
    "ranked_color_scales.head()"
   ]
  },
  {
   "cell_type": "code",
   "execution_count": 96,
   "metadata": {},
   "outputs": [
    {
     "data": {
      "text/html": [
       "\n",
       "        <table class='namespace'>\n",
       "            <tr><td><b>1799147.6911516122</b></td><td>\n",
       "        <table class='namespace'>\n",
       "            <tr><td><b>0</b></td><td><b>1</b></td><td><b>2</b></td><td><b>3</b></td><td><b>4</b></td></tr><tr><td><div style=\"background:#0d0887\">#0d0887</div></td><td><div style=\"background:#7e03a8\">#7e03a8</div></td><td><div style=\"background:#cc4778\">#cc4778</div></td><td><div style=\"background:#f89441\">#f89441</div></td><td><div style=\"background:#f0f921\">#f0f921</div></td></tr>\n",
       "        </table></td></tr><tr><td><b>1622279.374351116</b></td><td>\n",
       "        <table class='namespace'>\n",
       "            <tr><td><b>0</b></td><td><b>1</b></td><td><b>2</b></td><td><b>3</b></td><td><b>4</b></td></tr><tr><td><div style=\"background:#000004\">#000004</div></td><td><div style=\"background:#57106e\">#57106e</div></td><td><div style=\"background:#bc3754\">#bc3754</div></td><td><div style=\"background:#f98c0a\">#f98c0a</div></td><td><div style=\"background:#fcffa4\">#fcffa4</div></td></tr>\n",
       "        </table></td></tr><tr><td><b>1510403.4077567444</b></td><td>\n",
       "        <table class='namespace'>\n",
       "            <tr><td><b>0</b></td><td><b>1</b></td><td><b>2</b></td><td><b>3</b></td><td><b>4</b></td></tr><tr><td><div style=\"background:#000004\">#000004</div></td><td><div style=\"background:#51127c\">#51127c</div></td><td><div style=\"background:#b73779\">#b73779</div></td><td><div style=\"background:#fb8761\">#fb8761</div></td><td><div style=\"background:#fcfdbf\">#fcfdbf</div></td></tr>\n",
       "        </table></td></tr><tr><td><b>1463102.6459719879</b></td><td>\n",
       "        <table class='namespace'>\n",
       "            <tr><td><b>0</b></td><td><b>1</b></td><td><b>2</b></td><td><b>3</b></td><td><b>4</b></td></tr><tr><td><div style=\"background:#440154\">#440154</div></td><td><div style=\"background:#3b528b\">#3b528b</div></td><td><div style=\"background:#21918c\">#21918c</div></td><td><div style=\"background:#5cc863\">#5cc863</div></td><td><div style=\"background:#fde725\">#fde725</div></td></tr>\n",
       "        </table></td></tr><tr><td><b>1365764.2852311875</b></td><td>\n",
       "        <table class='namespace'>\n",
       "            <tr><td><b>0</b></td><td><b>1</b></td><td><b>2</b></td><td><b>3</b></td><td><b>4</b></td></tr><tr><td><div style=\"background:#db5f57\">#db5f57</div></td><td><div style=\"background:#b9db57\">#b9db57</div></td><td><div style=\"background:#57db94\">#57db94</div></td><td><div style=\"background:#5784db\">#5784db</div></td><td><div style=\"background:#c957db\">#c957db</div></td></tr>\n",
       "        </table></td></tr>\n",
       "        </table>"
      ],
      "text/plain": [
       "NeatNamespace(1365764.2852311875=HorizontalNamespace(0=<Color #db5f57>, 1=<Color #b9db57>, 2=<Color #57db94>, 3=<Color #5784db>, 4=<Color #c957db>), 1463102.6459719879=HorizontalNamespace(0=<Color #440154>, 1=<Color #3b528b>, 2=<Color #21918c>, 3=<Color #5cc863>, 4=<Color #fde725>), 1510403.4077567444=HorizontalNamespace(0=<Color #000004>, 1=<Color #51127c>, 2=<Color #b73779>, 3=<Color #fb8761>, 4=<Color #fcfdbf>), 1622279.374351116=HorizontalNamespace(0=<Color #000004>, 1=<Color #57106e>, 2=<Color #bc3754>, 3=<Color #f98c0a>, 4=<Color #fcffa4>), 1799147.6911516122=HorizontalNamespace(0=<Color #0d0887>, 1=<Color #7e03a8>, 2=<Color #cc4778>, 3=<Color #f89441>, 4=<Color #f0f921>))"
      ]
     },
     "metadata": {},
     "output_type": "display_data"
    }
   ],
   "source": [
    "display_scales(ranked_color_scales.head())"
   ]
  },
  {
   "cell_type": "markdown",
   "metadata": {},
   "source": [
    "I will slightly modify the first sclae (to workaround the very dark colour)"
   ]
  },
  {
   "cell_type": "code",
   "execution_count": 103,
   "metadata": {},
   "outputs": [],
   "source": [
    "%%skip_on_import\n",
    "colors = colors_generation_piepline(\n",
    "    single_clusters_pam_50, all_stratifications,\n",
    "    scale=CustomPalette(['#dafdf5', '#7e03a8', '#cc4778', '#f89441', '#f0f921'])\n",
    "    # alternative: ranked_color_scales.index[4]\n",
    ")"
   ]
  },
  {
   "cell_type": "code",
   "execution_count": 104,
   "metadata": {},
   "outputs": [],
   "source": [
    "hex_colors = {label: color.to_hex() for label, color in colors.items()}"
   ]
  },
  {
   "cell_type": "code",
   "execution_count": 105,
   "metadata": {},
   "outputs": [],
   "source": [
    "from rpy2.robjects import StrVector\n",
    "\n",
    "r_colors = StrVector(list(hex_colors.values()))\n",
    "r_colors.names = list(hex_colors.keys())"
   ]
  },
  {
   "cell_type": "code",
   "execution_count": 106,
   "metadata": {},
   "outputs": [],
   "source": [
    "%%skip_on_import\n",
    "all_stratifications.group = pd.Categorical(all_stratifications.group, ordered=True, categories=order)\n",
    "assert set(all_group_orders) == set(all_stratifications.cluster.unique())\n",
    "all_stratifications.cluster = pd.Categorical(all_stratifications.cluster, ordered=True, categories=all_group_orders)"
   ]
  },
  {
   "cell_type": "code",
   "execution_count": 113,
   "metadata": {},
   "outputs": [
    {
     "data": {
      "image/png": "[encoded data removed]"
     },
     "metadata": {},
     "output_type": "display_data"
    }
   ],
   "source": [
    "%%R -i all_stratifications -w 700 -h 850 -u px -i r_colors\n",
    "require(ggalluvial)\n",
    "\n",
    "(\n",
    "    ggplot(all_stratifications, aes(x=group, stratum=cluster, alluvium=participant, fill=cluster))\n",
    "    + geom_flow(stat=\"alluvium\", lode.guidance=\"leftright\")\n",
    "    + geom_stratum()\n",
    "    + scale_fill_manual(values=r_colors)\n",
    "    + theme(legend.position='bottom')\n",
    "    + ggfittext::geom_fit_text(stat='stratum', label.strata=T, min.size=3, width=1/4)\n",
    "    + ylab('Participants count')\n",
    "    + xlab('Stratification study')\n",
    "    + ggtitle('BRCA stratification by different experiments')\n",
    "    + guides(fill=guide_legend(ncol=10)) # TODO: maybe remove the legend\n",
    ")"
   ]
  }
 ],
 "metadata": {
  "kernelspec": {
   "display_name": "Python 3",
   "language": "python",
   "name": "python3"
  },
  "language_info": {
   "codemirror_mode": {
    "name": "ipython",
    "version": 3
   },
   "file_extension": ".py",
   "mimetype": "text/x-python",
   "name": "python",
   "nbconvert_exporter": "python",
   "pygments_lexer": "ipython3",
   "version": "3.7.0"
  }
 },
 "nbformat": 4,
 "nbformat_minor": 2
}
