{
 "cells": [
  {
   "cell_type": "code",
   "execution_count": 1,
   "metadata": {},
   "outputs": [
    {
     "data": {
      "text/html": [
       "<style>.highlight .hll { background-color: #ffffcc }\n",
       ".highlight  { background: #f8f8f8; }\n",
       ".highlight .c { color: #408080; font-style: italic } /* Comment */\n",
       ".highlight .err { border: 1px solid #FF0000 } /* Error */\n",
       ".highlight .k { color: #008000; font-weight: bold } /* Keyword */\n",
       ".highlight .o { color: #666666 } /* Operator */\n",
       ".highlight .ch { color: #408080; font-style: italic } /* Comment.Hashbang */\n",
       ".highlight .cm { color: #408080; font-style: italic } /* Comment.Multiline */\n",
       ".highlight .cp { color: #BC7A00 } /* Comment.Preproc */\n",
       ".highlight .cpf { color: #408080; font-style: italic } /* Comment.PreprocFile */\n",
       ".highlight .c1 { color: #408080; font-style: italic } /* Comment.Single */\n",
       ".highlight .cs { color: #408080; font-style: italic } /* Comment.Special */\n",
       ".highlight .gd { color: #A00000 } /* Generic.Deleted */\n",
       ".highlight .ge { font-style: italic } /* Generic.Emph */\n",
       ".highlight .gr { color: #FF0000 } /* Generic.Error */\n",
       ".highlight .gh { color: #000080; font-weight: bold } /* Generic.Heading */\n",
       ".highlight .gi { color: #00A000 } /* Generic.Inserted */\n",
       ".highlight .go { color: #888888 } /* Generic.Output */\n",
       ".highlight .gp { color: #000080; font-weight: bold } /* Generic.Prompt */\n",
       ".highlight .gs { font-weight: bold } /* Generic.Strong */\n",
       ".highlight .gu { color: #800080; font-weight: bold } /* Generic.Subheading */\n",
       ".highlight .gt { color: #0044DD } /* Generic.Traceback */\n",
       ".highlight .kc { color: #008000; font-weight: bold } /* Keyword.Constant */\n",
       ".highlight .kd { color: #008000; font-weight: bold } /* Keyword.Declaration */\n",
       ".highlight .kn { color: #008000; font-weight: bold } /* Keyword.Namespace */\n",
       ".highlight .kp { color: #008000 } /* Keyword.Pseudo */\n",
       ".highlight .kr { color: #008000; font-weight: bold } /* Keyword.Reserved */\n",
       ".highlight .kt { color: #B00040 } /* Keyword.Type */\n",
       ".highlight .m { color: #666666 } /* Literal.Number */\n",
       ".highlight .s { color: #BA2121 } /* Literal.String */\n",
       ".highlight .na { color: #7D9029 } /* Name.Attribute */\n",
       ".highlight .nb { color: #008000 } /* Name.Builtin */\n",
       ".highlight .nc { color: #0000FF; font-weight: bold } /* Name.Class */\n",
       ".highlight .no { color: #880000 } /* Name.Constant */\n",
       ".highlight .nd { color: #AA22FF } /* Name.Decorator */\n",
       ".highlight .ni { color: #999999; font-weight: bold } /* Name.Entity */\n",
       ".highlight .ne { color: #D2413A; font-weight: bold } /* Name.Exception */\n",
       ".highlight .nf { color: #0000FF } /* Name.Function */\n",
       ".highlight .nl { color: #A0A000 } /* Name.Label */\n",
       ".highlight .nn { color: #0000FF; font-weight: bold } /* Name.Namespace */\n",
       ".highlight .nt { color: #008000; font-weight: bold } /* Name.Tag */\n",
       ".highlight .nv { color: #19177C } /* Name.Variable */\n",
       ".highlight .ow { color: #AA22FF; font-weight: bold } /* Operator.Word */\n",
       ".highlight .w { color: #bbbbbb } /* Text.Whitespace */\n",
       ".highlight .mb { color: #666666 } /* Literal.Number.Bin */\n",
       ".highlight .mf { color: #666666 } /* Literal.Number.Float */\n",
       ".highlight .mh { color: #666666 } /* Literal.Number.Hex */\n",
       ".highlight .mi { color: #666666 } /* Literal.Number.Integer */\n",
       ".highlight .mo { color: #666666 } /* Literal.Number.Oct */\n",
       ".highlight .sa { color: #BA2121 } /* Literal.String.Affix */\n",
       ".highlight .sb { color: #BA2121 } /* Literal.String.Backtick */\n",
       ".highlight .sc { color: #BA2121 } /* Literal.String.Char */\n",
       ".highlight .dl { color: #BA2121 } /* Literal.String.Delimiter */\n",
       ".highlight .sd { color: #BA2121; font-style: italic } /* Literal.String.Doc */\n",
       ".highlight .s2 { color: #BA2121 } /* Literal.String.Double */\n",
       ".highlight .se { color: #BB6622; font-weight: bold } /* Literal.String.Escape */\n",
       ".highlight .sh { color: #BA2121 } /* Literal.String.Heredoc */\n",
       ".highlight .si { color: #BB6688; font-weight: bold } /* Literal.String.Interpol */\n",
       ".highlight .sx { color: #008000 } /* Literal.String.Other */\n",
       ".highlight .sr { color: #BB6688 } /* Literal.String.Regex */\n",
       ".highlight .s1 { color: #BA2121 } /* Literal.String.Single */\n",
       ".highlight .ss { color: #19177C } /* Literal.String.Symbol */\n",
       ".highlight .bp { color: #008000 } /* Name.Builtin.Pseudo */\n",
       ".highlight .fm { color: #0000FF } /* Name.Function.Magic */\n",
       ".highlight .vc { color: #19177C } /* Name.Variable.Class */\n",
       ".highlight .vg { color: #19177C } /* Name.Variable.Global */\n",
       ".highlight .vi { color: #19177C } /* Name.Variable.Instance */\n",
       ".highlight .vm { color: #19177C } /* Name.Variable.Magic */\n",
       ".highlight .il { color: #666666 } /* Literal.Number.Integer.Long */.highlight{margin-left:10px!important; font-size:11px}</style>"
      ],
      "text/plain": [
       "<IPython.core.display.HTML object>"
      ]
     },
     "metadata": {},
     "output_type": "display_data"
    }
   ],
   "source": [
    "%matplotlib inline\n",
    "%load_ext autoreload\n",
    "%autoreload 2\n",
    "from utilities_namespace import *"
   ]
  },
  {
   "cell_type": "code",
   "execution_count": 2,
   "metadata": {},
   "outputs": [],
   "source": [
    "from helpers.notebooks import notebooks_importer"
   ]
  },
  {
   "cell_type": "code",
   "execution_count": 3,
   "metadata": {},
   "outputs": [],
   "source": [
    "%%capture\n",
    "import Data as data"
   ]
  },
  {
   "cell_type": "code",
   "execution_count": 4,
   "metadata": {},
   "outputs": [],
   "source": [
    "from signature_scoring.scoring_functions.gsea import create_gsea_scorer\n",
    "from methods.gsea import cudaGSEA"
   ]
  },
  {
   "cell_type": "code",
   "execution_count": 5,
   "metadata": {},
   "outputs": [],
   "source": [
    "from functools import partial"
   ]
  },
  {
   "cell_type": "code",
   "execution_count": 6,
   "metadata": {},
   "outputs": [],
   "source": [
    "from signature_scoring.evaluation.benchmark import benchmark"
   ]
  },
  {
   "cell_type": "code",
   "execution_count": 12,
   "metadata": {},
   "outputs": [],
   "source": [
    "from signature_scoring.evaluation.display import summarize"
   ]
  },
  {
   "cell_type": "code",
   "execution_count": 7,
   "metadata": {},
   "outputs": [],
   "source": [
    "standard_benchmark = partial(\n",
    "    benchmark,\n",
    "    top='quantile',                           # criterium for selection of the candidated repositioning substances; quantile: choose top 10%\n",
    "    summary='per_cell_line_combined',         # use combine() method of evaluation metrics to combine metrics results calculated for each of the cell lines\n",
    "    aggregate='mean_per_substance_and_dose',  # same as \"mean_per_substance_dose_and_cell\" because summary is computed per cell line anyway (see above)\n",
    "    cell_lines_ratio=.75,                     # at least such a ratio of substances signatures should be available for the cell line to include it\n",
    "    limit=500,                                # how many under- and over- expressed genes should be analyzed\n",
    "    processes=12,\n",
    "    per_test_progress=False\n",
    ")"
   ]
  },
  {
   "cell_type": "markdown",
   "metadata": {},
   "source": [
    "## Some notes on cudaGSEA"
   ]
  },
  {
   "cell_type": "markdown",
   "metadata": {},
   "source": [
    "### Versions:\n",
    "- Driver Version: 415.27\n",
    "- CUDA Version: 10.0\n",
    "- GeForce GTX 950M (640 GPU cores, 4046 MB)"
   ]
  },
  {
   "cell_type": "markdown",
   "metadata": {},
   "source": [
    "cudaGSEA is executed one by one on the GPU core but the time when it is not being executed can be used to prepare the queue for the GPU core. So the number of processes basically tells how many tasks I wish to put on the queue.\n",
    "\n",
    "Each task takes up to ~140 MB when 1000 permutations is used. My Nvidia card has 4046 MiB so it should be possible to have 28 processes up and waiting. However, in the benchmark below I use only seven cores as the Java version runs on CPU only."
   ]
  },
  {
   "cell_type": "markdown",
   "metadata": {},
   "source": [
    "# Results"
   ]
  },
  {
   "cell_type": "markdown",
   "metadata": {},
   "source": [
    "## 1. cudaGSEA provides results very close to those of original GSEA"
   ]
  },
  {
   "cell_type": "code",
   "execution_count": 8,
   "metadata": {},
   "outputs": [],
   "source": [
    "q = 0.5\n",
    "p = 250\n",
    "\n",
    "tcga_genes = set(data.query_signature.index.astype(str))\n",
    "\n",
    "common_gsea_setup = partial(\n",
    "    create_gsea_scorer,\n",
    "    permutations=p, gene_sets='c2.cp.kegg', q_value_cutoff=q,\n",
    "    permutation_type='phenotype', grouping='by_substance',\n",
    "    verbose=False, genes=tcga_genes\n",
    ")\n",
    "\n",
    "gsea_score_phenotypes_java = common_gsea_setup(\n",
    "    metric='Signal2Noise'\n",
    ")\n",
    "\n",
    "gsea_score_phenotypes_cuda = common_gsea_setup(\n",
    "    gsea_app=cudaGSEA(),\n",
    "    metric='onepass_signal2noise'\n",
    ")"
   ]
  },
  {
   "cell_type": "code",
   "execution_count": 9,
   "metadata": {},
   "outputs": [],
   "source": [
    "standard_brca_benchmark = partial(\n",
    "    standard_benchmark,\n",
    "    [gsea_score_phenotypes_java, gsea_score_phenotypes_cuda],\n",
    "    data.query_signature,\n",
    ")\n",
    "\n",
    "standard_brca_benchmark.keywords['processes'] = 7"
   ]
  },
  {
   "cell_type": "code",
   "execution_count": 10,
   "metadata": {},
   "outputs": [
    {
     "data": {
      "text/plain": [
       "'Iteration: 236/250 for tmpb2xqotrv.tmpr_zum3vj'"
      ]
     },
     "metadata": {},
     "output_type": "display_data"
    },
    {
     "data": {
      "text/plain": [
       "'Iteration: 241/250 for tmpb2xqotrv.tmpr_zum3vj'"
      ]
     },
     "metadata": {},
     "output_type": "display_data"
    },
    {
     "data": {
      "text/plain": [
       "'Iteration: 236/250 for tmph3vv7w4y.tmp211xqsl7'"
      ]
     },
     "metadata": {},
     "output_type": "display_data"
    },
    {
     "data": {
      "text/plain": [
       "'Iteration: 241/250 for tmpb2xqotrv.tmpr_zum3vj'"
      ]
     },
     "metadata": {},
     "output_type": "display_data"
    },
    {
     "data": {
      "text/plain": [
       "'Iteration: 246/250 for tmpb2xqotrv.tmpr_zum3vj'"
      ]
     },
     "metadata": {},
     "output_type": "display_data"
    },
    {
     "data": {
      "text/plain": [
       "'Finished permutations ... creating reports'"
      ]
     },
     "metadata": {},
     "output_type": "display_data"
    },
    {
     "data": {
      "text/plain": [
       "'8541 [INFO ] Already a synched dataset-template -- NO extracting done'"
      ]
     },
     "metadata": {},
     "output_type": "display_data"
    },
    {
     "data": {
      "text/plain": [
       "'Creating marker selection reports ...'"
      ]
     },
     "metadata": {},
     "output_type": "display_data"
    },
    {
     "data": {
      "text/plain": [
       "'Done all reports!!'"
      ]
     },
     "metadata": {},
     "output_type": "display_data"
    },
    {
     "data": {
      "text/plain": [
       "'Finished permutations ... creating reports'"
      ]
     },
     "metadata": {},
     "output_type": "display_data"
    },
    {
     "data": {
      "text/plain": [
       "'9123 [INFO ] Already a synched dataset-template -- NO extracting done'"
      ]
     },
     "metadata": {},
     "output_type": "display_data"
    },
    {
     "data": {
      "text/plain": [
       "'Creating marker selection reports ...'"
      ]
     },
     "metadata": {},
     "output_type": "display_data"
    },
    {
     "data": {
      "text/plain": [
       "'Creating FDR reports ...'"
      ]
     },
     "metadata": {},
     "output_type": "display_data"
    },
    {
     "data": {
      "text/plain": [
       "'Done FDR reports for positive phenotype'"
      ]
     },
     "metadata": {},
     "output_type": "display_data"
    },
    {
     "data": {
      "text/plain": [
       "'Done FDR reports for negative phenotype'"
      ]
     },
     "metadata": {},
     "output_type": "display_data"
    },
    {
     "data": {
      "text/plain": [
       "'Creating global reports ...'"
      ]
     },
     "metadata": {},
     "output_type": "display_data"
    },
    {
     "data": {
      "text/plain": [
       "'Done all reports!!'"
      ]
     },
     "metadata": {},
     "output_type": "display_data"
    },
    {
     "name": "stdout",
     "output_type": "stream",
     "text": [
      "Using top > 0.1 quantile to select top results.\n",
      "Testing cudaGSEA_250_c2.cp.kegg_mean_0.5_fill_0_True_phenotype_onepass_signal2noise\n"
     ]
    },
    {
     "data": {
      "application/vnd.jupyter.widget-view+json": {
       "model_id": "b012cf0a943e45b893f93a5c27b0b1ce",
       "version_major": 2,
       "version_minor": 0
      },
      "text/plain": [
       "Output()"
      ]
     },
     "metadata": {},
     "output_type": "display_data"
    },
    {
     "name": "stderr",
     "output_type": "stream",
     "text": [
      "/home/krassowski/drug_discovery/code/signature_scoring/scoring_functions/gsea.py:69: UserWarning: Warning: not using cache (that's fine if it's the first run)\n",
      "  warn('Warning: not using cache (that\\'s fine if it\\'s the first run)')\n",
      "/home/krassowski/drug_discovery/code/methods/gsea/base.py:103: UserWarning: Too few samples for the metric onepass_signal2noise\n",
      "  warn(f'Too few samples for the metric {metric}')\n",
      "/home/krassowski/drug_discovery/code/methods/gsea/base.py:103: UserWarning: Too few samples for the metric onepass_signal2noise\n",
      "  warn(f'Too few samples for the metric {metric}')\n",
      "/home/krassowski/drug_discovery/code/methods/gsea/base.py:103: UserWarning: Too few samples for the metric onepass_signal2noise\n",
      "  warn(f'Too few samples for the metric {metric}')\n"
     ]
    },
    {
     "name": "stdout",
     "output_type": "stream",
     "text": [
      "\n"
     ]
    }
   ],
   "source": [
    "results = standard_brca_benchmark(\n",
    "    data.indications_singatures, data.contraindications_singatures, data.all_control_signatures,\n",
    "    query_expression=data.brca_with_controls\n",
    ")"
   ]
  },
  {
   "cell_type": "code",
   "execution_count": 13,
   "metadata": {},
   "outputs": [
    {
     "data": {
      "text/html": [
       "<style  type=\"text/css\" >\n",
       "    #T_48902070_299b_11e9_9ea0_84ef18faf686 th {\n",
       "          text-align: center;\n",
       "          border: 1px solid #ddd;\n",
       "    }    #T_48902070_299b_11e9_9ea0_84ef18faf686 td {\n",
       "          border: 1px solid #ddd;\n",
       "    }    #T_48902070_299b_11e9_9ea0_84ef18faf686 thead tr:nth-child(3) {\n",
       "          display: none;\n",
       "    }    #T_48902070_299b_11e9_9ea0_84ef18faf686row0_col0 {\n",
       "            background-color:  #D2FAD2;\n",
       "        }    #T_48902070_299b_11e9_9ea0_84ef18faf686row0_col1 {\n",
       "            background-color:  #D2FAD2;\n",
       "        }    #T_48902070_299b_11e9_9ea0_84ef18faf686row0_col2 {\n",
       "            background-color:  #D2FAD2;\n",
       "        }    #T_48902070_299b_11e9_9ea0_84ef18faf686row0_col3 {\n",
       "            background-color:  #D2FAD2;\n",
       "        }    #T_48902070_299b_11e9_9ea0_84ef18faf686row0_col4 {\n",
       "            background-color:  #D2FAD2;\n",
       "        }    #T_48902070_299b_11e9_9ea0_84ef18faf686row0_col7 {\n",
       "            background-color:  #D2FAD2;\n",
       "        }    #T_48902070_299b_11e9_9ea0_84ef18faf686row0_col8 {\n",
       "            background-color:  #D2FAD2;\n",
       "        }    #T_48902070_299b_11e9_9ea0_84ef18faf686row0_col14 {\n",
       "            background-color:  #D2FAD2;\n",
       "        }    #T_48902070_299b_11e9_9ea0_84ef18faf686row0_col15 {\n",
       "            background-color:  #D2FAD2;\n",
       "        }    #T_48902070_299b_11e9_9ea0_84ef18faf686row0_col16 {\n",
       "            : ;\n",
       "            background-color:  #b7e075;\n",
       "        }    #T_48902070_299b_11e9_9ea0_84ef18faf686row1_col3 {\n",
       "            background-color:  #D2FAD2;\n",
       "        }    #T_48902070_299b_11e9_9ea0_84ef18faf686row1_col4 {\n",
       "            background-color:  #D2FAD2;\n",
       "        }    #T_48902070_299b_11e9_9ea0_84ef18faf686row1_col5 {\n",
       "            background-color:  #D2FAD2;\n",
       "        }    #T_48902070_299b_11e9_9ea0_84ef18faf686row1_col16 {\n",
       "            : ;\n",
       "            background-color:  #f88c51;\n",
       "        }</style>  \n",
       "<table id=\"T_48902070_299b_11e9_9ea0_84ef18faf686\" > \n",
       "<thead>    <tr> \n",
       "        <th class=\"index_name level0\" >Category</th> \n",
       "        <th class=\"col_heading level0 col0\" colspan=8>contraindications</th> \n",
       "        <th class=\"col_heading level0 col8\" colspan=4>indications</th> \n",
       "        <th class=\"col_heading level0 col12\" colspan=2>meta</th> \n",
       "        <th class=\"col_heading level0 col14\" colspan=3>overall</th> \n",
       "    </tr>    <tr> \n",
       "        <th class=\"index_name level1\" >Metric</th> \n",
       "        <th class=\"col_heading level1 col0\" >AUC ROC</th> \n",
       "        <th class=\"col_heading level1 col1\" >AUC ROC classification</th> \n",
       "        <th class=\"col_heading level1 col2\" >F1 Score</th> \n",
       "        <th class=\"col_heading level1 col3\" >Indications Prioritized</th> \n",
       "        <th class=\"col_heading level1 col4\" >Is Mean Better</th> \n",
       "        <th class=\"col_heading level1 col5\" >KS p-value</th> \n",
       "        <th class=\"col_heading level1 col6\" >Mean</th> \n",
       "        <th class=\"col_heading level1 col7\" >Normalized Means Difference</th> \n",
       "        <th class=\"col_heading level1 col8\" >F1 Score</th> \n",
       "        <th class=\"col_heading level1 col9\" >Mean</th> \n",
       "        <th class=\"col_heading level1 col10\" >Precision</th> \n",
       "        <th class=\"col_heading level1 col11\" >Recall</th> \n",
       "        <th class=\"col_heading level1 col12\" >Selected substances</th> \n",
       "        <th class=\"col_heading level1 col13\" >Time</th> \n",
       "        <th class=\"col_heading level1 col14\" >AUC ROC classification</th> \n",
       "        <th class=\"col_heading level1 col15\" >RMSE</th> \n",
       "        <th class=\"col_heading level1 col16\" >Rank score</th> \n",
       "    </tr>    <tr> \n",
       "        <th class=\"index_name level0\" >Func</th> \n",
       "        <th class=\"blank\" ></th> \n",
       "        <th class=\"blank\" ></th> \n",
       "        <th class=\"blank\" ></th> \n",
       "        <th class=\"blank\" ></th> \n",
       "        <th class=\"blank\" ></th> \n",
       "        <th class=\"blank\" ></th> \n",
       "        <th class=\"blank\" ></th> \n",
       "        <th class=\"blank\" ></th> \n",
       "        <th class=\"blank\" ></th> \n",
       "        <th class=\"blank\" ></th> \n",
       "        <th class=\"blank\" ></th> \n",
       "        <th class=\"blank\" ></th> \n",
       "        <th class=\"blank\" ></th> \n",
       "        <th class=\"blank\" ></th> \n",
       "        <th class=\"blank\" ></th> \n",
       "        <th class=\"blank\" ></th> \n",
       "        <th class=\"blank\" ></th> \n",
       "    </tr></thead> \n",
       "<tbody>    <tr> \n",
       "        <th id=\"T_48902070_299b_11e9_9ea0_84ef18faf686level0_row0\" class=\"row_heading level0 row0\" >cudaGSEA_250_c2.cp.kegg_mean_0.5_fill_0_True_phenotype_onepass_signal2noise</th> \n",
       "        <td id=\"T_48902070_299b_11e9_9ea0_84ef18faf686row0_col0\" class=\"data row0 col0\" >0.633191</td> \n",
       "        <td id=\"T_48902070_299b_11e9_9ea0_84ef18faf686row0_col1\" class=\"data row0 col1\" >0.598723</td> \n",
       "        <td id=\"T_48902070_299b_11e9_9ea0_84ef18faf686row0_col2\" class=\"data row0 col2\" >0.0727273</td> \n",
       "        <td id=\"T_48902070_299b_11e9_9ea0_84ef18faf686row0_col3\" class=\"data row0 col3\" >0</td> \n",
       "        <td id=\"T_48902070_299b_11e9_9ea0_84ef18faf686row0_col4\" class=\"data row0 col4\" >True</td> \n",
       "        <td id=\"T_48902070_299b_11e9_9ea0_84ef18faf686row0_col5\" class=\"data row0 col5\" >0.100131</td> \n",
       "        <td id=\"T_48902070_299b_11e9_9ea0_84ef18faf686row0_col6\" class=\"data row0 col6\" >0.630955</td> \n",
       "        <td id=\"T_48902070_299b_11e9_9ea0_84ef18faf686row0_col7\" class=\"data row0 col7\" >0.114256</td> \n",
       "        <td id=\"T_48902070_299b_11e9_9ea0_84ef18faf686row0_col8\" class=\"data row0 col8\" >0.363636</td> \n",
       "        <td id=\"T_48902070_299b_11e9_9ea0_84ef18faf686row0_col9\" class=\"data row0 col9\" >0.698924</td> \n",
       "        <td id=\"T_48902070_299b_11e9_9ea0_84ef18faf686row0_col10\" class=\"data row0 col10\" >0.75</td> \n",
       "        <td id=\"T_48902070_299b_11e9_9ea0_84ef18faf686row0_col11\" class=\"data row0 col11\" >0.24</td> \n",
       "        <td id=\"T_48902070_299b_11e9_9ea0_84ef18faf686row0_col12\" class=\"data row0 col12\" >8</td> \n",
       "        <td id=\"T_48902070_299b_11e9_9ea0_84ef18faf686row0_col13\" class=\"data row0 col13\" >58.229</td> \n",
       "        <td id=\"T_48902070_299b_11e9_9ea0_84ef18faf686row0_col14\" class=\"data row0 col14\" >0.598723</td> \n",
       "        <td id=\"T_48902070_299b_11e9_9ea0_84ef18faf686row0_col15\" class=\"data row0 col15\" >1.08629</td> \n",
       "        <td id=\"T_48902070_299b_11e9_9ea0_84ef18faf686row0_col16\" class=\"data row0 col16\" >9</td> \n",
       "    </tr>    <tr> \n",
       "        <th id=\"T_48902070_299b_11e9_9ea0_84ef18faf686level0_row1\" class=\"row_heading level0 row1\" >GSEADesktop_250_c2.cp.kegg_mean_0.5_fill_0_True_phenotype_Signal2Noise</th> \n",
       "        <td id=\"T_48902070_299b_11e9_9ea0_84ef18faf686row1_col0\" class=\"data row1 col0\" >0.627234</td> \n",
       "        <td id=\"T_48902070_299b_11e9_9ea0_84ef18faf686row1_col1\" class=\"data row1 col1\" >0.568085</td> \n",
       "        <td id=\"T_48902070_299b_11e9_9ea0_84ef18faf686row1_col2\" class=\"data row1 col2\" >0.109091</td> \n",
       "        <td id=\"T_48902070_299b_11e9_9ea0_84ef18faf686row1_col3\" class=\"data row1 col3\" >0</td> \n",
       "        <td id=\"T_48902070_299b_11e9_9ea0_84ef18faf686row1_col4\" class=\"data row1 col4\" >True</td> \n",
       "        <td id=\"T_48902070_299b_11e9_9ea0_84ef18faf686row1_col5\" class=\"data row1 col5\" >0.0836008</td> \n",
       "        <td id=\"T_48902070_299b_11e9_9ea0_84ef18faf686row1_col6\" class=\"data row1 col6\" >0.586387</td> \n",
       "        <td id=\"T_48902070_299b_11e9_9ea0_84ef18faf686row1_col7\" class=\"data row1 col7\" >0.102092</td> \n",
       "        <td id=\"T_48902070_299b_11e9_9ea0_84ef18faf686row1_col8\" class=\"data row1 col8\" >0.30303</td> \n",
       "        <td id=\"T_48902070_299b_11e9_9ea0_84ef18faf686row1_col9\" class=\"data row1 col9\" >0.647144</td> \n",
       "        <td id=\"T_48902070_299b_11e9_9ea0_84ef18faf686row1_col10\" class=\"data row1 col10\" >0.625</td> \n",
       "        <td id=\"T_48902070_299b_11e9_9ea0_84ef18faf686row1_col11\" class=\"data row1 col11\" >0.2</td> \n",
       "        <td id=\"T_48902070_299b_11e9_9ea0_84ef18faf686row1_col12\" class=\"data row1 col12\" >8</td> \n",
       "        <td id=\"T_48902070_299b_11e9_9ea0_84ef18faf686row1_col13\" class=\"data row1 col13\" >318.67</td> \n",
       "        <td id=\"T_48902070_299b_11e9_9ea0_84ef18faf686row1_col14\" class=\"data row1 col14\" >0.568085</td> \n",
       "        <td id=\"T_48902070_299b_11e9_9ea0_84ef18faf686row1_col15\" class=\"data row1 col15\" >1.10681</td> \n",
       "        <td id=\"T_48902070_299b_11e9_9ea0_84ef18faf686row1_col16\" class=\"data row1 col16\" >3</td> \n",
       "    </tr></tbody> \n",
       "</table> "
      ],
      "text/plain": [
       "<pandas.io.formats.style.Styler at 0x7f1015b3ee10>"
      ]
     },
     "metadata": {},
     "output_type": "display_data"
    }
   ],
   "source": [
    "summarize(results)"
   ]
  },
  {
   "cell_type": "markdown",
   "metadata": {},
   "source": [
    "## 2. FDR q-value cutoff is detrimental for cudaGSEA"
   ]
  },
  {
   "cell_type": "code",
   "execution_count": 83,
   "metadata": {},
   "outputs": [
    {
     "data": {
      "text/plain": [
       "[0.05,\n",
       " 0.1,\n",
       " 0.15,\n",
       " 0.2,\n",
       " 0.25,\n",
       " 0.3,\n",
       " 0.35,\n",
       " 0.4,\n",
       " 0.45,\n",
       " 0.5,\n",
       " 0.55,\n",
       " 0.6,\n",
       " 0.65,\n",
       " 0.7,\n",
       " 0.75,\n",
       " 0.8,\n",
       " 0.85,\n",
       " 0.9,\n",
       " 0.95]"
      ]
     },
     "execution_count": 83,
     "metadata": {},
     "output_type": "execute_result"
    }
   ],
   "source": [
    "grid = [i/20 for i in range(1, 20)]\n",
    "grid"
   ]
  },
  {
   "cell_type": "code",
   "execution_count": 156,
   "metadata": {},
   "outputs": [],
   "source": [
    "p = 1000\n",
    "functions = []\n",
    "for q in grid:\n",
    "    gsea_score_phenotypes_cuda = create_gsea_scorer(\n",
    "        gsea_app=cudaGSEA(),\n",
    "        permutations=p, gene_sets='c2.cp.kegg', q_value_cutoff=q,\n",
    "        permutation_type='phenotype', grouping='by_substance',\n",
    "        metric='onepass_signal2noise',\n",
    "        verbose=False,\n",
    "        genes=set(data.query_signature.index.astype(str))\n",
    "    )\n",
    "    functions.append(gsea_score_phenotypes_cuda)"
   ]
  },
  {
   "cell_type": "code",
   "execution_count": 157,
   "metadata": {},
   "outputs": [],
   "source": [
    "standard_brca_benchmark = partial(standard_benchmark, functions, data.query_signature)\n",
    "standard_brca_benchmark.keywords['processes'] = 8\n",
    "fdr_benchmark = partial(\n",
    "    standard_brca_benchmark,\n",
    "    data.indications_singatures, data.contraindications_singatures, data.all_control_signatures,\n",
    "    query_expression=data.brca_with_controls\n",
    ")"
   ]
  },
  {
   "cell_type": "code",
   "execution_count": 158,
   "metadata": {},
   "outputs": [],
   "source": [
    "fdr_results = []\n",
    "\n",
    "for i in range(3):\n",
    "    fdr_results.append(fdr_benchmark())"
   ]
  },
  {
   "cell_type": "code",
   "execution_count": 4,
   "metadata": {},
   "outputs": [],
   "source": [
    "results_q_cutoff = concat(fdr_results)"
   ]
  },
  {
   "cell_type": "code",
   "execution_count": 161,
   "metadata": {},
   "outputs": [],
   "source": [
    "# results_q_cutoff.to_csv('cudaGSEA benchmarks/results_q_cutoff.csv')"
   ]
  },
  {
   "cell_type": "code",
   "execution_count": 162,
   "metadata": {},
   "outputs": [],
   "source": [
    "q_value_data = DataFrame(dict(\n",
    "    q_cutoff=results_q_cutoff.index.str.split('_').str[4],\n",
    "    tradeoff=results_q_cutoff['indications:F1 Score'] - results_q_cutoff['contraindications:F1 Score']\n",
    "))"
   ]
  },
  {
   "cell_type": "code",
   "execution_count": null,
   "metadata": {},
   "outputs": [],
   "source": [
    "%load_ext rpy2.ipython"
   ]
  },
  {
   "cell_type": "code",
   "execution_count": 163,
   "metadata": {},
   "outputs": [
    {
     "data": {
      "image/png": "[encoded data removed]"
     },
     "metadata": {},
     "output_type": "display_data"
    }
   ],
   "source": [
    "%%R -i q_value_data\n",
    "require(ggplot2)\n",
    "(\n",
    "    ggplot(q_value_data, aes(x=q_cutoff, y=tradeoff, group=1))\n",
    "    + stat_summary(geom='line', fun.y=mean)\n",
    "    # the ribbon won't work with 3 points - revisit with more repeats if time permits\n",
    "    + stat_summary(geom=\"ribbon\", fun.data=mean_cl_normal, colour=NA, alpha=0.1)\n",
    ")"
   ]
  },
  {
   "cell_type": "markdown",
   "metadata": {},
   "source": [
    "## 3. Naive metrics perform worse than the non-naive metrics\n",
    "\n",
    "and (obviously) this does not change when we calculate the naive metrics with numerically stable algorithms.\n",
    "\n",
    "\n",
    "There are no visible benefits of using numerically stable (two-pass/stable/overkill) implementations of signal-to-noise or t-test metrics."
   ]
  },
  {
   "cell_type": "code",
   "execution_count": 164,
   "metadata": {},
   "outputs": [],
   "source": [
    "metrics = [\n",
    "    'naive_diff_of_classes',\n",
    "    'naive_ratio_of_classes',\n",
    "    'naive_log2_ratio_of_classes',\n",
    "    'stable_diff_of_classes',\n",
    "    'stable_ratio_of_classes',\n",
    "    'stable_log2_ratio_of_classes',\n",
    "    'onepass_t_test',\n",
    "    'onepass_signal2noise',\n",
    "    'twopass_signal2noise',\n",
    "    'twopass_t_test',\n",
    "    'stable_signal2noise',\n",
    "    'stable_t_test',\n",
    "    'overkill_signal2noise',\n",
    "    'overkill_t_test'\n",
    "]\n",
    "reduced_grid = [0.45, 0.5, 0.55]"
   ]
  },
  {
   "cell_type": "code",
   "execution_count": 23,
   "metadata": {},
   "outputs": [],
   "source": [
    "functions_metrics_test = []\n",
    "for metric in metrics:\n",
    "    for q in reduced_grid:\n",
    "        gsea_score_phenotypes_cuda = create_gsea_scorer(\n",
    "            gsea_app=cudaGSEA(),\n",
    "            permutations=p, gene_sets='c2.cp.kegg', q_value_cutoff=q,\n",
    "            permutation_type='phenotype', grouping='by_substance',\n",
    "            metric=metric,\n",
    "            verbose=False,\n",
    "            genes=set(data.query_signature.index.astype(str))\n",
    "        )\n",
    "        functions_metrics_test.append(gsea_score_phenotypes_cuda)"
   ]
  },
  {
   "cell_type": "code",
   "execution_count": 24,
   "metadata": {},
   "outputs": [],
   "source": [
    "standard_brca_benchmark = partial(standard_benchmark, functions_metrics_test, data.query_signature,)\n",
    "standard_brca_benchmark.keywords['processes'] = 8\n",
    "\n",
    "metrics_benchmark = partial(\n",
    "    standard_brca_benchmark,\n",
    "    data.indications_singatures, data.contraindications_singatures, data.all_control_signatures,\n",
    "    query_expression=data.brca_with_controls\n",
    ")"
   ]
  },
  {
   "cell_type": "code",
   "execution_count": 24,
   "metadata": {},
   "outputs": [],
   "source": [
    "metrics_results = []\n",
    "for i in range(3):\n",
    "    result = metrics_benchmark()\n",
    "    metrics_results.append(result)"
   ]
  },
  {
   "cell_type": "code",
   "execution_count": 119,
   "metadata": {},
   "outputs": [],
   "source": [
    "metrics_results = concat(metrics_results)"
   ]
  },
  {
   "cell_type": "code",
   "execution_count": 152,
   "metadata": {},
   "outputs": [],
   "source": [
    "# metrics_results.to_csv('cudaGSEA benchmarks/metrics_results.csv')"
   ]
  },
  {
   "cell_type": "code",
   "execution_count": 121,
   "metadata": {},
   "outputs": [],
   "source": [
    "metrics_data = DataFrame(dict(\n",
    "    tradeoff=metrics_results['indications:F1 Score'] - metrics_results['contraindications:F1 Score'],\n",
    "    metric=metrics_results.index.str.split('_').str[9:].str.join('_'),\n",
    "    group=metrics_results.index.str.split('_').str[9],\n",
    "    time=metrics_results['Time']\n",
    "))"
   ]
  },
  {
   "cell_type": "code",
   "execution_count": 122,
   "metadata": {},
   "outputs": [
    {
     "data": {
      "image/png": "[encoded data removed]"
     },
     "metadata": {},
     "output_type": "display_data"
    }
   ],
   "source": [
    "%%R -i metrics_data -w 800 -h 800 -u px\n",
    "require(ggplot2)\n",
    "(\n",
    "    ggplot(metrics_data, aes(x=metric, y=tradeoff, group=metric, fill=group))\n",
    "    + geom_boxplot()\n",
    "    + theme(axis.text.x=element_text(angle=60, hjust=1, size=12))\n",
    ")"
   ]
  },
  {
   "cell_type": "markdown",
   "metadata": {},
   "source": [
    "## 4. Naive metrics are faster.\n",
    "\n",
    "Stable metrics appear to be faster, but it's only because there are stable implementations of naive metrics in this group."
   ]
  },
  {
   "cell_type": "code",
   "execution_count": 148,
   "metadata": {},
   "outputs": [
    {
     "data": {
      "image/png": "[encoded data removed]"
     },
     "metadata": {},
     "output_type": "display_data"
    }
   ],
   "source": [
    "%%R -i metrics_data -w 800 -h 800 -u px\n",
    "require(ggplot2)\n",
    "(\n",
    "    ggplot(metrics_data, aes(x=group, y=time, group=group, fill=group))\n",
    "    + geom_boxplot()\n",
    "    + theme(axis.text.x=element_text(angle=60, hjust=1, size=12))\n",
    ")"
   ]
  },
  {
   "cell_type": "code",
   "execution_count": 149,
   "metadata": {},
   "outputs": [],
   "source": [
    "stable_limited = metrics_data[~metrics_data.metric.isin(\n",
    "    ['stable_diff_of_classes', 'stable_log2_ratio_of_classes', 'stable_ratio_of_classes']\n",
    ")]"
   ]
  },
  {
   "cell_type": "markdown",
   "metadata": {},
   "source": [
    "Below one can see that there are no significant execution time differences among non-naive metrics:"
   ]
  },
  {
   "cell_type": "code",
   "execution_count": 151,
   "metadata": {},
   "outputs": [
    {
     "data": {
      "image/png": "[encoded data removed]"
     },
     "metadata": {},
     "output_type": "display_data"
    },
    {
     "data": {
      "text/html": [
       "<div style=\"display:none\">\n",
       "                <audio onended=\"this.parentNode.removeChild(this)\" controls=\"controls\" autoplay=\"autoplay\">\n",
       "                    <source src=\"data:audio/x-wav;base64,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\" type=\"audio/x-wav\" />\n",
       "                    Your browser does not support the audio element.\n",
       "                </audio>\n",
       "              </div>"
      ],
      "text/plain": [
       "<helpers.developer_mode.InvisibleAudio object>"
      ]
     },
     "metadata": {},
     "output_type": "display_data"
    }
   ],
   "source": [
    "%%R -i stable_limited -w 800 -h 800 -u px\n",
    "require(ggplot2)\n",
    "(\n",
    "    ggplot(stable_limited, aes(x=group, y=time, group=group, fill=group))\n",
    "    + geom_boxplot()\n",
    "    + theme(axis.text.x=element_text(angle=60, hjust=1, size=12))\n",
    ")"
   ]
  }
 ],
 "metadata": {
  "kernelspec": {
   "display_name": "Python 3",
   "language": "python",
   "name": "python3"
  },
  "language_info": {
   "codemirror_mode": {
    "name": "ipython",
    "version": 3
   },
   "file_extension": ".py",
   "mimetype": "text/x-python",
   "name": "python",
   "nbconvert_exporter": "python",
   "pygments_lexer": "ipython3",
   "version": "3.7.0"
  }
 },
 "nbformat": 4,
 "nbformat_minor": 2
}
