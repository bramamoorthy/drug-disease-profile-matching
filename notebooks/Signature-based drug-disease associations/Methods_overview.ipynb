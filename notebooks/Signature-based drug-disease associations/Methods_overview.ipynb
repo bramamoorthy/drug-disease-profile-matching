{
 "cells": [
  {
   "cell_type": "code",
   "execution_count": 1,
   "metadata": {},
   "outputs": [
    {
     "data": {
      "text/html": [
       "<style>.highlight .hll { background-color: #ffffcc }\n",
       ".highlight  { background: #f8f8f8; }\n",
       ".highlight .c { color: #408080; font-style: italic } /* Comment */\n",
       ".highlight .err { border: 1px solid #FF0000 } /* Error */\n",
       ".highlight .k { color: #008000; font-weight: bold } /* Keyword */\n",
       ".highlight .o { color: #666666 } /* Operator */\n",
       ".highlight .ch { color: #408080; font-style: italic } /* Comment.Hashbang */\n",
       ".highlight .cm { color: #408080; font-style: italic } /* Comment.Multiline */\n",
       ".highlight .cp { color: #BC7A00 } /* Comment.Preproc */\n",
       ".highlight .cpf { color: #408080; font-style: italic } /* Comment.PreprocFile */\n",
       ".highlight .c1 { color: #408080; font-style: italic } /* Comment.Single */\n",
       ".highlight .cs { color: #408080; font-style: italic } /* Comment.Special */\n",
       ".highlight .gd { color: #A00000 } /* Generic.Deleted */\n",
       ".highlight .ge { font-style: italic } /* Generic.Emph */\n",
       ".highlight .gr { color: #FF0000 } /* Generic.Error */\n",
       ".highlight .gh { color: #000080; font-weight: bold } /* Generic.Heading */\n",
       ".highlight .gi { color: #00A000 } /* Generic.Inserted */\n",
       ".highlight .go { color: #888888 } /* Generic.Output */\n",
       ".highlight .gp { color: #000080; font-weight: bold } /* Generic.Prompt */\n",
       ".highlight .gs { font-weight: bold } /* Generic.Strong */\n",
       ".highlight .gu { color: #800080; font-weight: bold } /* Generic.Subheading */\n",
       ".highlight .gt { color: #0044DD } /* Generic.Traceback */\n",
       ".highlight .kc { color: #008000; font-weight: bold } /* Keyword.Constant */\n",
       ".highlight .kd { color: #008000; font-weight: bold } /* Keyword.Declaration */\n",
       ".highlight .kn { color: #008000; font-weight: bold } /* Keyword.Namespace */\n",
       ".highlight .kp { color: #008000 } /* Keyword.Pseudo */\n",
       ".highlight .kr { color: #008000; font-weight: bold } /* Keyword.Reserved */\n",
       ".highlight .kt { color: #B00040 } /* Keyword.Type */\n",
       ".highlight .m { color: #666666 } /* Literal.Number */\n",
       ".highlight .s { color: #BA2121 } /* Literal.String */\n",
       ".highlight .na { color: #7D9029 } /* Name.Attribute */\n",
       ".highlight .nb { color: #008000 } /* Name.Builtin */\n",
       ".highlight .nc { color: #0000FF; font-weight: bold } /* Name.Class */\n",
       ".highlight .no { color: #880000 } /* Name.Constant */\n",
       ".highlight .nd { color: #AA22FF } /* Name.Decorator */\n",
       ".highlight .ni { color: #999999; font-weight: bold } /* Name.Entity */\n",
       ".highlight .ne { color: #D2413A; font-weight: bold } /* Name.Exception */\n",
       ".highlight .nf { color: #0000FF } /* Name.Function */\n",
       ".highlight .nl { color: #A0A000 } /* Name.Label */\n",
       ".highlight .nn { color: #0000FF; font-weight: bold } /* Name.Namespace */\n",
       ".highlight .nt { color: #008000; font-weight: bold } /* Name.Tag */\n",
       ".highlight .nv { color: #19177C } /* Name.Variable */\n",
       ".highlight .ow { color: #AA22FF; font-weight: bold } /* Operator.Word */\n",
       ".highlight .w { color: #bbbbbb } /* Text.Whitespace */\n",
       ".highlight .mb { color: #666666 } /* Literal.Number.Bin */\n",
       ".highlight .mf { color: #666666 } /* Literal.Number.Float */\n",
       ".highlight .mh { color: #666666 } /* Literal.Number.Hex */\n",
       ".highlight .mi { color: #666666 } /* Literal.Number.Integer */\n",
       ".highlight .mo { color: #666666 } /* Literal.Number.Oct */\n",
       ".highlight .sa { color: #BA2121 } /* Literal.String.Affix */\n",
       ".highlight .sb { color: #BA2121 } /* Literal.String.Backtick */\n",
       ".highlight .sc { color: #BA2121 } /* Literal.String.Char */\n",
       ".highlight .dl { color: #BA2121 } /* Literal.String.Delimiter */\n",
       ".highlight .sd { color: #BA2121; font-style: italic } /* Literal.String.Doc */\n",
       ".highlight .s2 { color: #BA2121 } /* Literal.String.Double */\n",
       ".highlight .se { color: #BB6622; font-weight: bold } /* Literal.String.Escape */\n",
       ".highlight .sh { color: #BA2121 } /* Literal.String.Heredoc */\n",
       ".highlight .si { color: #BB6688; font-weight: bold } /* Literal.String.Interpol */\n",
       ".highlight .sx { color: #008000 } /* Literal.String.Other */\n",
       ".highlight .sr { color: #BB6688 } /* Literal.String.Regex */\n",
       ".highlight .s1 { color: #BA2121 } /* Literal.String.Single */\n",
       ".highlight .ss { color: #19177C } /* Literal.String.Symbol */\n",
       ".highlight .bp { color: #008000 } /* Name.Builtin.Pseudo */\n",
       ".highlight .fm { color: #0000FF } /* Name.Function.Magic */\n",
       ".highlight .vc { color: #19177C } /* Name.Variable.Class */\n",
       ".highlight .vg { color: #19177C } /* Name.Variable.Global */\n",
       ".highlight .vi { color: #19177C } /* Name.Variable.Instance */\n",
       ".highlight .vm { color: #19177C } /* Name.Variable.Magic */\n",
       ".highlight .il { color: #666666 } /* Literal.Number.Integer.Long */.highlight{margin-left:10px!important; font-size:11px}</style>"
      ],
      "text/plain": [
       "<IPython.core.display.HTML object>"
      ]
     },
     "metadata": {},
     "output_type": "display_data"
    }
   ],
   "source": [
    "%matplotlib inline\n",
    "%load_ext autoreload\n",
    "%autoreload 2\n",
    "from utilities_namespace import *"
   ]
  },
  {
   "cell_type": "markdown",
   "metadata": {
    "toc-hr-collapsed": false
   },
   "source": [
    "### Load data\n",
    "\n",
    "For explanations please see Data.ipynb"
   ]
  },
  {
   "cell_type": "code",
   "execution_count": 2,
   "metadata": {},
   "outputs": [],
   "source": [
    "from helpers.notebooks import notebooks_importer, skip_on_import"
   ]
  },
  {
   "cell_type": "code",
   "execution_count": 3,
   "metadata": {},
   "outputs": [],
   "source": [
    "%%capture\n",
    "import Data as data"
   ]
  },
  {
   "cell_type": "markdown",
   "metadata": {},
   "source": [
    "# Scoring signatures"
   ]
  },
  {
   "cell_type": "code",
   "execution_count": 4,
   "metadata": {},
   "outputs": [],
   "source": [
    "from signature_scoring.scoring_functions.generic_scorers import (\n",
    "    score_spearman, score_spearman_max,\n",
    "    x_sum, x_sum_max,\n",
    "    x_product, x_product_max\n",
    ")"
   ]
  },
  {
   "cell_type": "markdown",
   "metadata": {},
   "source": [
    "Here are some examples of scoring metrics:"
   ]
  },
  {
   "cell_type": "code",
   "execution_count": 5,
   "metadata": {},
   "outputs": [
    {
     "data": {
      "text/html": [
       "<div class=\"highlight\"><pre><span></span><span class=\"nd\">@scoring_function</span>\n",
       "<span class=\"k\">def</span> <span class=\"nf\">score_spearman</span><span class=\"p\">(</span><span class=\"n\">disease_profile</span><span class=\"p\">:</span> <span class=\"n\">Profile</span><span class=\"p\">,</span> <span class=\"n\">compound_profile</span><span class=\"p\">:</span> <span class=\"n\">Profile</span><span class=\"p\">):</span>\n",
       "\n",
       "    <span class=\"n\">down_ranks</span> <span class=\"o\">=</span> <span class=\"n\">compound_profile</span><span class=\"o\">.</span><span class=\"n\">top</span><span class=\"o\">.</span><span class=\"n\">down</span><span class=\"o\">.</span><span class=\"n\">index</span>\n",
       "    <span class=\"n\">up_ranks</span> <span class=\"o\">=</span> <span class=\"n\">compound_profile</span><span class=\"o\">.</span><span class=\"n\">top</span><span class=\"o\">.</span><span class=\"n\">up</span><span class=\"o\">.</span><span class=\"n\">index</span>\n",
       "\n",
       "    <span class=\"n\">corresponding_ranks</span> <span class=\"o\">=</span> <span class=\"p\">[</span><span class=\"n\">disease_profile</span><span class=\"o\">.</span><span class=\"n\">top</span><span class=\"o\">.</span><span class=\"n\">ranks</span><span class=\"p\">[</span><span class=\"n\">gene</span><span class=\"p\">]</span> <span class=\"k\">for</span> <span class=\"n\">gene</span> <span class=\"ow\">in</span> <span class=\"n\">up_ranks</span><span class=\"p\">]</span>\n",
       "    <span class=\"n\">signature_ranks</span> <span class=\"o\">=</span> <span class=\"n\">compound_profile</span><span class=\"o\">.</span><span class=\"n\">top</span><span class=\"o\">.</span><span class=\"n\">up</span><span class=\"o\">.</span><span class=\"n\">rank</span><span class=\"p\">()</span>\n",
       "    <span class=\"n\">s_up</span> <span class=\"o\">=</span> <span class=\"n\">spearmanr</span><span class=\"p\">(</span><span class=\"n\">signature_ranks</span><span class=\"p\">,</span> <span class=\"n\">corresponding_ranks</span><span class=\"p\">)</span><span class=\"o\">.</span><span class=\"n\">correlation</span>\n",
       "\n",
       "    <span class=\"n\">corresponding_ranks</span> <span class=\"o\">=</span> <span class=\"p\">[</span><span class=\"n\">disease_profile</span><span class=\"o\">.</span><span class=\"n\">top</span><span class=\"o\">.</span><span class=\"n\">ranks</span><span class=\"p\">[</span><span class=\"n\">gene</span><span class=\"p\">]</span> <span class=\"k\">for</span> <span class=\"n\">gene</span> <span class=\"ow\">in</span> <span class=\"n\">down_ranks</span><span class=\"p\">]</span>\n",
       "    <span class=\"n\">signature_ranks</span> <span class=\"o\">=</span> <span class=\"n\">compound_profile</span><span class=\"o\">.</span><span class=\"n\">top</span><span class=\"o\">.</span><span class=\"n\">down</span><span class=\"o\">.</span><span class=\"n\">rank</span><span class=\"p\">()</span>\n",
       "    <span class=\"n\">s_dn</span> <span class=\"o\">=</span> <span class=\"n\">spearmanr</span><span class=\"p\">(</span><span class=\"n\">signature_ranks</span><span class=\"p\">,</span> <span class=\"n\">corresponding_ranks</span><span class=\"p\">)</span><span class=\"o\">.</span><span class=\"n\">correlation</span>\n",
       "\n",
       "    <span class=\"k\">return</span> <span class=\"n\">s_dn</span> <span class=\"o\">+</span> <span class=\"n\">s_up</span>\n",
       "</pre></div>\n"
      ],
      "text/plain": [
       "<IPython.core.display.HTML object>"
      ]
     },
     "metadata": {},
     "output_type": "display_data"
    }
   ],
   "source": [
    "show_source(score_spearman)"
   ]
  },
  {
   "cell_type": "markdown",
   "metadata": {},
   "source": [
    "Corresponding *max* variant:"
   ]
  },
  {
   "cell_type": "code",
   "execution_count": 6,
   "metadata": {},
   "outputs": [
    {
     "data": {
      "text/html": [
       "<div class=\"highlight\"><pre><span></span><span class=\"nd\">@scoring_function</span>\n",
       "<span class=\"k\">def</span> <span class=\"nf\">score_spearman_max</span><span class=\"p\">(</span><span class=\"n\">disease_profile</span><span class=\"p\">:</span> <span class=\"n\">Profile</span><span class=\"p\">,</span> <span class=\"n\">compound_profile</span><span class=\"p\">:</span> <span class=\"n\">Profile</span><span class=\"p\">):</span>\n",
       "\n",
       "    <span class=\"n\">down_ranks</span> <span class=\"o\">=</span> <span class=\"n\">compound_profile</span><span class=\"o\">.</span><span class=\"n\">top</span><span class=\"o\">.</span><span class=\"n\">down</span><span class=\"o\">.</span><span class=\"n\">index</span>\n",
       "    <span class=\"n\">up_ranks</span> <span class=\"o\">=</span> <span class=\"n\">compound_profile</span><span class=\"o\">.</span><span class=\"n\">top</span><span class=\"o\">.</span><span class=\"n\">up</span><span class=\"o\">.</span><span class=\"n\">index</span>\n",
       "\n",
       "    <span class=\"n\">corresponding_ranks</span> <span class=\"o\">=</span> <span class=\"p\">[</span><span class=\"n\">disease_profile</span><span class=\"o\">.</span><span class=\"n\">top</span><span class=\"o\">.</span><span class=\"n\">ranks</span><span class=\"p\">[</span><span class=\"n\">gene</span><span class=\"p\">]</span> <span class=\"k\">for</span> <span class=\"n\">gene</span> <span class=\"ow\">in</span> <span class=\"n\">up_ranks</span><span class=\"p\">]</span>\n",
       "    <span class=\"n\">signature_ranks</span> <span class=\"o\">=</span> <span class=\"n\">compound_profile</span><span class=\"o\">.</span><span class=\"n\">top</span><span class=\"o\">.</span><span class=\"n\">up</span><span class=\"o\">.</span><span class=\"n\">rank</span><span class=\"p\">()</span>\n",
       "    <span class=\"n\">s_up</span> <span class=\"o\">=</span> <span class=\"n\">spearmanr</span><span class=\"p\">(</span><span class=\"n\">signature_ranks</span><span class=\"p\">,</span> <span class=\"n\">corresponding_ranks</span><span class=\"p\">)</span><span class=\"o\">.</span><span class=\"n\">correlation</span>\n",
       "\n",
       "    <span class=\"n\">corresponding_ranks</span> <span class=\"o\">=</span> <span class=\"p\">[</span><span class=\"n\">disease_profile</span><span class=\"o\">.</span><span class=\"n\">top</span><span class=\"o\">.</span><span class=\"n\">ranks</span><span class=\"p\">[</span><span class=\"n\">gene</span><span class=\"p\">]</span> <span class=\"k\">for</span> <span class=\"n\">gene</span> <span class=\"ow\">in</span> <span class=\"n\">down_ranks</span><span class=\"p\">]</span>\n",
       "    <span class=\"n\">signature_ranks</span> <span class=\"o\">=</span> <span class=\"n\">compound_profile</span><span class=\"o\">.</span><span class=\"n\">top</span><span class=\"o\">.</span><span class=\"n\">down</span><span class=\"o\">.</span><span class=\"n\">rank</span><span class=\"p\">()</span>\n",
       "    <span class=\"n\">s_dn</span> <span class=\"o\">=</span> <span class=\"n\">spearmanr</span><span class=\"p\">(</span><span class=\"n\">signature_ranks</span><span class=\"p\">,</span> <span class=\"n\">corresponding_ranks</span><span class=\"p\">)</span><span class=\"o\">.</span><span class=\"n\">correlation</span>\n",
       "\n",
       "    <span class=\"k\">return</span> <span class=\"nb\">max</span><span class=\"p\">([</span><span class=\"n\">s_dn</span><span class=\"p\">,</span> <span class=\"n\">s_up</span><span class=\"p\">])</span>\n",
       "</pre></div>\n"
      ],
      "text/plain": [
       "<IPython.core.display.HTML object>"
      ]
     },
     "metadata": {},
     "output_type": "display_data"
    }
   ],
   "source": [
    "show_source(score_spearman_max)"
   ]
  },
  {
   "cell_type": "code",
   "execution_count": 7,
   "metadata": {},
   "outputs": [
    {
     "data": {
      "text/html": [
       "<div class=\"highlight\"><pre><span></span><span class=\"nd\">@scoring_function</span>\n",
       "<span class=\"k\">def</span> <span class=\"nf\">x_product</span><span class=\"p\">(</span><span class=\"n\">disease_profile</span><span class=\"p\">:</span> <span class=\"n\">Profile</span><span class=\"p\">,</span> <span class=\"n\">compound_profile</span><span class=\"p\">:</span> <span class=\"n\">Profile</span><span class=\"p\">):</span>\n",
       "\n",
       "    <span class=\"n\">changed_by_compound</span><span class=\"p\">,</span> <span class=\"n\">x_down_in_disease</span><span class=\"p\">,</span> <span class=\"n\">x_up_in_disease</span> <span class=\"o\">=</span> <span class=\"n\">changed_subsets</span><span class=\"p\">(</span>\n",
       "        <span class=\"n\">disease_profile</span><span class=\"o\">.</span><span class=\"n\">top</span><span class=\"p\">,</span> <span class=\"n\">compound_profile</span><span class=\"o\">.</span><span class=\"n\">top</span>\n",
       "    <span class=\"p\">)</span>\n",
       "\n",
       "    <span class=\"n\">disease</span> <span class=\"o\">=</span> <span class=\"n\">disease_profile</span><span class=\"o\">.</span><span class=\"n\">top</span>\n",
       "\n",
       "    <span class=\"k\">return</span> <span class=\"p\">(</span>\n",
       "        <span class=\"nb\">sum</span><span class=\"p\">(</span><span class=\"n\">changed_by_compound</span><span class=\"o\">.</span><span class=\"n\">loc</span><span class=\"p\">[</span><span class=\"n\">gene</span><span class=\"p\">]</span> <span class=\"o\">*</span> <span class=\"p\">(</span><span class=\"o\">-</span><span class=\"n\">disease</span><span class=\"o\">.</span><span class=\"n\">down</span><span class=\"o\">.</span><span class=\"n\">loc</span><span class=\"p\">[</span><span class=\"n\">gene</span><span class=\"p\">])</span> <span class=\"k\">for</span> <span class=\"n\">gene</span> <span class=\"ow\">in</span> <span class=\"n\">x_down_in_disease</span><span class=\"p\">)</span>\n",
       "        <span class=\"o\">-</span>\n",
       "        <span class=\"nb\">sum</span><span class=\"p\">(</span><span class=\"n\">changed_by_compound</span><span class=\"o\">.</span><span class=\"n\">loc</span><span class=\"p\">[</span><span class=\"n\">gene</span><span class=\"p\">]</span> <span class=\"o\">*</span> <span class=\"n\">disease</span><span class=\"o\">.</span><span class=\"n\">up</span><span class=\"o\">.</span><span class=\"n\">loc</span><span class=\"p\">[</span><span class=\"n\">gene</span><span class=\"p\">]</span> <span class=\"k\">for</span> <span class=\"n\">gene</span> <span class=\"ow\">in</span> <span class=\"n\">x_up_in_disease</span><span class=\"p\">)</span>\n",
       "    <span class=\"p\">)</span>\n",
       "</pre></div>\n"
      ],
      "text/plain": [
       "<IPython.core.display.HTML object>"
      ]
     },
     "metadata": {},
     "output_type": "display_data"
    }
   ],
   "source": [
    "show_source(x_product)"
   ]
  },
  {
   "cell_type": "markdown",
   "metadata": {},
   "source": [
    "### Scoring"
   ]
  },
  {
   "cell_type": "code",
   "execution_count": 8,
   "metadata": {},
   "outputs": [],
   "source": [
    "from signature_scoring import score_signatures"
   ]
  },
  {
   "cell_type": "markdown",
   "metadata": {},
   "source": [
    "`score_signatures` uses multiprocessing to apply given scoring function to:\n",
    "- a `disease_signature` (disease differential profile) and\n",
    "- given `signatures` (or all signatures from the cell line with the most perturbagenes)\n",
    "\n",
    "It will limit the number of analyzed under- and over-expressed genes to specified `limit`"
   ]
  },
  {
   "cell_type": "code",
   "execution_count": 9,
   "metadata": {},
   "outputs": [
    {
     "data": {
      "text/html": [
       "<div class=\"highlight\"><pre><span></span><span class=\"k\">def</span> <span class=\"nf\">score_signatures</span><span class=\"p\">(</span>\n",
       "    <span class=\"n\">scoring_func</span><span class=\"p\">,</span> <span class=\"n\">disease_signature</span><span class=\"p\">,</span> <span class=\"n\">signatures</span><span class=\"o\">=</span><span class=\"bp\">None</span><span class=\"p\">,</span> <span class=\"n\">limit</span><span class=\"o\">=</span><span class=\"mi\">500</span><span class=\"p\">,</span> <span class=\"n\">gene_subset</span><span class=\"o\">=</span><span class=\"bp\">None</span><span class=\"p\">,</span>\n",
       "    <span class=\"n\">fold_changes</span><span class=\"o\">=</span><span class=\"bp\">False</span><span class=\"p\">,</span> <span class=\"n\">scale</span><span class=\"o\">=</span><span class=\"bp\">False</span><span class=\"p\">,</span> <span class=\"n\">progress</span><span class=\"o\">=</span><span class=\"bp\">False</span><span class=\"p\">,</span> <span class=\"n\">processes</span><span class=\"o\">=</span><span class=\"bp\">None</span><span class=\"p\">,</span>\n",
       "    <span class=\"n\">gene_selection</span><span class=\"o\">=</span><span class=\"n\">Series</span><span class=\"o\">.</span><span class=\"n\">nlargest</span><span class=\"p\">,</span> <span class=\"n\">warning_manager</span><span class=\"o\">=</span><span class=\"bp\">None</span>\n",
       "<span class=\"p\">):</span>\n",
       "    <span class=\"n\">processor_type</span> <span class=\"o\">=</span> <span class=\"n\">SignatureProcessor</span>\n",
       "\n",
       "    <span class=\"k\">if</span> <span class=\"n\">fold_changes</span><span class=\"p\">:</span>\n",
       "        <span class=\"k\">print</span><span class=\"p\">(</span><span class=\"s1\">&#39;Make sure that you use disease_signature with fold changes as well&#39;</span><span class=\"p\">)</span>\n",
       "        <span class=\"n\">processor_type</span> <span class=\"o\">=</span> <span class=\"n\">FoldChangeSignatureProcessor</span>\n",
       "\n",
       "    <span class=\"n\">processor</span> <span class=\"o\">=</span> <span class=\"n\">processor_type</span><span class=\"p\">(</span>\n",
       "        <span class=\"n\">signatures</span> <span class=\"k\">if</span> <span class=\"nb\">isinstance</span><span class=\"p\">(</span><span class=\"n\">signatures</span><span class=\"p\">,</span> <span class=\"n\">SignaturesGrouping</span><span class=\"p\">)</span> <span class=\"k\">else</span> <span class=\"n\">scoring_func</span><span class=\"o\">.</span><span class=\"n\">collection</span><span class=\"p\">(</span><span class=\"n\">signatures</span><span class=\"p\">),</span>\n",
       "        <span class=\"n\">warning_manager</span><span class=\"p\">,</span>\n",
       "        <span class=\"n\">progress</span><span class=\"p\">,</span>\n",
       "        <span class=\"n\">processes</span>\n",
       "    <span class=\"p\">)</span>\n",
       "    <span class=\"k\">return</span> <span class=\"n\">processor</span><span class=\"o\">.</span><span class=\"n\">score_signatures</span><span class=\"p\">(</span>\n",
       "        <span class=\"n\">scoring_func</span><span class=\"p\">,</span> <span class=\"n\">disease_signature</span><span class=\"p\">,</span> <span class=\"n\">limit</span><span class=\"p\">,</span> <span class=\"n\">gene_subset</span><span class=\"p\">,</span> <span class=\"n\">scale</span><span class=\"p\">,</span> <span class=\"n\">gene_selection</span>\n",
       "    <span class=\"p\">)</span>\n",
       "</pre></div>\n"
      ],
      "text/plain": [
       "<IPython.core.display.HTML object>"
      ]
     },
     "metadata": {},
     "output_type": "display_data"
    }
   ],
   "source": [
    "show_source(score_signatures)"
   ]
  },
  {
   "cell_type": "markdown",
   "metadata": {},
   "source": [
    "Pre-processing, cache management and multiprocessing are handled by `SignatureProcessor` (showing only the most relevant parts for brevity):"
   ]
  },
  {
   "cell_type": "code",
   "execution_count": 10,
   "metadata": {},
   "outputs": [
    {
     "data": {
      "text/html": [
       "<div class=\"highlight\"><pre><span></span>    <span class=\"k\">def</span> <span class=\"nf\">score_signatures</span><span class=\"p\">(</span>\n",
       "        <span class=\"bp\">self</span><span class=\"p\">,</span> <span class=\"n\">scoring_func</span><span class=\"p\">,</span> <span class=\"n\">disease_signature</span><span class=\"p\">,</span> <span class=\"n\">limit</span><span class=\"o\">=</span><span class=\"mi\">500</span><span class=\"p\">,</span> <span class=\"n\">gene_subset</span><span class=\"o\">=</span><span class=\"bp\">None</span><span class=\"p\">,</span>\n",
       "        <span class=\"n\">scale</span><span class=\"o\">=</span><span class=\"bp\">False</span><span class=\"p\">,</span> <span class=\"n\">gene_selection</span><span class=\"o\">=</span><span class=\"n\">Series</span><span class=\"o\">.</span><span class=\"n\">nlargest</span><span class=\"p\">,</span>\n",
       "    <span class=\"p\">):</span>\n",
       "        <span class=\"c1\"># scaling will be performed in transform_signature</span>\n",
       "        <span class=\"bp\">self</span><span class=\"o\">.</span><span class=\"n\">scale</span> <span class=\"o\">=</span> <span class=\"n\">scale</span>\n",
       "\n",
       "        <span class=\"n\">limit</span> <span class=\"o\">=</span> <span class=\"n\">limit</span> <span class=\"ow\">or</span> <span class=\"n\">sys</span><span class=\"o\">.</span><span class=\"n\">maxsize</span>\n",
       "\n",
       "        <span class=\"n\">common_genes</span> <span class=\"o\">=</span> <span class=\"bp\">self</span><span class=\"o\">.</span><span class=\"n\">select_common_genes</span><span class=\"p\">(</span><span class=\"n\">disease_signature</span><span class=\"p\">,</span> <span class=\"n\">gene_subset</span><span class=\"p\">)</span>\n",
       "        <span class=\"n\">disease_signature</span> <span class=\"o\">=</span> <span class=\"n\">disease_signature</span><span class=\"p\">[</span><span class=\"n\">disease_signature</span><span class=\"o\">.</span><span class=\"n\">index</span><span class=\"o\">.</span><span class=\"n\">isin</span><span class=\"p\">(</span><span class=\"n\">common_genes</span><span class=\"p\">)]</span>\n",
       "\n",
       "        <span class=\"k\">if</span> <span class=\"n\">scoring_func</span><span class=\"o\">.</span><span class=\"n\">input</span> <span class=\"o\">==</span> <span class=\"n\">Profile</span><span class=\"p\">:</span>\n",
       "            <span class=\"n\">disease_profile</span> <span class=\"o\">=</span> <span class=\"n\">Profile</span><span class=\"p\">(</span>\n",
       "                <span class=\"bp\">self</span><span class=\"o\">.</span><span class=\"n\">signature_type</span><span class=\"p\">(</span><span class=\"n\">disease_signature</span><span class=\"p\">),</span>\n",
       "                <span class=\"n\">limit</span><span class=\"o\">=</span><span class=\"n\">limit</span><span class=\"p\">,</span> <span class=\"n\">nlargest</span><span class=\"o\">=</span><span class=\"n\">gene_selection</span>\n",
       "            <span class=\"p\">)</span>\n",
       "            <span class=\"n\">selected_genes</span> <span class=\"o\">=</span> <span class=\"n\">disease_profile</span><span class=\"o\">.</span><span class=\"n\">top</span><span class=\"o\">.</span><span class=\"n\">genes</span>\n",
       "        <span class=\"k\">else</span><span class=\"p\">:</span>\n",
       "            <span class=\"n\">disease_profile</span> <span class=\"o\">=</span> <span class=\"n\">disease_signature</span>\n",
       "            <span class=\"n\">selected_genes</span> <span class=\"o\">=</span> <span class=\"n\">disease_profile</span><span class=\"o\">.</span><span class=\"n\">index</span>\n",
       "\n",
       "        <span class=\"bp\">self</span><span class=\"o\">.</span><span class=\"n\">warn_if_few_genes_selected</span><span class=\"p\">(</span><span class=\"n\">selected_genes</span><span class=\"p\">,</span> <span class=\"n\">limit</span><span class=\"p\">)</span>\n",
       "\n",
       "        <span class=\"n\">rows_of_selected_genes</span> <span class=\"o\">=</span> <span class=\"bp\">self</span><span class=\"o\">.</span><span class=\"n\">signature_groups</span><span class=\"o\">.</span><span class=\"n\">genes</span><span class=\"o\">.</span><span class=\"n\">isin</span><span class=\"p\">(</span><span class=\"n\">selected_genes</span><span class=\"p\">)</span>\n",
       "\n",
       "        <span class=\"n\">shared_args</span> <span class=\"o\">=</span> <span class=\"p\">[</span><span class=\"n\">disease_profile</span><span class=\"p\">,</span> <span class=\"n\">rows_of_selected_genes</span><span class=\"p\">,</span> <span class=\"n\">limit</span><span class=\"p\">,</span> <span class=\"n\">scoring_func</span><span class=\"p\">,</span> <span class=\"n\">gene_selection</span><span class=\"p\">]</span>\n",
       "\n",
       "        <span class=\"n\">start</span> <span class=\"o\">=</span> <span class=\"mi\">0</span>\n",
       "        <span class=\"n\">scores</span> <span class=\"o\">=</span> <span class=\"p\">[]</span>\n",
       "\n",
       "        <span class=\"k\">if</span> <span class=\"n\">scoring_func</span><span class=\"o\">.</span><span class=\"n\">multiprocessing_exclude_first</span><span class=\"p\">:</span>\n",
       "            <span class=\"c1\"># first signature is scored in one process,</span>\n",
       "            <span class=\"c1\"># so that the common cache is populated</span>\n",
       "            <span class=\"c1\"># without repetition of calculations</span>\n",
       "            <span class=\"n\">scores</span> <span class=\"o\">=</span> <span class=\"p\">[</span><span class=\"bp\">self</span><span class=\"o\">.</span><span class=\"n\">score_signature_group</span><span class=\"p\">(</span><span class=\"bp\">self</span><span class=\"o\">.</span><span class=\"n\">ids</span><span class=\"p\">[</span><span class=\"mi\">0</span><span class=\"p\">],</span> <span class=\"o\">*</span><span class=\"n\">shared_args</span><span class=\"p\">)]</span>\n",
       "            <span class=\"n\">start</span> <span class=\"o\">=</span> <span class=\"mi\">1</span>\n",
       "\n",
       "        <span class=\"n\">map_with_shared</span> <span class=\"o\">=</span> <span class=\"p\">(</span>\n",
       "            <span class=\"bp\">self</span><span class=\"o\">.</span><span class=\"n\">single_process_map_with_shared</span>\n",
       "            <span class=\"k\">if</span> <span class=\"n\">scoring_func</span><span class=\"o\">.</span><span class=\"n\">custom_multiprocessing</span> <span class=\"k\">else</span>\n",
       "            <span class=\"bp\">self</span><span class=\"o\">.</span><span class=\"n\">pool</span><span class=\"o\">.</span><span class=\"n\">imap</span>\n",
       "        <span class=\"p\">)</span>\n",
       "\n",
       "        <span class=\"c1\"># and then iteratively apply scoring function to each next compound signature</span>\n",
       "        <span class=\"n\">scores</span><span class=\"o\">.</span><span class=\"n\">extend</span><span class=\"p\">(</span>\n",
       "            <span class=\"n\">map_with_shared</span><span class=\"p\">(</span>\n",
       "                <span class=\"bp\">self</span><span class=\"o\">.</span><span class=\"n\">score_signature_group</span><span class=\"p\">,</span>\n",
       "                <span class=\"bp\">self</span><span class=\"o\">.</span><span class=\"n\">ids</span><span class=\"p\">[</span><span class=\"n\">start</span><span class=\"p\">:],</span>\n",
       "                <span class=\"n\">shared_args</span><span class=\"o\">=</span><span class=\"n\">shared_args</span>\n",
       "            <span class=\"p\">)</span>\n",
       "        <span class=\"p\">)</span>\n",
       "\n",
       "        <span class=\"k\">if</span> <span class=\"n\">scoring_func</span><span class=\"o\">.</span><span class=\"n\">grouping</span><span class=\"p\">:</span>\n",
       "            <span class=\"k\">return</span> <span class=\"n\">Scores</span><span class=\"o\">.</span><span class=\"n\">from_grouped_signatures</span><span class=\"p\">(</span><span class=\"n\">scores</span><span class=\"p\">)</span>\n",
       "        <span class=\"k\">return</span> <span class=\"n\">Scores</span><span class=\"p\">(</span><span class=\"n\">scores</span><span class=\"p\">)</span>\n",
       "</pre></div>\n"
      ],
      "text/plain": [
       "<IPython.core.display.HTML object>"
      ]
     },
     "metadata": {},
     "output_type": "display_data"
    }
   ],
   "source": [
    "from signature_scoring.processor import SignatureProcessor\n",
    "show_source(SignatureProcessor.score_signatures)"
   ]
  },
  {
   "cell_type": "code",
   "execution_count": 11,
   "metadata": {},
   "outputs": [
    {
     "data": {
      "text/html": [
       "<div class=\"highlight\"><pre><span></span>    <span class=\"k\">def</span> <span class=\"nf\">score_signature_group</span><span class=\"p\">(</span>\n",
       "        <span class=\"bp\">self</span><span class=\"p\">,</span> <span class=\"n\">signature_id</span><span class=\"p\">,</span> <span class=\"n\">disease_profile</span><span class=\"p\">,</span> <span class=\"n\">rows_of_selected_genes</span><span class=\"p\">,</span> <span class=\"n\">limit</span><span class=\"p\">,</span> <span class=\"n\">scoring_func</span><span class=\"p\">,</span> <span class=\"n\">gene_selection</span>\n",
       "    <span class=\"p\">):</span>\n",
       "        <span class=\"n\">signature</span> <span class=\"o\">=</span> <span class=\"bp\">self</span><span class=\"o\">.</span><span class=\"n\">get_signature_group</span><span class=\"p\">(</span><span class=\"n\">signature_id</span><span class=\"p\">)</span>\n",
       "        <span class=\"n\">signature</span> <span class=\"o\">=</span> <span class=\"n\">signature</span><span class=\"p\">[</span><span class=\"n\">rows_of_selected_genes</span><span class=\"p\">]</span>\n",
       "        <span class=\"n\">signature</span> <span class=\"o\">=</span> <span class=\"bp\">self</span><span class=\"o\">.</span><span class=\"n\">transform_signature</span><span class=\"p\">(</span><span class=\"n\">signature</span><span class=\"p\">,</span> <span class=\"n\">signature</span><span class=\"o\">.</span><span class=\"n\">index</span><span class=\"p\">)</span>\n",
       "\n",
       "        <span class=\"k\">if</span> <span class=\"n\">scoring_func</span><span class=\"o\">.</span><span class=\"n\">input</span> <span class=\"o\">==</span> <span class=\"n\">Profile</span><span class=\"p\">:</span>\n",
       "            <span class=\"n\">compound_profile</span> <span class=\"o\">=</span> <span class=\"n\">Profile</span><span class=\"p\">(</span>\n",
       "                <span class=\"bp\">self</span><span class=\"o\">.</span><span class=\"n\">signature_type</span><span class=\"p\">(</span><span class=\"n\">signature</span><span class=\"p\">),</span>\n",
       "                <span class=\"n\">limit</span><span class=\"p\">,</span> <span class=\"n\">nlargest</span><span class=\"o\">=</span><span class=\"n\">gene_selection</span>\n",
       "            <span class=\"p\">)</span>\n",
       "        <span class=\"k\">else</span><span class=\"p\">:</span>\n",
       "            <span class=\"n\">compound_profile</span> <span class=\"o\">=</span> <span class=\"n\">signature</span>\n",
       "            <span class=\"c1\"># TODO: apply limit to the compound_profile for the ExpressionsWithControls case.</span>\n",
       "            <span class=\"c1\">#  How? One idea: take the means/medians of gene values and choose n best genes.</span>\n",
       "\n",
       "        <span class=\"n\">args</span> <span class=\"o\">=</span> <span class=\"p\">{}</span>\n",
       "        <span class=\"k\">if</span> <span class=\"n\">scoring_func</span><span class=\"o\">.</span><span class=\"n\">custom_multiprocessing</span><span class=\"p\">:</span>\n",
       "            <span class=\"n\">args</span> <span class=\"o\">=</span> <span class=\"p\">{</span><span class=\"s1\">&#39;cores&#39;</span><span class=\"p\">:</span> <span class=\"bp\">self</span><span class=\"o\">.</span><span class=\"n\">processes</span><span class=\"p\">}</span>\n",
       "        <span class=\"n\">score</span> <span class=\"o\">=</span> <span class=\"n\">scoring_func</span><span class=\"p\">(</span><span class=\"n\">disease_profile</span><span class=\"p\">,</span> <span class=\"n\">compound_profile</span><span class=\"p\">,</span> <span class=\"o\">**</span><span class=\"n\">args</span><span class=\"p\">)</span>\n",
       "\n",
       "        <span class=\"k\">del</span> <span class=\"n\">signature</span><span class=\"p\">,</span> <span class=\"n\">compound_profile</span>\n",
       "\n",
       "        <span class=\"k\">return</span> <span class=\"n\">signature_id</span><span class=\"p\">,</span> <span class=\"n\">score</span>\n",
       "</pre></div>\n"
      ],
      "text/plain": [
       "<IPython.core.display.HTML object>"
      ]
     },
     "metadata": {},
     "output_type": "display_data"
    }
   ],
   "source": [
    "show_source(SignatureProcessor.score_signature_group)"
   ]
  },
  {
   "cell_type": "markdown",
   "metadata": {},
   "source": [
    "Here is an example usage:"
   ]
  },
  {
   "cell_type": "code",
   "execution_count": 12,
   "metadata": {},
   "outputs": [
    {
     "name": "stdout",
     "output_type": "stream",
     "text": [
      "Retaining 12276 genes: 99.58% of signature genes and 59.79% of query genes\n"
     ]
    }
   ],
   "source": [
    "%%skip_on_import\n",
    "scores_indications = score_signatures(score_spearman, data.query_signature, data.indications_singatures, limit=500, progress=False)"
   ]
  },
  {
   "cell_type": "code",
   "execution_count": 13,
   "metadata": {},
   "outputs": [
    {
     "data": {
      "text/html": [
       "<div>\n",
       "<style scoped>\n",
       "    .dataframe tbody tr th:only-of-type {\n",
       "        vertical-align: middle;\n",
       "    }\n",
       "\n",
       "    .dataframe tbody tr th {\n",
       "        vertical-align: top;\n",
       "    }\n",
       "\n",
       "    .dataframe thead th {\n",
       "        text-align: right;\n",
       "    }\n",
       "</style>\n",
       "<table border=\"1\" class=\"dataframe\">\n",
       "  <thead>\n",
       "    <tr style=\"text-align: right;\">\n",
       "      <th></th>\n",
       "      <th>score</th>\n",
       "      <th>sig_id</th>\n",
       "      <th>pert_id</th>\n",
       "      <th>pert_iname</th>\n",
       "      <th>pert_type</th>\n",
       "      <th>...</th>\n",
       "      <th>pert_dose_unit</th>\n",
       "      <th>pert_idose</th>\n",
       "      <th>pert_time</th>\n",
       "      <th>pert_time_unit</th>\n",
       "      <th>pert_itime</th>\n",
       "    </tr>\n",
       "  </thead>\n",
       "  <tbody>\n",
       "    <tr>\n",
       "      <th>19</th>\n",
       "      <td>0.593922</td>\n",
       "      <td>CPC005_MCF7_24H:BRD-K04210847-001-01-1:10</td>\n",
       "      <td>BRD-K04210847</td>\n",
       "      <td>tamoxifen</td>\n",
       "      <td>trt_cp</td>\n",
       "      <td>...</td>\n",
       "      <td>µM</td>\n",
       "      <td>10 µM</td>\n",
       "      <td>24</td>\n",
       "      <td>h</td>\n",
       "      <td>24 h</td>\n",
       "    </tr>\n",
       "    <tr>\n",
       "      <th>282</th>\n",
       "      <td>0.564547</td>\n",
       "      <td>LJP001_MCF10A_24H:BRD-K85606544-001-04-2:10</td>\n",
       "      <td>BRD-K85606544</td>\n",
       "      <td>neratinib</td>\n",
       "      <td>trt_cp</td>\n",
       "      <td>...</td>\n",
       "      <td>µM</td>\n",
       "      <td>10 µM</td>\n",
       "      <td>24</td>\n",
       "      <td>h</td>\n",
       "      <td>24 h</td>\n",
       "    </tr>\n",
       "    <tr>\n",
       "      <th>250</th>\n",
       "      <td>0.561589</td>\n",
       "      <td>CPC020_MCF7_24H:BRD-K93754473-001-15-1:10</td>\n",
       "      <td>BRD-K93754473</td>\n",
       "      <td>tamoxifen</td>\n",
       "      <td>trt_cp</td>\n",
       "      <td>...</td>\n",
       "      <td>µM</td>\n",
       "      <td>10 µM</td>\n",
       "      <td>24</td>\n",
       "      <td>h</td>\n",
       "      <td>24 h</td>\n",
       "    </tr>\n",
       "    <tr>\n",
       "      <th>0</th>\n",
       "      <td>0.512912</td>\n",
       "      <td>CPC005_A375_24H:BRD-K04210847-001-01-1:10</td>\n",
       "      <td>BRD-K04210847</td>\n",
       "      <td>tamoxifen</td>\n",
       "      <td>trt_cp</td>\n",
       "      <td>...</td>\n",
       "      <td>µM</td>\n",
       "      <td>10 µM</td>\n",
       "      <td>24</td>\n",
       "      <td>h</td>\n",
       "      <td>24 h</td>\n",
       "    </tr>\n",
       "    <tr>\n",
       "      <th>283</th>\n",
       "      <td>0.505622</td>\n",
       "      <td>LJP001_HS578T_24H:BRD-K51313569-001-03-7:10</td>\n",
       "      <td>BRD-K51313569</td>\n",
       "      <td>palbociclib</td>\n",
       "      <td>trt_cp</td>\n",
       "      <td>...</td>\n",
       "      <td>µM</td>\n",
       "      <td>10 µM</td>\n",
       "      <td>24</td>\n",
       "      <td>h</td>\n",
       "      <td>24 h</td>\n",
       "    </tr>\n",
       "    <tr>\n",
       "      <th>...</th>\n",
       "      <td>...</td>\n",
       "      <td>...</td>\n",
       "      <td>...</td>\n",
       "      <td>...</td>\n",
       "      <td>...</td>\n",
       "      <td>...</td>\n",
       "      <td>...</td>\n",
       "      <td>...</td>\n",
       "      <td>...</td>\n",
       "      <td>...</td>\n",
       "      <td>...</td>\n",
       "    </tr>\n",
       "    <tr>\n",
       "      <th>141</th>\n",
       "      <td>-0.290436</td>\n",
       "      <td>CPC012_PC3_6H:BRD-M07438658-001-01-1:10</td>\n",
       "      <td>BRD-M07438658</td>\n",
       "      <td>lapatinib</td>\n",
       "      <td>trt_cp</td>\n",
       "      <td>...</td>\n",
       "      <td>µM</td>\n",
       "      <td>10 µM</td>\n",
       "      <td>6</td>\n",
       "      <td>h</td>\n",
       "      <td>6 h</td>\n",
       "    </tr>\n",
       "    <tr>\n",
       "      <th>16</th>\n",
       "      <td>-0.315174</td>\n",
       "      <td>CPC004_MCF7_6H:BRD-A28746609-001-05-7:10</td>\n",
       "      <td>BRD-A28746609</td>\n",
       "      <td>paclitaxel</td>\n",
       "      <td>trt_cp</td>\n",
       "      <td>...</td>\n",
       "      <td>µM</td>\n",
       "      <td>10 µM</td>\n",
       "      <td>6</td>\n",
       "      <td>h</td>\n",
       "      <td>6 h</td>\n",
       "    </tr>\n",
       "    <tr>\n",
       "      <th>17</th>\n",
       "      <td>-0.357999</td>\n",
       "      <td>CPC004_HT29_6H:BRD-A28746609-001-05-7:10</td>\n",
       "      <td>BRD-A28746609</td>\n",
       "      <td>paclitaxel</td>\n",
       "      <td>trt_cp</td>\n",
       "      <td>...</td>\n",
       "      <td>µM</td>\n",
       "      <td>10 µM</td>\n",
       "      <td>6</td>\n",
       "      <td>h</td>\n",
       "      <td>6 h</td>\n",
       "    </tr>\n",
       "    <tr>\n",
       "      <th>27</th>\n",
       "      <td>-0.365098</td>\n",
       "      <td>CPC004_VCAP_6H:BRD-K09631521-001-05-7:10</td>\n",
       "      <td>BRD-K09631521</td>\n",
       "      <td>thiotepa</td>\n",
       "      <td>trt_cp</td>\n",
       "      <td>...</td>\n",
       "      <td>µM</td>\n",
       "      <td>10 µM</td>\n",
       "      <td>6</td>\n",
       "      <td>h</td>\n",
       "      <td>6 h</td>\n",
       "    </tr>\n",
       "    <tr>\n",
       "      <th>292</th>\n",
       "      <td>-0.413651</td>\n",
       "      <td>KHW001_U937_6H:BRD-A23723433-001-01-2:1</td>\n",
       "      <td>BRD-A23723433</td>\n",
       "      <td>paclitaxel</td>\n",
       "      <td>trt_cp</td>\n",
       "      <td>...</td>\n",
       "      <td>µM</td>\n",
       "      <td>1 µM</td>\n",
       "      <td>6</td>\n",
       "      <td>h</td>\n",
       "      <td>6 h</td>\n",
       "    </tr>\n",
       "  </tbody>\n",
       "</table>\n",
       "<p>316 rows × 12 columns</p>\n",
       "</div>"
      ],
      "text/plain": [
       "{'CPC005_A375_24H:BRD-K04210847-001-01-1:10': 0.5129120073146013, 'CPC005_A549_24H:BRD-K04210847-001-01-1:10': 0.005057460968683036, 'CPC003_HA1E_6H:BRD-K92093830-003-05-0:10': 0.30768674655890277, 'CPC004_HA1E_6H:BRD-K04548931-003-05-8:10': 0.2353611612175428, 'CPC004_HA1E_6H:BRD-A28746609-001-05-7:10': 0.02069040124267038, 'CPC003_HA1E_6H:BRD-A31801025-001-01-0:10': -0.09554459059235289, 'CPC003_HA1E_6H:BRD-A55594068-065-03-1:10': -0.03807932123849077, 'CPC005_HA1E_24H:BRD-K04210847-001-01-1:10': 0.27767933830167724, 'CPC004_HA1E_6H:BRD-K09631521-001-05-7:10': -0.12344305919840086, 'CPC003_HCC515_6H:BRD-K92093830-003-05-0:10': 0.24742433034455114, 'CPC004_HCC515_6H:BRD-A28746609-001-05-7:10': -0.2351758293534777, 'CPC003_HCC515_6H:BRD-A55594068-065-03-1:10': 0.10489515292748257, 'CPC004_HCC515_6H:BRD-K04548931-003-05-8:10': 0.15758814641450847, 'CPC004_HCC515_6H:BRD-K09631521-001-05-7:10': -0.06304430132351246, 'CPC003_HCC515_6H:BRD-A31801025-001-01-0:10': 0.11030042966244119, 'CPC004_HEPG2_6H:BRD-K04548931-003-05-8:10': 0.25400637266926207, 'CPC004_MCF7_6H:BRD-A28746609-001-05-7:10': -0.31517412294748814, 'CPC004_HT29_6H:BRD-A28746609-001-05-7:10': -0.357998510250976, 'CPC005_HT29_24H:BRD-K04210847-001-01-1:10': 0.16292220283815545, 'CPC005_MCF7_24H:BRD-K04210847-001-01-1:10': 0.5939216182153086, 'CPC004_HEPG2_6H:BRD-K09631521-001-05-7:10': -0.14480110584699296, 'CPC004_PC3_6H:BRD-K04548931-003-05-8:10': 0.13559134734286207, 'CPC004_PC3_6H:BRD-A28746609-001-05-7:10': 0.0012830796718789061, 'CPC004_PC3_6H:BRD-K09631521-001-05-7:10': 0.3799321388532598, 'CPC003_PC3_6H:BRD-A55594068-065-03-1:10': 0.04768370852330303, 'CPC004_VCAP_6H:BRD-K04548931-003-05-8:10': 0.46513658542617425, 'CPC004_VCAP_6H:BRD-A28746609-001-05-7:10': -0.19110911523120064, 'CPC004_VCAP_6H:BRD-K09631521-001-05-7:10': -0.36509788817230193, 'CPC003_VCAP_6H:BRD-A31801025-001-01-0:10': 0.30780839144497874, 'CPC003_VCAP_6H:BRD-A55594068-065-03-1:10': 0.1318997839129331, 'CPC003_PC3_6H:BRD-A31801025-001-01-0:10': 0.14727623121651567, 'CPC006_A375_6H:BRD-K85606544-001-01-8:10': 0.34113089318533796, 'CPC006_A549_6H:BRD-K85606544-001-01-8:10': 0.21998102793816038, 'CPC006_A673_6H:BRD-K85606544-001-01-8:10': 0.014050027432003051, 'CPC006_AGS_6H:BRD-K93754473-001-06-0:28.39': 0.05746242782580734, 'CPC006_AGS_6H:BRD-K85606544-001-01-8:10': 0.021677716417205818, 'CPC006_CL34_6H:BRD-K93754473-001-06-0:28.39': -0.024650258636614172, 'CPC006_CL34_6H:BRD-K85606544-001-01-8:10': -0.09169665535854939, 'CPC006_CORL23_6H:BRD-K93754473-001-06-0:28.39': -0.14903068608785397, 'CPC006_A673_6H:BRD-K93754473-001-06-0:28.39': 0.10694098511748804, 'CPC006_COV644_6H:BRD-K93754473-001-06-0:28.39': -0.06976316806131105, 'CPC006_CORL23_6H:BRD-K85606544-001-01-8:10': 0.09060004780587819, 'CPC006_COV644_6H:BRD-K85606544-001-01-8:10': 0.02885388423039803, 'CPC006_DV90_6H:BRD-K85606544-001-01-8:10': 0.06216824843744018, 'CPC006_EFO27_6H:BRD-K93754473-001-06-0:28.39': 0.020636640591046217, 'CPC006_EFO27_6H:BRD-K85606544-001-01-8:10': -0.07288804864874268, 'CPC006_HCC15_6H:BRD-K93754473-001-06-0:28.39': 0.054310135687158506, 'CPC006_HCC15_6H:BRD-K85606544-001-01-8:10': 0.21704362608851147, 'CPC006_HCC515_6H:BRD-K85606544-001-01-8:10': -0.053163755382224204, 'CPC006_HA1E_6H:BRD-K85606544-001-01-8:10': 0.12310996560329529, 'CPC006_HCT116_6H:BRD-K93754473-001-06-0:28.39': 0.24000194879797163, 'CPC006_HCT116_6H:BRD-K85606544-001-01-8:10': 0.20863825232539723, 'CPC006_DV90_6H:BRD-K93754473-001-06-0:28.39': 0.09933010870714595, 'CPC006_HEC108_6H:BRD-K85606544-001-01-8:10': 0.07657982011883196, 'CPC006_HT115_6H:BRD-K93754473-001-06-0:28.39': 0.18901387054318297, 'CPC006_HEPG2_6H:BRD-K85606544-001-01-8:10': 0.13444590919422938, 'CPC006_HT115_6H:BRD-K85606544-001-01-8:10': 0.05849996587762178, 'CPC006_HEC108_6H:BRD-K93754473-001-06-0:28.39': 0.1614951526876095, 'CPC006_JHUEM2_6H:BRD-K85606544-001-01-8:10': 0.2422201774712135, 'CPC006_JHUEM2_6H:BRD-K93754473-001-06-0:28.39': 0.350058522585602, 'CPC006_LOVO_6H:BRD-K85606544-001-01-8:10': -0.045583521031934415, 'CPC006_LOVO_6H:BRD-K93754473-001-06-0:28.39': 0.25825355506579195, 'CPC006_MDST8_6H:BRD-K93754473-001-06-0:28.39': -0.09135582340523322, 'CPC006_MDST8_6H:BRD-K85606544-001-01-8:10': 0.2907013614269842, 'CPC006_NCIH1694_6H:BRD-K93754473-001-06-0:28.39': -0.08342897567319879, 'CPC006_HT29_6H:BRD-K85606544-001-01-8:10': 0.04035671261592554, 'CPC006_NCIH1694_6H:BRD-K85606544-001-01-8:10': -0.14560552981834232, 'CPC006_NCIH1836_6H:BRD-K93754473-001-06-0:28.39': 0.09326779691613198, 'CPC006_NCIH1836_6H:BRD-K85606544-001-01-8:10': 0.167686678239124, 'CPC006_NCIH2073_6H:BRD-K93754473-001-06-0:28.39': -0.04701042061596827, 'CPC006_NCIH508_6H:BRD-K93754473-001-06-0:28.39': -0.10168581911665525, 'CPC006_NCIH508_6H:BRD-K85606544-001-01-8:10': -0.006623858050716372, 'CPC006_NCIH2073_6H:BRD-K85606544-001-01-8:10': 0.34058837045299084, 'CPC006_NCIH596_6H:BRD-K85606544-001-01-8:10': -0.07987753868665534, 'CPC006_NOMO1_6H:BRD-K93754473-001-06-0:28.39': -0.14431325137706422, 'CPC006_NOMO1_6H:BRD-K85606544-001-01-8:10': 0.05238364284050782, 'CPC006_OV7_6H:BRD-K93754473-001-06-0:28.39': 0.08438850767920614, 'CPC006_PC3_6H:BRD-K85606544-001-01-8:10': -0.17042726763411237, 'CPC006_OV7_6H:BRD-K85606544-001-01-8:10': -0.002950975315000659, 'CPC005_PC3_24H:BRD-K04210847-001-01-1:10': 0.2995645802280254, 'CPC006_PL21_6H:BRD-K93754473-001-06-0:28.39': 0.26233605427890677, 'CPC006_PL21_6H:BRD-K85606544-001-01-8:10': -0.06459230597129698, 'CPC006_RMGI_6H:BRD-K93754473-001-06-0:28.39': 0.13009498751094983, 'CPC006_NCIH596_6H:BRD-K93754473-001-06-0:28.39': 0.22531993381081625, 'CPC006_RMGI_6H:BRD-K85606544-001-01-8:10': 0.26199680810133075, 'CPC006_RMUGS_6H:BRD-K93754473-001-06-0:28.39': 0.00808418872090734, 'CPC006_RMUGS_6H:BRD-K85606544-001-01-8:10': -0.024765543372610728, 'CPC006_SKLU1_6H:BRD-K85606544-001-01-8:10': 0.42585646250126263, 'CPC006_SKM1_6H:BRD-K85606544-001-01-8:10': 0.23704216262526623, 'CPC006_SKMEL1_6H:BRD-K93754473-001-06-0:28.39': -0.05367965464069626, 'CPC006_SKM1_6H:BRD-K93754473-001-06-0:28.39': 0.14309440830268788, 'CPC006_SKMEL1_6H:BRD-K85606544-001-01-8:10': 0.10935536766809391, 'CPC006_SKMEL28_6H:BRD-K93754473-001-06-0:28.39': -0.09007570186802889, 'CPC006_SKMEL28_6H:BRD-K85606544-001-01-8:10': 0.2983143010227689, 'CPC006_SNGM_6H:BRD-K93754473-001-06-0:28.39': 0.16274830697250575, 'CPC006_SNGM_6H:BRD-K85606544-001-01-8:10': 0.2838365421743424, 'CPC006_SNU1040_6H:BRD-K93754473-001-06-0:28.39': 0.0760469576408443, 'CPC006_SNU1040_6H:BRD-K85606544-001-01-8:10': -0.1821938763456701, 'CPC006_SKLU1_6H:BRD-K93754473-001-06-0:28.39': 0.19209315107658154, 'CPC006_SNUC4_6H:BRD-K93754473-001-06-0:28.39': -0.032434801829838183, 'CPC005_VCAP_24H:BRD-K04210847-001-01-1:10': 0.3945119481803605, 'CPC006_SNUC4_6H:BRD-K85606544-001-01-8:10': 0.10329534152232758, 'CPC006_SNUC5_6H:BRD-K85606544-001-01-8:10': -0.15856034273944097, 'CPC006_SNUC5_6H:BRD-K93754473-001-06-0:28.39': 0.12194096076914657, 'CPC006_SW480_6H:BRD-K85606544-001-01-8:10': 0.09770565158704073, 'CPC006_SW480_6H:BRD-K93754473-001-06-0:28.39': 0.05245335146938214, 'CPC006_SW620_6H:BRD-K93754473-001-06-0:28.39': -0.01033287236368352, 'CPC006_SW948_6H:BRD-K93754473-001-06-0:28.39': 0.22184173254928619, 'CPC006_SW620_6H:BRD-K85606544-001-01-8:10': 0.16443156347069643, 'CPC006_T3M10_6H:BRD-K85606544-001-01-8:10': 0.07425241040014653, 'CPC006_T3M10_6H:BRD-K93754473-001-06-0:28.39': -0.1024527680584095, 'CPC006_THP1_6H:BRD-K85606544-001-01-8:10': -0.04559029703929253, 'CPC006_SW948_6H:BRD-K85606544-001-01-8:10': 0.03998548447503058, 'CPC006_THP1_6H:BRD-K93754473-001-06-0:28.39': 0.13987227594561621, 'CPC006_U937_6H:BRD-K85606544-001-01-8:10': 0.20129340353308617, 'CPC006_TYKNU_6H:BRD-K85606544-001-01-8:10': -0.14281172341567377, 'CPC006_TYKNU_6H:BRD-K93754473-001-06-0:28.39': -0.011077897926741728, 'CPC006_WSUDLCL2_6H:BRD-K93754473-001-06-0:28.39': -0.11742781183795935, 'CPC006_VCAP_6H:BRD-K85606544-001-01-8:10': -0.011242019949609279, 'CPC006_WSUDLCL2_6H:BRD-K85606544-001-01-8:10': 0.10234396980333671, 'CPC012_A375_6H:BRD-M07438658-001-01-1:10': -0.21471236386112308, 'CPC011_A375_6H:BRD-K63265447-001-05-8:10': -0.2352730081776249, 'CPC011_A375_6H:BRD-K59456551-002-15-8:10': 0.007478369517118569, 'CPC012_A549_6H:BRD-M07438658-001-01-1:10': -0.03380144585127678, 'CPC011_A549_6H:BRD-K63265447-001-05-8:10': -0.059109847052750734, 'CPC011_A549_6H:BRD-K04548931-003-11-6:10': 0.27849888880237955, 'CPC011_A549_6H:BRD-K92093830-003-23-3:10': 0.2660200933835767, 'CPC012_ASC_24H:BRD-M07438658-001-01-1:10': 0.1042747729988866, 'CPC013_ASC_24H:BRD-K42125900-001-01-9:10': 0.24041471943915668, 'CPC012_HA1E_6H:BRD-M07438658-001-01-1:10': 0.20812977155809972, 'CPC011_A549_6H:BRD-K59456551-002-15-8:10': 0.03215752498031858, 'CPC011_HA1E_6H:BRD-K63265447-001-05-8:10': 0.1087509796910148, 'CPC011_HA1E_6H:BRD-K59456551-002-15-8:10': 0.043352723009733876, 'CPC012_HCC515_6H:BRD-M07438658-001-01-1:10': 0.047383529658395755, 'CPC012_HT29_6H:BRD-M07438658-001-01-1:10': -0.24988556089091196, 'CPC011_HT29_6H:BRD-K63265447-001-05-8:10': -0.23365802104725306, 'CPC011_HT29_6H:BRD-K59456551-002-15-8:10': -0.11732788544229131, 'CPC011_MCF7_6H:BRD-K63265447-001-05-8:10': -0.2011408671760022, 'CPC012_MCF7_6H:BRD-M07438658-001-01-1:10': -0.19445316517941932, 'CPC012_NEU_24H:BRD-M07438658-001-01-1:10': 0.12289759423386348, 'CPC012_NPC_24H:BRD-M07438658-001-01-1:10': -0.12031998001712155, 'CPC012_PC3_6H:BRD-M07438658-001-01-1:10': -0.2904361495757857, 'CPC011_PC3_6H:BRD-K63265447-001-05-8:10': -0.21730974148830554, 'CPC012_PHH_24H:BRD-M07438658-001-01-1:10': -0.1582983018375802, 'CPC011_PC3_6H:BRD-K59456551-002-15-8:10': 0.06792603170412681, 'CPC012_SKB_24H:BRD-M07438658-001-01-1:10': -0.03225482142499181, 'CPC012_VCAP_6H:BRD-M07438658-001-01-1:10': -0.2551740987461113, 'CPC011_VCAP_6H:BRD-K92093830-003-23-3:10': 0.38968524937275745, 'CPC011_VCAP_6H:BRD-K63265447-001-05-8:10': 0.138387056326166, 'CPC015_A375_6H:BRD-A28746609-001-05-7:10': -0.11489517447752191, 'CPC015_A375_6H:BRD-A31801025-001-01-0:10': 0.008327303583372296, 'CPC011_VCAP_6H:BRD-K59456551-002-15-8:10': 0.38870605500938, 'CPC015_A375_6H:BRD-A55594068-065-03-1:10': 0.030738047905124573, 'CPC015_A375_6H:BRD-K04548931-003-05-8:10': 0.24162574537668752, 'CPC015_A375_6H:BRD-K09631521-001-05-7:10': -0.06262665208614042, 'CPC015_A375_6H:BRD-K92093830-003-05-0:10': 0.29657921263293496, 'CPC014_A375_6H:BRD-K51313569-001-02-9:10': 0.48837776310496867, 'CPC015_A549_6H:BRD-A28746609-001-05-7:10': 0.1761811989023784, 'CPC015_A549_6H:BRD-A31801025-001-01-0:10': -0.17719427715044878, 'CPC015_A549_6H:BRD-A55594068-065-03-1:10': 0.05812100518178728, 'CPC014_A375_6H:BRD-K13514097-001-01-2:10': 0.1852290406380924, 'CPC015_A549_6H:BRD-K09631521-001-05-7:10': -0.16777351387684744, 'CPC014_A549_6H:BRD-K13514097-001-01-2:10': 0.34752822632443264, 'CPC016_ASC_24H:BRD-A22783572-065-01-3:10': -0.1539273296949978, 'CPC015_ASC_24H:BRD-K04548931-003-05-8:10': 0.1768660307148721, 'CPC015_ASC_24H:BRD-A31801025-001-01-0:10': 0.16857730169277826, 'CPC015_ASC_24H:BRD-A28746609-001-05-7:10': 0.32189354362423417, 'CPC015_ASC_24H:BRD-A55594068-065-03-1:10': 0.098778022759166, 'CPC014_A549_6H:BRD-K51313569-001-02-9:10': 0.27732212613414464, 'CPC015_ASC_24H:BRD-K09631521-001-05-7:10': -0.06122683008933874, 'CPC015_ASC_24H:BRD-K93754473-048-10-3:10': 0.14699624662183902, 'CPC015_ASC_24H:BRD-K43744935-048-01-6:10': 0.26373729881334224, 'CPC014_ASC_24H:BRD-K13514097-001-01-2:10': 0.1522369609176494, 'CPC014_ASC_24H:BRD-K19687926-379-01-7:10': -0.17103557434380584, 'CPC014_ASC_24H:BRD-K51313569-001-02-9:10': -0.01669703686534964, 'CPC014_HA1E_6H:BRD-K51313569-001-02-9:10': 0.2978933552355502, 'CPC014_HCC515_6H:BRD-K51313569-001-02-9:10': 0.11504504477735748, 'CPC015_ASC_24H:BRD-K92093830-003-05-0:10': -0.037642356761197454, 'CPC015_HEPG2_6H:BRD-A28746609-001-05-7:10': -0.03190741691754718, 'CPC014_HCC515_6H:BRD-K13514097-001-01-2:10': 0.13979052490833954, 'CPC014_HA1E_6H:BRD-K13514097-001-01-2:10': 0.36753896686585347, 'CPC015_HEPG2_6H:BRD-A31801025-001-01-0:10': -0.2601937628047953, 'CPC015_HEPG2_6H:BRD-A55594068-065-03-1:10': 0.1387318784316262, 'CPC015_HEPG2_6H:BRD-K92093830-003-05-0:10': 0.2917244460780637, 'CPC015_HT29_6H:BRD-A31801025-001-01-0:10': 0.08968595002471678, 'CPC014_HEPG2_6H:BRD-K51313569-001-02-9:10': 0.25573525776993855, 'CPC014_HEPG2_6H:BRD-K13514097-001-01-2:10': 0.17413541973530924, 'CPC015_HT29_6H:BRD-A55594068-065-03-1:10': 0.19536995812429997, 'CPC015_HT29_6H:BRD-K04548931-003-05-8:10': 0.37558071470794996, 'CPC015_HT29_6H:BRD-K09631521-001-05-7:10': -0.16031116999167094, 'CPC014_HT29_6H:BRD-K13514097-001-01-2:10': 0.25927796077389215, 'CPC015_HT29_6H:BRD-K92093830-003-05-0:10': 0.2269392460077611, 'CPC015_MCF7_6H:BRD-A55594068-065-03-1:10': 0.16681531862238758, 'CPC015_MCF7_6H:BRD-K09631521-001-05-7:10': -0.24847269367408592, 'CPC015_MCF7_6H:BRD-A31801025-001-01-0:10': 0.11881957744428914, 'CPC015_MCF7_6H:BRD-K04548931-003-05-8:10': 0.44431097449652285, 'CPC014_MCF7_6H:BRD-K51313569-001-02-9:10': 0.27770684398674633, 'CPC014_HT29_6H:BRD-K51313569-001-02-9:10': 0.398497999764265, 'CPC014_MCF7_6H:BRD-K13514097-001-01-2:10': 0.2708427175363053, 'CPC014_NEU_24H:BRD-K51313569-001-02-9:10': -0.0012443393200051445, 'CPC016_NEU_24H:BRD-A22783572-065-01-3:10': -0.16701130510367218, 'CPC014_NEU_24H:BRD-K19687926-379-01-7:10': -0.04239141362349336, 'CPC013_NEU_24H:BRD-K42125900-001-01-9:10': 0.17766561290160587, 'CPC014_NEU_24H:BRD-K13514097-001-01-2:10': -0.2710421180241706, 'CPC016_NPC_24H:BRD-A22783572-065-01-3:10': 0.4987483812543687, 'CPC015_NPC_24H:BRD-A31801025-001-01-0:10': 0.030887128374381043, 'CPC015_NPC_24H:BRD-A28746609-001-05-7:10': 0.11514652566882404, 'CPC015_NPC_24H:BRD-A55594068-065-03-1:10': 0.42308996723788583, 'CPC015_NPC_24H:BRD-K43744935-048-01-6:10': 0.13519747610937216, 'CPC015_NPC_24H:BRD-K09631521-001-05-7:10': -0.06047161649978346, 'CPC014_NPC_24H:BRD-K19687926-379-01-7:10': -0.15395966091349284, 'CPC014_NPC_24H:BRD-K51313569-001-02-9:10': 0.14264582122614342, 'CPC013_NPC_24H:BRD-K42125900-001-01-9:10': 0.1494354964737536, 'CPC014_PC3_6H:BRD-K13514097-001-01-2:10': 0.4039908568124766, 'CPC015_PHH_24H:BRD-A28746609-001-05-7:10': 0.14692091532931237, 'CPC014_PC3_6H:BRD-K51313569-001-02-9:10': 0.23949118088553956, 'CPC014_NPC_24H:BRD-K13514097-001-01-2:10': 0.2484193947473729, 'CPC015_PHH_24H:BRD-A31801025-001-01-0:10': 0.07526350840697243, 'CPC015_PHH_24H:BRD-A55594068-065-03-1:10': -0.023623395256957332, 'CPC015_PHH_24H:BRD-K04548931-003-05-8:10': 0.2533406573421374, 'CPC015_PHH_24H:BRD-K93754473-048-10-3:10': -0.08059839502942978, 'CPC015_PHH_24H:BRD-K92093830-003-05-0:10': 0.011746771755622365, 'CPC015_PHH_24H:BRD-K43744935-048-01-6:10': 0.0799830907940921, 'CPC014_PHH_24H:BRD-K51313569-001-02-9:10': -0.011782262388228548, 'CPC014_PHH_24H:BRD-K19687926-379-01-7:10': -0.12592817433242776, 'CPC015_PHH_24H:BRD-K09631521-001-05-7:10': 0.09984052805525213, 'CPC014_PHH_24H:BRD-K13514097-001-01-2:10': 0.006532357545591158, 'CPC015_SKB_24H:BRD-A28746609-001-05-7:10': 0.1289341468897969, 'CPC015_SKB_24H:BRD-A31801025-001-01-0:10': -0.07850103770538897, 'CPC015_SKB_24H:BRD-K04548931-003-05-8:10': 0.05940409083866575, 'CPC015_SKB_24H:BRD-A55594068-065-03-1:10': 0.012586854390883518, 'CPC016_SKB_24H:BRD-A22783572-065-01-3:10': -0.0956673834735193, 'CPC015_SKB_24H:BRD-K92093830-003-05-0:10': 0.13670039544391457, 'CPC015_SKB_24H:BRD-K09631521-001-05-7:10': -0.20153665276489685, 'CPC015_SKB_24H:BRD-K93754473-048-10-3:10': -0.1458577562925129, 'CPC015_SKB_24H:BRD-K43744935-048-01-6:10': 0.06573800069018876, 'CPC014_SKB_24H:BRD-K19687926-379-01-7:10': 0.07146022434782245, 'CPC014_SKB_24H:BRD-K13514097-001-01-2:10': 0.025234911981282707, 'CPC014_SKB_24H:BRD-K51313569-001-02-9:10': 0.0978401079987254, 'CPC014_VCAP_6H:BRD-K51313569-001-02-9:10': 0.19961912136103005, 'CPC014_VCAP_6H:BRD-K13514097-001-01-2:10': 0.3028539169828365, 'CPC020_A549_6H:BRD-A09722536-002-09-9:10': 0.23998851263354143, 'CPC018_ASC_24H:BRD-A52530684-001-01-1:10': 0.08593833906723054, 'CPC017_ASC_24H:BRD-A23723433-001-01-2:10': 0.17306147059030322, 'CPC020_HA1E_6H:BRD-A09722536-002-13-1:10': -0.2261857688044209, 'CPC020_A375_6H:BRD-A09722536-002-13-1:10': 0.09930880293626698, 'CPC013_SKB_24H:BRD-K42125900-001-01-9:10': 0.21428894645958052, 'CPC020_HCC515_6H:BRD-A09722536-002-09-9:10': 0.11359146716431062, 'CPD001_MCF7_24H:BRD-A55424491-001-13-2:10': 0.3764284736862597, 'CPC017_NPC_24H:BRD-A23723433-001-01-2:10': -0.03948448929761131, 'CPC020_MCF7_24H:BRD-K93754473-001-15-1:10': 0.5615886950678534, 'CPD001_MCF7_6H:BRD-K59456551-001-12-7:10': 0.42195013088723854, 'CPD001_MCF7_24H:BRD-K86858124-001-01-2:10': 0.32552834254835117, 'CPD001_PC3_24H:BRD-A55424491-001-13-2:10': 0.23164966994083458, 'CPC020_HT29_6H:BRD-A09722536-002-13-1:10': 0.2375679932178369, 'CPD001_PC3_24H:BRD-K86858124-001-01-2:10': 0.006774155052972075, 'CPC017_PHH_24H:BRD-A23723433-001-01-2:10': -0.11986594507214803, 'CPC017_SKB_24H:BRD-A23723433-001-01-2:10': 0.0869643434687708, 'CPC018_SKB_24H:BRD-A52530684-001-01-1:10': 0.07071492702570296, 'CPC018_PHH_24H:BRD-A52530684-001-01-1:10': 0.028073942931434028, 'CRCGN001_HA1E_6H:BRD-A09722536-002-14-9:20.2': -0.21311250738441215, 'CPC020_VCAP_6H:BRD-A09722536-002-13-1:10': 0.1856911651219017, 'CRCGN001_HA1E_24H:BRD-A55424491-001-16-5:10': 0.3386603184738715, 'CRCGN001_HA1E_6H:BRD-A23723433-001-02-0:10': -0.026014397981705174, 'CVD001_HUH7_24H:BRD-K01188359-065-10-8:10': 0.08335372878268896, 'CPD003_MCF7_6H:BRD-A09722536-001-01-8:10': 0.34292698849594216, 'CPD003_MCF7_24H:BRD-A42153648-001-01-0:10': -0.1583450713169094, 'CVD001_HEPG2_24H:BRD-K01188359-065-10-8:10': 0.21546046028891822, 'CPD003_MCF7_24H:BRD-K30618791-001-01-9:10': 0.353590876333452, 'CPD003_PC3_6H:BRD-K30618791-001-01-9:10': 0.019956715552188885, 'CRCGN001_HA1E_24H:BRD-A76941896-003-04-6:10.2': 0.3031845736563454, 'CPD003_PC3_6H:BRD-A42153648-001-01-0:10': -0.08606094987800994, 'CPD003_PC3_6H:BRD-A09722536-001-01-8:10': -0.1729531502463651, 'CPD002_PC3_6H:BRD-K92093830-003-21-7:10': 0.2655720803022629, 'KHW001_HS27A_6H:BRD-A23723433-001-01-2:1': 0.23421668217742, 'LJP001_BT20_24H:BRD-K85606544-001-04-2:10': 0.10555506617153182, 'LJP001_BT20_24H:BRD-K19687926-379-03-3:10': 0.10267124638123878, 'LJP001_HS578T_6H:BRD-K19687926-379-03-3:0.4': 0.12629762036776965, 'LJP001_BT20_24H:BRD-K51313569-001-03-7:10': 0.41789149588329877, 'LJP001_HS578T_24H:BRD-K85606544-001-04-2:10': 0.24515743920413702, 'LJP001_MCF10A_6H:BRD-K19687926-379-03-3:10': 0.17234817001903946, 'CVD001_PHH_24H:BRD-K01188359-065-10-8:2.5': -0.19676761069434934, 'LJP001_MCF10A_24H:BRD-K85606544-001-04-2:10': 0.5645465174482954, 'LJP001_HS578T_24H:BRD-K51313569-001-03-7:10': 0.5056223251243418, 'LJP001_MDAMB231_24H:BRD-K19687926-379-03-3:10': -0.14683153334787666, 'LJP001_MCF7_6H:BRD-K85606544-001-04-2:10': 0.12247268489403867, 'LJP001_MCF10A_24H:BRD-K51313569-001-03-7:10': 0.3407065537123174, 'LJP001_MDAMB231_24H:BRD-K85606544-001-04-2:10': 0.23414619018728056, 'LJP001_SKBR3_24H:BRD-K85606544-001-04-2:10': 0.39610535893305737, 'LJP001_MDAMB231_24H:BRD-K51313569-001-03-7:0.4': 0.43007971076360263, 'LJP001_SKBR3_24H:BRD-K19687926-379-03-3:10': 0.2058985476972593, 'LJP001_SKBR3_24H:BRD-K51313569-001-03-7:2': 0.08555231510593694, 'KHW001_U937_6H:BRD-A23723433-001-01-2:1': -0.41365137973594623, 'NMH002_FIBRNPC_24H:BRD-K93754473-048-14-5:10': 0.2064029656808872, 'NMH002_FIBRNPC_24H:BRD-A56518012-003-03-7:10': 0.2342255013405774, 'KHW001_SKM1_6H:BRD-A23723433-001-01-2:1': -0.09553959583081417, 'MUC.CP006_MCF7_24H:BRD-A55594068-065-02-3:0.3704': -0.041413931432259785, 'NMH002_NEU_6H:BRD-K93754473-001-16-9:10': -0.06624294123334273, 'RAD001_A549_6H:BRD-A23723433-001-01-2:10': -0.21568451513805564, 'NMH002_NPC_6H:BRD-A56518012-003-03-7:10': 0.017847261068989265, 'NMH002_NPC_6H:BRD-K93754473-048-14-5:10': 0.3150983613837544, 'MUC.CP002_NKDBA_24H:BRD-A55424491-001-10-8:1.1111': 0.09502833500077654, 'RAD001_MCF7_6H:BRD-A23723433-001-01-2:0.0046': -0.11937235330735288, 'RAD001_HCC515_6H:BRD-A23723433-001-01-2:10': -0.07782389357974048, 'NMH002_NEU_6H:BRD-A56518012-003-03-7:10': 0.006807299577981957, 'RAD001_PC3_6H:BRD-A23723433-001-01-2:0.0015': 0.05167611022276203, 'CPC006_H1299_6H:BRD-K85606544-001-01-8:10': 0.04129690364772297, 'CPC006_H1299_6H:BRD-K93754473-001-06-0:28.39': 0.08124362745428258, 'AML001_CD34_6H:BRD-K93754473:13.4584': 0.3154022985482479, 'CRCGN004_HA1E_24H:BRD-A85648045-001-01-6:10UM': 0.2870280063843885, 'AML001_HL60_24H:BRD-K93754473:13.4584': 0.3173891666304327, 'HOG002_MCF7_6H:BRD-K92093830-003-18-3:10': 0.40457316624523054, 'AML001_PC3_6H:BRD-K93754473:13.4584': 0.0320313606776779, 'CPC006_RKO_6H:BRD-K85606544-001-01-8:10': 0.06488829262132319, 'CPC006_RKO_6H:BRD-K93754473-001-06-0:28.39': 0.21518426557124556, 'AML001_U937_6H:BRD-K93754473:1.49538': -0.0016853398084078972}"
      ]
     },
     "execution_count": 13,
     "metadata": {},
     "output_type": "execute_result"
    }
   ],
   "source": [
    "%%skip_on_import\n",
    "scores_indications"
   ]
  },
  {
   "cell_type": "markdown",
   "metadata": {},
   "source": [
    "Returned `Scores` object allows for multiple ways to aggregate the results:"
   ]
  },
  {
   "cell_type": "code",
   "execution_count": 14,
   "metadata": {},
   "outputs": [
    {
     "data": {
      "text/html": [
       "<div>\n",
       "<style scoped>\n",
       "    .dataframe tbody tr th:only-of-type {\n",
       "        vertical-align: middle;\n",
       "    }\n",
       "\n",
       "    .dataframe tbody tr th {\n",
       "        vertical-align: top;\n",
       "    }\n",
       "\n",
       "    .dataframe thead th {\n",
       "        text-align: right;\n",
       "    }\n",
       "</style>\n",
       "<table border=\"1\" class=\"dataframe\">\n",
       "  <thead>\n",
       "    <tr style=\"text-align: right;\">\n",
       "      <th></th>\n",
       "      <th>score</th>\n",
       "    </tr>\n",
       "    <tr>\n",
       "      <th>pert_iname</th>\n",
       "      <th></th>\n",
       "    </tr>\n",
       "  </thead>\n",
       "  <tbody>\n",
       "    <tr>\n",
       "      <th>lapatinib</th>\n",
       "      <td>0.208130</td>\n",
       "    </tr>\n",
       "    <tr>\n",
       "      <th>formestane</th>\n",
       "      <td>0.307808</td>\n",
       "    </tr>\n",
       "    <tr>\n",
       "      <th>paclitaxel</th>\n",
       "      <td>0.325528</td>\n",
       "    </tr>\n",
       "    <tr>\n",
       "      <th>cyclophosphamide</th>\n",
       "      <td>0.342927</td>\n",
       "    </tr>\n",
       "    <tr>\n",
       "      <th>docetaxel</th>\n",
       "      <td>0.353591</td>\n",
       "    </tr>\n",
       "    <tr>\n",
       "      <th>...</th>\n",
       "      <td>...</td>\n",
       "    </tr>\n",
       "    <tr>\n",
       "      <th>epirubicin</th>\n",
       "      <td>0.465137</td>\n",
       "    </tr>\n",
       "    <tr>\n",
       "      <th>vinblastine</th>\n",
       "      <td>0.498748</td>\n",
       "    </tr>\n",
       "    <tr>\n",
       "      <th>palbociclib</th>\n",
       "      <td>0.505622</td>\n",
       "    </tr>\n",
       "    <tr>\n",
       "      <th>neratinib</th>\n",
       "      <td>0.564547</td>\n",
       "    </tr>\n",
       "    <tr>\n",
       "      <th>tamoxifen</th>\n",
       "      <td>0.593922</td>\n",
       "    </tr>\n",
       "  </tbody>\n",
       "</table>\n",
       "<p>14 rows × 1 columns</p>\n",
       "</div>"
      ],
      "text/plain": [
       "                     score\n",
       "pert_iname                \n",
       "lapatinib         0.208130\n",
       "formestane        0.307808\n",
       "paclitaxel        0.325528\n",
       "cyclophosphamide  0.342927\n",
       "docetaxel         0.353591\n",
       "...                    ...\n",
       "epirubicin        0.465137\n",
       "vinblastine       0.498748\n",
       "palbociclib       0.505622\n",
       "neratinib         0.564547\n",
       "tamoxifen         0.593922\n",
       "\n",
       "[14 rows x 1 columns]"
      ]
     },
     "execution_count": 14,
     "metadata": {},
     "output_type": "execute_result"
    }
   ],
   "source": [
    "%%skip_on_import\n",
    "scores_indications.best_per_substance.sort_values('score')"
   ]
  },
  {
   "cell_type": "code",
   "execution_count": 15,
   "metadata": {},
   "outputs": [
    {
     "data": {
      "text/html": [
       "<div>\n",
       "<style scoped>\n",
       "    .dataframe tbody tr th:only-of-type {\n",
       "        vertical-align: middle;\n",
       "    }\n",
       "\n",
       "    .dataframe tbody tr th {\n",
       "        vertical-align: top;\n",
       "    }\n",
       "\n",
       "    .dataframe thead th {\n",
       "        text-align: right;\n",
       "    }\n",
       "</style>\n",
       "<table border=\"1\" class=\"dataframe\">\n",
       "  <thead>\n",
       "    <tr style=\"text-align: right;\">\n",
       "      <th></th>\n",
       "      <th></th>\n",
       "      <th></th>\n",
       "      <th>score</th>\n",
       "    </tr>\n",
       "    <tr>\n",
       "      <th>pert_iname</th>\n",
       "      <th>pert_idose</th>\n",
       "      <th>cell_id</th>\n",
       "      <th></th>\n",
       "    </tr>\n",
       "  </thead>\n",
       "  <tbody>\n",
       "    <tr>\n",
       "      <th>paclitaxel</th>\n",
       "      <th>1 µM</th>\n",
       "      <th>U937</th>\n",
       "      <td>-0.413651</td>\n",
       "    </tr>\n",
       "    <tr>\n",
       "      <th>thiotepa</th>\n",
       "      <th>10 µM</th>\n",
       "      <th>VCAP</th>\n",
       "      <td>-0.365098</td>\n",
       "    </tr>\n",
       "    <tr>\n",
       "      <th>paclitaxel</th>\n",
       "      <th>10 µM</th>\n",
       "      <th>HT29</th>\n",
       "      <td>-0.357999</td>\n",
       "    </tr>\n",
       "    <tr>\n",
       "      <th>lapatinib</th>\n",
       "      <th>10 µM</th>\n",
       "      <th>PC3</th>\n",
       "      <td>-0.290436</td>\n",
       "    </tr>\n",
       "    <tr>\n",
       "      <th>everolimus</th>\n",
       "      <th>10 µM</th>\n",
       "      <th>NEU</th>\n",
       "      <td>-0.271042</td>\n",
       "    </tr>\n",
       "    <tr>\n",
       "      <th>...</th>\n",
       "      <th>...</th>\n",
       "      <th>...</th>\n",
       "      <td>...</td>\n",
       "    </tr>\n",
       "    <tr>\n",
       "      <th rowspan=\"2\" valign=\"top\">palbociclib</th>\n",
       "      <th rowspan=\"2\" valign=\"top\">10 µM</th>\n",
       "      <th>A375</th>\n",
       "      <td>0.488378</td>\n",
       "    </tr>\n",
       "    <tr>\n",
       "      <th>HS578T</th>\n",
       "      <td>0.505622</td>\n",
       "    </tr>\n",
       "    <tr>\n",
       "      <th>tamoxifen</th>\n",
       "      <th>10 µM</th>\n",
       "      <th>A375</th>\n",
       "      <td>0.512912</td>\n",
       "    </tr>\n",
       "    <tr>\n",
       "      <th>neratinib</th>\n",
       "      <th>10 µM</th>\n",
       "      <th>MCF10A</th>\n",
       "      <td>0.564547</td>\n",
       "    </tr>\n",
       "    <tr>\n",
       "      <th>tamoxifen</th>\n",
       "      <th>10 µM</th>\n",
       "      <th>MCF7</th>\n",
       "      <td>0.577755</td>\n",
       "    </tr>\n",
       "  </tbody>\n",
       "</table>\n",
       "<p>280 rows × 1 columns</p>\n",
       "</div>"
      ],
      "text/plain": [
       "                                   score\n",
       "pert_iname  pert_idose cell_id          \n",
       "paclitaxel  1 µM       U937    -0.413651\n",
       "thiotepa    10 µM      VCAP    -0.365098\n",
       "paclitaxel  10 µM      HT29    -0.357999\n",
       "lapatinib   10 µM      PC3     -0.290436\n",
       "everolimus  10 µM      NEU     -0.271042\n",
       "...                                  ...\n",
       "palbociclib 10 µM      A375     0.488378\n",
       "                       HS578T   0.505622\n",
       "tamoxifen   10 µM      A375     0.512912\n",
       "neratinib   10 µM      MCF10A   0.564547\n",
       "tamoxifen   10 µM      MCF7     0.577755\n",
       "\n",
       "[280 rows x 1 columns]"
      ]
     },
     "execution_count": 15,
     "metadata": {},
     "output_type": "execute_result"
    }
   ],
   "source": [
    "%%skip_on_import\n",
    "scores_indications.mean_per_substance_dose_and_cell.sort_values('score')"
   ]
  },
  {
   "cell_type": "markdown",
   "metadata": {},
   "source": [
    "### Connectivity Score"
   ]
  },
  {
   "cell_type": "code",
   "execution_count": null,
   "metadata": {},
   "outputs": [],
   "source": [
    "import signature_scoring.scoring_functions.connectivity_score as connectivity"
   ]
  },
  {
   "cell_type": "code",
   "execution_count": null,
   "metadata": {},
   "outputs": [],
   "source": [
    "connectivity_score = connectivity.create_scorer(\n",
    "    negative=True,\n",
    "    ranks_type='signature',#, ranks='complete',   # as tested in Cheng study\n",
    "    statistic=connectivity.kolmogorov_smirnov,\n",
    "    compose_tags=connectivity.conditional_difference\n",
    ")"
   ]
  },
  {
   "cell_type": "code",
   "execution_count": null,
   "metadata": {},
   "outputs": [],
   "source": [
    "connectivity_score_cramér_von_mises = connectivity.create_scorer(\n",
    "    negative=False,\n",
    "    ranks_type='signature',\n",
    "    statistic=connectivity.cramér_von_mises,\n",
    "    compose_tags=connectivity.difference\n",
    ")"
   ]
  },
  {
   "cell_type": "markdown",
   "metadata": {},
   "source": [
    "Other combination are possible as well:"
   ]
  },
  {
   "cell_type": "code",
   "execution_count": null,
   "metadata": {},
   "outputs": [],
   "source": [
    "connectivity_score_disease = connectivity.create_scorer(negative=True, ranks_type='disease')"
   ]
  },
  {
   "cell_type": "code",
   "execution_count": null,
   "metadata": {},
   "outputs": [],
   "source": [
    "connectivity_score_max = connectivity.create_scorer(negative=False, compose_tags=connectivity.max_up_or_down)"
   ]
  },
  {
   "cell_type": "markdown",
   "metadata": {},
   "source": [
    "### Scoring with Gene Set Enrichment Analysis"
   ]
  },
  {
   "cell_type": "markdown",
   "metadata": {},
   "source": [
    "For GSEA I decided to use Java implemntation of GSEA 3.0 (released 01-Jul-2017) from the Broad Institute based on the work of [Subramanian, Tamayo, et al., 2005](www.pnas.org/cgi/content/abstract/102/43/15545).\n",
    "\n",
    "I also briefly evaluated two other implementations: gseapy and pathways-analysis with the first being faster but using too much RAM memory for larger datasets and the second being more memory efficient but much slower.\n",
    "\n",
    "So far GSEA Desktop provides the best memory-speed trade-off of the tested solutions."
   ]
  },
  {
   "cell_type": "code",
   "execution_count": 16,
   "metadata": {},
   "outputs": [],
   "source": [
    "from methods.gsea import GSEADesktop\n",
    "gsea = GSEADesktop()"
   ]
  },
  {
   "cell_type": "markdown",
   "metadata": {},
   "source": [
    "I downloaded following datasets from the [Molecular Signatures Database (MSigDB)](http://software.broadinstitute.org/gsea/msigdb/index.jsp):"
   ]
  },
  {
   "cell_type": "code",
   "execution_count": 17,
   "metadata": {},
   "outputs": [
    {
     "data": {
      "text/plain": [
       "[{'name': 'c2.all', 'id_type': 'symbols'},\n",
       " {'name': 'h.all', 'id_type': 'entrez'},\n",
       " {'name': 'c2.cp', 'id_type': 'entrez'},\n",
       " {'name': 'c7.all', 'id_type': 'entrez'},\n",
       " {'name': 'c2.cgp', 'id_type': 'entrez'},\n",
       " {'name': 'c2.cp', 'id_type': 'symbols'},\n",
       " {'name': 'h.all', 'id_type': 'symbols'},\n",
       " {'name': 'c2.all', 'id_type': 'entrez'},\n",
       " {'name': 'c2.cp.reactome', 'id_type': 'entrez'},\n",
       " {'name': 'c6.all', 'id_type': 'entrez'},\n",
       " {'name': 'c2.cp.reactome', 'id_type': 'symbols'},\n",
       " {'name': 'c2.cp.kegg', 'id_type': 'entrez'}]"
      ]
     },
     "execution_count": 17,
     "metadata": {},
     "output_type": "execute_result"
    }
   ],
   "source": [
    "gsea.msigdb.gene_sets"
   ]
  },
  {
   "cell_type": "markdown",
   "metadata": {},
   "source": [
    "Briefly explaining the notation:\n",
    "- *h.all* represents all hallmark gene sets,\n",
    "- *c2* is a collection of currated gene sets\n",
    "- *cp* stands for canonical pathways\n",
    "- *c6* contains oncogenic sets while *c7* immunologic"
   ]
  },
  {
   "cell_type": "code",
   "execution_count": 18,
   "metadata": {},
   "outputs": [],
   "source": [
    "from signature_scoring.scoring_functions.gsea import create_gsea_scorer"
   ]
  },
  {
   "cell_type": "markdown",
   "metadata": {},
   "source": [
    "The score is calculated based on the sum of normalized enrichment scores (*nes*) between gene sets expressed in disease and impacted by drug.\n",
    "\n",
    "It is then scaled to the FDR q-values of enrichment scores. Only gene sets with the FDR q-value below the `q_value_cutoff` threshold are compared.\n",
    "\n",
    "The difference of classes metric is specified as no raw expression data is given to the GSEA - just the diferential profile and a null vector; therefore the first step of analysis is faked (for performence reasons).\n",
    "\n",
    "As multiple instances of GSEA will be launched for scoring, the RAM usage might increase significantly. At least 1GB of memory per instance is required.\n",
    "\n",
    "Below the code of an example GSEA scoring metric is attached:"
   ]
  },
  {
   "cell_type": "code",
   "execution_count": null,
   "metadata": {},
   "outputs": [],
   "source": [
    "gsea_score = create_gsea_scorer(permutations=300, gene_sets='h.all', q_value_cutoff=0.1)"
   ]
  },
  {
   "cell_type": "code",
   "execution_count": null,
   "metadata": {},
   "outputs": [
    {
     "data": {
      "text/html": [
       "<div class=\"highlight\"><pre><span></span>    <span class=\"nd\">@scoring_function</span>\n",
       "    <span class=\"k\">def</span> <span class=\"nf\">gsea_score</span><span class=\"p\">(</span><span class=\"n\">disease_profile</span><span class=\"p\">:</span> <span class=\"n\">Profile</span><span class=\"p\">,</span> <span class=\"n\">compound_profile</span><span class=\"p\">:</span> <span class=\"n\">Profile</span><span class=\"p\">):</span>\n",
       "        <span class=\"c1\"># theoretically this could be replaced with the original data (e.g. tumour/normal for TCGA),</span>\n",
       "        <span class=\"c1\"># though this would be less consistent with how the signature profile is handled and require</span>\n",
       "        <span class=\"c1\"># re-calculation of the differential profile for each GSEA run.</span>\n",
       "        <span class=\"n\">multiprocess_cache_manager</span><span class=\"o\">.</span><span class=\"n\">respawn_cache_if_needed</span><span class=\"p\">()</span>\n",
       "\n",
       "        <span class=\"n\">disease_differential</span> <span class=\"o\">=</span> <span class=\"n\">AugmentedDataFrame</span><span class=\"p\">(</span>\n",
       "            <span class=\"n\">concat</span><span class=\"p\">([</span><span class=\"n\">disease_profile</span><span class=\"o\">.</span><span class=\"n\">top</span><span class=\"o\">.</span><span class=\"n\">up</span><span class=\"p\">,</span> <span class=\"n\">disease_profile</span><span class=\"o\">.</span><span class=\"n\">top</span><span class=\"o\">.</span><span class=\"n\">down</span><span class=\"p\">])</span>\n",
       "        <span class=\"p\">)</span>\n",
       "\n",
       "        <span class=\"n\">gsea</span> <span class=\"o\">=</span> <span class=\"n\">partial</span><span class=\"p\">(</span>\n",
       "            <span class=\"n\">run_gsea_app</span><span class=\"p\">,</span>\n",
       "            <span class=\"n\">gene_sets</span><span class=\"o\">=</span><span class=\"n\">gene_sets</span><span class=\"p\">,</span> <span class=\"n\">id_type</span><span class=\"o\">=</span><span class=\"s1\">&#39;entrez&#39;</span><span class=\"p\">,</span>\n",
       "            <span class=\"n\">permutations</span><span class=\"o\">=</span><span class=\"n\">permutations</span><span class=\"p\">,</span> <span class=\"n\">permutation_type</span><span class=\"o\">=</span><span class=\"s1\">&#39;Gene_set&#39;</span><span class=\"p\">,</span>\n",
       "            <span class=\"n\">metric</span><span class=\"o\">=</span><span class=\"s1\">&#39;Diff_of_Classes&#39;</span><span class=\"p\">,</span>\n",
       "            <span class=\"n\">normalization</span><span class=\"o\">=</span><span class=\"s1\">&#39;meandiv&#39;</span> <span class=\"k\">if</span> <span class=\"n\">normalization</span> <span class=\"k\">else</span> <span class=\"bp\">None</span>\n",
       "        <span class=\"p\">)</span>\n",
       "\n",
       "        <span class=\"n\">disease_gene_sets_up</span><span class=\"p\">,</span> <span class=\"n\">disease_gene_sets_dn</span> <span class=\"o\">=</span> <span class=\"n\">cached_gsea_run</span><span class=\"p\">(</span>\n",
       "            <span class=\"n\">gsea</span><span class=\"p\">,</span> <span class=\"n\">gene_sets</span><span class=\"p\">,</span> <span class=\"n\">q_value_cutoff</span><span class=\"p\">,</span> <span class=\"n\">disease_differential</span><span class=\"p\">,</span> <span class=\"n\">class_name</span><span class=\"o\">=</span><span class=\"s1\">&#39;disease&#39;</span><span class=\"p\">,</span> <span class=\"n\">warn</span><span class=\"o\">=</span><span class=\"bp\">True</span>\n",
       "        <span class=\"p\">)</span>\n",
       "\n",
       "        <span class=\"n\">signature</span> <span class=\"o\">=</span> <span class=\"n\">AugmentedDataFrame</span><span class=\"p\">(</span>\n",
       "            <span class=\"n\">concat</span><span class=\"p\">([</span><span class=\"n\">compound_profile</span><span class=\"o\">.</span><span class=\"n\">top</span><span class=\"o\">.</span><span class=\"n\">up</span><span class=\"p\">,</span> <span class=\"n\">compound_profile</span><span class=\"o\">.</span><span class=\"n\">top</span><span class=\"o\">.</span><span class=\"n\">down</span><span class=\"p\">])</span>\n",
       "        <span class=\"p\">)</span>\n",
       "\n",
       "        <span class=\"n\">signature_gene_sets_up</span><span class=\"p\">,</span> <span class=\"n\">signature_gene_sets_dn</span> <span class=\"o\">=</span> <span class=\"n\">cached_gsea_run</span><span class=\"p\">(</span>\n",
       "            <span class=\"n\">gsea</span><span class=\"p\">,</span> <span class=\"n\">gene_sets</span><span class=\"p\">,</span> <span class=\"n\">q_value_cutoff</span><span class=\"p\">,</span> <span class=\"n\">signature</span><span class=\"p\">,</span> <span class=\"n\">class_name</span><span class=\"o\">=</span><span class=\"s1\">&#39;signature&#39;</span>\n",
       "        <span class=\"p\">)</span>\n",
       "\n",
       "        <span class=\"n\">results</span> <span class=\"o\">=</span> <span class=\"p\">[</span><span class=\"n\">disease_gene_sets_up</span><span class=\"p\">,</span> <span class=\"n\">disease_gene_sets_dn</span><span class=\"p\">]</span>\n",
       "\n",
       "        <span class=\"k\">if</span> <span class=\"n\">q_value_cutoff</span><span class=\"p\">:</span>\n",
       "            <span class=\"k\">for</span> <span class=\"n\">result</span> <span class=\"ow\">in</span> <span class=\"n\">results</span><span class=\"p\">:</span>\n",
       "                <span class=\"n\">result</span><span class=\"o\">.</span><span class=\"n\">drop</span><span class=\"p\">(</span><span class=\"n\">result</span><span class=\"p\">[</span><span class=\"n\">result</span><span class=\"p\">[</span><span class=\"s1\">&#39;fdr_q-val&#39;</span><span class=\"p\">]</span> <span class=\"o\">&gt;</span> <span class=\"n\">q_value_cutoff</span><span class=\"p\">]</span><span class=\"o\">.</span><span class=\"n\">index</span><span class=\"p\">,</span> <span class=\"n\">inplace</span><span class=\"o\">=</span><span class=\"bp\">True</span><span class=\"p\">)</span>\n",
       "\n",
       "        <span class=\"n\">disease_gene_sets</span> <span class=\"o\">=</span> <span class=\"n\">concat</span><span class=\"p\">([</span><span class=\"n\">disease_gene_sets_up</span><span class=\"p\">,</span> <span class=\"n\">disease_gene_sets_dn</span><span class=\"p\">])</span>\n",
       "        <span class=\"n\">signature_gene_sets</span> <span class=\"o\">=</span> <span class=\"n\">concat</span><span class=\"p\">([</span><span class=\"n\">signature_gene_sets_up</span><span class=\"p\">,</span> <span class=\"n\">signature_gene_sets_dn</span><span class=\"p\">])</span>\n",
       "\n",
       "        <span class=\"n\">joined</span> <span class=\"o\">=</span> <span class=\"n\">combine_gsea_results</span><span class=\"p\">(</span><span class=\"n\">disease_gene_sets</span><span class=\"p\">,</span> <span class=\"n\">signature_gene_sets</span><span class=\"p\">,</span> <span class=\"n\">na_action</span><span class=\"p\">)</span>\n",
       "\n",
       "        <span class=\"k\">return</span> <span class=\"nb\">getattr</span><span class=\"p\">(</span><span class=\"n\">joined</span><span class=\"o\">.</span><span class=\"n\">score</span><span class=\"p\">,</span> <span class=\"n\">score</span><span class=\"p\">)()</span>\n",
       "</pre></div>\n"
      ],
      "text/plain": [
       "<IPython.core.display.HTML object>"
      ]
     },
     "metadata": {},
     "output_type": "display_data"
    }
   ],
   "source": [
    "show_source(gsea_score)"
   ]
  },
  {
   "cell_type": "markdown",
   "metadata": {},
   "source": [
    "Unfortunately, even with limited number of genes and perturbations and use of many cores, the GSEA calculations take their time:"
   ]
  },
  {
   "cell_type": "code",
   "execution_count": null,
   "metadata": {},
   "outputs": [
    {
     "name": "stdout",
     "output_type": "stream",
     "text": [
      "Retaining 12276 genes: 99.58% of signature genes and 59.79% of query genes\n",
      "Warning: not using cache (that's fine if it's the first run)\n"
     ]
    },
    {
     "name": "stderr",
     "output_type": "stream",
     "text": [
      "100%|██████████| 315/315 [02:01<00:00,  2.64it/s]"
     ]
    }
   ],
   "source": [
    "%%skip_on_import\n",
    "gsea_scores_indications = score_signatures(gsea_score, data.query_signature, data.indications_singatures, limit=300, progress=True, processes=12)"
   ]
  },
  {
   "cell_type": "code",
   "execution_count": null,
   "metadata": {},
   "outputs": [
    {
     "data": {
      "text/html": [
       "<div>\n",
       "<style scoped>\n",
       "    .dataframe tbody tr th:only-of-type {\n",
       "        vertical-align: middle;\n",
       "    }\n",
       "\n",
       "    .dataframe tbody tr th {\n",
       "        vertical-align: top;\n",
       "    }\n",
       "\n",
       "    .dataframe thead th {\n",
       "        text-align: right;\n",
       "    }\n",
       "</style>\n",
       "<table border=\"1\" class=\"dataframe\">\n",
       "  <thead>\n",
       "    <tr style=\"text-align: right;\">\n",
       "      <th></th>\n",
       "      <th>score</th>\n",
       "    </tr>\n",
       "    <tr>\n",
       "      <th>pert_iname</th>\n",
       "      <th></th>\n",
       "    </tr>\n",
       "  </thead>\n",
       "  <tbody>\n",
       "    <tr>\n",
       "      <th>tamoxifen</th>\n",
       "      <td>0.746441</td>\n",
       "    </tr>\n",
       "    <tr>\n",
       "      <th>methotrexate</th>\n",
       "      <td>0.727242</td>\n",
       "    </tr>\n",
       "    <tr>\n",
       "      <th>epirubicin</th>\n",
       "      <td>0.724217</td>\n",
       "    </tr>\n",
       "    <tr>\n",
       "      <th>doxorubicin</th>\n",
       "      <td>0.697340</td>\n",
       "    </tr>\n",
       "    <tr>\n",
       "      <th>palbociclib</th>\n",
       "      <td>0.678138</td>\n",
       "    </tr>\n",
       "    <tr>\n",
       "      <th>...</th>\n",
       "      <td>...</td>\n",
       "    </tr>\n",
       "    <tr>\n",
       "      <th>docetaxel</th>\n",
       "      <td>0.529660</td>\n",
       "    </tr>\n",
       "    <tr>\n",
       "      <th>thiotepa</th>\n",
       "      <td>0.506804</td>\n",
       "    </tr>\n",
       "    <tr>\n",
       "      <th>paclitaxel</th>\n",
       "      <td>0.458713</td>\n",
       "    </tr>\n",
       "    <tr>\n",
       "      <th>lapatinib</th>\n",
       "      <td>0.442709</td>\n",
       "    </tr>\n",
       "    <tr>\n",
       "      <th>formestane</th>\n",
       "      <td>0.393954</td>\n",
       "    </tr>\n",
       "  </tbody>\n",
       "</table>\n",
       "<p>14 rows × 1 columns</p>\n",
       "</div>"
      ],
      "text/plain": [
       "                 score\n",
       "pert_iname            \n",
       "tamoxifen     0.746441\n",
       "methotrexate  0.727242\n",
       "epirubicin    0.724217\n",
       "doxorubicin   0.697340\n",
       "palbociclib   0.678138\n",
       "...                ...\n",
       "docetaxel     0.529660\n",
       "thiotepa      0.506804\n",
       "paclitaxel    0.458713\n",
       "lapatinib     0.442709\n",
       "formestane    0.393954\n",
       "\n",
       "[14 rows x 1 columns]"
      ]
     },
     "execution_count": 22,
     "metadata": {},
     "output_type": "execute_result"
    }
   ],
   "source": [
    "%%skip_on_import\n",
    "gsea_scores_indications.best_per_substance"
   ]
  },
  {
   "cell_type": "code",
   "execution_count": null,
   "metadata": {},
   "outputs": [],
   "source": [
    "gsea_score = create_gsea_scorer(permutations=1000, gene_sets='c2.cp.kegg', q_value_cutoff=0.05)\n",
    "gsea_score_reactome = create_gsea_scorer(permutations=1000, gene_sets='c2.cp.reactome', q_value_cutoff=0.05)\n",
    "gsea_score_hallmarks = create_gsea_scorer(permutations=1000, gene_sets='h.all', q_value_cutoff=0.05)"
   ]
  },
  {
   "cell_type": "markdown",
   "metadata": {},
   "source": [
    "### Limma"
   ]
  },
  {
   "cell_type": "code",
   "execution_count": null,
   "metadata": {},
   "outputs": [],
   "source": [
    "from signature_scoring.scoring_functions.limma import create_roast_scorer, roast"
   ]
  },
  {
   "cell_type": "code",
   "execution_count": null,
   "metadata": {},
   "outputs": [
    {
     "data": {
      "text/html": [
       "<div class=\"highlight\"><pre><span></span><span class=\"k\">def</span> <span class=\"nf\">create_roast_scorer</span><span class=\"p\">(</span>\n",
       "    <span class=\"n\">gene_sets</span><span class=\"o\">=</span><span class=\"s1\">&#39;c2.cp.kegg&#39;</span><span class=\"p\">,</span> <span class=\"n\">id_type</span><span class=\"o\">=</span><span class=\"s1\">&#39;entrez&#39;</span><span class=\"p\">,</span> <span class=\"n\">grouping</span><span class=\"o\">=</span><span class=\"s1\">&#39;by_substance&#39;</span><span class=\"p\">,</span>\n",
       "    <span class=\"n\">q_value_cutoff</span><span class=\"o\">=</span><span class=\"mf\">0.1</span><span class=\"p\">,</span> <span class=\"n\">na_action</span><span class=\"o\">=</span><span class=\"s1\">&#39;fill_0&#39;</span>\n",
       "<span class=\"p\">):</span>\n",
       "\n",
       "    <span class=\"n\">importr</span><span class=\"p\">(</span><span class=\"s1\">&#39;limma&#39;</span><span class=\"p\">)</span>\n",
       "    <span class=\"n\">importr</span><span class=\"p\">(</span><span class=\"s1\">&#39;Biobase&#39;</span><span class=\"p\">)</span>\n",
       "\n",
       "    <span class=\"n\">gene_sets_r</span> <span class=\"o\">=</span> <span class=\"n\">ListVector</span><span class=\"p\">({</span>\n",
       "        <span class=\"n\">gene_set</span><span class=\"o\">.</span><span class=\"n\">name</span><span class=\"p\">:</span> <span class=\"n\">StrVector</span><span class=\"p\">(</span><span class=\"nb\">list</span><span class=\"p\">(</span><span class=\"n\">gene_set</span><span class=\"o\">.</span><span class=\"n\">genes</span><span class=\"p\">))</span>\n",
       "        <span class=\"k\">for</span> <span class=\"n\">gene_set</span> <span class=\"ow\">in</span> <span class=\"n\">db</span><span class=\"o\">.</span><span class=\"n\">load</span><span class=\"p\">(</span><span class=\"n\">gene_sets</span><span class=\"o\">=</span><span class=\"n\">gene_sets</span><span class=\"p\">,</span> <span class=\"n\">id_type</span><span class=\"o\">=</span><span class=\"n\">id_type</span><span class=\"p\">)</span>\n",
       "    <span class=\"p\">})</span>\n",
       "\n",
       "    <span class=\"k\">def</span> <span class=\"nf\">roast_score</span><span class=\"p\">(</span><span class=\"n\">disease</span><span class=\"p\">:</span> <span class=\"n\">ExpressionWithControls</span><span class=\"p\">,</span> <span class=\"n\">compound</span><span class=\"p\">:</span> <span class=\"n\">ExpressionWithControls</span><span class=\"p\">):</span>\n",
       "        <span class=\"n\">multiprocess_cache_manager</span><span class=\"o\">.</span><span class=\"n\">respawn_cache_if_needed</span><span class=\"p\">()</span>\n",
       "        <span class=\"n\">globalenv</span><span class=\"p\">[</span><span class=\"n\">gene_sets</span><span class=\"p\">]</span> <span class=\"o\">=</span> <span class=\"n\">gene_sets_r</span>\n",
       "\n",
       "        <span class=\"k\">if</span> <span class=\"nb\">len</span><span class=\"p\">(</span><span class=\"n\">compound</span><span class=\"o\">.</span><span class=\"n\">cases</span><span class=\"o\">.</span><span class=\"n\">columns</span><span class=\"p\">)</span> <span class=\"o\">&lt;</span> <span class=\"mi\">2</span> <span class=\"ow\">or</span> <span class=\"nb\">len</span><span class=\"p\">(</span><span class=\"n\">compound</span><span class=\"o\">.</span><span class=\"n\">controls</span><span class=\"o\">.</span><span class=\"n\">columns</span><span class=\"p\">)</span> <span class=\"o\">&lt;</span> <span class=\"mi\">2</span><span class=\"p\">:</span>\n",
       "            <span class=\"k\">print</span><span class=\"p\">(</span><span class=\"n\">f</span><span class=\"s1\">&#39;Skipping {compound} not enough degrees o freedom (no way to compute in-group variance)&#39;</span><span class=\"p\">)</span>\n",
       "            <span class=\"k\">return</span> <span class=\"bp\">None</span>\n",
       "\n",
       "        <span class=\"k\">try</span><span class=\"p\">:</span>\n",
       "            <span class=\"n\">disease_gene_sets</span> <span class=\"o\">=</span> <span class=\"n\">roast</span><span class=\"p\">(</span><span class=\"n\">disease</span><span class=\"p\">,</span> <span class=\"n\">gene_sets</span><span class=\"o\">=</span><span class=\"n\">gene_sets</span><span class=\"p\">)</span>\n",
       "            <span class=\"n\">disease_gene_sets</span><span class=\"o\">.</span><span class=\"n\">drop</span><span class=\"p\">(</span><span class=\"n\">disease_gene_sets</span><span class=\"p\">[</span><span class=\"n\">disease_gene_sets</span><span class=\"p\">[</span><span class=\"s1\">&#39;fdr_q-val&#39;</span><span class=\"p\">]</span> <span class=\"o\">&gt;</span> <span class=\"n\">q_value_cutoff</span><span class=\"p\">]</span><span class=\"o\">.</span><span class=\"n\">index</span><span class=\"p\">,</span> <span class=\"n\">inplace</span><span class=\"o\">=</span><span class=\"bp\">True</span><span class=\"p\">)</span>\n",
       "\n",
       "            <span class=\"n\">signature_gene_sets</span> <span class=\"o\">=</span> <span class=\"n\">roast</span><span class=\"p\">(</span><span class=\"n\">compound</span><span class=\"p\">,</span> <span class=\"n\">gene_sets</span><span class=\"o\">=</span><span class=\"n\">gene_sets</span><span class=\"p\">)</span>\n",
       "\n",
       "            <span class=\"n\">joined</span> <span class=\"o\">=</span> <span class=\"n\">combine_gsea_results</span><span class=\"p\">(</span><span class=\"n\">disease_gene_sets</span><span class=\"p\">,</span> <span class=\"n\">signature_gene_sets</span><span class=\"p\">,</span> <span class=\"n\">na_action</span><span class=\"p\">)</span>\n",
       "            <span class=\"k\">return</span> <span class=\"n\">joined</span><span class=\"o\">.</span><span class=\"n\">score</span><span class=\"o\">.</span><span class=\"n\">mean</span><span class=\"p\">()</span>\n",
       "        <span class=\"k\">except</span> <span class=\"n\">RRuntimeError</span> <span class=\"k\">as</span> <span class=\"n\">e</span><span class=\"p\">:</span>\n",
       "            <span class=\"k\">print</span><span class=\"p\">(</span><span class=\"n\">e</span><span class=\"p\">)</span>\n",
       "            <span class=\"k\">return</span> <span class=\"bp\">None</span>\n",
       "\n",
       "    <span class=\"k\">return</span> <span class=\"n\">scoring_function</span><span class=\"p\">(</span><span class=\"n\">roast_score</span><span class=\"p\">,</span> <span class=\"nb\">input</span><span class=\"o\">=</span><span class=\"n\">ExpressionWithControls</span><span class=\"p\">,</span> <span class=\"n\">grouping</span><span class=\"o\">=</span><span class=\"n\">grouping</span><span class=\"p\">)</span>\n",
       "</pre></div>\n"
      ],
      "text/plain": [
       "<IPython.core.display.HTML object>"
      ]
     },
     "metadata": {},
     "output_type": "display_data"
    }
   ],
   "source": [
    "show_source(create_roast_scorer)"
   ]
  },
  {
   "cell_type": "code",
   "execution_count": null,
   "metadata": {},
   "outputs": [
    {
     "data": {
      "text/html": [
       "<div class=\"highlight\"><pre><span></span><span class=\"k\">def</span> <span class=\"nf\">roast</span><span class=\"p\">(</span><span class=\"n\">expression</span><span class=\"p\">:</span> <span class=\"n\">ExpressionWithControls</span><span class=\"p\">,</span> <span class=\"n\">gene_sets</span><span class=\"p\">:</span> <span class=\"nb\">str</span><span class=\"p\">):</span>\n",
       "    <span class=\"n\">key</span> <span class=\"o\">=</span> <span class=\"p\">(</span><span class=\"n\">expression</span><span class=\"o\">.</span><span class=\"n\">hashable</span><span class=\"p\">,</span> <span class=\"n\">gene_sets</span><span class=\"p\">)</span>\n",
       "    <span class=\"k\">if</span> <span class=\"n\">key</span> <span class=\"ow\">in</span> <span class=\"n\">LIMMA_CACHE</span><span class=\"p\">:</span>\n",
       "        <span class=\"k\">return</span> <span class=\"n\">LIMMA_CACHE</span><span class=\"p\">[</span><span class=\"n\">key</span><span class=\"p\">]</span>\n",
       "\n",
       "    <span class=\"n\">joined</span> <span class=\"o\">=</span> <span class=\"n\">DataFrame</span><span class=\"p\">(</span><span class=\"n\">expression</span><span class=\"o\">.</span><span class=\"n\">joined</span><span class=\"p\">)</span>\n",
       "    <span class=\"n\">joined</span><span class=\"o\">.</span><span class=\"n\">index</span> <span class=\"o\">=</span> <span class=\"n\">joined</span><span class=\"o\">.</span><span class=\"n\">index</span><span class=\"o\">.</span><span class=\"n\">astype</span><span class=\"p\">(</span><span class=\"nb\">str</span><span class=\"p\">)</span>\n",
       "\n",
       "    <span class=\"n\">nulls</span> <span class=\"o\">=</span> <span class=\"n\">joined</span><span class=\"o\">.</span><span class=\"n\">isnull</span><span class=\"p\">()</span><span class=\"o\">.</span><span class=\"n\">any</span><span class=\"p\">(</span><span class=\"n\">axis</span><span class=\"o\">=</span><span class=\"mi\">0</span><span class=\"p\">)</span><span class=\"o\">.</span><span class=\"n\">reset_index</span><span class=\"p\">(</span><span class=\"n\">drop</span><span class=\"o\">=</span><span class=\"bp\">True</span><span class=\"p\">)</span>\n",
       "    <span class=\"k\">if</span> <span class=\"n\">nulls</span><span class=\"o\">.</span><span class=\"n\">any</span><span class=\"p\">():</span>\n",
       "        <span class=\"k\">print</span><span class=\"p\">(</span><span class=\"n\">f</span><span class=\"s1\">&#39;Following columns contain nulls and will be skipped: {list(joined.columns[nulls])}&#39;</span><span class=\"p\">)</span>\n",
       "    <span class=\"n\">joined</span> <span class=\"o\">=</span> <span class=\"n\">joined</span><span class=\"p\">[</span><span class=\"n\">joined</span><span class=\"o\">.</span><span class=\"n\">columns</span><span class=\"p\">[</span><span class=\"o\">~</span><span class=\"n\">nulls</span><span class=\"p\">]]</span>\n",
       "\n",
       "    <span class=\"n\">globalenv</span><span class=\"p\">[</span><span class=\"s1\">&#39;expression&#39;</span><span class=\"p\">]</span> <span class=\"o\">=</span> <span class=\"n\">joined</span>\n",
       "    <span class=\"n\">globalenv</span><span class=\"p\">[</span><span class=\"s1\">&#39;expression_classes&#39;</span><span class=\"p\">]</span> <span class=\"o\">=</span> <span class=\"n\">expression</span><span class=\"o\">.</span><span class=\"n\">classes</span><span class=\"o\">.</span><span class=\"n\">loc</span><span class=\"p\">[</span><span class=\"o\">~</span><span class=\"n\">nulls</span><span class=\"o\">.</span><span class=\"n\">reset_index</span><span class=\"p\">(</span><span class=\"n\">drop</span><span class=\"o\">=</span><span class=\"bp\">True</span><span class=\"p\">)]</span>\n",
       "\n",
       "    <span class=\"c1\"># TODO: paired samples for cell lines?</span>\n",
       "    <span class=\"n\">result</span> <span class=\"o\">=</span> <span class=\"n\">r</span><span class=\"p\">(</span><span class=\"n\">f</span><span class=\"s2\">&quot;&quot;&quot;</span>\n",
       "<span class=\"s2\">    expression_set = ExpressionSet(assayData=data.matrix(expression))</span>\n",
       "\n",
       "<span class=\"s2\">    design = cbind(intercept=1, controlVsCondition=expression_classes != &#39;normal&#39;)</span>\n",
       "<span class=\"s2\">    result = mroast(expression_set, {gene_sets}, design, geneid=dimnames(expression)[[1]])</span>\n",
       "<span class=\"s2\">    rows = rownames(result)</span>\n",
       "<span class=\"s2\">    result</span>\n",
       "<span class=\"s2\">    &quot;&quot;&quot;</span><span class=\"p\">)</span>\n",
       "    <span class=\"n\">result</span><span class=\"o\">.</span><span class=\"n\">index</span> <span class=\"o\">=</span> <span class=\"n\">r</span><span class=\"p\">[</span><span class=\"s1\">&#39;rows&#39;</span><span class=\"p\">]</span>\n",
       "\n",
       "    <span class=\"n\">r</span><span class=\"p\">(</span><span class=\"s1\">&#39;rm(expression_set, design, expression, result, rows); gc()&#39;</span><span class=\"p\">)</span>\n",
       "\n",
       "    <span class=\"n\">result</span> <span class=\"o\">=</span> <span class=\"n\">result</span><span class=\"o\">.</span><span class=\"n\">rename</span><span class=\"p\">({</span><span class=\"s1\">&#39;FDR&#39;</span><span class=\"p\">:</span> <span class=\"s1\">&#39;fdr_q-val&#39;</span><span class=\"p\">},</span> <span class=\"n\">axis</span><span class=\"o\">=</span><span class=\"mi\">1</span><span class=\"p\">)</span>\n",
       "    <span class=\"n\">result</span><span class=\"p\">[</span><span class=\"s1\">&#39;nes&#39;</span><span class=\"p\">]</span> <span class=\"o\">=</span> <span class=\"n\">result</span><span class=\"p\">[[</span><span class=\"s1\">&#39;PropUp&#39;</span><span class=\"p\">,</span> <span class=\"s1\">&#39;PropDown&#39;</span><span class=\"p\">]]</span><span class=\"o\">.</span><span class=\"n\">max</span><span class=\"p\">(</span><span class=\"n\">axis</span><span class=\"o\">=</span><span class=\"mi\">1</span><span class=\"p\">)</span> <span class=\"o\">*</span> <span class=\"n\">result</span><span class=\"o\">.</span><span class=\"n\">Direction</span><span class=\"o\">.</span><span class=\"n\">map</span><span class=\"p\">({</span><span class=\"s1\">&#39;Up&#39;</span><span class=\"p\">:</span> <span class=\"mi\">1</span><span class=\"p\">,</span> <span class=\"s1\">&#39;Down&#39;</span><span class=\"p\">:</span> <span class=\"o\">-</span><span class=\"mi\">1</span><span class=\"p\">})</span>\n",
       "    <span class=\"n\">LIMMA_CACHE</span><span class=\"p\">[</span><span class=\"n\">key</span><span class=\"p\">]</span> <span class=\"o\">=</span> <span class=\"n\">result</span>\n",
       "    <span class=\"k\">return</span> <span class=\"n\">result</span>\n",
       "</pre></div>\n"
      ],
      "text/plain": [
       "<IPython.core.display.HTML object>"
      ]
     },
     "metadata": {},
     "output_type": "display_data"
    }
   ],
   "source": [
    "show_source(roast)"
   ]
  },
  {
   "cell_type": "markdown",
   "metadata": {},
   "source": [
    "For the sake of mroast, which requires differnt kind of input than all the other scoring functions, adjustments were made to the ScoringFunction class, to inform other parts of the pipline to change the behaviour, so that the input of the kind requested by the scoring function will be presented:"
   ]
  },
  {
   "cell_type": "code",
   "execution_count": null,
   "metadata": {},
   "outputs": [
    {
     "data": {
      "text/html": [
       "<div class=\"highlight\"><pre><span></span><span class=\"k\">class</span> <span class=\"nc\">ScoringFunction</span><span class=\"p\">:</span>\n",
       "    <span class=\"n\">func</span><span class=\"p\">:</span> <span class=\"n\">FunctionType</span>\n",
       "\n",
       "    <span class=\"c1\"># whether the query and signatures dataset should include:</span>\n",
       "    <span class=\"c1\">#   - case-biological_control array (ExpressionWithControls), or</span>\n",
       "    <span class=\"c1\">#   - profiles derived from precomputed differential signatures (Profile)</span>\n",
       "    <span class=\"c1\">#   - case-plate_control (NotImplemented, requires level4 data)</span>\n",
       "    <span class=\"c1\"># Rationale:</span>\n",
       "    <span class=\"c1\">#   case-control pairs might be required if a scoring function</span>\n",
       "    <span class=\"c1\">#   calculates differential signatures using it&#39;s own methods</span>\n",
       "    <span class=\"c1\">#   (e.g. mroast). In all other cases, use of precomputed</span>\n",
       "    <span class=\"c1\">#   signatures is more effective (as we don&#39;t have to recompute</span>\n",
       "    <span class=\"c1\">#   the differential profile for each call of the scoring function)</span>\n",
       "    <span class=\"nb\">input</span><span class=\"p\">:</span> <span class=\"n\">Type</span> <span class=\"o\">=</span> <span class=\"n\">Profile</span>\n",
       "\n",
       "    <span class=\"c1\"># is grouping of signatures required by the scoring function?</span>\n",
       "    <span class=\"c1\">#   None (default) - each signature should be processed and passed to the scoring function individually</span>\n",
       "    <span class=\"c1\">#   &#39;by_replicate&#39; - not implemented yet, requires downloading level4 data</span>\n",
       "    <span class=\"c1\">#   &#39;by_substance&#39;</span>\n",
       "    <span class=\"c1\"># Rationale:</span>\n",
       "    <span class=\"c1\">#   mroast needs to estimate variance to compute differential profiles;</span>\n",
       "    <span class=\"c1\">#   therefore it requires signatures to be grouped by replicates.</span>\n",
       "    <span class=\"c1\">#   as for this versions, replicates handling is not implemented</span>\n",
       "    <span class=\"c1\">#   (as I do not have enough space to download it), so a trick of using</span>\n",
       "    <span class=\"c1\">#   per-substance grouping (i.e. same substance, different concentrations)</span>\n",
       "    <span class=\"c1\">#   was used to validate correctness of the pipeline.</span>\n",
       "    <span class=\"n\">grouping</span><span class=\"p\">:</span> <span class=\"nb\">str</span> <span class=\"o\">=</span> <span class=\"bp\">None</span>\n",
       "\n",
       "    <span class=\"n\">custom_multiprocessing</span><span class=\"p\">:</span> <span class=\"nb\">bool</span> <span class=\"o\">=</span> <span class=\"bp\">False</span>\n",
       "\n",
       "    <span class=\"n\">multiprocessing_exclude_first</span><span class=\"p\">:</span> <span class=\"nb\">bool</span> <span class=\"o\">=</span> <span class=\"bp\">True</span>\n",
       "\n",
       "    <span class=\"nd\">@property</span>\n",
       "    <span class=\"k\">def</span> <span class=\"nf\">collection</span><span class=\"p\">(</span><span class=\"bp\">self</span><span class=\"p\">)</span> <span class=\"o\">-&gt;</span> <span class=\"n\">Type</span><span class=\"p\">[</span><span class=\"n\">SignaturesGrouping</span><span class=\"p\">]:</span>\n",
       "        <span class=\"sd\">&quot;&quot;&quot;Provides constructor which (when applied to SignaturesData)</span>\n",
       "<span class=\"sd\">        will create a structure yielding data of required input type</span>\n",
       "<span class=\"sd\">        and of required grouping.</span>\n",
       "\n",
       "<span class=\"sd\">        Not all combinations of input/grouping are implemented/allowed.</span>\n",
       "<span class=\"sd\">        &quot;&quot;&quot;</span>\n",
       "        <span class=\"n\">available_collections</span> <span class=\"o\">=</span> <span class=\"p\">{</span>\n",
       "            <span class=\"p\">(</span><span class=\"n\">ExpressionWithControls</span><span class=\"p\">,</span> <span class=\"s1\">&#39;by_substance&#39;</span><span class=\"p\">):</span> <span class=\"n\">SubstancesCollectionWithControls</span><span class=\"o\">.</span><span class=\"n\">from_signatures</span><span class=\"p\">,</span>\n",
       "            <span class=\"p\">(</span><span class=\"n\">Profile</span><span class=\"p\">,</span> <span class=\"bp\">None</span><span class=\"p\">):</span> <span class=\"n\">SignaturesCollection</span><span class=\"p\">,</span>\n",
       "        <span class=\"p\">}</span>\n",
       "        <span class=\"k\">return</span> <span class=\"n\">available_collections</span><span class=\"p\">[(</span><span class=\"bp\">self</span><span class=\"o\">.</span><span class=\"n\">input</span><span class=\"p\">,</span> <span class=\"bp\">self</span><span class=\"o\">.</span><span class=\"n\">grouping</span><span class=\"p\">)]</span>\n",
       "\n",
       "    <span class=\"nd\">@property</span>\n",
       "    <span class=\"k\">def</span> <span class=\"nf\">is_applicable_to_control_signatures</span><span class=\"p\">(</span><span class=\"bp\">self</span><span class=\"p\">):</span>\n",
       "        <span class=\"k\">return</span> <span class=\"bp\">self</span><span class=\"o\">.</span><span class=\"n\">input</span> <span class=\"o\">!=</span> <span class=\"n\">ExpressionWithControls</span>\n",
       "\n",
       "    <span class=\"k\">def</span> <span class=\"fm\">__call__</span><span class=\"p\">(</span><span class=\"bp\">self</span><span class=\"p\">,</span> <span class=\"n\">disease</span><span class=\"p\">:</span> <span class=\"nb\">input</span><span class=\"p\">,</span> <span class=\"n\">compound</span><span class=\"p\">:</span> <span class=\"nb\">input</span><span class=\"p\">,</span> <span class=\"o\">**</span><span class=\"n\">kwargs</span><span class=\"p\">):</span>\n",
       "        <span class=\"k\">return</span> <span class=\"bp\">self</span><span class=\"o\">.</span><span class=\"n\">func</span><span class=\"p\">(</span><span class=\"n\">disease</span><span class=\"p\">,</span> <span class=\"n\">compound</span><span class=\"p\">,</span> <span class=\"o\">**</span><span class=\"n\">kwargs</span><span class=\"p\">)</span>\n",
       "</pre></div>\n"
      ],
      "text/plain": [
       "<IPython.core.display.HTML object>"
      ]
     },
     "metadata": {},
     "output_type": "display_data"
    }
   ],
   "source": [
    "from signature_scoring.scoring_functions import ScoringFunction\n",
    "show_source(ScoringFunction)"
   ]
  },
  {
   "cell_type": "code",
   "execution_count": null,
   "metadata": {},
   "outputs": [],
   "source": [
    "roast_score = create_roast_scorer()"
   ]
  },
  {
   "cell_type": "code",
   "execution_count": null,
   "metadata": {},
   "outputs": [],
   "source": [
    "roast_score_by_substance = create_roast_scorer(gene_sets='c2.cp.kegg', q_value_cutoff=0.05)  "
   ]
  },
  {
   "cell_type": "code",
   "execution_count": null,
   "metadata": {},
   "outputs": [
    {
     "data": {
      "text/plain": [
       "'<TCGAExpressionWithControls: 1100 cases, 112 controls>'"
      ]
     },
     "execution_count": 28,
     "metadata": {},
     "output_type": "execute_result"
    }
   ],
   "source": [
    "repr(data.brca_with_controls)"
   ]
  },
  {
   "cell_type": "code",
   "execution_count": null,
   "metadata": {},
   "outputs": [
    {
     "name": "stdout",
     "output_type": "stream",
     "text": [
      "Retaining 12276 genes: 99.58% of signature genes and 59.79% of query genes\n",
      "Selected only 12276 genes out of 1000 allowed.\n"
     ]
    },
    {
     "name": "stderr",
     "output_type": "stream",
     "text": [
      "  0%|          | 0/13 [00:00<?, ?it/s]"
     ]
    },
    {
     "name": "stdout",
     "output_type": "stream",
     "text": [
      "Following columns contain nulls and will be skipped: ['CPC015_HT29_6H:BRD-K04548931-003-05-8:10_control_control_control', 'CPC015_SKB_24H:BRD-K04548931-003-05-8:10_control_control_control', 'NMH002_FIBRNPC_24H:BRD-A56518012-003-03-7:10_control_control_control', 'NMH002_NEU_6H:BRD-A56518012-003-03-7:10_control_control_control', 'NMH002_NPC_6H:BRD-A56518012-003-03-7:10_control_control_control']\n",
      "Following columns contain nulls and will be skipped: ['LJP001_HS578T_24H:BRD-K51313569-001-03-7:10_control_control_control', 'LJP001_MDAMB231_24H:BRD-K51313569-001-03-7:0.4_control_control_control']\n",
      "Following columns contain nulls and will be skipped: ['LJP001_MCF10A_6H:BRD-K19687926-379-03-3:10_control_control_control', 'LJP001_MDAMB231_24H:BRD-K19687926-379-03-3:10_control_control_control']\n",
      "Following columns contain nulls and will be skipped: ['CPC014_HEPG2_6H:BRD-K13514097-001-01-2:10_control_control_control']\n",
      "Following columns contain nulls and will be skipped: ['CPC015_A375_6H:BRD-K09631521-001-05-7:10_control_control_control', 'CPC015_ASC_24H:BRD-K09631521-001-05-7:10_control_control_control']\n"
     ]
    },
    {
     "name": "stderr",
     "output_type": "stream",
     "text": [
      " 31%|███       | 4/13 [01:12<03:41, 24.62s/it]"
     ]
    },
    {
     "name": "stdout",
     "output_type": "stream",
     "text": [
      "Following columns contain nulls and will be skipped: ['CPC004_HCC515_6H:BRD-A28746609-001-05-7:10_control_control_control']\n"
     ]
    },
    {
     "name": "stderr",
     "output_type": "stream",
     "text": [
      " 54%|█████▍    | 7/13 [01:13<01:13, 12.26s/it]"
     ]
    },
    {
     "name": "stdout",
     "output_type": "stream",
     "text": [
      "Following columns contain nulls and will be skipped: ['CPC006_A549_6H:BRD-K85606544-001-01-8:10_control_control_control', 'CPC006_NOMO1_6H:BRD-K85606544-001-01-8:10_control_control_control', 'CPC006_THP1_6H:BRD-K85606544-001-01-8:10_control_control_control', 'LJP001_HS578T_24H:BRD-K85606544-001-04-2:10_control_control_control', 'LJP001_MDAMB231_24H:BRD-K85606544-001-04-2:10_control_control_control']\n"
     ]
    },
    {
     "name": "stderr",
     "output_type": "stream",
     "text": [
      " 77%|███████▋  | 10/13 [01:17<00:20,  6.73s/it]"
     ]
    },
    {
     "name": "stdout",
     "output_type": "stream",
     "text": [
      "Following columns contain nulls and will be skipped: ['AML001_CD34_6H:BRD-K93754473:13.4584_control_control_control', 'CPC006_NOMO1_6H:BRD-K93754473-001-06-0:28.39_control_control_control', 'CPC006_THP1_6H:BRD-K93754473-001-06-0:28.39_control_control_control', 'NMH002_FIBRNPC_24H:BRD-K93754473-048-14-5:10_control_control_control', 'NMH002_NEU_6H:BRD-K93754473-001-16-9:10_control_control_control', 'NMH002_NPC_6H:BRD-K93754473-048-14-5:10_control_control_control']\n"
     ]
    },
    {
     "name": "stderr",
     "output_type": "stream",
     "text": [
      "100%|██████████| 13/13 [01:23<00:00,  4.46s/it]"
     ]
    }
   ],
   "source": [
    "%%skip_on_import\n",
    "scores_indications = score_signatures(\n",
    "    roast_score,\n",
    "    data.brca_with_controls, data.indications_with_controls,\n",
    "    progress=True, processes=12,\n",
    ")"
   ]
  },
  {
   "cell_type": "code",
   "execution_count": null,
   "metadata": {},
   "outputs": [
    {
     "data": {
      "text/html": [
       "<div>\n",
       "<style scoped>\n",
       "    .dataframe tbody tr th:only-of-type {\n",
       "        vertical-align: middle;\n",
       "    }\n",
       "\n",
       "    .dataframe tbody tr th {\n",
       "        vertical-align: top;\n",
       "    }\n",
       "\n",
       "    .dataframe thead th {\n",
       "        text-align: right;\n",
       "    }\n",
       "</style>\n",
       "<table border=\"1\" class=\"dataframe\">\n",
       "  <thead>\n",
       "    <tr style=\"text-align: right;\">\n",
       "      <th></th>\n",
       "      <th></th>\n",
       "      <th></th>\n",
       "      <th>score</th>\n",
       "    </tr>\n",
       "    <tr>\n",
       "      <th>pert_iname</th>\n",
       "      <th>pert_idose</th>\n",
       "      <th>cell_id</th>\n",
       "      <th></th>\n",
       "    </tr>\n",
       "  </thead>\n",
       "  <tbody>\n",
       "    <tr>\n",
       "      <th rowspan=\"5\" valign=\"top\">doxorubicin</th>\n",
       "      <th rowspan=\"5\" valign=\"top\">10 µM</th>\n",
       "      <th>HT29</th>\n",
       "      <td>0.736493</td>\n",
       "    </tr>\n",
       "    <tr>\n",
       "      <th>VCAP</th>\n",
       "      <td>0.736493</td>\n",
       "    </tr>\n",
       "    <tr>\n",
       "      <th>PHH</th>\n",
       "      <td>0.736493</td>\n",
       "    </tr>\n",
       "    <tr>\n",
       "      <th>PC3</th>\n",
       "      <td>0.736493</td>\n",
       "    </tr>\n",
       "    <tr>\n",
       "      <th>MCF7</th>\n",
       "      <td>0.736493</td>\n",
       "    </tr>\n",
       "    <tr>\n",
       "      <th>...</th>\n",
       "      <th>...</th>\n",
       "      <th>...</th>\n",
       "      <td>...</td>\n",
       "    </tr>\n",
       "    <tr>\n",
       "      <th rowspan=\"5\" valign=\"top\">thiotepa</th>\n",
       "      <th rowspan=\"5\" valign=\"top\">10 µM</th>\n",
       "      <th>PC3</th>\n",
       "      <td>-0.117309</td>\n",
       "    </tr>\n",
       "    <tr>\n",
       "      <th>PHH</th>\n",
       "      <td>-0.117309</td>\n",
       "    </tr>\n",
       "    <tr>\n",
       "      <th>SKB</th>\n",
       "      <td>-0.117309</td>\n",
       "    </tr>\n",
       "    <tr>\n",
       "      <th>VCAP</th>\n",
       "      <td>-0.117309</td>\n",
       "    </tr>\n",
       "    <tr>\n",
       "      <th>MCF7</th>\n",
       "      <td>-0.117309</td>\n",
       "    </tr>\n",
       "  </tbody>\n",
       "</table>\n",
       "<p>280 rows × 1 columns</p>\n",
       "</div>"
      ],
      "text/plain": [
       "                                   score\n",
       "pert_iname  pert_idose cell_id          \n",
       "doxorubicin 10 µM      HT29     0.736493\n",
       "                       VCAP     0.736493\n",
       "                       PHH      0.736493\n",
       "                       PC3      0.736493\n",
       "                       MCF7     0.736493\n",
       "...                                  ...\n",
       "thiotepa    10 µM      PC3     -0.117309\n",
       "                       PHH     -0.117309\n",
       "                       SKB     -0.117309\n",
       "                       VCAP    -0.117309\n",
       "                       MCF7    -0.117309\n",
       "\n",
       "[280 rows x 1 columns]"
      ]
     },
     "execution_count": 30,
     "metadata": {},
     "output_type": "execute_result"
    }
   ],
   "source": [
    "%%skip_on_import\n",
    "scores_indications.mean_per_substance_dose_and_cell"
   ]
  },
  {
   "cell_type": "markdown",
   "metadata": {},
   "source": [
    "### GSVA"
   ]
  },
  {
   "cell_type": "markdown",
   "metadata": {},
   "source": [
    "#### Multi-sample"
   ]
  },
  {
   "cell_type": "code",
   "execution_count": null,
   "metadata": {},
   "outputs": [],
   "source": [
    "from signature_scoring.scoring_functions.gsva import create_gsva_scorer"
   ]
  },
  {
   "cell_type": "code",
   "execution_count": null,
   "metadata": {},
   "outputs": [],
   "source": [
    "gsva_score_by_substance = create_gsva_scorer(gene_sets='c2.cp.kegg', q_value_cutoff=0.05)\n",
    "zscore_by_substance = create_gsva_scorer(gene_sets='c2.cp.kegg', q_value_cutoff=0.05, method='zscore')\n",
    "plage_score_by_substance = create_gsva_scorer(gene_sets='c2.cp.kegg', q_value_cutoff=0.05, method='plage')\n",
    "ssgsea_score_by_substance = create_gsva_scorer(gene_sets='c2.cp.kegg', q_value_cutoff=0.05, method='ssgsea')"
   ]
  },
  {
   "cell_type": "code",
   "execution_count": null,
   "metadata": {},
   "outputs": [
    {
     "name": "stdout",
     "output_type": "stream",
     "text": [
      "Retaining 12276 genes: 99.58% of signature genes and 59.79% of query genes\n",
      "Selected only 12276 genes out of 1000 allowed.\n"
     ]
    },
    {
     "name": "stderr",
     "output_type": "stream",
     "text": [
      "  0%|          | 0/13 [00:00<?, ?it/s]"
     ]
    },
    {
     "name": "stdout",
     "output_type": "stream",
     "text": [
      "Following columns contain nulls and will be skipped: ['LJP001_MCF10A_6H:BRD-K19687926-379-03-3:10_control_control', 'LJP001_MDAMB231_24H:BRD-K19687926-379-03-3:10_control_control']\n",
      "Following columns contain nulls and will be skipped: ['LJP001_HS578T_24H:BRD-K51313569-001-03-7:10_control_control', 'LJP001_MDAMB231_24H:BRD-K51313569-001-03-7:0.4_control_control']\n"
     ]
    },
    {
     "name": "stderr",
     "output_type": "stream",
     "text": [
      "  8%|▊         | 1/13 [06:26<1:17:23, 386.98s/it]"
     ]
    },
    {
     "name": "stdout",
     "output_type": "stream",
     "text": [
      "Following columns contain nulls and will be skipped: ['AML001_CD34_6H:BRD-K93754473:13.4584_control_control', 'CPC006_NOMO1_6H:BRD-K93754473-001-06-0:28.39_control_control', 'CPC006_THP1_6H:BRD-K93754473-001-06-0:28.39_control_control', 'NMH002_FIBRNPC_24H:BRD-K93754473-048-14-5:10_control_control', 'NMH002_NEU_6H:BRD-K93754473-001-16-9:10_control_control', 'NMH002_NPC_6H:BRD-K93754473-048-14-5:10_control_control']\n"
     ]
    },
    {
     "name": "stderr",
     "output_type": "stream",
     "text": [
      " 38%|███▊      | 5/13 [06:30<12:28, 93.52s/it] "
     ]
    },
    {
     "name": "stdout",
     "output_type": "stream",
     "text": [
      "Following columns contain nulls and will be skipped: ['CPC006_NOMO1_6H:BRD-K85606544-001-01-8:10_control_control', 'CPC006_THP1_6H:BRD-K85606544-001-01-8:10_control_control', 'LJP001_HS578T_24H:BRD-K85606544-001-04-2:10_control_control', 'LJP001_MDAMB231_24H:BRD-K85606544-001-04-2:10_control_control']\n",
      "Following columns contain nulls and will be skipped: ['CPC004_PC3_6H:BRD-K04548931-003-05-8:10_control_control', 'NMH002_FIBRNPC_24H:BRD-A56518012-003-03-7:10_control_control', 'NMH002_NEU_6H:BRD-A56518012-003-03-7:10_control_control', 'NMH002_NPC_6H:BRD-A56518012-003-03-7:10_control_control']\n"
     ]
    },
    {
     "name": "stderr",
     "output_type": "stream",
     "text": [
      "100%|██████████| 13/13 [06:49<00:00,  9.56s/it]"
     ]
    }
   ],
   "source": [
    "%%skip_on_import\n",
    "scores_indications = score_signatures(\n",
    "    gsva_score_by_substance,\n",
    "    data.brca_with_controls, data.indications_with_controls,\n",
    "    progress=True, processes=12,\n",
    ")"
   ]
  },
  {
   "cell_type": "code",
   "execution_count": null,
   "metadata": {},
   "outputs": [
    {
     "data": {
      "text/html": [
       "<div>\n",
       "<style scoped>\n",
       "    .dataframe tbody tr th:only-of-type {\n",
       "        vertical-align: middle;\n",
       "    }\n",
       "\n",
       "    .dataframe tbody tr th {\n",
       "        vertical-align: top;\n",
       "    }\n",
       "\n",
       "    .dataframe thead th {\n",
       "        text-align: right;\n",
       "    }\n",
       "</style>\n",
       "<table border=\"1\" class=\"dataframe\">\n",
       "  <thead>\n",
       "    <tr style=\"text-align: right;\">\n",
       "      <th></th>\n",
       "      <th>score</th>\n",
       "      <th>sig_id</th>\n",
       "      <th>pert_id</th>\n",
       "      <th>pert_iname</th>\n",
       "      <th>pert_type</th>\n",
       "      <th>...</th>\n",
       "      <th>pert_dose_unit</th>\n",
       "      <th>pert_idose</th>\n",
       "      <th>pert_time</th>\n",
       "      <th>pert_time_unit</th>\n",
       "      <th>pert_itime</th>\n",
       "    </tr>\n",
       "  </thead>\n",
       "  <tbody>\n",
       "    <tr>\n",
       "      <th>17</th>\n",
       "      <td>0.798635</td>\n",
       "      <td>CPC014_A549_6H:BRD-K13514097-001-01-2:10</td>\n",
       "      <td>BRD-K13514097</td>\n",
       "      <td>everolimus</td>\n",
       "      <td>trt_cp</td>\n",
       "      <td>...</td>\n",
       "      <td>µM</td>\n",
       "      <td>10 µM</td>\n",
       "      <td>6</td>\n",
       "      <td>h</td>\n",
       "      <td>6 h</td>\n",
       "    </tr>\n",
       "    <tr>\n",
       "      <th>25</th>\n",
       "      <td>0.798635</td>\n",
       "      <td>CPC014_NPC_24H:BRD-K13514097-001-01-2:10</td>\n",
       "      <td>BRD-K13514097</td>\n",
       "      <td>everolimus</td>\n",
       "      <td>trt_cp</td>\n",
       "      <td>...</td>\n",
       "      <td>µM</td>\n",
       "      <td>10 µM</td>\n",
       "      <td>24</td>\n",
       "      <td>h</td>\n",
       "      <td>24 h</td>\n",
       "    </tr>\n",
       "    <tr>\n",
       "      <th>19</th>\n",
       "      <td>0.798635</td>\n",
       "      <td>CPC014_HA1E_6H:BRD-K13514097-001-01-2:10</td>\n",
       "      <td>BRD-K13514097</td>\n",
       "      <td>everolimus</td>\n",
       "      <td>trt_cp</td>\n",
       "      <td>...</td>\n",
       "      <td>µM</td>\n",
       "      <td>10 µM</td>\n",
       "      <td>6</td>\n",
       "      <td>h</td>\n",
       "      <td>6 h</td>\n",
       "    </tr>\n",
       "    <tr>\n",
       "      <th>20</th>\n",
       "      <td>0.798635</td>\n",
       "      <td>CPC014_HCC515_6H:BRD-K13514097-001-01-2:10</td>\n",
       "      <td>BRD-K13514097</td>\n",
       "      <td>everolimus</td>\n",
       "      <td>trt_cp</td>\n",
       "      <td>...</td>\n",
       "      <td>µM</td>\n",
       "      <td>10 µM</td>\n",
       "      <td>6</td>\n",
       "      <td>h</td>\n",
       "      <td>6 h</td>\n",
       "    </tr>\n",
       "    <tr>\n",
       "      <th>21</th>\n",
       "      <td>0.798635</td>\n",
       "      <td>CPC014_HEPG2_6H:BRD-K13514097-001-01-2:10</td>\n",
       "      <td>BRD-K13514097</td>\n",
       "      <td>everolimus</td>\n",
       "      <td>trt_cp</td>\n",
       "      <td>...</td>\n",
       "      <td>µM</td>\n",
       "      <td>10 µM</td>\n",
       "      <td>6</td>\n",
       "      <td>h</td>\n",
       "      <td>6 h</td>\n",
       "    </tr>\n",
       "    <tr>\n",
       "      <th>...</th>\n",
       "      <td>...</td>\n",
       "      <td>...</td>\n",
       "      <td>...</td>\n",
       "      <td>...</td>\n",
       "      <td>...</td>\n",
       "      <td>...</td>\n",
       "      <td>...</td>\n",
       "      <td>...</td>\n",
       "      <td>...</td>\n",
       "      <td>...</td>\n",
       "      <td>...</td>\n",
       "    </tr>\n",
       "    <tr>\n",
       "      <th>67</th>\n",
       "      <td>-0.278135</td>\n",
       "      <td>CPC015_A375_6H:BRD-K09631521-001-05-7:10</td>\n",
       "      <td>BRD-K09631521</td>\n",
       "      <td>thiotepa</td>\n",
       "      <td>trt_cp</td>\n",
       "      <td>...</td>\n",
       "      <td>µM</td>\n",
       "      <td>10 µM</td>\n",
       "      <td>6</td>\n",
       "      <td>h</td>\n",
       "      <td>6 h</td>\n",
       "    </tr>\n",
       "    <tr>\n",
       "      <th>62</th>\n",
       "      <td>-0.278135</td>\n",
       "      <td>CPC004_HA1E_6H:BRD-K09631521-001-05-7:10</td>\n",
       "      <td>BRD-K09631521</td>\n",
       "      <td>thiotepa</td>\n",
       "      <td>trt_cp</td>\n",
       "      <td>...</td>\n",
       "      <td>µM</td>\n",
       "      <td>10 µM</td>\n",
       "      <td>6</td>\n",
       "      <td>h</td>\n",
       "      <td>6 h</td>\n",
       "    </tr>\n",
       "    <tr>\n",
       "      <th>63</th>\n",
       "      <td>-0.278135</td>\n",
       "      <td>CPC004_HCC515_6H:BRD-K09631521-001-05-7:10</td>\n",
       "      <td>BRD-K09631521</td>\n",
       "      <td>thiotepa</td>\n",
       "      <td>trt_cp</td>\n",
       "      <td>...</td>\n",
       "      <td>µM</td>\n",
       "      <td>10 µM</td>\n",
       "      <td>6</td>\n",
       "      <td>h</td>\n",
       "      <td>6 h</td>\n",
       "    </tr>\n",
       "    <tr>\n",
       "      <th>66</th>\n",
       "      <td>-0.278135</td>\n",
       "      <td>CPC004_VCAP_6H:BRD-K09631521-001-05-7:10</td>\n",
       "      <td>BRD-K09631521</td>\n",
       "      <td>thiotepa</td>\n",
       "      <td>trt_cp</td>\n",
       "      <td>...</td>\n",
       "      <td>µM</td>\n",
       "      <td>10 µM</td>\n",
       "      <td>6</td>\n",
       "      <td>h</td>\n",
       "      <td>6 h</td>\n",
       "    </tr>\n",
       "    <tr>\n",
       "      <th>71</th>\n",
       "      <td>-0.278135</td>\n",
       "      <td>CPC015_MCF7_6H:BRD-K09631521-001-05-7:10</td>\n",
       "      <td>BRD-K09631521</td>\n",
       "      <td>thiotepa</td>\n",
       "      <td>trt_cp</td>\n",
       "      <td>...</td>\n",
       "      <td>µM</td>\n",
       "      <td>10 µM</td>\n",
       "      <td>6</td>\n",
       "      <td>h</td>\n",
       "      <td>6 h</td>\n",
       "    </tr>\n",
       "  </tbody>\n",
       "</table>\n",
       "<p>316 rows × 12 columns</p>\n",
       "</div>"
      ],
      "text/plain": [
       "{'CPC003_HA1E_6H:BRD-K92093830-003-05-0:10': 0.478422769917878, 'CPC003_HCC515_6H:BRD-K92093830-003-05-0:10': 0.478422769917878, 'CPC011_A549_6H:BRD-K92093830-003-23-3:10': 0.478422769917878, 'CPC011_VCAP_6H:BRD-K92093830-003-23-3:10': 0.478422769917878, 'CPC015_A375_6H:BRD-K92093830-003-05-0:10': 0.478422769917878, 'CPC015_ASC_24H:BRD-K92093830-003-05-0:10': 0.478422769917878, 'CPC015_HEPG2_6H:BRD-K92093830-003-05-0:10': 0.478422769917878, 'CPC015_HT29_6H:BRD-K92093830-003-05-0:10': 0.478422769917878, 'CPC015_PHH_24H:BRD-K92093830-003-05-0:10': 0.478422769917878, 'CPC015_SKB_24H:BRD-K92093830-003-05-0:10': 0.478422769917878, 'CPC018_ASC_24H:BRD-A52530684-001-01-1:10': 0.478422769917878, 'CPC018_PHH_24H:BRD-A52530684-001-01-1:10': 0.478422769917878, 'CPC018_SKB_24H:BRD-A52530684-001-01-1:10': 0.478422769917878, 'CPD002_PC3_6H:BRD-K92093830-003-21-7:10': 0.478422769917878, 'CRCGN001_HA1E_24H:BRD-A76941896-003-04-6:10.2': 0.478422769917878, 'HOG002_MCF7_6H:BRD-K92093830-003-18-3:10': 0.478422769917878, 'CPC014_A375_6H:BRD-K13514097-001-01-2:10': 0.7986346186693479, 'CPC014_A549_6H:BRD-K13514097-001-01-2:10': 0.7986346186693479, 'CPC014_ASC_24H:BRD-K13514097-001-01-2:10': 0.7986346186693479, 'CPC014_HA1E_6H:BRD-K13514097-001-01-2:10': 0.7986346186693479, 'CPC014_HCC515_6H:BRD-K13514097-001-01-2:10': 0.7986346186693479, 'CPC014_HEPG2_6H:BRD-K13514097-001-01-2:10': 0.7986346186693479, 'CPC014_HT29_6H:BRD-K13514097-001-01-2:10': 0.7986346186693479, 'CPC014_MCF7_6H:BRD-K13514097-001-01-2:10': 0.7986346186693479, 'CPC014_NEU_24H:BRD-K13514097-001-01-2:10': 0.7986346186693479, 'CPC014_NPC_24H:BRD-K13514097-001-01-2:10': 0.7986346186693479, 'CPC014_PC3_6H:BRD-K13514097-001-01-2:10': 0.7986346186693479, 'CPC014_PHH_24H:BRD-K13514097-001-01-2:10': 0.7986346186693479, 'CPC014_SKB_24H:BRD-K13514097-001-01-2:10': 0.7986346186693479, 'CPC014_VCAP_6H:BRD-K13514097-001-01-2:10': 0.7986346186693479, 'CPC012_A375_6H:BRD-M07438658-001-01-1:10': 0.06559693382748934, 'CPC012_A549_6H:BRD-M07438658-001-01-1:10': 0.06559693382748934, 'CPC012_ASC_24H:BRD-M07438658-001-01-1:10': 0.06559693382748934, 'CPC012_HA1E_6H:BRD-M07438658-001-01-1:10': 0.06559693382748934, 'CPC012_HCC515_6H:BRD-M07438658-001-01-1:10': 0.06559693382748934, 'CPC012_HT29_6H:BRD-M07438658-001-01-1:10': 0.06559693382748934, 'CPC012_MCF7_6H:BRD-M07438658-001-01-1:10': 0.06559693382748934, 'CPC012_NEU_24H:BRD-M07438658-001-01-1:10': 0.06559693382748934, 'CPC012_NPC_24H:BRD-M07438658-001-01-1:10': 0.06559693382748934, 'CPC012_PC3_6H:BRD-M07438658-001-01-1:10': 0.06559693382748934, 'CPC012_PHH_24H:BRD-M07438658-001-01-1:10': 0.06559693382748934, 'CPC012_SKB_24H:BRD-M07438658-001-01-1:10': 0.06559693382748934, 'CPC012_VCAP_6H:BRD-M07438658-001-01-1:10': 0.06559693382748934, 'CPC014_ASC_24H:BRD-K19687926-379-01-7:10': 0.06559693382748934, 'CPC014_NEU_24H:BRD-K19687926-379-01-7:10': 0.06559693382748934, 'CPC014_NPC_24H:BRD-K19687926-379-01-7:10': 0.06559693382748934, 'CPC014_PHH_24H:BRD-K19687926-379-01-7:10': 0.06559693382748934, 'CPC014_SKB_24H:BRD-K19687926-379-01-7:10': 0.06559693382748934, 'LJP001_BT20_24H:BRD-K19687926-379-03-3:10': 0.06559693382748934, 'LJP001_HS578T_6H:BRD-K19687926-379-03-3:0.4': 0.06559693382748934, 'LJP001_MCF10A_6H:BRD-K19687926-379-03-3:10': 0.06559693382748934, 'LJP001_MDAMB231_24H:BRD-K19687926-379-03-3:10': 0.06559693382748934, 'LJP001_SKBR3_24H:BRD-K19687926-379-03-3:10': 0.06559693382748934, 'CPC020_A375_6H:BRD-A09722536-002-13-1:10': 0.0013941654069661957, 'CPC020_A549_6H:BRD-A09722536-002-09-9:10': 0.0013941654069661957, 'CPC020_HA1E_6H:BRD-A09722536-002-13-1:10': 0.0013941654069661957, 'CPC020_HCC515_6H:BRD-A09722536-002-09-9:10': 0.0013941654069661957, 'CPC020_HT29_6H:BRD-A09722536-002-13-1:10': 0.0013941654069661957, 'CPC020_VCAP_6H:BRD-A09722536-002-13-1:10': 0.0013941654069661957, 'CPD003_MCF7_6H:BRD-A09722536-001-01-8:10': 0.0013941654069661957, 'CPD003_PC3_6H:BRD-A09722536-001-01-8:10': 0.0013941654069661957, 'CRCGN001_HA1E_6H:BRD-A09722536-002-14-9:20.2': 0.0013941654069661957, 'CPC004_HA1E_6H:BRD-K09631521-001-05-7:10': -0.27813548193238663, 'CPC004_HCC515_6H:BRD-K09631521-001-05-7:10': -0.27813548193238663, 'CPC004_HEPG2_6H:BRD-K09631521-001-05-7:10': -0.27813548193238663, 'CPC004_PC3_6H:BRD-K09631521-001-05-7:10': -0.27813548193238663, 'CPC004_VCAP_6H:BRD-K09631521-001-05-7:10': -0.27813548193238663, 'CPC015_A375_6H:BRD-K09631521-001-05-7:10': -0.27813548193238663, 'CPC015_A549_6H:BRD-K09631521-001-05-7:10': -0.27813548193238663, 'CPC015_ASC_24H:BRD-K09631521-001-05-7:10': -0.27813548193238663, 'CPC015_HT29_6H:BRD-K09631521-001-05-7:10': -0.27813548193238663, 'CPC015_MCF7_6H:BRD-K09631521-001-05-7:10': -0.27813548193238663, 'CPC015_NPC_24H:BRD-K09631521-001-05-7:10': -0.27813548193238663, 'CPC015_PHH_24H:BRD-K09631521-001-05-7:10': -0.27813548193238663, 'CPC015_SKB_24H:BRD-K09631521-001-05-7:10': -0.27813548193238663, 'CPC003_HA1E_6H:BRD-A31801025-001-01-0:10': -0.0010363296613336798, 'CPC003_HCC515_6H:BRD-A31801025-001-01-0:10': -0.0010363296613336798, 'CPC003_PC3_6H:BRD-A31801025-001-01-0:10': -0.0010363296613336798, 'CPC003_VCAP_6H:BRD-A31801025-001-01-0:10': -0.0010363296613336798, 'CPC015_A375_6H:BRD-A31801025-001-01-0:10': -0.0010363296613336798, 'CPC015_A549_6H:BRD-A31801025-001-01-0:10': -0.0010363296613336798, 'CPC015_ASC_24H:BRD-A31801025-001-01-0:10': -0.0010363296613336798, 'CPC015_HEPG2_6H:BRD-A31801025-001-01-0:10': -0.0010363296613336798, 'CPC015_HT29_6H:BRD-A31801025-001-01-0:10': -0.0010363296613336798, 'CPC015_MCF7_6H:BRD-A31801025-001-01-0:10': -0.0010363296613336798, 'CPC015_NPC_24H:BRD-A31801025-001-01-0:10': -0.0010363296613336798, 'CPC015_PHH_24H:BRD-A31801025-001-01-0:10': -0.0010363296613336798, 'CPC015_SKB_24H:BRD-A31801025-001-01-0:10': -0.0010363296613336798, 'CPD003_MCF7_24H:BRD-A42153648-001-01-0:10': -0.0010363296613336798, 'CPD003_PC3_6H:BRD-A42153648-001-01-0:10': -0.0010363296613336798, 'CPC014_A375_6H:BRD-K51313569-001-02-9:10': 0.47965832470597886, 'CPC014_A549_6H:BRD-K51313569-001-02-9:10': 0.47965832470597886, 'CPC014_ASC_24H:BRD-K51313569-001-02-9:10': 0.47965832470597886, 'CPC014_HA1E_6H:BRD-K51313569-001-02-9:10': 0.47965832470597886, 'CPC014_HCC515_6H:BRD-K51313569-001-02-9:10': 0.47965832470597886, 'CPC014_HEPG2_6H:BRD-K51313569-001-02-9:10': 0.47965832470597886, 'CPC014_HT29_6H:BRD-K51313569-001-02-9:10': 0.47965832470597886, 'CPC014_MCF7_6H:BRD-K51313569-001-02-9:10': 0.47965832470597886, 'CPC014_NEU_24H:BRD-K51313569-001-02-9:10': 0.47965832470597886, 'CPC014_NPC_24H:BRD-K51313569-001-02-9:10': 0.47965832470597886, 'CPC014_PC3_6H:BRD-K51313569-001-02-9:10': 0.47965832470597886, 'CPC014_PHH_24H:BRD-K51313569-001-02-9:10': 0.47965832470597886, 'CPC014_SKB_24H:BRD-K51313569-001-02-9:10': 0.47965832470597886, 'CPC014_VCAP_6H:BRD-K51313569-001-02-9:10': 0.47965832470597886, 'LJP001_BT20_24H:BRD-K51313569-001-03-7:10': 0.47965832470597886, 'LJP001_HS578T_24H:BRD-K51313569-001-03-7:10': 0.47965832470597886, 'LJP001_MCF10A_24H:BRD-K51313569-001-03-7:10': 0.47965832470597886, 'LJP001_MDAMB231_24H:BRD-K51313569-001-03-7:0.4': 0.47965832470597886, 'LJP001_SKBR3_24H:BRD-K51313569-001-03-7:2': 0.47965832470597886, 'CPC011_A375_6H:BRD-K59456551-002-15-8:10': 0.12408042701857919, 'CPC011_A549_6H:BRD-K59456551-002-15-8:10': 0.12408042701857919, 'CPC011_HA1E_6H:BRD-K59456551-002-15-8:10': 0.12408042701857919, 'CPC011_HT29_6H:BRD-K59456551-002-15-8:10': 0.12408042701857919, 'CPC011_PC3_6H:BRD-K59456551-002-15-8:10': 0.12408042701857919, 'CPC011_VCAP_6H:BRD-K59456551-002-15-8:10': 0.12408042701857919, 'CPD001_MCF7_24H:BRD-A55424491-001-13-2:10': 0.12408042701857919, 'CPD001_MCF7_6H:BRD-K59456551-001-12-7:10': 0.12408042701857919, 'CPD001_PC3_24H:BRD-A55424491-001-13-2:10': 0.12408042701857919, 'CRCGN001_HA1E_24H:BRD-A55424491-001-16-5:10': 0.12408042701857919, 'MUC.CP002_NKDBA_24H:BRD-A55424491-001-10-8:1.1111': 0.12408042701857919, 'CPC004_HA1E_6H:BRD-K04548931-003-05-8:10': 0.44773976337734456, 'CPC004_HCC515_6H:BRD-K04548931-003-05-8:10': 0.44773976337734456, 'CPC004_HEPG2_6H:BRD-K04548931-003-05-8:10': 0.44773976337734456, 'CPC004_PC3_6H:BRD-K04548931-003-05-8:10': 0.44773976337734456, 'CPC004_VCAP_6H:BRD-K04548931-003-05-8:10': 0.44773976337734456, 'CPC011_A549_6H:BRD-K04548931-003-11-6:10': 0.44773976337734456, 'CPC015_A375_6H:BRD-K04548931-003-05-8:10': 0.44773976337734456, 'CPC015_ASC_24H:BRD-K04548931-003-05-8:10': 0.44773976337734456, 'CPC015_HT29_6H:BRD-K04548931-003-05-8:10': 0.44773976337734456, 'CPC015_MCF7_6H:BRD-K04548931-003-05-8:10': 0.44773976337734456, 'CPC015_PHH_24H:BRD-K04548931-003-05-8:10': 0.44773976337734456, 'CPC015_SKB_24H:BRD-K04548931-003-05-8:10': 0.44773976337734456, 'NMH002_FIBRNPC_24H:BRD-A56518012-003-03-7:10': 0.44773976337734456, 'NMH002_NEU_6H:BRD-A56518012-003-03-7:10': 0.44773976337734456, 'NMH002_NPC_6H:BRD-A56518012-003-03-7:10': 0.44773976337734456, 'CPC011_A375_6H:BRD-K63265447-001-05-8:10': 0.11987972428009587, 'CPC011_A549_6H:BRD-K63265447-001-05-8:10': 0.11987972428009587, 'CPC011_HA1E_6H:BRD-K63265447-001-05-8:10': 0.11987972428009587, 'CPC011_HT29_6H:BRD-K63265447-001-05-8:10': 0.11987972428009587, 'CPC011_MCF7_6H:BRD-K63265447-001-05-8:10': 0.11987972428009587, 'CPC011_PC3_6H:BRD-K63265447-001-05-8:10': 0.11987972428009587, 'CPC011_VCAP_6H:BRD-K63265447-001-05-8:10': 0.11987972428009587, 'CPC013_ASC_24H:BRD-K42125900-001-01-9:10': 0.11987972428009587, 'CPC013_NEU_24H:BRD-K42125900-001-01-9:10': 0.11987972428009587, 'CPC013_NPC_24H:BRD-K42125900-001-01-9:10': 0.11987972428009587, 'CPC013_SKB_24H:BRD-K42125900-001-01-9:10': 0.11987972428009587, 'CPD003_MCF7_24H:BRD-K30618791-001-01-9:10': 0.11987972428009587, 'CPD003_PC3_6H:BRD-K30618791-001-01-9:10': 0.11987972428009587, 'CPC003_HA1E_6H:BRD-A55594068-065-03-1:10': 0.26608090619778413, 'CPC003_HCC515_6H:BRD-A55594068-065-03-1:10': 0.26608090619778413, 'CPC003_PC3_6H:BRD-A55594068-065-03-1:10': 0.26608090619778413, 'CPC003_VCAP_6H:BRD-A55594068-065-03-1:10': 0.26608090619778413, 'CPC015_A375_6H:BRD-A55594068-065-03-1:10': 0.26608090619778413, 'CPC015_A549_6H:BRD-A55594068-065-03-1:10': 0.26608090619778413, 'CPC015_ASC_24H:BRD-A55594068-065-03-1:10': 0.26608090619778413, 'CPC015_HEPG2_6H:BRD-A55594068-065-03-1:10': 0.26608090619778413, 'CPC015_HT29_6H:BRD-A55594068-065-03-1:10': 0.26608090619778413, 'CPC015_MCF7_6H:BRD-A55594068-065-03-1:10': 0.26608090619778413, 'CPC015_NPC_24H:BRD-A55594068-065-03-1:10': 0.26608090619778413, 'CPC015_PHH_24H:BRD-A55594068-065-03-1:10': 0.26608090619778413, 'CPC015_SKB_24H:BRD-A55594068-065-03-1:10': 0.26608090619778413, 'CPC016_ASC_24H:BRD-A22783572-065-01-3:10': 0.26608090619778413, 'CPC016_NEU_24H:BRD-A22783572-065-01-3:10': 0.26608090619778413, 'CPC016_NPC_24H:BRD-A22783572-065-01-3:10': 0.26608090619778413, 'CPC016_SKB_24H:BRD-A22783572-065-01-3:10': 0.26608090619778413, 'CRCGN004_HA1E_24H:BRD-A85648045-001-01-6:10UM': 0.26608090619778413, 'CVD001_HEPG2_24H:BRD-K01188359-065-10-8:10': 0.26608090619778413, 'CVD001_HUH7_24H:BRD-K01188359-065-10-8:10': 0.26608090619778413, 'CVD001_PHH_24H:BRD-K01188359-065-10-8:2.5': 0.26608090619778413, 'MUC.CP006_MCF7_24H:BRD-A55594068-065-02-3:0.3704': 0.26608090619778413, 'AML001_CD34_6H:BRD-K93754473:13.4584': 0.21100763597636993, 'AML001_HL60_24H:BRD-K93754473:13.4584': 0.21100763597636993, 'AML001_PC3_6H:BRD-K93754473:13.4584': 0.21100763597636993, 'AML001_U937_6H:BRD-K93754473:1.49538': 0.21100763597636993, 'CPC005_A375_24H:BRD-K04210847-001-01-1:10': 0.21100763597636993, 'CPC005_A549_24H:BRD-K04210847-001-01-1:10': 0.21100763597636993, 'CPC005_HA1E_24H:BRD-K04210847-001-01-1:10': 0.21100763597636993, 'CPC005_HT29_24H:BRD-K04210847-001-01-1:10': 0.21100763597636993, 'CPC005_MCF7_24H:BRD-K04210847-001-01-1:10': 0.21100763597636993, 'CPC005_PC3_24H:BRD-K04210847-001-01-1:10': 0.21100763597636993, 'CPC005_VCAP_24H:BRD-K04210847-001-01-1:10': 0.21100763597636993, 'CPC006_A673_6H:BRD-K93754473-001-06-0:28.39': 0.21100763597636993, 'CPC006_AGS_6H:BRD-K93754473-001-06-0:28.39': 0.21100763597636993, 'CPC006_CL34_6H:BRD-K93754473-001-06-0:28.39': 0.21100763597636993, 'CPC006_CORL23_6H:BRD-K93754473-001-06-0:28.39': 0.21100763597636993, 'CPC006_COV644_6H:BRD-K93754473-001-06-0:28.39': 0.21100763597636993, 'CPC006_DV90_6H:BRD-K93754473-001-06-0:28.39': 0.21100763597636993, 'CPC006_EFO27_6H:BRD-K93754473-001-06-0:28.39': 0.21100763597636993, 'CPC006_H1299_6H:BRD-K93754473-001-06-0:28.39': 0.21100763597636993, 'CPC006_HCC15_6H:BRD-K93754473-001-06-0:28.39': 0.21100763597636993, 'CPC006_HCT116_6H:BRD-K93754473-001-06-0:28.39': 0.21100763597636993, 'CPC006_HEC108_6H:BRD-K93754473-001-06-0:28.39': 0.21100763597636993, 'CPC006_HT115_6H:BRD-K93754473-001-06-0:28.39': 0.21100763597636993, 'CPC006_JHUEM2_6H:BRD-K93754473-001-06-0:28.39': 0.21100763597636993, 'CPC006_LOVO_6H:BRD-K93754473-001-06-0:28.39': 0.21100763597636993, 'CPC006_MDST8_6H:BRD-K93754473-001-06-0:28.39': 0.21100763597636993, 'CPC006_NCIH1694_6H:BRD-K93754473-001-06-0:28.39': 0.21100763597636993, 'CPC006_NCIH1836_6H:BRD-K93754473-001-06-0:28.39': 0.21100763597636993, 'CPC006_NCIH2073_6H:BRD-K93754473-001-06-0:28.39': 0.21100763597636993, 'CPC006_NCIH508_6H:BRD-K93754473-001-06-0:28.39': 0.21100763597636993, 'CPC006_NCIH596_6H:BRD-K93754473-001-06-0:28.39': 0.21100763597636993, 'CPC006_NOMO1_6H:BRD-K93754473-001-06-0:28.39': 0.21100763597636993, 'CPC006_OV7_6H:BRD-K93754473-001-06-0:28.39': 0.21100763597636993, 'CPC006_PL21_6H:BRD-K93754473-001-06-0:28.39': 0.21100763597636993, 'CPC006_RKO_6H:BRD-K93754473-001-06-0:28.39': 0.21100763597636993, 'CPC006_RMGI_6H:BRD-K93754473-001-06-0:28.39': 0.21100763597636993, 'CPC006_RMUGS_6H:BRD-K93754473-001-06-0:28.39': 0.21100763597636993, 'CPC006_SKLU1_6H:BRD-K93754473-001-06-0:28.39': 0.21100763597636993, 'CPC006_SKM1_6H:BRD-K93754473-001-06-0:28.39': 0.21100763597636993, 'CPC006_SKMEL1_6H:BRD-K93754473-001-06-0:28.39': 0.21100763597636993, 'CPC006_SKMEL28_6H:BRD-K93754473-001-06-0:28.39': 0.21100763597636993, 'CPC006_SNGM_6H:BRD-K93754473-001-06-0:28.39': 0.21100763597636993, 'CPC006_SNU1040_6H:BRD-K93754473-001-06-0:28.39': 0.21100763597636993, 'CPC006_SNUC4_6H:BRD-K93754473-001-06-0:28.39': 0.21100763597636993, 'CPC006_SNUC5_6H:BRD-K93754473-001-06-0:28.39': 0.21100763597636993, 'CPC006_SW480_6H:BRD-K93754473-001-06-0:28.39': 0.21100763597636993, 'CPC006_SW620_6H:BRD-K93754473-001-06-0:28.39': 0.21100763597636993, 'CPC006_SW948_6H:BRD-K93754473-001-06-0:28.39': 0.21100763597636993, 'CPC006_T3M10_6H:BRD-K93754473-001-06-0:28.39': 0.21100763597636993, 'CPC006_THP1_6H:BRD-K93754473-001-06-0:28.39': 0.21100763597636993, 'CPC006_TYKNU_6H:BRD-K93754473-001-06-0:28.39': 0.21100763597636993, 'CPC006_WSUDLCL2_6H:BRD-K93754473-001-06-0:28.39': 0.21100763597636993, 'CPC015_ASC_24H:BRD-K43744935-048-01-6:10': 0.21100763597636993, 'CPC015_ASC_24H:BRD-K93754473-048-10-3:10': 0.21100763597636993, 'CPC015_NPC_24H:BRD-K43744935-048-01-6:10': 0.21100763597636993, 'CPC015_PHH_24H:BRD-K43744935-048-01-6:10': 0.21100763597636993, 'CPC015_PHH_24H:BRD-K93754473-048-10-3:10': 0.21100763597636993, 'CPC015_SKB_24H:BRD-K43744935-048-01-6:10': 0.21100763597636993, 'CPC015_SKB_24H:BRD-K93754473-048-10-3:10': 0.21100763597636993, 'CPC020_MCF7_24H:BRD-K93754473-001-15-1:10': 0.21100763597636993, 'NMH002_FIBRNPC_24H:BRD-K93754473-048-14-5:10': 0.21100763597636993, 'NMH002_NEU_6H:BRD-K93754473-001-16-9:10': 0.21100763597636993, 'NMH002_NPC_6H:BRD-K93754473-048-14-5:10': 0.21100763597636993, 'CPC004_HA1E_6H:BRD-A28746609-001-05-7:10': 0.14746191857241406, 'CPC004_HCC515_6H:BRD-A28746609-001-05-7:10': 0.14746191857241406, 'CPC004_HT29_6H:BRD-A28746609-001-05-7:10': 0.14746191857241406, 'CPC004_MCF7_6H:BRD-A28746609-001-05-7:10': 0.14746191857241406, 'CPC004_PC3_6H:BRD-A28746609-001-05-7:10': 0.14746191857241406, 'CPC004_VCAP_6H:BRD-A28746609-001-05-7:10': 0.14746191857241406, 'CPC015_A375_6H:BRD-A28746609-001-05-7:10': 0.14746191857241406, 'CPC015_A549_6H:BRD-A28746609-001-05-7:10': 0.14746191857241406, 'CPC015_ASC_24H:BRD-A28746609-001-05-7:10': 0.14746191857241406, 'CPC015_HEPG2_6H:BRD-A28746609-001-05-7:10': 0.14746191857241406, 'CPC015_NPC_24H:BRD-A28746609-001-05-7:10': 0.14746191857241406, 'CPC015_PHH_24H:BRD-A28746609-001-05-7:10': 0.14746191857241406, 'CPC015_SKB_24H:BRD-A28746609-001-05-7:10': 0.14746191857241406, 'CPC017_ASC_24H:BRD-A23723433-001-01-2:10': 0.14746191857241406, 'CPC017_NPC_24H:BRD-A23723433-001-01-2:10': 0.14746191857241406, 'CPC017_PHH_24H:BRD-A23723433-001-01-2:10': 0.14746191857241406, 'CPC017_SKB_24H:BRD-A23723433-001-01-2:10': 0.14746191857241406, 'CPD001_MCF7_24H:BRD-K86858124-001-01-2:10': 0.14746191857241406, 'CPD001_PC3_24H:BRD-K86858124-001-01-2:10': 0.14746191857241406, 'CRCGN001_HA1E_6H:BRD-A23723433-001-02-0:10': 0.14746191857241406, 'KHW001_HS27A_6H:BRD-A23723433-001-01-2:1': 0.14746191857241406, 'KHW001_SKM1_6H:BRD-A23723433-001-01-2:1': 0.14746191857241406, 'KHW001_U937_6H:BRD-A23723433-001-01-2:1': 0.14746191857241406, 'RAD001_A549_6H:BRD-A23723433-001-01-2:10': 0.14746191857241406, 'RAD001_HCC515_6H:BRD-A23723433-001-01-2:10': 0.14746191857241406, 'RAD001_MCF7_6H:BRD-A23723433-001-01-2:0.0046': 0.14746191857241406, 'RAD001_PC3_6H:BRD-A23723433-001-01-2:0.0015': 0.14746191857241406, 'CPC006_A375_6H:BRD-K85606544-001-01-8:10': 0.2258309616969612, 'CPC006_A549_6H:BRD-K85606544-001-01-8:10': 0.2258309616969612, 'CPC006_A673_6H:BRD-K85606544-001-01-8:10': 0.2258309616969612, 'CPC006_AGS_6H:BRD-K85606544-001-01-8:10': 0.2258309616969612, 'CPC006_CL34_6H:BRD-K85606544-001-01-8:10': 0.2258309616969612, 'CPC006_CORL23_6H:BRD-K85606544-001-01-8:10': 0.2258309616969612, 'CPC006_COV644_6H:BRD-K85606544-001-01-8:10': 0.2258309616969612, 'CPC006_DV90_6H:BRD-K85606544-001-01-8:10': 0.2258309616969612, 'CPC006_EFO27_6H:BRD-K85606544-001-01-8:10': 0.2258309616969612, 'CPC006_H1299_6H:BRD-K85606544-001-01-8:10': 0.2258309616969612, 'CPC006_HA1E_6H:BRD-K85606544-001-01-8:10': 0.2258309616969612, 'CPC006_HCC15_6H:BRD-K85606544-001-01-8:10': 0.2258309616969612, 'CPC006_HCC515_6H:BRD-K85606544-001-01-8:10': 0.2258309616969612, 'CPC006_HCT116_6H:BRD-K85606544-001-01-8:10': 0.2258309616969612, 'CPC006_HEC108_6H:BRD-K85606544-001-01-8:10': 0.2258309616969612, 'CPC006_HEPG2_6H:BRD-K85606544-001-01-8:10': 0.2258309616969612, 'CPC006_HT115_6H:BRD-K85606544-001-01-8:10': 0.2258309616969612, 'CPC006_HT29_6H:BRD-K85606544-001-01-8:10': 0.2258309616969612, 'CPC006_JHUEM2_6H:BRD-K85606544-001-01-8:10': 0.2258309616969612, 'CPC006_LOVO_6H:BRD-K85606544-001-01-8:10': 0.2258309616969612, 'CPC006_MDST8_6H:BRD-K85606544-001-01-8:10': 0.2258309616969612, 'CPC006_NCIH1694_6H:BRD-K85606544-001-01-8:10': 0.2258309616969612, 'CPC006_NCIH1836_6H:BRD-K85606544-001-01-8:10': 0.2258309616969612, 'CPC006_NCIH2073_6H:BRD-K85606544-001-01-8:10': 0.2258309616969612, 'CPC006_NCIH508_6H:BRD-K85606544-001-01-8:10': 0.2258309616969612, 'CPC006_NCIH596_6H:BRD-K85606544-001-01-8:10': 0.2258309616969612, 'CPC006_NOMO1_6H:BRD-K85606544-001-01-8:10': 0.2258309616969612, 'CPC006_OV7_6H:BRD-K85606544-001-01-8:10': 0.2258309616969612, 'CPC006_PC3_6H:BRD-K85606544-001-01-8:10': 0.2258309616969612, 'CPC006_PL21_6H:BRD-K85606544-001-01-8:10': 0.2258309616969612, 'CPC006_RKO_6H:BRD-K85606544-001-01-8:10': 0.2258309616969612, 'CPC006_RMGI_6H:BRD-K85606544-001-01-8:10': 0.2258309616969612, 'CPC006_RMUGS_6H:BRD-K85606544-001-01-8:10': 0.2258309616969612, 'CPC006_SKLU1_6H:BRD-K85606544-001-01-8:10': 0.2258309616969612, 'CPC006_SKM1_6H:BRD-K85606544-001-01-8:10': 0.2258309616969612, 'CPC006_SKMEL1_6H:BRD-K85606544-001-01-8:10': 0.2258309616969612, 'CPC006_SKMEL28_6H:BRD-K85606544-001-01-8:10': 0.2258309616969612, 'CPC006_SNGM_6H:BRD-K85606544-001-01-8:10': 0.2258309616969612, 'CPC006_SNU1040_6H:BRD-K85606544-001-01-8:10': 0.2258309616969612, 'CPC006_SNUC4_6H:BRD-K85606544-001-01-8:10': 0.2258309616969612, 'CPC006_SNUC5_6H:BRD-K85606544-001-01-8:10': 0.2258309616969612, 'CPC006_SW480_6H:BRD-K85606544-001-01-8:10': 0.2258309616969612, 'CPC006_SW620_6H:BRD-K85606544-001-01-8:10': 0.2258309616969612, 'CPC006_SW948_6H:BRD-K85606544-001-01-8:10': 0.2258309616969612, 'CPC006_T3M10_6H:BRD-K85606544-001-01-8:10': 0.2258309616969612, 'CPC006_THP1_6H:BRD-K85606544-001-01-8:10': 0.2258309616969612, 'CPC006_TYKNU_6H:BRD-K85606544-001-01-8:10': 0.2258309616969612, 'CPC006_U937_6H:BRD-K85606544-001-01-8:10': 0.2258309616969612, 'CPC006_VCAP_6H:BRD-K85606544-001-01-8:10': 0.2258309616969612, 'CPC006_WSUDLCL2_6H:BRD-K85606544-001-01-8:10': 0.2258309616969612, 'LJP001_BT20_24H:BRD-K85606544-001-04-2:10': 0.2258309616969612, 'LJP001_HS578T_24H:BRD-K85606544-001-04-2:10': 0.2258309616969612, 'LJP001_MCF10A_24H:BRD-K85606544-001-04-2:10': 0.2258309616969612, 'LJP001_MCF7_6H:BRD-K85606544-001-04-2:10': 0.2258309616969612, 'LJP001_MDAMB231_24H:BRD-K85606544-001-04-2:10': 0.2258309616969612, 'LJP001_SKBR3_24H:BRD-K85606544-001-04-2:10': 0.2258309616969612}"
      ]
     },
     "execution_count": 34,
     "metadata": {},
     "output_type": "execute_result"
    }
   ],
   "source": [
    "%%skip_on_import\n",
    "scores_indications"
   ]
  },
  {
   "cell_type": "code",
   "execution_count": null,
   "metadata": {},
   "outputs": [
    {
     "name": "stdout",
     "output_type": "stream",
     "text": [
      "Retaining 12276 genes: 99.58% of signature genes and 59.79% of query genes\n",
      "Selected only 12276 genes out of 1000 allowed.\n",
      "Following columns contain nulls and will be skipped: ['NMH002_FIBRNPC_24H:BRD-A56518012-003-03-7:10_control_control', 'NMH002_NEU_6H:BRD-A56518012-003-03-7:10_control_control', 'NMH002_NPC_6H:BRD-A56518012-003-03-7:10_control_control']\n",
      "Following columns contain nulls and will be skipped: ['CPC020_VCAP_6H:BRD-A09722536-002-13-1:10_control_control']\n",
      "Following columns contain nulls and will be skipped: ['LJP001_MCF10A_6H:BRD-K19687926-379-03-3:10_control_control', 'LJP001_MDAMB231_24H:BRD-K19687926-379-03-3:10_control_control']\n",
      "Following columns contain nulls and will be skipped: ['CPC014_A549_6H:BRD-K51313569-001-02-9:10_control_control', 'CPC014_ASC_24H:BRD-K51313569-001-02-9:10_control_control', 'LJP001_HS578T_24H:BRD-K51313569-001-03-7:10_control_control', 'LJP001_MDAMB231_24H:BRD-K51313569-001-03-7:0.4_control_control']\n",
      "Following columns contain nulls and will be skipped: ['CPC006_NOMO1_6H:BRD-K85606544-001-01-8:10_control_control', 'CPC006_THP1_6H:BRD-K85606544-001-01-8:10_control_control', 'LJP001_HS578T_24H:BRD-K85606544-001-04-2:10_control_control', 'LJP001_MDAMB231_24H:BRD-K85606544-001-04-2:10_control_control']\n",
      "Following columns contain nulls and will be skipped: ['AML001_CD34_6H:BRD-K93754473:13.4584_control_control', 'AML001_HL60_24H:BRD-K93754473:13.4584_control_control', 'CPC006_NOMO1_6H:BRD-K93754473-001-06-0:28.39_control_control', 'CPC006_THP1_6H:BRD-K93754473-001-06-0:28.39_control_control', 'NMH002_FIBRNPC_24H:BRD-K93754473-048-14-5:10_control_control', 'NMH002_NEU_6H:BRD-K93754473-001-16-9:10_control_control', 'NMH002_NPC_6H:BRD-K93754473-048-14-5:10_control_control']\n",
      "Following columns contain nulls and will be skipped: ['CPC015_SKB_24H:BRD-A55594068-065-03-1:10_control_control']\n"
     ]
    }
   ],
   "source": [
    "%%skip_on_import\n",
    "scores_indications = score_signatures(\n",
    "    plage_score_by_substance,\n",
    "    data.brca_with_controls, data.indications_with_controls,\n",
    "    progress=False, processes=12,\n",
    ")"
   ]
  },
  {
   "cell_type": "code",
   "execution_count": null,
   "metadata": {},
   "outputs": [
    {
     "data": {
      "text/html": [
       "<div>\n",
       "<style scoped>\n",
       "    .dataframe tbody tr th:only-of-type {\n",
       "        vertical-align: middle;\n",
       "    }\n",
       "\n",
       "    .dataframe tbody tr th {\n",
       "        vertical-align: top;\n",
       "    }\n",
       "\n",
       "    .dataframe thead th {\n",
       "        text-align: right;\n",
       "    }\n",
       "</style>\n",
       "<table border=\"1\" class=\"dataframe\">\n",
       "  <thead>\n",
       "    <tr style=\"text-align: right;\">\n",
       "      <th></th>\n",
       "      <th>score</th>\n",
       "      <th>sig_id</th>\n",
       "      <th>pert_id</th>\n",
       "      <th>pert_iname</th>\n",
       "      <th>pert_type</th>\n",
       "      <th>...</th>\n",
       "      <th>pert_dose_unit</th>\n",
       "      <th>pert_idose</th>\n",
       "      <th>pert_time</th>\n",
       "      <th>pert_time_unit</th>\n",
       "      <th>pert_itime</th>\n",
       "    </tr>\n",
       "  </thead>\n",
       "  <tbody>\n",
       "    <tr>\n",
       "      <th>178</th>\n",
       "      <td>0.326742</td>\n",
       "      <td>CPC003_VCAP_6H:BRD-A55594068-065-03-1:10</td>\n",
       "      <td>BRD-A55594068</td>\n",
       "      <td>vinblastine</td>\n",
       "      <td>trt_cp</td>\n",
       "      <td>...</td>\n",
       "      <td>µM</td>\n",
       "      <td>10 µM</td>\n",
       "      <td>6</td>\n",
       "      <td>h</td>\n",
       "      <td>6 h</td>\n",
       "    </tr>\n",
       "    <tr>\n",
       "      <th>179</th>\n",
       "      <td>0.326742</td>\n",
       "      <td>CPC015_A375_6H:BRD-A55594068-065-03-1:10</td>\n",
       "      <td>BRD-A55594068</td>\n",
       "      <td>vinblastine</td>\n",
       "      <td>trt_cp</td>\n",
       "      <td>...</td>\n",
       "      <td>µM</td>\n",
       "      <td>10 µM</td>\n",
       "      <td>6</td>\n",
       "      <td>h</td>\n",
       "      <td>6 h</td>\n",
       "    </tr>\n",
       "    <tr>\n",
       "      <th>195</th>\n",
       "      <td>0.326742</td>\n",
       "      <td>CVD001_PHH_24H:BRD-K01188359-065-10-8:2.5</td>\n",
       "      <td>BRD-K01188359</td>\n",
       "      <td>vinblastine</td>\n",
       "      <td>trt_cp</td>\n",
       "      <td>...</td>\n",
       "      <td>µM</td>\n",
       "      <td>3 µM</td>\n",
       "      <td>24</td>\n",
       "      <td>h</td>\n",
       "      <td>24 h</td>\n",
       "    </tr>\n",
       "    <tr>\n",
       "      <th>194</th>\n",
       "      <td>0.326742</td>\n",
       "      <td>CVD001_HUH7_24H:BRD-K01188359-065-10-8:10</td>\n",
       "      <td>BRD-K01188359</td>\n",
       "      <td>vinblastine</td>\n",
       "      <td>trt_cp</td>\n",
       "      <td>...</td>\n",
       "      <td>µM</td>\n",
       "      <td>10 µM</td>\n",
       "      <td>24</td>\n",
       "      <td>h</td>\n",
       "      <td>24 h</td>\n",
       "    </tr>\n",
       "    <tr>\n",
       "      <th>193</th>\n",
       "      <td>0.326742</td>\n",
       "      <td>CVD001_HEPG2_24H:BRD-K01188359-065-10-8:10</td>\n",
       "      <td>BRD-K01188359</td>\n",
       "      <td>vinblastine</td>\n",
       "      <td>trt_cp</td>\n",
       "      <td>...</td>\n",
       "      <td>µM</td>\n",
       "      <td>10 µM</td>\n",
       "      <td>24</td>\n",
       "      <td>h</td>\n",
       "      <td>24 h</td>\n",
       "    </tr>\n",
       "    <tr>\n",
       "      <th>...</th>\n",
       "      <td>...</td>\n",
       "      <td>...</td>\n",
       "      <td>...</td>\n",
       "      <td>...</td>\n",
       "      <td>...</td>\n",
       "      <td>...</td>\n",
       "      <td>...</td>\n",
       "      <td>...</td>\n",
       "      <td>...</td>\n",
       "      <td>...</td>\n",
       "      <td>...</td>\n",
       "    </tr>\n",
       "    <tr>\n",
       "      <th>31</th>\n",
       "      <td>-1.302662</td>\n",
       "      <td>CPC004_HA1E_6H:BRD-K04548931-003-05-8:10</td>\n",
       "      <td>BRD-K04548931</td>\n",
       "      <td>epirubicin</td>\n",
       "      <td>trt_cp</td>\n",
       "      <td>...</td>\n",
       "      <td>µM</td>\n",
       "      <td>10 µM</td>\n",
       "      <td>6</td>\n",
       "      <td>h</td>\n",
       "      <td>6 h</td>\n",
       "    </tr>\n",
       "    <tr>\n",
       "      <th>32</th>\n",
       "      <td>-1.302662</td>\n",
       "      <td>CPC004_HCC515_6H:BRD-K04548931-003-05-8:10</td>\n",
       "      <td>BRD-K04548931</td>\n",
       "      <td>epirubicin</td>\n",
       "      <td>trt_cp</td>\n",
       "      <td>...</td>\n",
       "      <td>µM</td>\n",
       "      <td>10 µM</td>\n",
       "      <td>6</td>\n",
       "      <td>h</td>\n",
       "      <td>6 h</td>\n",
       "    </tr>\n",
       "    <tr>\n",
       "      <th>33</th>\n",
       "      <td>-1.302662</td>\n",
       "      <td>CPC004_HEPG2_6H:BRD-K04548931-003-05-8:10</td>\n",
       "      <td>BRD-K04548931</td>\n",
       "      <td>epirubicin</td>\n",
       "      <td>trt_cp</td>\n",
       "      <td>...</td>\n",
       "      <td>µM</td>\n",
       "      <td>10 µM</td>\n",
       "      <td>6</td>\n",
       "      <td>h</td>\n",
       "      <td>6 h</td>\n",
       "    </tr>\n",
       "    <tr>\n",
       "      <th>34</th>\n",
       "      <td>-1.302662</td>\n",
       "      <td>CPC004_PC3_6H:BRD-K04548931-003-05-8:10</td>\n",
       "      <td>BRD-K04548931</td>\n",
       "      <td>epirubicin</td>\n",
       "      <td>trt_cp</td>\n",
       "      <td>...</td>\n",
       "      <td>µM</td>\n",
       "      <td>10 µM</td>\n",
       "      <td>6</td>\n",
       "      <td>h</td>\n",
       "      <td>6 h</td>\n",
       "    </tr>\n",
       "    <tr>\n",
       "      <th>35</th>\n",
       "      <td>-1.302662</td>\n",
       "      <td>CPC004_VCAP_6H:BRD-K04548931-003-05-8:10</td>\n",
       "      <td>BRD-K04548931</td>\n",
       "      <td>epirubicin</td>\n",
       "      <td>trt_cp</td>\n",
       "      <td>...</td>\n",
       "      <td>µM</td>\n",
       "      <td>10 µM</td>\n",
       "      <td>6</td>\n",
       "      <td>h</td>\n",
       "      <td>6 h</td>\n",
       "    </tr>\n",
       "  </tbody>\n",
       "</table>\n",
       "<p>316 rows × 12 columns</p>\n",
       "</div>"
      ],
      "text/plain": [
       "{'CPC003_HA1E_6H:BRD-K92093830-003-05-0:10': 0.21638578028331545, 'CPC003_HCC515_6H:BRD-K92093830-003-05-0:10': 0.21638578028331545, 'CPC011_A549_6H:BRD-K92093830-003-23-3:10': 0.21638578028331545, 'CPC011_VCAP_6H:BRD-K92093830-003-23-3:10': 0.21638578028331545, 'CPC015_A375_6H:BRD-K92093830-003-05-0:10': 0.21638578028331545, 'CPC015_ASC_24H:BRD-K92093830-003-05-0:10': 0.21638578028331545, 'CPC015_HEPG2_6H:BRD-K92093830-003-05-0:10': 0.21638578028331545, 'CPC015_HT29_6H:BRD-K92093830-003-05-0:10': 0.21638578028331545, 'CPC015_PHH_24H:BRD-K92093830-003-05-0:10': 0.21638578028331545, 'CPC015_SKB_24H:BRD-K92093830-003-05-0:10': 0.21638578028331545, 'CPC018_ASC_24H:BRD-A52530684-001-01-1:10': 0.21638578028331545, 'CPC018_PHH_24H:BRD-A52530684-001-01-1:10': 0.21638578028331545, 'CPC018_SKB_24H:BRD-A52530684-001-01-1:10': 0.21638578028331545, 'CPD002_PC3_6H:BRD-K92093830-003-21-7:10': 0.21638578028331545, 'CRCGN001_HA1E_24H:BRD-A76941896-003-04-6:10.2': 0.21638578028331545, 'HOG002_MCF7_6H:BRD-K92093830-003-18-3:10': 0.21638578028331545, 'CPC003_HA1E_6H:BRD-A31801025-001-01-0:10': -0.06663632316674513, 'CPC003_HCC515_6H:BRD-A31801025-001-01-0:10': -0.06663632316674513, 'CPC003_PC3_6H:BRD-A31801025-001-01-0:10': -0.06663632316674513, 'CPC003_VCAP_6H:BRD-A31801025-001-01-0:10': -0.06663632316674513, 'CPC015_A375_6H:BRD-A31801025-001-01-0:10': -0.06663632316674513, 'CPC015_A549_6H:BRD-A31801025-001-01-0:10': -0.06663632316674513, 'CPC015_ASC_24H:BRD-A31801025-001-01-0:10': -0.06663632316674513, 'CPC015_HEPG2_6H:BRD-A31801025-001-01-0:10': -0.06663632316674513, 'CPC015_HT29_6H:BRD-A31801025-001-01-0:10': -0.06663632316674513, 'CPC015_MCF7_6H:BRD-A31801025-001-01-0:10': -0.06663632316674513, 'CPC015_NPC_24H:BRD-A31801025-001-01-0:10': -0.06663632316674513, 'CPC015_PHH_24H:BRD-A31801025-001-01-0:10': -0.06663632316674513, 'CPC015_SKB_24H:BRD-A31801025-001-01-0:10': -0.06663632316674513, 'CPD003_MCF7_24H:BRD-A42153648-001-01-0:10': -0.06663632316674513, 'CPD003_PC3_6H:BRD-A42153648-001-01-0:10': -0.06663632316674513, 'CPC004_HA1E_6H:BRD-K04548931-003-05-8:10': -1.3026623040292196, 'CPC004_HCC515_6H:BRD-K04548931-003-05-8:10': -1.3026623040292196, 'CPC004_HEPG2_6H:BRD-K04548931-003-05-8:10': -1.3026623040292196, 'CPC004_PC3_6H:BRD-K04548931-003-05-8:10': -1.3026623040292196, 'CPC004_VCAP_6H:BRD-K04548931-003-05-8:10': -1.3026623040292196, 'CPC011_A549_6H:BRD-K04548931-003-11-6:10': -1.3026623040292196, 'CPC015_A375_6H:BRD-K04548931-003-05-8:10': -1.3026623040292196, 'CPC015_ASC_24H:BRD-K04548931-003-05-8:10': -1.3026623040292196, 'CPC015_HT29_6H:BRD-K04548931-003-05-8:10': -1.3026623040292196, 'CPC015_MCF7_6H:BRD-K04548931-003-05-8:10': -1.3026623040292196, 'CPC015_PHH_24H:BRD-K04548931-003-05-8:10': -1.3026623040292196, 'CPC015_SKB_24H:BRD-K04548931-003-05-8:10': -1.3026623040292196, 'NMH002_FIBRNPC_24H:BRD-A56518012-003-03-7:10': -1.3026623040292196, 'NMH002_NEU_6H:BRD-A56518012-003-03-7:10': -1.3026623040292196, 'NMH002_NPC_6H:BRD-A56518012-003-03-7:10': -1.3026623040292196, 'CPC011_A375_6H:BRD-K59456551-002-15-8:10': -0.6726618015121036, 'CPC011_A549_6H:BRD-K59456551-002-15-8:10': -0.6726618015121036, 'CPC011_HA1E_6H:BRD-K59456551-002-15-8:10': -0.6726618015121036, 'CPC011_HT29_6H:BRD-K59456551-002-15-8:10': -0.6726618015121036, 'CPC011_PC3_6H:BRD-K59456551-002-15-8:10': -0.6726618015121036, 'CPC011_VCAP_6H:BRD-K59456551-002-15-8:10': -0.6726618015121036, 'CPD001_MCF7_24H:BRD-A55424491-001-13-2:10': -0.6726618015121036, 'CPD001_MCF7_6H:BRD-K59456551-001-12-7:10': -0.6726618015121036, 'CPD001_PC3_24H:BRD-A55424491-001-13-2:10': -0.6726618015121036, 'CRCGN001_HA1E_24H:BRD-A55424491-001-16-5:10': -0.6726618015121036, 'MUC.CP002_NKDBA_24H:BRD-A55424491-001-10-8:1.1111': -0.6726618015121036, 'CPC020_A375_6H:BRD-A09722536-002-13-1:10': -1.0923588804605115, 'CPC020_A549_6H:BRD-A09722536-002-09-9:10': -1.0923588804605115, 'CPC020_HA1E_6H:BRD-A09722536-002-13-1:10': -1.0923588804605115, 'CPC020_HCC515_6H:BRD-A09722536-002-09-9:10': -1.0923588804605115, 'CPC020_HT29_6H:BRD-A09722536-002-13-1:10': -1.0923588804605115, 'CPC020_VCAP_6H:BRD-A09722536-002-13-1:10': -1.0923588804605115, 'CPD003_MCF7_6H:BRD-A09722536-001-01-8:10': -1.0923588804605115, 'CPD003_PC3_6H:BRD-A09722536-001-01-8:10': -1.0923588804605115, 'CRCGN001_HA1E_6H:BRD-A09722536-002-14-9:20.2': -1.0923588804605115, 'CPC011_A375_6H:BRD-K63265447-001-05-8:10': -0.12578513618805798, 'CPC011_A549_6H:BRD-K63265447-001-05-8:10': -0.12578513618805798, 'CPC011_HA1E_6H:BRD-K63265447-001-05-8:10': -0.12578513618805798, 'CPC011_HT29_6H:BRD-K63265447-001-05-8:10': -0.12578513618805798, 'CPC011_MCF7_6H:BRD-K63265447-001-05-8:10': -0.12578513618805798, 'CPC011_PC3_6H:BRD-K63265447-001-05-8:10': -0.12578513618805798, 'CPC011_VCAP_6H:BRD-K63265447-001-05-8:10': -0.12578513618805798, 'CPC013_ASC_24H:BRD-K42125900-001-01-9:10': -0.12578513618805798, 'CPC013_NEU_24H:BRD-K42125900-001-01-9:10': -0.12578513618805798, 'CPC013_NPC_24H:BRD-K42125900-001-01-9:10': -0.12578513618805798, 'CPC013_SKB_24H:BRD-K42125900-001-01-9:10': -0.12578513618805798, 'CPD003_MCF7_24H:BRD-K30618791-001-01-9:10': -0.12578513618805798, 'CPD003_PC3_6H:BRD-K30618791-001-01-9:10': -0.12578513618805798, 'CPC004_HA1E_6H:BRD-K09631521-001-05-7:10': -0.25769195093432484, 'CPC004_HCC515_6H:BRD-K09631521-001-05-7:10': -0.25769195093432484, 'CPC004_HEPG2_6H:BRD-K09631521-001-05-7:10': -0.25769195093432484, 'CPC004_PC3_6H:BRD-K09631521-001-05-7:10': -0.25769195093432484, 'CPC004_VCAP_6H:BRD-K09631521-001-05-7:10': -0.25769195093432484, 'CPC015_A375_6H:BRD-K09631521-001-05-7:10': -0.25769195093432484, 'CPC015_A549_6H:BRD-K09631521-001-05-7:10': -0.25769195093432484, 'CPC015_ASC_24H:BRD-K09631521-001-05-7:10': -0.25769195093432484, 'CPC015_HT29_6H:BRD-K09631521-001-05-7:10': -0.25769195093432484, 'CPC015_MCF7_6H:BRD-K09631521-001-05-7:10': -0.25769195093432484, 'CPC015_NPC_24H:BRD-K09631521-001-05-7:10': -0.25769195093432484, 'CPC015_PHH_24H:BRD-K09631521-001-05-7:10': -0.25769195093432484, 'CPC015_SKB_24H:BRD-K09631521-001-05-7:10': -0.25769195093432484, 'CPC014_A375_6H:BRD-K13514097-001-01-2:10': -0.45342801932286114, 'CPC014_A549_6H:BRD-K13514097-001-01-2:10': -0.45342801932286114, 'CPC014_ASC_24H:BRD-K13514097-001-01-2:10': -0.45342801932286114, 'CPC014_HA1E_6H:BRD-K13514097-001-01-2:10': -0.45342801932286114, 'CPC014_HCC515_6H:BRD-K13514097-001-01-2:10': -0.45342801932286114, 'CPC014_HEPG2_6H:BRD-K13514097-001-01-2:10': -0.45342801932286114, 'CPC014_HT29_6H:BRD-K13514097-001-01-2:10': -0.45342801932286114, 'CPC014_MCF7_6H:BRD-K13514097-001-01-2:10': -0.45342801932286114, 'CPC014_NEU_24H:BRD-K13514097-001-01-2:10': -0.45342801932286114, 'CPC014_NPC_24H:BRD-K13514097-001-01-2:10': -0.45342801932286114, 'CPC014_PC3_6H:BRD-K13514097-001-01-2:10': -0.45342801932286114, 'CPC014_PHH_24H:BRD-K13514097-001-01-2:10': -0.45342801932286114, 'CPC014_SKB_24H:BRD-K13514097-001-01-2:10': -0.45342801932286114, 'CPC014_VCAP_6H:BRD-K13514097-001-01-2:10': -0.45342801932286114, 'CPC004_HA1E_6H:BRD-A28746609-001-05-7:10': -0.11603975693768273, 'CPC004_HCC515_6H:BRD-A28746609-001-05-7:10': -0.11603975693768273, 'CPC004_HT29_6H:BRD-A28746609-001-05-7:10': -0.11603975693768273, 'CPC004_MCF7_6H:BRD-A28746609-001-05-7:10': -0.11603975693768273, 'CPC004_PC3_6H:BRD-A28746609-001-05-7:10': -0.11603975693768273, 'CPC004_VCAP_6H:BRD-A28746609-001-05-7:10': -0.11603975693768273, 'CPC015_A375_6H:BRD-A28746609-001-05-7:10': -0.11603975693768273, 'CPC015_A549_6H:BRD-A28746609-001-05-7:10': -0.11603975693768273, 'CPC015_ASC_24H:BRD-A28746609-001-05-7:10': -0.11603975693768273, 'CPC015_HEPG2_6H:BRD-A28746609-001-05-7:10': -0.11603975693768273, 'CPC015_NPC_24H:BRD-A28746609-001-05-7:10': -0.11603975693768273, 'CPC015_PHH_24H:BRD-A28746609-001-05-7:10': -0.11603975693768273, 'CPC015_SKB_24H:BRD-A28746609-001-05-7:10': -0.11603975693768273, 'CPC017_ASC_24H:BRD-A23723433-001-01-2:10': -0.11603975693768273, 'CPC017_NPC_24H:BRD-A23723433-001-01-2:10': -0.11603975693768273, 'CPC017_PHH_24H:BRD-A23723433-001-01-2:10': -0.11603975693768273, 'CPC017_SKB_24H:BRD-A23723433-001-01-2:10': -0.11603975693768273, 'CPD001_MCF7_24H:BRD-K86858124-001-01-2:10': -0.11603975693768273, 'CPD001_PC3_24H:BRD-K86858124-001-01-2:10': -0.11603975693768273, 'CRCGN001_HA1E_6H:BRD-A23723433-001-02-0:10': -0.11603975693768273, 'KHW001_HS27A_6H:BRD-A23723433-001-01-2:1': -0.11603975693768273, 'KHW001_SKM1_6H:BRD-A23723433-001-01-2:1': -0.11603975693768273, 'KHW001_U937_6H:BRD-A23723433-001-01-2:1': -0.11603975693768273, 'RAD001_A549_6H:BRD-A23723433-001-01-2:10': -0.11603975693768273, 'RAD001_HCC515_6H:BRD-A23723433-001-01-2:10': -0.11603975693768273, 'RAD001_MCF7_6H:BRD-A23723433-001-01-2:0.0046': -0.11603975693768273, 'RAD001_PC3_6H:BRD-A23723433-001-01-2:0.0015': -0.11603975693768273, 'CPC012_A375_6H:BRD-M07438658-001-01-1:10': 0.18709350951806292, 'CPC012_A549_6H:BRD-M07438658-001-01-1:10': 0.18709350951806292, 'CPC012_ASC_24H:BRD-M07438658-001-01-1:10': 0.18709350951806292, 'CPC012_HA1E_6H:BRD-M07438658-001-01-1:10': 0.18709350951806292, 'CPC012_HCC515_6H:BRD-M07438658-001-01-1:10': 0.18709350951806292, 'CPC012_HT29_6H:BRD-M07438658-001-01-1:10': 0.18709350951806292, 'CPC012_MCF7_6H:BRD-M07438658-001-01-1:10': 0.18709350951806292, 'CPC012_NEU_24H:BRD-M07438658-001-01-1:10': 0.18709350951806292, 'CPC012_NPC_24H:BRD-M07438658-001-01-1:10': 0.18709350951806292, 'CPC012_PC3_6H:BRD-M07438658-001-01-1:10': 0.18709350951806292, 'CPC012_PHH_24H:BRD-M07438658-001-01-1:10': 0.18709350951806292, 'CPC012_SKB_24H:BRD-M07438658-001-01-1:10': 0.18709350951806292, 'CPC012_VCAP_6H:BRD-M07438658-001-01-1:10': 0.18709350951806292, 'CPC014_ASC_24H:BRD-K19687926-379-01-7:10': 0.18709350951806292, 'CPC014_NEU_24H:BRD-K19687926-379-01-7:10': 0.18709350951806292, 'CPC014_NPC_24H:BRD-K19687926-379-01-7:10': 0.18709350951806292, 'CPC014_PHH_24H:BRD-K19687926-379-01-7:10': 0.18709350951806292, 'CPC014_SKB_24H:BRD-K19687926-379-01-7:10': 0.18709350951806292, 'LJP001_BT20_24H:BRD-K19687926-379-03-3:10': 0.18709350951806292, 'LJP001_HS578T_6H:BRD-K19687926-379-03-3:0.4': 0.18709350951806292, 'LJP001_MCF10A_6H:BRD-K19687926-379-03-3:10': 0.18709350951806292, 'LJP001_MDAMB231_24H:BRD-K19687926-379-03-3:10': 0.18709350951806292, 'LJP001_SKBR3_24H:BRD-K19687926-379-03-3:10': 0.18709350951806292, 'CPC014_A375_6H:BRD-K51313569-001-02-9:10': -0.7361616801807592, 'CPC014_A549_6H:BRD-K51313569-001-02-9:10': -0.7361616801807592, 'CPC014_ASC_24H:BRD-K51313569-001-02-9:10': -0.7361616801807592, 'CPC014_HA1E_6H:BRD-K51313569-001-02-9:10': -0.7361616801807592, 'CPC014_HCC515_6H:BRD-K51313569-001-02-9:10': -0.7361616801807592, 'CPC014_HEPG2_6H:BRD-K51313569-001-02-9:10': -0.7361616801807592, 'CPC014_HT29_6H:BRD-K51313569-001-02-9:10': -0.7361616801807592, 'CPC014_MCF7_6H:BRD-K51313569-001-02-9:10': -0.7361616801807592, 'CPC014_NEU_24H:BRD-K51313569-001-02-9:10': -0.7361616801807592, 'CPC014_NPC_24H:BRD-K51313569-001-02-9:10': -0.7361616801807592, 'CPC014_PC3_6H:BRD-K51313569-001-02-9:10': -0.7361616801807592, 'CPC014_PHH_24H:BRD-K51313569-001-02-9:10': -0.7361616801807592, 'CPC014_SKB_24H:BRD-K51313569-001-02-9:10': -0.7361616801807592, 'CPC014_VCAP_6H:BRD-K51313569-001-02-9:10': -0.7361616801807592, 'LJP001_BT20_24H:BRD-K51313569-001-03-7:10': -0.7361616801807592, 'LJP001_HS578T_24H:BRD-K51313569-001-03-7:10': -0.7361616801807592, 'LJP001_MCF10A_24H:BRD-K51313569-001-03-7:10': -0.7361616801807592, 'LJP001_MDAMB231_24H:BRD-K51313569-001-03-7:0.4': -0.7361616801807592, 'LJP001_SKBR3_24H:BRD-K51313569-001-03-7:2': -0.7361616801807592, 'CPC003_HA1E_6H:BRD-A55594068-065-03-1:10': 0.3267420915735836, 'CPC003_HCC515_6H:BRD-A55594068-065-03-1:10': 0.3267420915735836, 'CPC003_PC3_6H:BRD-A55594068-065-03-1:10': 0.3267420915735836, 'CPC003_VCAP_6H:BRD-A55594068-065-03-1:10': 0.3267420915735836, 'CPC015_A375_6H:BRD-A55594068-065-03-1:10': 0.3267420915735836, 'CPC015_A549_6H:BRD-A55594068-065-03-1:10': 0.3267420915735836, 'CPC015_ASC_24H:BRD-A55594068-065-03-1:10': 0.3267420915735836, 'CPC015_HEPG2_6H:BRD-A55594068-065-03-1:10': 0.3267420915735836, 'CPC015_HT29_6H:BRD-A55594068-065-03-1:10': 0.3267420915735836, 'CPC015_MCF7_6H:BRD-A55594068-065-03-1:10': 0.3267420915735836, 'CPC015_NPC_24H:BRD-A55594068-065-03-1:10': 0.3267420915735836, 'CPC015_PHH_24H:BRD-A55594068-065-03-1:10': 0.3267420915735836, 'CPC015_SKB_24H:BRD-A55594068-065-03-1:10': 0.3267420915735836, 'CPC016_ASC_24H:BRD-A22783572-065-01-3:10': 0.3267420915735836, 'CPC016_NEU_24H:BRD-A22783572-065-01-3:10': 0.3267420915735836, 'CPC016_NPC_24H:BRD-A22783572-065-01-3:10': 0.3267420915735836, 'CPC016_SKB_24H:BRD-A22783572-065-01-3:10': 0.3267420915735836, 'CRCGN004_HA1E_24H:BRD-A85648045-001-01-6:10UM': 0.3267420915735836, 'CVD001_HEPG2_24H:BRD-K01188359-065-10-8:10': 0.3267420915735836, 'CVD001_HUH7_24H:BRD-K01188359-065-10-8:10': 0.3267420915735836, 'CVD001_PHH_24H:BRD-K01188359-065-10-8:2.5': 0.3267420915735836, 'MUC.CP006_MCF7_24H:BRD-A55594068-065-02-3:0.3704': 0.3267420915735836, 'CPC006_A375_6H:BRD-K85606544-001-01-8:10': 0.02940342253400505, 'CPC006_A549_6H:BRD-K85606544-001-01-8:10': 0.02940342253400505, 'CPC006_A673_6H:BRD-K85606544-001-01-8:10': 0.02940342253400505, 'CPC006_AGS_6H:BRD-K85606544-001-01-8:10': 0.02940342253400505, 'CPC006_CL34_6H:BRD-K85606544-001-01-8:10': 0.02940342253400505, 'CPC006_CORL23_6H:BRD-K85606544-001-01-8:10': 0.02940342253400505, 'CPC006_COV644_6H:BRD-K85606544-001-01-8:10': 0.02940342253400505, 'CPC006_DV90_6H:BRD-K85606544-001-01-8:10': 0.02940342253400505, 'CPC006_EFO27_6H:BRD-K85606544-001-01-8:10': 0.02940342253400505, 'CPC006_H1299_6H:BRD-K85606544-001-01-8:10': 0.02940342253400505, 'CPC006_HA1E_6H:BRD-K85606544-001-01-8:10': 0.02940342253400505, 'CPC006_HCC15_6H:BRD-K85606544-001-01-8:10': 0.02940342253400505, 'CPC006_HCC515_6H:BRD-K85606544-001-01-8:10': 0.02940342253400505, 'CPC006_HCT116_6H:BRD-K85606544-001-01-8:10': 0.02940342253400505, 'CPC006_HEC108_6H:BRD-K85606544-001-01-8:10': 0.02940342253400505, 'CPC006_HEPG2_6H:BRD-K85606544-001-01-8:10': 0.02940342253400505, 'CPC006_HT115_6H:BRD-K85606544-001-01-8:10': 0.02940342253400505, 'CPC006_HT29_6H:BRD-K85606544-001-01-8:10': 0.02940342253400505, 'CPC006_JHUEM2_6H:BRD-K85606544-001-01-8:10': 0.02940342253400505, 'CPC006_LOVO_6H:BRD-K85606544-001-01-8:10': 0.02940342253400505, 'CPC006_MDST8_6H:BRD-K85606544-001-01-8:10': 0.02940342253400505, 'CPC006_NCIH1694_6H:BRD-K85606544-001-01-8:10': 0.02940342253400505, 'CPC006_NCIH1836_6H:BRD-K85606544-001-01-8:10': 0.02940342253400505, 'CPC006_NCIH2073_6H:BRD-K85606544-001-01-8:10': 0.02940342253400505, 'CPC006_NCIH508_6H:BRD-K85606544-001-01-8:10': 0.02940342253400505, 'CPC006_NCIH596_6H:BRD-K85606544-001-01-8:10': 0.02940342253400505, 'CPC006_NOMO1_6H:BRD-K85606544-001-01-8:10': 0.02940342253400505, 'CPC006_OV7_6H:BRD-K85606544-001-01-8:10': 0.02940342253400505, 'CPC006_PC3_6H:BRD-K85606544-001-01-8:10': 0.02940342253400505, 'CPC006_PL21_6H:BRD-K85606544-001-01-8:10': 0.02940342253400505, 'CPC006_RKO_6H:BRD-K85606544-001-01-8:10': 0.02940342253400505, 'CPC006_RMGI_6H:BRD-K85606544-001-01-8:10': 0.02940342253400505, 'CPC006_RMUGS_6H:BRD-K85606544-001-01-8:10': 0.02940342253400505, 'CPC006_SKLU1_6H:BRD-K85606544-001-01-8:10': 0.02940342253400505, 'CPC006_SKM1_6H:BRD-K85606544-001-01-8:10': 0.02940342253400505, 'CPC006_SKMEL1_6H:BRD-K85606544-001-01-8:10': 0.02940342253400505, 'CPC006_SKMEL28_6H:BRD-K85606544-001-01-8:10': 0.02940342253400505, 'CPC006_SNGM_6H:BRD-K85606544-001-01-8:10': 0.02940342253400505, 'CPC006_SNU1040_6H:BRD-K85606544-001-01-8:10': 0.02940342253400505, 'CPC006_SNUC4_6H:BRD-K85606544-001-01-8:10': 0.02940342253400505, 'CPC006_SNUC5_6H:BRD-K85606544-001-01-8:10': 0.02940342253400505, 'CPC006_SW480_6H:BRD-K85606544-001-01-8:10': 0.02940342253400505, 'CPC006_SW620_6H:BRD-K85606544-001-01-8:10': 0.02940342253400505, 'CPC006_SW948_6H:BRD-K85606544-001-01-8:10': 0.02940342253400505, 'CPC006_T3M10_6H:BRD-K85606544-001-01-8:10': 0.02940342253400505, 'CPC006_THP1_6H:BRD-K85606544-001-01-8:10': 0.02940342253400505, 'CPC006_TYKNU_6H:BRD-K85606544-001-01-8:10': 0.02940342253400505, 'CPC006_U937_6H:BRD-K85606544-001-01-8:10': 0.02940342253400505, 'CPC006_VCAP_6H:BRD-K85606544-001-01-8:10': 0.02940342253400505, 'CPC006_WSUDLCL2_6H:BRD-K85606544-001-01-8:10': 0.02940342253400505, 'LJP001_BT20_24H:BRD-K85606544-001-04-2:10': 0.02940342253400505, 'LJP001_HS578T_24H:BRD-K85606544-001-04-2:10': 0.02940342253400505, 'LJP001_MCF10A_24H:BRD-K85606544-001-04-2:10': 0.02940342253400505, 'LJP001_MCF7_6H:BRD-K85606544-001-04-2:10': 0.02940342253400505, 'LJP001_MDAMB231_24H:BRD-K85606544-001-04-2:10': 0.02940342253400505, 'LJP001_SKBR3_24H:BRD-K85606544-001-04-2:10': 0.02940342253400505, 'AML001_CD34_6H:BRD-K93754473:13.4584': -0.006121614505033668, 'AML001_HL60_24H:BRD-K93754473:13.4584': -0.006121614505033668, 'AML001_PC3_6H:BRD-K93754473:13.4584': -0.006121614505033668, 'AML001_U937_6H:BRD-K93754473:1.49538': -0.006121614505033668, 'CPC005_A375_24H:BRD-K04210847-001-01-1:10': -0.006121614505033668, 'CPC005_A549_24H:BRD-K04210847-001-01-1:10': -0.006121614505033668, 'CPC005_HA1E_24H:BRD-K04210847-001-01-1:10': -0.006121614505033668, 'CPC005_HT29_24H:BRD-K04210847-001-01-1:10': -0.006121614505033668, 'CPC005_MCF7_24H:BRD-K04210847-001-01-1:10': -0.006121614505033668, 'CPC005_PC3_24H:BRD-K04210847-001-01-1:10': -0.006121614505033668, 'CPC005_VCAP_24H:BRD-K04210847-001-01-1:10': -0.006121614505033668, 'CPC006_A673_6H:BRD-K93754473-001-06-0:28.39': -0.006121614505033668, 'CPC006_AGS_6H:BRD-K93754473-001-06-0:28.39': -0.006121614505033668, 'CPC006_CL34_6H:BRD-K93754473-001-06-0:28.39': -0.006121614505033668, 'CPC006_CORL23_6H:BRD-K93754473-001-06-0:28.39': -0.006121614505033668, 'CPC006_COV644_6H:BRD-K93754473-001-06-0:28.39': -0.006121614505033668, 'CPC006_DV90_6H:BRD-K93754473-001-06-0:28.39': -0.006121614505033668, 'CPC006_EFO27_6H:BRD-K93754473-001-06-0:28.39': -0.006121614505033668, 'CPC006_H1299_6H:BRD-K93754473-001-06-0:28.39': -0.006121614505033668, 'CPC006_HCC15_6H:BRD-K93754473-001-06-0:28.39': -0.006121614505033668, 'CPC006_HCT116_6H:BRD-K93754473-001-06-0:28.39': -0.006121614505033668, 'CPC006_HEC108_6H:BRD-K93754473-001-06-0:28.39': -0.006121614505033668, 'CPC006_HT115_6H:BRD-K93754473-001-06-0:28.39': -0.006121614505033668, 'CPC006_JHUEM2_6H:BRD-K93754473-001-06-0:28.39': -0.006121614505033668, 'CPC006_LOVO_6H:BRD-K93754473-001-06-0:28.39': -0.006121614505033668, 'CPC006_MDST8_6H:BRD-K93754473-001-06-0:28.39': -0.006121614505033668, 'CPC006_NCIH1694_6H:BRD-K93754473-001-06-0:28.39': -0.006121614505033668, 'CPC006_NCIH1836_6H:BRD-K93754473-001-06-0:28.39': -0.006121614505033668, 'CPC006_NCIH2073_6H:BRD-K93754473-001-06-0:28.39': -0.006121614505033668, 'CPC006_NCIH508_6H:BRD-K93754473-001-06-0:28.39': -0.006121614505033668, 'CPC006_NCIH596_6H:BRD-K93754473-001-06-0:28.39': -0.006121614505033668, 'CPC006_NOMO1_6H:BRD-K93754473-001-06-0:28.39': -0.006121614505033668, 'CPC006_OV7_6H:BRD-K93754473-001-06-0:28.39': -0.006121614505033668, 'CPC006_PL21_6H:BRD-K93754473-001-06-0:28.39': -0.006121614505033668, 'CPC006_RKO_6H:BRD-K93754473-001-06-0:28.39': -0.006121614505033668, 'CPC006_RMGI_6H:BRD-K93754473-001-06-0:28.39': -0.006121614505033668, 'CPC006_RMUGS_6H:BRD-K93754473-001-06-0:28.39': -0.006121614505033668, 'CPC006_SKLU1_6H:BRD-K93754473-001-06-0:28.39': -0.006121614505033668, 'CPC006_SKM1_6H:BRD-K93754473-001-06-0:28.39': -0.006121614505033668, 'CPC006_SKMEL1_6H:BRD-K93754473-001-06-0:28.39': -0.006121614505033668, 'CPC006_SKMEL28_6H:BRD-K93754473-001-06-0:28.39': -0.006121614505033668, 'CPC006_SNGM_6H:BRD-K93754473-001-06-0:28.39': -0.006121614505033668, 'CPC006_SNU1040_6H:BRD-K93754473-001-06-0:28.39': -0.006121614505033668, 'CPC006_SNUC4_6H:BRD-K93754473-001-06-0:28.39': -0.006121614505033668, 'CPC006_SNUC5_6H:BRD-K93754473-001-06-0:28.39': -0.006121614505033668, 'CPC006_SW480_6H:BRD-K93754473-001-06-0:28.39': -0.006121614505033668, 'CPC006_SW620_6H:BRD-K93754473-001-06-0:28.39': -0.006121614505033668, 'CPC006_SW948_6H:BRD-K93754473-001-06-0:28.39': -0.006121614505033668, 'CPC006_T3M10_6H:BRD-K93754473-001-06-0:28.39': -0.006121614505033668, 'CPC006_THP1_6H:BRD-K93754473-001-06-0:28.39': -0.006121614505033668, 'CPC006_TYKNU_6H:BRD-K93754473-001-06-0:28.39': -0.006121614505033668, 'CPC006_WSUDLCL2_6H:BRD-K93754473-001-06-0:28.39': -0.006121614505033668, 'CPC015_ASC_24H:BRD-K43744935-048-01-6:10': -0.006121614505033668, 'CPC015_ASC_24H:BRD-K93754473-048-10-3:10': -0.006121614505033668, 'CPC015_NPC_24H:BRD-K43744935-048-01-6:10': -0.006121614505033668, 'CPC015_PHH_24H:BRD-K43744935-048-01-6:10': -0.006121614505033668, 'CPC015_PHH_24H:BRD-K93754473-048-10-3:10': -0.006121614505033668, 'CPC015_SKB_24H:BRD-K43744935-048-01-6:10': -0.006121614505033668, 'CPC015_SKB_24H:BRD-K93754473-048-10-3:10': -0.006121614505033668, 'CPC020_MCF7_24H:BRD-K93754473-001-15-1:10': -0.006121614505033668, 'NMH002_FIBRNPC_24H:BRD-K93754473-048-14-5:10': -0.006121614505033668, 'NMH002_NEU_6H:BRD-K93754473-001-16-9:10': -0.006121614505033668, 'NMH002_NPC_6H:BRD-K93754473-048-14-5:10': -0.006121614505033668}"
      ]
     },
     "execution_count": 36,
     "metadata": {},
     "output_type": "execute_result"
    }
   ],
   "source": [
    "%%skip_on_import\n",
    "scores_indications"
   ]
  },
  {
   "cell_type": "markdown",
   "metadata": {},
   "source": [
    "#### Single sample (early differential)"
   ]
  },
  {
   "cell_type": "code",
   "execution_count": null,
   "metadata": {},
   "outputs": [],
   "source": [
    "from functools import partial"
   ]
  },
  {
   "cell_type": "code",
   "execution_count": 47,
   "metadata": {},
   "outputs": [],
   "source": [
    "from signature_scoring.scoring_functions.gsva import create_gsva_scorer\n",
    "single_sample_gsva = partial(create_gsva_scorer, gene_sets='c2.cp.kegg', q_value_cutoff=0.2, single_sample=True, grouping=None, permutations=10)\n",
    "\n",
    "gsva_score = single_sample_gsva(method='gsva')\n",
    "ssgsea_score = single_sample_gsva(method='ssgsea')\n",
    "plage_score = single_sample_gsva(method='plage')\n",
    "zscore = single_sample_gsva(method='zscore')"
   ]
  },
  {
   "cell_type": "code",
   "execution_count": 49,
   "metadata": {},
   "outputs": [],
   "source": [
    "# this one takes a lot of time"
   ]
  },
  {
   "cell_type": "code",
   "execution_count": null,
   "metadata": {},
   "outputs": [],
   "source": [
    "%%skip_on_import\n",
    "ssgsea_scores_indications = score_signatures(\n",
    "    zscore, data.query_signature, data.indications_singatures, limit=400, progress=True, processes=12\n",
    ")"
   ]
  },
  {
   "cell_type": "code",
   "execution_count": null,
   "metadata": {},
   "outputs": [],
   "source": [
    "%%skip_on_import\n",
    "ssgsea_scores_indications"
   ]
  },
  {
   "cell_type": "markdown",
   "metadata": {},
   "source": [
    "## Evaluation of scoring metrics"
   ]
  },
  {
   "cell_type": "code",
   "execution_count": 50,
   "metadata": {},
   "outputs": [],
   "source": [
    "from signature_scoring.evaluation import evaluate, evaluation_summary"
   ]
  },
  {
   "cell_type": "markdown",
   "metadata": {},
   "source": [
    "There are two essential functions used to evaluate metrics: `evaluate` and `evaluation_summary` (latter called by the former).\n",
    "\n",
    "`evaluate` prepares signatures by restricting analyzed cell lines according to given criteria, executes scoring function and perform aggregation of the results by cell line (if requested):"
   ]
  },
  {
   "cell_type": "code",
   "execution_count": 51,
   "metadata": {},
   "outputs": [
    {
     "data": {
      "text/html": [
       "<div class=\"highlight\"><pre><span></span><span class=\"k\">def</span> <span class=\"nf\">evaluate</span><span class=\"p\">(</span>\n",
       "    <span class=\"n\">scoring_func</span><span class=\"p\">,</span> <span class=\"n\">query_signature</span><span class=\"p\">,</span> <span class=\"n\">indications_signatures</span><span class=\"p\">,</span> <span class=\"n\">contraindications_signatures</span><span class=\"p\">,</span>\n",
       "    <span class=\"n\">control_signatures</span><span class=\"o\">=</span><span class=\"bp\">None</span><span class=\"p\">,</span> <span class=\"n\">aggregate</span><span class=\"o\">=</span><span class=\"s1\">&#39;mean_per_substance_dose_and_cell&#39;</span><span class=\"p\">,</span> <span class=\"n\">top</span><span class=\"o\">=</span><span class=\"s1\">&#39;rescaled&#39;</span><span class=\"p\">,</span>\n",
       "    <span class=\"n\">cell_lines_ratio</span><span class=\"o\">=</span><span class=\"mf\">0.9</span><span class=\"p\">,</span> <span class=\"n\">summary</span><span class=\"o\">=</span><span class=\"s1\">&#39;per_cell_line_combined&#39;</span><span class=\"p\">,</span> <span class=\"n\">fold_changes</span><span class=\"o\">=</span><span class=\"bp\">False</span><span class=\"p\">,</span>\n",
       "    <span class=\"n\">reset_warnings</span><span class=\"o\">=</span><span class=\"bp\">True</span><span class=\"p\">,</span> <span class=\"o\">**</span><span class=\"n\">kwargs</span>\n",
       "<span class=\"p\">):</span>\n",
       "    <span class=\"sd\">&quot;&quot;&quot;</span>\n",
       "<span class=\"sd\">    aggregate: mean_per_substance, best_per_substance, signal_to_noise</span>\n",
       "<span class=\"sd\">    &quot;&quot;&quot;</span>\n",
       "    <span class=\"k\">if</span> <span class=\"n\">reset_warnings</span><span class=\"p\">:</span>\n",
       "        <span class=\"n\">test_warnings</span><span class=\"o\">.</span><span class=\"n\">reset</span><span class=\"p\">()</span>\n",
       "\n",
       "    <span class=\"n\">signatures_map</span> <span class=\"o\">=</span> <span class=\"p\">{</span>\n",
       "        <span class=\"s1\">&#39;indications&#39;</span><span class=\"p\">:</span> <span class=\"n\">indications_signatures</span><span class=\"p\">,</span>\n",
       "        <span class=\"s1\">&#39;contraindications&#39;</span><span class=\"p\">:</span> <span class=\"n\">contraindications_signatures</span><span class=\"p\">,</span>\n",
       "        <span class=\"s1\">&#39;control&#39;</span><span class=\"p\">:</span> <span class=\"n\">control_signatures</span>\n",
       "    <span class=\"p\">}</span>\n",
       "\n",
       "    <span class=\"k\">if</span> <span class=\"n\">control_signatures</span> <span class=\"ow\">is</span> <span class=\"ow\">not</span> <span class=\"bp\">None</span><span class=\"p\">:</span>\n",
       "        <span class=\"k\">if</span> <span class=\"n\">fold_changes</span><span class=\"p\">:</span>\n",
       "            <span class=\"k\">print</span><span class=\"p\">(</span><span class=\"s1\">&#39;Skipping controls as those will be used for fold_change calculation&#39;</span><span class=\"p\">)</span>\n",
       "            <span class=\"k\">del</span> <span class=\"n\">signatures_map</span><span class=\"p\">[</span><span class=\"s1\">&#39;control&#39;</span><span class=\"p\">]</span>\n",
       "\n",
       "    <span class=\"n\">collection</span> <span class=\"o\">=</span> <span class=\"n\">scoring_func</span><span class=\"o\">.</span><span class=\"n\">collection</span>\n",
       "\n",
       "    <span class=\"c1\"># remove signatures which were not given</span>\n",
       "    <span class=\"n\">signatures_map</span><span class=\"p\">:</span> <span class=\"n\">Dict</span><span class=\"p\">[</span><span class=\"nb\">str</span><span class=\"p\">,</span> <span class=\"n\">SignaturesGrouping</span><span class=\"p\">]</span> <span class=\"o\">=</span> <span class=\"p\">{</span>\n",
       "        <span class=\"n\">label</span><span class=\"p\">:</span> <span class=\"n\">collection</span><span class=\"p\">(</span><span class=\"n\">signatures</span><span class=\"p\">)</span>\n",
       "        <span class=\"k\">for</span> <span class=\"n\">label</span><span class=\"p\">,</span> <span class=\"n\">signatures</span> <span class=\"ow\">in</span> <span class=\"n\">signatures_map</span><span class=\"o\">.</span><span class=\"n\">items</span><span class=\"p\">()</span>\n",
       "        <span class=\"k\">if</span> <span class=\"n\">signatures</span> <span class=\"ow\">is</span> <span class=\"ow\">not</span> <span class=\"bp\">None</span>\n",
       "    <span class=\"p\">}</span>\n",
       "\n",
       "    <span class=\"k\">if</span> <span class=\"n\">cell_lines_ratio</span><span class=\"p\">:</span>\n",
       "\n",
       "        <span class=\"n\">selected_cells</span> <span class=\"o\">=</span> <span class=\"n\">select_cells</span><span class=\"p\">(</span><span class=\"n\">signatures_map</span><span class=\"p\">,</span> <span class=\"n\">cell_lines_ratio</span><span class=\"p\">)</span>\n",
       "\n",
       "        <span class=\"n\">test_warnings</span><span class=\"o\">.</span><span class=\"n\">warn_once</span><span class=\"p\">(</span>\n",
       "            <span class=\"n\">f</span><span class=\"s1\">&#39;Keeping cell lines with data for at least {cell_lines_ratio * 100:.0f}% &#39;</span>\n",
       "            <span class=\"n\">f</span><span class=\"s1\">&#39;of substances (and at least one substance per class).&#39;</span>\n",
       "        <span class=\"p\">)</span>\n",
       "        <span class=\"n\">test_warnings</span><span class=\"o\">.</span><span class=\"n\">warn_once</span><span class=\"p\">(</span>\n",
       "            <span class=\"n\">f</span><span class=\"s1\">&#39;Keeping {len(selected_cells)} distinct cell lines: {selected_cells}&#39;</span>\n",
       "        <span class=\"p\">)</span>\n",
       "\n",
       "        <span class=\"k\">for</span> <span class=\"n\">name</span><span class=\"p\">,</span> <span class=\"n\">signatures</span> <span class=\"ow\">in</span> <span class=\"n\">signatures_map</span><span class=\"o\">.</span><span class=\"n\">items</span><span class=\"p\">():</span>\n",
       "            <span class=\"n\">signatures_data</span> <span class=\"o\">=</span> <span class=\"n\">dcm</span><span class=\"o\">.</span><span class=\"n\">sig_info</span><span class=\"p\">[</span><span class=\"n\">dcm</span><span class=\"o\">.</span><span class=\"n\">sig_info</span><span class=\"o\">.</span><span class=\"n\">sig_id</span><span class=\"o\">.</span><span class=\"n\">isin</span><span class=\"p\">(</span><span class=\"n\">signatures</span><span class=\"o\">.</span><span class=\"n\">signature_ids</span><span class=\"p\">)]</span>\n",
       "            <span class=\"n\">signatures_to_keep</span> <span class=\"o\">=</span> <span class=\"nb\">set</span><span class=\"p\">(</span><span class=\"n\">signatures_data</span><span class=\"p\">[</span><span class=\"n\">signatures_data</span><span class=\"o\">.</span><span class=\"n\">cell_id</span><span class=\"o\">.</span><span class=\"n\">isin</span><span class=\"p\">(</span><span class=\"n\">selected_cells</span><span class=\"p\">)]</span><span class=\"o\">.</span><span class=\"n\">sig_id</span><span class=\"p\">)</span>\n",
       "            <span class=\"n\">signatures_map</span><span class=\"p\">[</span><span class=\"n\">name</span><span class=\"p\">]</span> <span class=\"o\">=</span> <span class=\"n\">signatures</span><span class=\"o\">.</span><span class=\"n\">drop_signatures</span><span class=\"p\">(</span>\n",
       "                <span class=\"p\">[</span><span class=\"n\">column</span> <span class=\"k\">for</span> <span class=\"n\">column</span> <span class=\"ow\">in</span> <span class=\"n\">signatures</span><span class=\"o\">.</span><span class=\"n\">signature_ids</span> <span class=\"k\">if</span> <span class=\"n\">column</span> <span class=\"ow\">not</span> <span class=\"ow\">in</span> <span class=\"n\">signatures_to_keep</span><span class=\"p\">]</span>\n",
       "            <span class=\"p\">)</span>\n",
       "\n",
       "    <span class=\"n\">scores_dict</span> <span class=\"o\">=</span> <span class=\"n\">calculate_scores</span><span class=\"p\">(</span><span class=\"n\">query_signature</span><span class=\"p\">,</span> <span class=\"n\">signatures_map</span><span class=\"p\">,</span> <span class=\"n\">scoring_func</span><span class=\"p\">,</span> <span class=\"n\">fold_changes</span><span class=\"p\">,</span> <span class=\"o\">**</span><span class=\"n\">kwargs</span><span class=\"p\">)</span>\n",
       "\n",
       "    <span class=\"n\">summarize_test</span> <span class=\"o\">=</span> <span class=\"n\">partial</span><span class=\"p\">(</span><span class=\"n\">evaluation_summary</span><span class=\"p\">,</span> <span class=\"n\">top</span><span class=\"o\">=</span><span class=\"n\">top</span><span class=\"p\">,</span> <span class=\"n\">aggregate</span><span class=\"o\">=</span><span class=\"n\">aggregate</span><span class=\"p\">)</span>\n",
       "\n",
       "    <span class=\"k\">if</span> <span class=\"n\">cell_lines_ratio</span> <span class=\"ow\">and</span> <span class=\"n\">summary</span> <span class=\"o\">==</span> <span class=\"s1\">&#39;per_cell_line_combined&#39;</span> <span class=\"ow\">and</span> <span class=\"ow\">not</span> <span class=\"n\">scoring_func</span><span class=\"o\">.</span><span class=\"n\">grouping</span><span class=\"p\">:</span>\n",
       "        <span class=\"n\">scores_dict_by_cell</span> <span class=\"o\">=</span> <span class=\"p\">{}</span>\n",
       "\n",
       "        <span class=\"k\">for</span> <span class=\"n\">cell_id</span> <span class=\"ow\">in</span> <span class=\"n\">selected_cells</span><span class=\"p\">:</span>\n",
       "            <span class=\"n\">cell_scores_dict</span> <span class=\"o\">=</span> <span class=\"p\">{</span>\n",
       "                <span class=\"n\">label</span><span class=\"p\">:</span> <span class=\"n\">scores</span><span class=\"o\">.</span><span class=\"n\">limit_to_cell_line</span><span class=\"p\">(</span><span class=\"n\">cell_id</span><span class=\"p\">)</span>\n",
       "                <span class=\"k\">for</span> <span class=\"n\">label</span><span class=\"p\">,</span> <span class=\"n\">scores</span> <span class=\"ow\">in</span> <span class=\"n\">scores_dict</span><span class=\"o\">.</span><span class=\"n\">items</span><span class=\"p\">()</span>\n",
       "            <span class=\"p\">}</span>\n",
       "            <span class=\"n\">scores_dict_by_cell</span><span class=\"p\">[</span><span class=\"n\">cell_id</span><span class=\"p\">]</span> <span class=\"o\">=</span> <span class=\"n\">cell_scores_dict</span>\n",
       "\n",
       "        <span class=\"n\">data</span> <span class=\"o\">=</span> <span class=\"n\">summarize_across_cell_lines</span><span class=\"p\">(</span><span class=\"n\">summarize_test</span><span class=\"p\">,</span> <span class=\"n\">scores_dict_by_cell</span><span class=\"p\">)</span>\n",
       "    <span class=\"k\">else</span><span class=\"p\">:</span>\n",
       "        <span class=\"n\">data</span> <span class=\"o\">=</span> <span class=\"n\">summarize_test</span><span class=\"p\">(</span><span class=\"n\">scores_dict</span><span class=\"p\">)</span>\n",
       "\n",
       "    <span class=\"k\">return</span> <span class=\"n\">data</span>\n",
       "</pre></div>\n"
      ],
      "text/plain": [
       "<IPython.core.display.HTML object>"
      ]
     },
     "metadata": {},
     "output_type": "display_data"
    }
   ],
   "source": [
    "show_source(evaluate)"
   ]
  },
  {
   "cell_type": "markdown",
   "metadata": {},
   "source": [
    "#### Combining data from multiple cell lines"
   ]
  },
  {
   "cell_type": "markdown",
   "metadata": {},
   "source": [
    "Data from cell lines are combined by mean-averaging; p-values are combined using Fisher's method."
   ]
  },
  {
   "cell_type": "markdown",
   "metadata": {},
   "source": [
    "### Evaluation metrics"
   ]
  },
  {
   "cell_type": "markdown",
   "metadata": {},
   "source": [
    "`evaluation_summary` calculates various evaluation metrics to verify performence of the scoring function:"
   ]
  },
  {
   "cell_type": "code",
   "execution_count": 52,
   "metadata": {},
   "outputs": [
    {
     "data": {
      "text/html": [
       "<div class=\"highlight\"><pre><span></span><span class=\"k\">def</span> <span class=\"nf\">evaluation_summary</span><span class=\"p\">(</span><span class=\"n\">scores_dict</span><span class=\"p\">,</span> <span class=\"n\">top</span><span class=\"p\">,</span> <span class=\"n\">aggregate</span><span class=\"p\">,</span> <span class=\"n\">ScoresVector</span><span class=\"o\">=</span><span class=\"n\">ScoresVector</span><span class=\"p\">,</span> <span class=\"n\">transform_scores</span><span class=\"o\">=</span><span class=\"bp\">None</span><span class=\"p\">):</span>\n",
       "    <span class=\"k\">if</span> <span class=\"n\">aggregate</span><span class=\"p\">:</span>\n",
       "        <span class=\"n\">aggregate</span> <span class=\"o\">=</span> <span class=\"n\">attrgetter</span><span class=\"p\">(</span><span class=\"n\">aggregate</span><span class=\"p\">)</span>\n",
       "        <span class=\"n\">scores_dict</span> <span class=\"o\">=</span> <span class=\"p\">{</span><span class=\"n\">label</span><span class=\"p\">:</span> <span class=\"n\">aggregate</span><span class=\"p\">(</span><span class=\"n\">scores</span><span class=\"p\">)</span> <span class=\"k\">for</span> <span class=\"n\">label</span><span class=\"p\">,</span> <span class=\"n\">scores</span> <span class=\"ow\">in</span> <span class=\"n\">scores_dict</span><span class=\"o\">.</span><span class=\"n\">items</span><span class=\"p\">()}</span>\n",
       "\n",
       "    <span class=\"k\">if</span> <span class=\"n\">transform_scores</span><span class=\"p\">:</span>\n",
       "        <span class=\"n\">scores_dict</span> <span class=\"o\">=</span> <span class=\"n\">transform_scores</span><span class=\"p\">(</span><span class=\"n\">scores_dict</span><span class=\"p\">)</span>\n",
       "\n",
       "    <span class=\"n\">scores_indications</span><span class=\"p\">,</span> <span class=\"n\">scores_controls</span><span class=\"p\">,</span> <span class=\"n\">scores_contraindications</span> <span class=\"o\">=</span> <span class=\"p\">(</span>\n",
       "        <span class=\"n\">scores_dict</span><span class=\"p\">[</span><span class=\"s1\">&#39;indications&#39;</span><span class=\"p\">],</span> <span class=\"n\">scores_dict</span><span class=\"p\">[</span><span class=\"s1\">&#39;controls&#39;</span><span class=\"p\">],</span> <span class=\"n\">scores_dict</span><span class=\"p\">[</span><span class=\"s1\">&#39;contraindications&#39;</span><span class=\"p\">]</span>\n",
       "    <span class=\"p\">)</span>\n",
       "\n",
       "    <span class=\"n\">scores_map</span> <span class=\"o\">=</span> <span class=\"p\">{</span>\n",
       "        <span class=\"mi\">1</span><span class=\"p\">:</span> <span class=\"n\">scores_indications</span><span class=\"p\">,</span>\n",
       "        <span class=\"mi\">0</span><span class=\"p\">:</span> <span class=\"n\">scores_controls</span><span class=\"p\">,</span>\n",
       "        <span class=\"o\">-</span><span class=\"mi\">1</span><span class=\"p\">:</span> <span class=\"n\">scores_contraindications</span>\n",
       "    <span class=\"p\">}</span>\n",
       "\n",
       "    <span class=\"n\">vector</span> <span class=\"o\">=</span> <span class=\"n\">ScoresVector</span><span class=\"p\">(</span><span class=\"n\">scores_map</span><span class=\"p\">)</span>\n",
       "\n",
       "    <span class=\"k\">if</span> <span class=\"n\">top</span> <span class=\"o\">==</span> <span class=\"s1\">&#39;rescaled&#39;</span><span class=\"p\">:</span>\n",
       "        <span class=\"n\">test_warnings</span><span class=\"o\">.</span><span class=\"n\">warn_once</span><span class=\"p\">(</span><span class=\"s1\">&#39;Using 0.5 threshold of scaled scores vector to select top results.&#39;</span><span class=\"p\">)</span>\n",
       "        <span class=\"n\">top_scoring</span> <span class=\"o\">=</span> <span class=\"n\">vector</span><span class=\"o\">.</span><span class=\"n\">observed</span><span class=\"p\">[</span><span class=\"n\">vector</span><span class=\"o\">.</span><span class=\"n\">observed</span> <span class=\"o\">&gt;</span> <span class=\"mf\">0.5</span><span class=\"p\">]</span>\n",
       "    <span class=\"k\">else</span><span class=\"p\">:</span>\n",
       "        <span class=\"n\">test_warnings</span><span class=\"o\">.</span><span class=\"n\">warn_once</span><span class=\"p\">(</span><span class=\"s1\">&#39;Using top 0.1 quantile to select top results.&#39;</span><span class=\"p\">)</span>\n",
       "        <span class=\"n\">top_scoring</span> <span class=\"o\">=</span> <span class=\"n\">vector</span><span class=\"o\">.</span><span class=\"n\">observed</span><span class=\"p\">[</span><span class=\"n\">vector</span><span class=\"o\">.</span><span class=\"n\">observed</span> <span class=\"o\">&gt;</span> <span class=\"n\">vector</span><span class=\"o\">.</span><span class=\"n\">observed</span><span class=\"o\">.</span><span class=\"n\">quantile</span><span class=\"p\">(</span><span class=\"mf\">0.9</span><span class=\"p\">)]</span>\n",
       "\n",
       "    <span class=\"n\">scores</span> <span class=\"o\">=</span> <span class=\"n\">ProcessedScores</span><span class=\"p\">(</span>\n",
       "        <span class=\"n\">vector_overall</span><span class=\"o\">=</span><span class=\"n\">vector</span><span class=\"p\">,</span>\n",
       "        <span class=\"n\">vector_contraindications</span><span class=\"o\">=</span><span class=\"n\">ScoresVector</span><span class=\"p\">(</span><span class=\"n\">scores_map</span><span class=\"p\">,</span> <span class=\"n\">limit_to</span><span class=\"o\">=</span><span class=\"p\">[</span><span class=\"mi\">1</span><span class=\"p\">,</span> <span class=\"o\">-</span><span class=\"mi\">1</span><span class=\"p\">]),</span>\n",
       "        <span class=\"n\">vector_controls</span><span class=\"o\">=</span><span class=\"n\">ScoresVector</span><span class=\"p\">(</span><span class=\"n\">scores_map</span><span class=\"p\">,</span> <span class=\"n\">limit_to</span><span class=\"o\">=</span><span class=\"p\">[</span><span class=\"mi\">1</span><span class=\"p\">,</span> <span class=\"mi\">0</span><span class=\"p\">]),</span>\n",
       "        <span class=\"n\">top</span><span class=\"o\">=</span><span class=\"n\">TopScores</span><span class=\"p\">(</span>\n",
       "            <span class=\"nb\">all</span><span class=\"o\">=</span><span class=\"n\">top_scoring</span><span class=\"p\">,</span>\n",
       "            <span class=\"n\">indications</span><span class=\"o\">=</span><span class=\"n\">top_scoring</span><span class=\"p\">[</span><span class=\"n\">scores_indications</span><span class=\"o\">.</span><span class=\"n\">index</span><span class=\"o\">.</span><span class=\"n\">intersection</span><span class=\"p\">(</span><span class=\"n\">top_scoring</span><span class=\"o\">.</span><span class=\"n\">index</span><span class=\"p\">)],</span>\n",
       "            <span class=\"n\">contraindications</span><span class=\"o\">=</span><span class=\"n\">top_scoring</span><span class=\"p\">[</span><span class=\"n\">scores_contraindications</span><span class=\"o\">.</span><span class=\"n\">index</span><span class=\"o\">.</span><span class=\"n\">intersection</span><span class=\"p\">(</span><span class=\"n\">top_scoring</span><span class=\"o\">.</span><span class=\"n\">index</span><span class=\"p\">)],</span>\n",
       "            <span class=\"n\">controls</span><span class=\"o\">=</span><span class=\"n\">top_scoring</span><span class=\"p\">[</span><span class=\"n\">scores_controls</span><span class=\"o\">.</span><span class=\"n\">index</span><span class=\"o\">.</span><span class=\"n\">intersection</span><span class=\"p\">(</span><span class=\"n\">top_scoring</span><span class=\"o\">.</span><span class=\"n\">index</span><span class=\"p\">)]</span>\n",
       "        <span class=\"p\">),</span>\n",
       "        <span class=\"o\">**</span><span class=\"p\">{</span>\n",
       "            <span class=\"n\">category</span><span class=\"p\">:</span> <span class=\"n\">aggregated_scores</span><span class=\"o\">.</span><span class=\"n\">score</span>\n",
       "            <span class=\"k\">for</span> <span class=\"n\">category</span><span class=\"p\">,</span> <span class=\"n\">aggregated_scores</span> <span class=\"ow\">in</span> <span class=\"n\">scores_dict</span><span class=\"o\">.</span><span class=\"n\">items</span><span class=\"p\">()</span>\n",
       "        <span class=\"p\">}</span>\n",
       "    <span class=\"p\">)</span>\n",
       "\n",
       "    <span class=\"n\">results</span> <span class=\"o\">=</span> <span class=\"p\">{</span>\n",
       "        <span class=\"s1\">&#39;meta:Selected substances&#39;</span><span class=\"p\">:</span> <span class=\"nb\">len</span><span class=\"p\">(</span><span class=\"n\">top_scoring</span><span class=\"p\">),</span>\n",
       "        <span class=\"s1\">&#39;meta:Scores&#39;</span><span class=\"p\">:</span> <span class=\"n\">NeatNamespace</span><span class=\"p\">(</span><span class=\"n\">scores_dict</span><span class=\"p\">),</span>\n",
       "    <span class=\"p\">}</span>\n",
       "\n",
       "    <span class=\"k\">for</span> <span class=\"n\">category</span><span class=\"p\">,</span> <span class=\"n\">metrics</span> <span class=\"ow\">in</span> <span class=\"n\">metrics_manager</span><span class=\"o\">.</span><span class=\"n\">registry</span><span class=\"o\">.</span><span class=\"n\">items</span><span class=\"p\">():</span>\n",
       "        <span class=\"n\">category_scores</span> <span class=\"o\">=</span> <span class=\"n\">scores_dict</span><span class=\"o\">.</span><span class=\"n\">get</span><span class=\"p\">(</span><span class=\"n\">category</span><span class=\"p\">,</span> <span class=\"p\">[])</span>\n",
       "        <span class=\"k\">if</span> <span class=\"n\">category</span> <span class=\"o\">==</span> <span class=\"s1\">&#39;overall&#39;</span> <span class=\"ow\">or</span> <span class=\"nb\">len</span><span class=\"p\">(</span><span class=\"n\">category_scores</span><span class=\"p\">):</span>\n",
       "            <span class=\"k\">for</span> <span class=\"n\">metric</span> <span class=\"ow\">in</span> <span class=\"n\">metrics</span><span class=\"o\">.</span><span class=\"n\">values</span><span class=\"p\">():</span>\n",
       "                <span class=\"n\">key</span> <span class=\"o\">=</span> <span class=\"n\">f</span><span class=\"s1\">&#39;{category}:{metric.name}&#39;</span>\n",
       "                <span class=\"k\">assert</span> <span class=\"n\">key</span> <span class=\"ow\">not</span> <span class=\"ow\">in</span> <span class=\"n\">results</span>\n",
       "                <span class=\"n\">results</span><span class=\"p\">[</span><span class=\"n\">key</span><span class=\"p\">]</span> <span class=\"o\">=</span> <span class=\"n\">metric</span><span class=\"p\">(</span><span class=\"n\">scores</span><span class=\"p\">)</span>\n",
       "\n",
       "    <span class=\"k\">return</span> <span class=\"n\">results</span>\n",
       "</pre></div>\n"
      ],
      "text/plain": [
       "<IPython.core.display.HTML object>"
      ]
     },
     "metadata": {},
     "output_type": "display_data"
    }
   ],
   "source": [
    "show_source(evaluation_summary)"
   ]
  },
  {
   "cell_type": "markdown",
   "metadata": {},
   "source": [
    "Each eavaluation metric has it's objective and belongs to one of four categories:"
   ]
  },
  {
   "cell_type": "code",
   "execution_count": 53,
   "metadata": {},
   "outputs": [
    {
     "data": {
      "text/html": [
       "<div class=\"highlight\"><pre><span></span><span class=\"k\">class</span> <span class=\"nc\">EvaluationMetric</span><span class=\"p\">:</span>\n",
       "\n",
       "    <span class=\"n\">all_metrics_categories</span> <span class=\"o\">=</span> <span class=\"p\">{</span><span class=\"s1\">&#39;overall&#39;</span><span class=\"p\">,</span> <span class=\"s1\">&#39;indications&#39;</span><span class=\"p\">,</span> <span class=\"s1\">&#39;contraindications&#39;</span><span class=\"p\">,</span> <span class=\"s1\">&#39;controls&#39;</span><span class=\"p\">}</span>\n",
       "\n",
       "    <span class=\"k\">def</span> <span class=\"fm\">__init__</span><span class=\"p\">(</span><span class=\"bp\">self</span><span class=\"p\">,</span> <span class=\"n\">function</span><span class=\"p\">,</span> <span class=\"n\">category</span><span class=\"o\">=</span><span class=\"s1\">&#39;overall&#39;</span><span class=\"p\">,</span> <span class=\"n\">name</span><span class=\"o\">=</span><span class=\"bp\">None</span><span class=\"p\">,</span> <span class=\"n\">objective</span><span class=\"o\">=</span><span class=\"s1\">&#39;maximize&#39;</span><span class=\"p\">,</span> <span class=\"n\">combine</span><span class=\"o\">=</span><span class=\"n\">mean</span><span class=\"p\">):</span>\n",
       "        <span class=\"k\">assert</span> <span class=\"n\">objective</span> <span class=\"ow\">in</span> <span class=\"p\">{</span><span class=\"s1\">&#39;maximize&#39;</span><span class=\"p\">,</span> <span class=\"s1\">&#39;minimize&#39;</span><span class=\"p\">,</span> <span class=\"bp\">None</span><span class=\"p\">}</span>\n",
       "        <span class=\"k\">assert</span> <span class=\"n\">category</span> <span class=\"ow\">in</span> <span class=\"bp\">self</span><span class=\"o\">.</span><span class=\"n\">all_metrics_categories</span>\n",
       "\n",
       "        <span class=\"k\">if</span> <span class=\"ow\">not</span> <span class=\"n\">name</span><span class=\"p\">:</span>\n",
       "            <span class=\"n\">name</span> <span class=\"o\">=</span> <span class=\"n\">function</span><span class=\"o\">.</span><span class=\"vm\">__name__</span><span class=\"o\">.</span><span class=\"n\">replace</span><span class=\"p\">(</span><span class=\"s1\">&#39;_&#39;</span><span class=\"p\">,</span> <span class=\"s1\">&#39; &#39;</span><span class=\"p\">)</span><span class=\"o\">.</span><span class=\"n\">title</span><span class=\"p\">()</span>\n",
       "\n",
       "        <span class=\"c1\"># set up the metadata</span>\n",
       "        <span class=\"bp\">self</span><span class=\"o\">.</span><span class=\"n\">category</span> <span class=\"o\">=</span> <span class=\"n\">category</span>\n",
       "        <span class=\"bp\">self</span><span class=\"o\">.</span><span class=\"n\">objective</span> <span class=\"o\">=</span> <span class=\"n\">objective</span>\n",
       "        <span class=\"bp\">self</span><span class=\"o\">.</span><span class=\"n\">name</span> <span class=\"o\">=</span> <span class=\"n\">name</span>\n",
       "        <span class=\"bp\">self</span><span class=\"o\">.</span><span class=\"n\">function</span> <span class=\"o\">=</span> <span class=\"n\">function</span>\n",
       "        <span class=\"bp\">self</span><span class=\"o\">.</span><span class=\"n\">combine</span> <span class=\"o\">=</span> <span class=\"n\">combine</span>\n",
       "\n",
       "        <span class=\"c1\"># add to registry</span>\n",
       "        <span class=\"n\">metrics_manager</span><span class=\"o\">.</span><span class=\"n\">registry</span><span class=\"p\">[</span><span class=\"n\">category</span><span class=\"p\">][</span><span class=\"bp\">self</span><span class=\"o\">.</span><span class=\"n\">name</span><span class=\"p\">]</span> <span class=\"o\">=</span> <span class=\"bp\">self</span>\n",
       "\n",
       "    <span class=\"k\">def</span> <span class=\"fm\">__call__</span><span class=\"p\">(</span><span class=\"bp\">self</span><span class=\"p\">,</span> <span class=\"n\">score</span><span class=\"p\">:</span> <span class=\"n\">ProcessedScores</span><span class=\"p\">):</span>\n",
       "        <span class=\"k\">try</span><span class=\"p\">:</span>\n",
       "            <span class=\"k\">return</span> <span class=\"bp\">self</span><span class=\"o\">.</span><span class=\"n\">function</span><span class=\"p\">(</span><span class=\"n\">score</span><span class=\"p\">)</span>\n",
       "        <span class=\"k\">except</span> <span class=\"ne\">Exception</span> <span class=\"k\">as</span> <span class=\"n\">e</span><span class=\"p\">:</span>\n",
       "            <span class=\"k\">print</span><span class=\"p\">(</span><span class=\"n\">f</span><span class=\"s1\">&#39;Evaluation metric {self.category}:{self.name} failed:&#39;</span><span class=\"p\">)</span>\n",
       "            <span class=\"n\">print_exc</span><span class=\"p\">()</span>\n",
       "            <span class=\"k\">print</span><span class=\"p\">(</span><span class=\"n\">f</span><span class=\"s1\">&#39;Returning NaN&#39;</span><span class=\"p\">)</span>\n",
       "            <span class=\"k\">return</span> <span class=\"n\">np</span><span class=\"o\">.</span><span class=\"n\">nan</span>\n",
       "</pre></div>\n"
      ],
      "text/plain": [
       "<IPython.core.display.HTML object>"
      ]
     },
     "metadata": {},
     "output_type": "display_data"
    }
   ],
   "source": [
    "from signature_scoring.evaluation.metrics import EvaluationMetric\n",
    "\n",
    "show_source(EvaluationMetric)"
   ]
  },
  {
   "cell_type": "markdown",
   "metadata": {},
   "source": [
    "Following metrics were defined:"
   ]
  },
  {
   "cell_type": "code",
   "execution_count": 54,
   "metadata": {},
   "outputs": [
    {
     "data": {
      "text/html": [
       "<table border=\"1\" class=\"dataframe\">\n",
       "  <thead>\n",
       "    <tr style=\"text-align: right;\">\n",
       "      <th></th>\n",
       "      <th></th>\n",
       "      <th>code</th>\n",
       "      <th>combine</th>\n",
       "      <th>objective</th>\n",
       "    </tr>\n",
       "    <tr>\n",
       "      <th>category</th>\n",
       "      <th>name</th>\n",
       "      <th></th>\n",
       "      <th></th>\n",
       "      <th></th>\n",
       "    </tr>\n",
       "  </thead>\n",
       "  <tbody>\n",
       "    <tr>\n",
       "      <th rowspan=\"4\" valign=\"top\">indications</th>\n",
       "      <th>Precision</th>\n",
       "      <td><span style=\"text-align: left!important\"><div class=\"highlight\"><pre><span></span><span class=\"k\">def</span> <span class=\"nf\">precision</span><span class=\"p\">(</span><span class=\"n\">scores</span><span class=\"p\">):</span><br>    <span class=\"k\">return</span> <span class=\"n\">calc</span><span class=\"o\">.</span><span class=\"n\">precision</span><span class=\"p\">(</span><span class=\"n\">true_positives</span><span class=\"o\">=</span><span class=\"n\">scores</span><span class=\"o\">.</span><span class=\"n\">top</span><span class=\"o\">.</span><span class=\"n\">indications</span><span class=\"p\">,</span> <span class=\"n\">all_selected</span><span class=\"o\">=</span><span class=\"n\">scores</span><span class=\"o\">.</span><span class=\"n\">top</span><span class=\"o\">.</span><span class=\"n\">all</span><span class=\"p\">)</span><br></pre></div><br></span></td>\n",
       "      <td>mean</td>\n",
       "      <td>None</td>\n",
       "    </tr>\n",
       "    <tr>\n",
       "      <th>Recall</th>\n",
       "      <td><span style=\"text-align: left!important\"><div class=\"highlight\"><pre><span></span><span class=\"k\">def</span> <span class=\"nf\">recall</span><span class=\"p\">(</span><span class=\"n\">scores</span><span class=\"p\">):</span><br>    <span class=\"k\">return</span> <span class=\"n\">calc</span><span class=\"o\">.</span><span class=\"n\">recall</span><span class=\"p\">(</span><span class=\"n\">true_positives</span><span class=\"o\">=</span><span class=\"n\">scores</span><span class=\"o\">.</span><span class=\"n\">top</span><span class=\"o\">.</span><span class=\"n\">indications</span><span class=\"p\">,</span> <span class=\"n\">all_positives</span><span class=\"o\">=</span><span class=\"n\">scores</span><span class=\"o\">.</span><span class=\"n\">indications</span><span class=\"p\">)</span><br></pre></div><br></span></td>\n",
       "      <td>mean</td>\n",
       "      <td>None</td>\n",
       "    </tr>\n",
       "    <tr>\n",
       "      <th>F1 Score</th>\n",
       "      <td><span style=\"text-align: left!important\"><div class=\"highlight\"><pre><span></span><span class=\"k\">def</span> <span class=\"nf\">f1_score</span><span class=\"p\">(</span><span class=\"n\">scores</span><span class=\"p\">):</span><br>    <span class=\"n\">selected</span> <span class=\"o\">=</span> <span class=\"n\">scores</span><span class=\"o\">.</span><span class=\"n\">top</span><br>    <span class=\"k\">return</span> <span class=\"n\">calc</span><span class=\"o\">.</span><span class=\"n\">f1</span><span class=\"p\">(</span><br>        <span class=\"n\">calc</span><span class=\"o\">.</span><span class=\"n\">precision</span><span class=\"p\">(</span><span class=\"n\">true_positives</span><span class=\"o\">=</span><span class=\"n\">selected</span><span class=\"o\">.</span><span class=\"n\">indications</span><span class=\"p\">,</span> <span class=\"n\">all_selected</span><span class=\"o\">=</span><span class=\"n\">selected</span><span class=\"o\">.</span><span class=\"n\">all</span><span class=\"p\">),</span><br>        <span class=\"n\">calc</span><span class=\"o\">.</span><span class=\"n\">recall</span><span class=\"p\">(</span><span class=\"n\">true_positives</span><span class=\"o\">=</span><span class=\"n\">selected</span><span class=\"o\">.</span><span class=\"n\">indications</span><span class=\"p\">,</span> <span class=\"n\">all_positives</span><span class=\"o\">=</span><span class=\"n\">scores</span><span class=\"o\">.</span><span class=\"n\">indications</span><span class=\"p\">)</span><br>    <span class=\"p\">)</span><br></pre></div><br></span></td>\n",
       "      <td>mean</td>\n",
       "      <td>maximize</td>\n",
       "    </tr>\n",
       "    <tr>\n",
       "      <th>Mean</th>\n",
       "      <td><span style=\"text-align: left!important\"><div class=\"highlight\"><pre><span></span><span class=\"k\">def</span> <span class=\"nf\">mean</span><span class=\"p\">(</span><span class=\"n\">scores</span><span class=\"p\">):</span><br>    <span class=\"k\">return</span> <span class=\"n\">scores</span><span class=\"o\">.</span><span class=\"n\">indications</span><span class=\"o\">.</span><span class=\"n\">mean</span><span class=\"p\">()</span><br></pre></div><br></span></td>\n",
       "      <td>mean</td>\n",
       "      <td>None</td>\n",
       "    </tr>\n",
       "    <tr>\n",
       "      <th rowspan=\"7\" valign=\"top\">contraindications</th>\n",
       "      <th>F1 Score</th>\n",
       "      <td><span style=\"text-align: left!important\"><div class=\"highlight\"><pre><span></span><span class=\"k\">def</span> <span class=\"nf\">f1_score</span><span class=\"p\">(</span><span class=\"n\">scores</span><span class=\"p\">):</span><br>    <span class=\"n\">selected</span> <span class=\"o\">=</span> <span class=\"n\">scores</span><span class=\"o\">.</span><span class=\"n\">top</span><br>    <span class=\"k\">return</span> <span class=\"n\">calc</span><span class=\"o\">.</span><span class=\"n\">f1</span><span class=\"p\">(</span><br>        <span class=\"n\">calc</span><span class=\"o\">.</span><span class=\"n\">precision</span><span class=\"p\">(</span><span class=\"n\">true_positives</span><span class=\"o\">=</span><span class=\"n\">selected</span><span class=\"o\">.</span><span class=\"n\">contraindications</span><span class=\"p\">,</span> <span class=\"n\">all_selected</span><span class=\"o\">=</span><span class=\"n\">selected</span><span class=\"o\">.</span><span class=\"n\">all</span><span class=\"p\">),</span><br>        <span class=\"n\">calc</span><span class=\"o\">.</span><span class=\"n\">recall</span><span class=\"p\">(</span><span class=\"n\">true_positives</span><span class=\"o\">=</span><span class=\"n\">selected</span><span class=\"o\">.</span><span class=\"n\">contraindications</span><span class=\"p\">,</span> <span class=\"n\">all_positives</span><span class=\"o\">=</span><span class=\"n\">scores</span><span class=\"o\">.</span><span class=\"n\">contraindications</span><span class=\"p\">)</span><br>    <span class=\"p\">)</span><br></pre></div><br></span></td>\n",
       "      <td>mean</td>\n",
       "      <td>minimize</td>\n",
       "    </tr>\n",
       "    <tr>\n",
       "      <th>Is Mean Better</th>\n",
       "      <td><span style=\"text-align: left!important\"><div class=\"highlight\"><pre><span></span><span class=\"k\">def</span> <span class=\"nf\">is_mean_better</span><span class=\"p\">(</span><span class=\"n\">scores</span><span class=\"p\">):</span><br>    <span class=\"k\">return</span> <span class=\"n\">scores</span><span class=\"o\">.</span><span class=\"n\">indications</span><span class=\"o\">.</span><span class=\"n\">mean</span><span class=\"p\">()</span> <span class=\"o\">&gt;</span> <span class=\"n\">scores</span><span class=\"o\">.</span><span class=\"n\">contraindications</span><span class=\"o\">.</span><span class=\"n\">mean</span><span class=\"p\">()</span><br></pre></div><br></span></td>\n",
       "      <td>mean</td>\n",
       "      <td>maximize</td>\n",
       "    </tr>\n",
       "    <tr>\n",
       "      <th>Mean</th>\n",
       "      <td><span style=\"text-align: left!important\"><div class=\"highlight\"><pre><span></span><span class=\"k\">def</span> <span class=\"nf\">mean</span><span class=\"p\">(</span><span class=\"n\">scores</span><span class=\"p\">):</span><br>    <span class=\"k\">return</span> <span class=\"n\">scores</span><span class=\"o\">.</span><span class=\"n\">contraindications</span><span class=\"o\">.</span><span class=\"n\">mean</span><span class=\"p\">()</span><br></pre></div><br></span></td>\n",
       "      <td>mean</td>\n",
       "      <td>None</td>\n",
       "    </tr>\n",
       "    <tr>\n",
       "      <th>KS p-value</th>\n",
       "      <td><span style=\"text-align: left!important\"><div class=\"highlight\"><pre><span></span><span class=\"k\">def</span> <span class=\"nf\">ks_p</span><span class=\"p\">(</span><span class=\"n\">scores</span><span class=\"p\">):</span><br>    <span class=\"c1\"># See ks_p controls metric for explanation of alternative=&#39;less&#39;</span><br>    <span class=\"n\">ks</span> <span class=\"o\">=</span> <span class=\"n\">r_ks_test</span><span class=\"p\">(</span><span class=\"n\">scores</span><span class=\"o\">.</span><span class=\"n\">indications</span><span class=\"p\">,</span> <span class=\"n\">scores</span><span class=\"o\">.</span><span class=\"n\">contraindications</span><span class=\"p\">,</span> <span class=\"n\">alternative</span><span class=\"o\">=</span><span class=\"s1\">&#39;less&#39;</span><span class=\"p\">)</span><br>    <span class=\"k\">return</span> <span class=\"n\">ks</span><span class=\"p\">[</span><span class=\"s1\">&#39;p.value&#39;</span><span class=\"p\">][</span><span class=\"mi\">0</span><span class=\"p\">]</span><br></pre></div><br></span></td>\n",
       "      <td>fisher_method</td>\n",
       "      <td>minimize</td>\n",
       "    </tr>\n",
       "    <tr>\n",
       "      <th>AUC ROC</th>\n",
       "      <td><span style=\"text-align: left!important\"><div class=\"highlight\"><pre><span></span><span class=\"k\">def</span> <span class=\"nf\">roc</span><span class=\"p\">(</span><span class=\"n\">scores</span><span class=\"p\">):</span><br>    <span class=\"k\">return</span> <span class=\"n\">calc</span><span class=\"o\">.</span><span class=\"n\">generalized_roc_auc_score</span><span class=\"p\">(</span><span class=\"n\">scores</span><span class=\"o\">.</span><span class=\"n\">vector_contraindications</span><span class=\"p\">)</span><br></pre></div><br></span></td>\n",
       "      <td>mean</td>\n",
       "      <td>maximize</td>\n",
       "    </tr>\n",
       "    <tr>\n",
       "      <th>Indications Prioritized</th>\n",
       "      <td><span style=\"text-align: left!important\"><div class=\"highlight\"><pre><span></span><span class=\"nd\">@on_division_by_zero</span><span class=\"p\">(</span><span class=\"n\">fill_with</span><span class=\"o\">=</span><span class=\"n\">np</span><span class=\"o\">.</span><span class=\"n\">nan</span><span class=\"p\">)</span><br><span class=\"k\">def</span> <span class=\"nf\">indications_prioritized</span><span class=\"p\">(</span><span class=\"n\">scores</span><span class=\"p\">):</span><br>    <span class=\"k\">return</span> <span class=\"p\">(</span><br>        <span class=\"nb\">len</span><span class=\"p\">(</span><span class=\"n\">scores</span><span class=\"o\">.</span><span class=\"n\">indications</span><span class=\"p\">[</span><span class=\"n\">scores</span><span class=\"o\">.</span><span class=\"n\">indications</span> <span class=\"o\">&gt;</span> <span class=\"n\">scores</span><span class=\"o\">.</span><span class=\"n\">contraindications</span><span class=\"o\">.</span><span class=\"n\">max</span><span class=\"p\">()])</span><br>        <span class=\"o\">/</span><br>        <span class=\"nb\">len</span><span class=\"p\">(</span><span class=\"n\">scores</span><span class=\"o\">.</span><span class=\"n\">contraindications</span><span class=\"p\">)</span><br>    <span class=\"p\">)</span><br></pre></div><br></span></td>\n",
       "      <td>mean</td>\n",
       "      <td>maximize</td>\n",
       "    </tr>\n",
       "    <tr>\n",
       "      <th>Normalized Means Difference</th>\n",
       "      <td><span style=\"text-align: left!important\"><div class=\"highlight\"><pre><span></span><span class=\"k\">def</span> <span class=\"nf\">normalized_means_difference</span><span class=\"p\">(</span><span class=\"n\">scores</span><span class=\"p\">):</span><br>    <span class=\"k\">return</span> <span class=\"n\">calc</span><span class=\"o\">.</span><span class=\"n\">normalized_means_difference</span><span class=\"p\">(</span><span class=\"n\">scores</span><span class=\"o\">.</span><span class=\"n\">indications</span><span class=\"p\">,</span> <span class=\"n\">scores</span><span class=\"o\">.</span><span class=\"n\">contraindications</span><span class=\"p\">)</span><br></pre></div><br></span></td>\n",
       "      <td>mean</td>\n",
       "      <td>maximize</td>\n",
       "    </tr>\n",
       "    <tr>\n",
       "      <th>overall</th>\n",
       "      <th>RMSE</th>\n",
       "      <td><span style=\"text-align: left!important\"><div class=\"highlight\"><pre><span></span><span class=\"k\">def</span> <span class=\"nf\">rmse</span><span class=\"p\">(</span><span class=\"n\">scores</span><span class=\"p\">):</span><br>    <span class=\"n\">results</span> <span class=\"o\">=</span> <span class=\"n\">scores</span><span class=\"o\">.</span><span class=\"n\">vector_overall</span><br>    <span class=\"k\">return</span> <span class=\"p\">(</span><br>        <span class=\"n\">sqrt</span><span class=\"p\">(</span><span class=\"n\">mean_squared_error</span><span class=\"p\">(</span><span class=\"n\">results</span><span class=\"o\">.</span><span class=\"n\">expected</span><span class=\"p\">,</span> <span class=\"n\">results</span><span class=\"o\">.</span><span class=\"n\">observed</span><span class=\"p\">))</span><br>        <span class=\"k\">if</span> <span class=\"ow\">not</span> <span class=\"n\">results</span><span class=\"o\">.</span><span class=\"n\">observed</span><span class=\"o\">.</span><span class=\"n\">dropna</span><span class=\"p\">()</span><span class=\"o\">.</span><span class=\"n\">empty</span> <span class=\"k\">else</span><br>        <span class=\"n\">np</span><span class=\"o\">.</span><span class=\"n\">nan</span><br>    <span class=\"p\">)</span><br></pre></div><br></span></td>\n",
       "      <td>mean</td>\n",
       "      <td>minimize</td>\n",
       "    </tr>\n",
       "    <tr>\n",
       "      <th rowspan=\"6\" valign=\"top\">controls</th>\n",
       "      <th>Is Mean Better</th>\n",
       "      <td><span style=\"text-align: left!important\"><div class=\"highlight\"><pre><span></span><span class=\"k\">def</span> <span class=\"nf\">is_mean_better</span><span class=\"p\">(</span><span class=\"n\">scores</span><span class=\"p\">):</span><br>    <span class=\"k\">return</span> <span class=\"n\">scores</span><span class=\"o\">.</span><span class=\"n\">indications</span><span class=\"o\">.</span><span class=\"n\">mean</span><span class=\"p\">()</span> <span class=\"o\">&gt;</span> <span class=\"n\">scores</span><span class=\"o\">.</span><span class=\"n\">controls</span><span class=\"o\">.</span><span class=\"n\">mean</span><span class=\"p\">()</span><br></pre></div><br></span></td>\n",
       "      <td>mean</td>\n",
       "      <td>maximize</td>\n",
       "    </tr>\n",
       "    <tr>\n",
       "      <th>Mean</th>\n",
       "      <td><span style=\"text-align: left!important\"><div class=\"highlight\"><pre><span></span><span class=\"k\">def</span> <span class=\"nf\">mean</span><span class=\"p\">(</span><span class=\"n\">scores</span><span class=\"p\">):</span><br>    <span class=\"k\">return</span> <span class=\"n\">scores</span><span class=\"o\">.</span><span class=\"n\">controls</span><span class=\"o\">.</span><span class=\"n\">mean</span><span class=\"p\">()</span><br></pre></div><br></span></td>\n",
       "      <td>mean</td>\n",
       "      <td>None</td>\n",
       "    </tr>\n",
       "    <tr>\n",
       "      <th>KS p-value</th>\n",
       "      <td><span style=\"text-align: left!important\"><div class=\"highlight\"><pre><span></span><span class=\"k\">def</span> <span class=\"nf\">ks_p</span><span class=\"p\">(</span><span class=\"n\">scores</span><span class=\"p\">):</span><br>    <span class=\"c1\"># From R docs:</span><br>    <span class=\"c1\"># &quot;Thus in the two-sample case alternative = &quot;greater&quot; includes distributions for which x is</span><br>    <span class=\"c1\"># stochastically *smaller* than y (the CDF of x lies above and hence to the left of that for y),</span><br>    <span class=\"c1\"># in contrast to t.test or wilcox.test.&quot;</span><br>    <span class=\"n\">ks</span> <span class=\"o\">=</span> <span class=\"n\">r_ks_test</span><span class=\"p\">(</span><span class=\"n\">scores</span><span class=\"o\">.</span><span class=\"n\">indications</span><span class=\"p\">,</span> <span class=\"n\">scores</span><span class=\"o\">.</span><span class=\"n\">controls</span><span class=\"p\">,</span> <span class=\"n\">alternative</span><span class=\"o\">=</span><span class=\"s1\">&#39;less&#39;</span><span class=\"p\">)</span><br>    <span class=\"k\">return</span> <span class=\"n\">ks</span><span class=\"p\">[</span><span class=\"s1\">&#39;p.value&#39;</span><span class=\"p\">][</span><span class=\"mi\">0</span><span class=\"p\">]</span><br></pre></div><br></span></td>\n",
       "      <td>fisher_method</td>\n",
       "      <td>minimize</td>\n",
       "    </tr>\n",
       "    <tr>\n",
       "      <th>AUC ROC</th>\n",
       "      <td><span style=\"text-align: left!important\"><div class=\"highlight\"><pre><span></span><span class=\"k\">def</span> <span class=\"nf\">roc</span><span class=\"p\">(</span><span class=\"n\">scores</span><span class=\"p\">):</span><br>    <span class=\"k\">return</span> <span class=\"n\">calc</span><span class=\"o\">.</span><span class=\"n\">generalized_roc_auc_score</span><span class=\"p\">(</span><span class=\"n\">scores</span><span class=\"o\">.</span><span class=\"n\">vector_controls</span><span class=\"p\">)</span><br></pre></div><br></span></td>\n",
       "      <td>mean</td>\n",
       "      <td>maximize</td>\n",
       "    </tr>\n",
       "    <tr>\n",
       "      <th>Indications Prioritized</th>\n",
       "      <td><span style=\"text-align: left!important\"><div class=\"highlight\"><pre><span></span><span class=\"nd\">@on_division_by_zero</span><span class=\"p\">(</span><span class=\"n\">fill_with</span><span class=\"o\">=</span><span class=\"n\">np</span><span class=\"o\">.</span><span class=\"n\">nan</span><span class=\"p\">)</span><br><span class=\"k\">def</span> <span class=\"nf\">indications_prioritized</span><span class=\"p\">(</span><span class=\"n\">scores</span><span class=\"p\">):</span><br>    <span class=\"k\">return</span> <span class=\"p\">(</span><br>        <span class=\"nb\">len</span><span class=\"p\">(</span><span class=\"n\">scores</span><span class=\"o\">.</span><span class=\"n\">indications</span><span class=\"p\">[</span><span class=\"n\">scores</span><span class=\"o\">.</span><span class=\"n\">indications</span> <span class=\"o\">&gt;</span> <span class=\"n\">scores</span><span class=\"o\">.</span><span class=\"n\">controls</span><span class=\"o\">.</span><span class=\"n\">max</span><span class=\"p\">()])</span><br>        <span class=\"o\">/</span><br>        <span class=\"nb\">len</span><span class=\"p\">(</span><span class=\"n\">scores</span><span class=\"o\">.</span><span class=\"n\">controls</span><span class=\"p\">)</span><br>    <span class=\"p\">)</span><br></pre></div><br></span></td>\n",
       "      <td>mean</td>\n",
       "      <td>maximize</td>\n",
       "    </tr>\n",
       "    <tr>\n",
       "      <th>Normalized Means Difference</th>\n",
       "      <td><span style=\"text-align: left!important\"><div class=\"highlight\"><pre><span></span><span class=\"k\">def</span> <span class=\"nf\">normalized_means_difference</span><span class=\"p\">(</span><span class=\"n\">scores</span><span class=\"p\">):</span><br>    <span class=\"k\">return</span> <span class=\"n\">calc</span><span class=\"o\">.</span><span class=\"n\">normalized_means_difference</span><span class=\"p\">(</span><span class=\"n\">scores</span><span class=\"o\">.</span><span class=\"n\">indications</span><span class=\"p\">,</span> <span class=\"n\">scores</span><span class=\"o\">.</span><span class=\"n\">controls</span><span class=\"p\">)</span><br></pre></div><br></span></td>\n",
       "      <td>mean</td>\n",
       "      <td>maximize</td>\n",
       "    </tr>\n",
       "  </tbody>\n",
       "</table>"
      ],
      "text/plain": [
       "<IPython.core.display.HTML object>"
      ]
     },
     "metadata": {},
     "output_type": "display_data"
    }
   ],
   "source": [
    "from signature_scoring.evaluation.metrics import metrics_manager\n",
    "\n",
    "defined_metrics = metrics_manager.defined_metrics_table()\n",
    "\n",
    "with pd.option_context('display.max_colwidth', -1):\n",
    "    display(HTML(defined_metrics.to_html(escape=False)))"
   ]
  },
  {
   "cell_type": "markdown",
   "metadata": {},
   "source": [
    "The utility functions used for calculations are shown below: "
   ]
  },
  {
   "cell_type": "code",
   "execution_count": 55,
   "metadata": {},
   "outputs": [
    {
     "data": {
      "text/html": [
       "<div class=\"highlight\"><pre><span></span><span class=\"kn\">import</span> <span class=\"nn\">numpy</span>\n",
       "\n",
       "<span class=\"kn\">from</span> <span class=\"nn\">pandas</span> <span class=\"kn\">import</span> <span class=\"n\">Series</span><span class=\"p\">,</span> <span class=\"n\">concat</span>\n",
       "<span class=\"kn\">from</span> <span class=\"nn\">scipy.stats</span> <span class=\"kn\">import</span> <span class=\"n\">combine_pvalues</span>\n",
       "<span class=\"kn\">from</span> <span class=\"nn\">sklearn.metrics</span> <span class=\"kn\">import</span> <span class=\"n\">roc_auc_score</span>\n",
       "\n",
       "<span class=\"kn\">from</span> <span class=\"nn\">helpers</span> <span class=\"kn\">import</span> <span class=\"n\">on_division_by_zero</span>\n",
       "\n",
       "\n",
       "<span class=\"k\">def</span> <span class=\"nf\">f1</span><span class=\"p\">(</span><span class=\"n\">precision</span><span class=\"p\">,</span> <span class=\"n\">recall</span><span class=\"p\">):</span>\n",
       "    <span class=\"k\">return</span> <span class=\"mi\">2</span> <span class=\"o\">*</span> <span class=\"p\">(</span><span class=\"n\">precision</span> <span class=\"o\">*</span> <span class=\"n\">recall</span><span class=\"p\">)</span> <span class=\"o\">/</span> <span class=\"p\">(</span><span class=\"n\">precision</span> <span class=\"o\">+</span> <span class=\"n\">recall</span><span class=\"p\">)</span> <span class=\"k\">if</span> <span class=\"n\">precision</span> <span class=\"o\">+</span> <span class=\"n\">recall</span> <span class=\"k\">else</span> <span class=\"mi\">0</span>\n",
       "\n",
       "\n",
       "<span class=\"nd\">@on_division_by_zero</span><span class=\"p\">(</span><span class=\"n\">fill_with</span><span class=\"o\">=</span><span class=\"mi\">0</span><span class=\"p\">)</span>\n",
       "<span class=\"k\">def</span> <span class=\"nf\">precision</span><span class=\"p\">(</span><span class=\"n\">true_positives</span><span class=\"p\">,</span> <span class=\"n\">all_selected</span><span class=\"p\">):</span>\n",
       "    <span class=\"k\">return</span> <span class=\"nb\">len</span><span class=\"p\">(</span><span class=\"n\">true_positives</span><span class=\"p\">)</span> <span class=\"o\">/</span> <span class=\"nb\">len</span><span class=\"p\">(</span><span class=\"n\">all_selected</span><span class=\"p\">)</span>\n",
       "\n",
       "\n",
       "<span class=\"nd\">@on_division_by_zero</span><span class=\"p\">(</span><span class=\"n\">fill_with</span><span class=\"o\">=</span><span class=\"mi\">0</span><span class=\"p\">)</span>\n",
       "<span class=\"k\">def</span> <span class=\"nf\">recall</span><span class=\"p\">(</span><span class=\"n\">true_positives</span><span class=\"p\">,</span> <span class=\"n\">all_positives</span><span class=\"p\">):</span>\n",
       "    <span class=\"k\">return</span> <span class=\"nb\">len</span><span class=\"p\">(</span><span class=\"n\">true_positives</span><span class=\"p\">)</span> <span class=\"o\">/</span> <span class=\"nb\">len</span><span class=\"p\">(</span><span class=\"n\">all_positives</span><span class=\"p\">)</span>\n",
       "\n",
       "\n",
       "<span class=\"k\">def</span> <span class=\"nf\">generalized_roc_auc_score</span><span class=\"p\">(</span><span class=\"n\">result</span><span class=\"p\">):</span>\n",
       "    <span class=\"k\">if</span> <span class=\"nb\">len</span><span class=\"p\">(</span><span class=\"nb\">set</span><span class=\"p\">(</span><span class=\"n\">result</span><span class=\"o\">.</span><span class=\"n\">expected</span><span class=\"p\">))</span> <span class=\"o\">&lt;</span> <span class=\"mi\">2</span><span class=\"p\">:</span>\n",
       "        <span class=\"k\">return</span> <span class=\"n\">numpy</span><span class=\"o\">.</span><span class=\"n\">nan</span>\n",
       "\n",
       "    <span class=\"k\">return</span> <span class=\"n\">roc_auc_score</span><span class=\"p\">(</span><span class=\"n\">result</span><span class=\"o\">.</span><span class=\"n\">expected</span><span class=\"p\">,</span> <span class=\"n\">result</span><span class=\"o\">.</span><span class=\"n\">observed</span><span class=\"o\">.</span><span class=\"n\">tolist</span><span class=\"p\">())</span>\n",
       "\n",
       "\n",
       "<span class=\"k\">def</span> <span class=\"nf\">fisher_method</span><span class=\"p\">(</span><span class=\"n\">pvalues</span><span class=\"p\">):</span>\n",
       "    <span class=\"k\">return</span> <span class=\"n\">combine_pvalues</span><span class=\"p\">(</span><span class=\"n\">pvalues</span><span class=\"p\">,</span> <span class=\"n\">method</span><span class=\"o\">=</span><span class=\"s1\">&#39;fisher&#39;</span><span class=\"p\">)[</span><span class=\"mi\">1</span><span class=\"p\">]</span>\n",
       "\n",
       "\n",
       "<span class=\"nd\">@on_division_by_zero</span><span class=\"p\">(</span><span class=\"n\">fill_with</span><span class=\"o\">=</span><span class=\"n\">numpy</span><span class=\"o\">.</span><span class=\"n\">inf</span><span class=\"p\">)</span>\n",
       "<span class=\"k\">def</span> <span class=\"nf\">normalized_means_difference</span><span class=\"p\">(</span><span class=\"n\">a</span><span class=\"p\">:</span> <span class=\"n\">Series</span><span class=\"p\">,</span> <span class=\"n\">b</span><span class=\"p\">:</span> <span class=\"n\">Series</span><span class=\"p\">):</span>\n",
       "    <span class=\"n\">scores</span> <span class=\"o\">=</span> <span class=\"n\">concat</span><span class=\"p\">([</span><span class=\"n\">a</span><span class=\"p\">,</span> <span class=\"n\">b</span><span class=\"p\">])</span>\n",
       "    <span class=\"n\">scores_range</span> <span class=\"o\">=</span> <span class=\"nb\">abs</span><span class=\"p\">(</span><span class=\"n\">scores</span><span class=\"o\">.</span><span class=\"n\">min</span><span class=\"p\">()</span> <span class=\"o\">-</span> <span class=\"n\">scores</span><span class=\"o\">.</span><span class=\"n\">max</span><span class=\"p\">())</span>\n",
       "    <span class=\"k\">return</span> <span class=\"p\">(</span><span class=\"n\">a</span><span class=\"o\">.</span><span class=\"n\">mean</span><span class=\"p\">()</span> <span class=\"o\">-</span> <span class=\"n\">b</span><span class=\"o\">.</span><span class=\"n\">mean</span><span class=\"p\">())</span> <span class=\"o\">/</span> <span class=\"n\">scores_range</span>\n",
       "</pre></div>\n"
      ],
      "text/plain": [
       "<IPython.core.display.HTML object>"
      ]
     },
     "metadata": {},
     "output_type": "display_data"
    }
   ],
   "source": [
    "import signature_scoring.evaluation.calculation_utilities as calc\n",
    "show_source(calc)"
   ]
  },
  {
   "cell_type": "markdown",
   "metadata": {},
   "source": [
    "### Selecting cell lines"
   ]
  },
  {
   "cell_type": "code",
   "execution_count": 56,
   "metadata": {},
   "outputs": [],
   "source": [
    "from signature_scoring.evaluation import select_cells"
   ]
  },
  {
   "cell_type": "markdown",
   "metadata": {},
   "source": [
    "When `cell_lines_ratio` is specified, perturbagenes are filtered to keep only those from cell lines for which no less than given proportion of analyzed perturbagens was evaluated.\n",
    "\n",
    "Also presence of at least one perturbagene in each analyzed class (indications, contraindications, controls) is required."
   ]
  },
  {
   "cell_type": "code",
   "execution_count": 57,
   "metadata": {},
   "outputs": [
    {
     "data": {
      "text/html": [
       "<div class=\"highlight\"><pre><span></span><span class=\"k\">def</span> <span class=\"nf\">select_cells</span><span class=\"p\">(</span><span class=\"n\">signatures_map</span><span class=\"p\">:</span> <span class=\"n\">Dict</span><span class=\"p\">[</span><span class=\"nb\">str</span><span class=\"p\">,</span> <span class=\"n\">SignaturesGrouping</span><span class=\"p\">],</span> <span class=\"n\">completeness_ratio</span><span class=\"p\">:</span> <span class=\"nb\">float</span><span class=\"p\">):</span>\n",
       "    <span class=\"n\">all_signatures</span> <span class=\"o\">=</span> <span class=\"p\">{</span>\n",
       "        <span class=\"n\">signature</span>\n",
       "        <span class=\"k\">for</span> <span class=\"n\">grouping</span> <span class=\"ow\">in</span> <span class=\"n\">signatures_map</span><span class=\"o\">.</span><span class=\"n\">values</span><span class=\"p\">()</span>\n",
       "        <span class=\"k\">for</span> <span class=\"n\">signature</span> <span class=\"ow\">in</span> <span class=\"n\">grouping</span><span class=\"o\">.</span><span class=\"n\">signature_ids</span>\n",
       "    <span class=\"p\">}</span>\n",
       "    <span class=\"n\">all_data</span> <span class=\"o\">=</span> <span class=\"n\">dcm</span><span class=\"o\">.</span><span class=\"n\">sig_info</span><span class=\"p\">[</span><span class=\"n\">dcm</span><span class=\"o\">.</span><span class=\"n\">sig_info</span><span class=\"o\">.</span><span class=\"n\">sig_id</span><span class=\"o\">.</span><span class=\"n\">isin</span><span class=\"p\">(</span><span class=\"n\">all_signatures</span><span class=\"p\">)]</span>\n",
       "    <span class=\"n\">count_by_cell</span> <span class=\"o\">=</span> <span class=\"n\">all_data</span><span class=\"o\">.</span><span class=\"n\">drop_duplicates</span><span class=\"p\">([</span><span class=\"s1\">&#39;cell_id&#39;</span><span class=\"p\">,</span> <span class=\"s1\">&#39;pert_iname&#39;</span><span class=\"p\">])</span><span class=\"o\">.</span><span class=\"n\">groupby</span><span class=\"p\">(</span><span class=\"s1\">&#39;cell_id&#39;</span><span class=\"p\">)</span><span class=\"o\">.</span><span class=\"n\">count</span><span class=\"p\">()</span><span class=\"o\">.</span><span class=\"n\">pert_iname</span>\n",
       "\n",
       "    <span class=\"n\">all_substances_and_controls_cnt</span> <span class=\"o\">=</span> <span class=\"nb\">len</span><span class=\"p\">(</span><span class=\"nb\">set</span><span class=\"p\">(</span><span class=\"n\">all_data</span><span class=\"o\">.</span><span class=\"n\">pert_iname</span><span class=\"p\">))</span>\n",
       "\n",
       "    <span class=\"n\">selected_cells_counts</span> <span class=\"o\">=</span> <span class=\"n\">count_by_cell</span><span class=\"p\">[</span><span class=\"n\">count_by_cell</span> <span class=\"o\">&gt;=</span> <span class=\"n\">all_substances_and_controls_cnt</span> <span class=\"o\">*</span> <span class=\"n\">completeness_ratio</span><span class=\"p\">]</span>\n",
       "    <span class=\"n\">selected_cells</span> <span class=\"o\">=</span> <span class=\"nb\">set</span><span class=\"p\">(</span><span class=\"n\">selected_cells_counts</span><span class=\"o\">.</span><span class=\"n\">index</span><span class=\"p\">)</span>\n",
       "\n",
       "    <span class=\"n\">selected_cells</span> <span class=\"o\">=</span> <span class=\"p\">{</span>\n",
       "        <span class=\"n\">cell</span>\n",
       "        <span class=\"k\">for</span> <span class=\"n\">cell</span> <span class=\"ow\">in</span> <span class=\"n\">selected_cells</span>\n",
       "        <span class=\"k\">if</span> <span class=\"nb\">all</span><span class=\"p\">(</span>\n",
       "            <span class=\"n\">cell</span> <span class=\"ow\">in</span> <span class=\"nb\">set</span><span class=\"p\">(</span><span class=\"n\">all_data</span><span class=\"p\">[</span><span class=\"n\">all_data</span><span class=\"o\">.</span><span class=\"n\">sig_id</span><span class=\"o\">.</span><span class=\"n\">isin</span><span class=\"p\">(</span><span class=\"n\">grouping</span><span class=\"o\">.</span><span class=\"n\">signature_ids</span><span class=\"p\">)]</span><span class=\"o\">.</span><span class=\"n\">cell_id</span><span class=\"p\">)</span>\n",
       "            <span class=\"k\">for</span> <span class=\"n\">grouping</span> <span class=\"ow\">in</span> <span class=\"n\">signatures_map</span><span class=\"o\">.</span><span class=\"n\">values</span><span class=\"p\">()</span>\n",
       "        <span class=\"p\">)</span>\n",
       "    <span class=\"p\">}</span>\n",
       "    <span class=\"k\">return</span> <span class=\"n\">selected_cells</span>\n",
       "</pre></div>\n"
      ],
      "text/plain": [
       "<IPython.core.display.HTML object>"
      ]
     },
     "metadata": {},
     "output_type": "display_data"
    }
   ],
   "source": [
    "show_source(select_cells)"
   ]
  },
  {
   "cell_type": "markdown",
   "metadata": {},
   "source": [
    "What's worth noting is that there is a number of cell lines in which large numbers of substances were tested; there are also some cell lines with just a few dozens of records:"
   ]
  },
  {
   "cell_type": "code",
   "execution_count": 59,
   "metadata": {},
   "outputs": [
    {
     "data": {
      "text/html": [
       "<div>\n",
       "<style scoped>\n",
       "    .dataframe tbody tr th:only-of-type {\n",
       "        vertical-align: middle;\n",
       "    }\n",
       "\n",
       "    .dataframe tbody tr th {\n",
       "        vertical-align: top;\n",
       "    }\n",
       "\n",
       "    .dataframe thead th {\n",
       "        text-align: right;\n",
       "    }\n",
       "</style>\n",
       "<table border=\"1\" class=\"dataframe\">\n",
       "  <thead>\n",
       "    <tr style=\"text-align: right;\">\n",
       "      <th></th>\n",
       "      <th>VCAP</th>\n",
       "      <th>MCF7</th>\n",
       "      <th>PC3</th>\n",
       "      <th>A549</th>\n",
       "      <th>A375</th>\n",
       "      <th>HT29</th>\n",
       "      <th>HA1E</th>\n",
       "      <th>HCC515</th>\n",
       "      <th>HEPG2</th>\n",
       "      <th>NPC</th>\n",
       "      <th>...</th>\n",
       "      <th>NCIH1694</th>\n",
       "      <th>T3M10</th>\n",
       "      <th>SNUC5</th>\n",
       "      <th>NCIH1836</th>\n",
       "      <th>U2OS</th>\n",
       "      <th>CD34</th>\n",
       "      <th>U266</th>\n",
       "      <th>MCH58</th>\n",
       "      <th>HS27A</th>\n",
       "      <th>NCIH716</th>\n",
       "    </tr>\n",
       "  </thead>\n",
       "  <tbody>\n",
       "    <tr>\n",
       "      <th>cell_id</th>\n",
       "      <td>68553</td>\n",
       "      <td>63367</td>\n",
       "      <td>58945</td>\n",
       "      <td>46736</td>\n",
       "      <td>42195</td>\n",
       "      <td>38070</td>\n",
       "      <td>34205</td>\n",
       "      <td>29199</td>\n",
       "      <td>28195</td>\n",
       "      <td>9585</td>\n",
       "      <td>...</td>\n",
       "      <td>368</td>\n",
       "      <td>368</td>\n",
       "      <td>366</td>\n",
       "      <td>366</td>\n",
       "      <td>359</td>\n",
       "      <td>352</td>\n",
       "      <td>273</td>\n",
       "      <td>27</td>\n",
       "      <td>24</td>\n",
       "      <td>19</td>\n",
       "    </tr>\n",
       "  </tbody>\n",
       "</table>\n",
       "<p>1 rows × 76 columns</p>\n",
       "</div>"
      ],
      "text/plain": [
       "          VCAP   MCF7    PC3   A549   A375   HT29   HA1E  HCC515  HEPG2   NPC  \\\n",
       "cell_id  68553  63367  58945  46736  42195  38070  34205  29199   28195  9585   \n",
       "\n",
       "          ...     NCIH1694  T3M10  SNUC5  NCIH1836  U2OS  CD34  U266  MCH58  \\\n",
       "cell_id   ...     368       368    366    366       359   352   273   27      \n",
       "\n",
       "         HS27A  NCIH716  \n",
       "cell_id  24     19       \n",
       "\n",
       "[1 rows x 76 columns]"
      ]
     },
     "metadata": {},
     "output_type": "display_data"
    }
   ],
   "source": [
    "show_table(DataFrame(data.dcm.sig_info.cell_id.value_counts()).T, n_rows=20)"
   ]
  },
  {
   "cell_type": "markdown",
   "metadata": {},
   "source": [
    "### Benchmarking"
   ]
  },
  {
   "cell_type": "code",
   "execution_count": null,
   "metadata": {},
   "outputs": [],
   "source": []
  }
 ],
 "metadata": {
  "kernelspec": {
   "display_name": "Python 3",
   "language": "python",
   "name": "python3"
  },
  "language_info": {
   "codemirror_mode": {
    "name": "ipython",
    "version": 3
   },
   "file_extension": ".py",
   "mimetype": "text/x-python",
   "name": "python",
   "nbconvert_exporter": "python",
   "pygments_lexer": "ipython3",
   "version": "3.7.0"
  }
 },
 "nbformat": 4,
 "nbformat_minor": 2
}
